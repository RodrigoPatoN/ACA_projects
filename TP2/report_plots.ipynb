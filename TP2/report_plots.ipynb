{
 "cells": [
  {
   "cell_type": "code",
   "execution_count": 2,
   "id": "5b9baec6",
   "metadata": {},
   "outputs": [],
   "source": [
    "import pandas as pd\n",
    "import plotly.graph_objects as go"
   ]
  },
  {
   "cell_type": "code",
   "execution_count": null,
   "id": "12b97303",
   "metadata": {},
   "outputs": [],
   "source": [
    "with open('losses_VAE_initial.txt', 'r') as f:\n",
    "    losses_epoch = f.readlines()\n",
    "\n",
    "losses_epoch = [(x.strip()) for x in losses_epoch]\n",
    "\n",
    "losses_list = []\n",
    "\n",
    "for i in range(len(losses_epoch)):\n",
    "    info_epoch = losses_epoch[i]\n",
    "\n",
    "    epoch_num = int(info_epoch.split('[')[1].split('/')[0])\n",
    "    total_loss = float(info_epoch.split('VAE Loss: ')[1].split(' ')[0])\n",
    "    recon_loss = float(info_epoch.split('Reconstruction Loss: ')[1].split(' ')[0])\n",
    "    kl_loss = float(info_epoch.split('KL Loss: ')[1].split(' ')[0])\n",
    "\n",
    "    losses_list.append({\"Epoch\": epoch_num, \"Total Loss\": total_loss,\"Recon Loss\": recon_loss, \"KL Loss\": kl_loss})"
   ]
  },
  {
   "cell_type": "code",
   "execution_count": 8,
   "id": "d8403335",
   "metadata": {},
   "outputs": [
    {
     "data": {
      "text/plain": [
       "'Epoch [14/300] VAE Loss: 58.5914 - Reconstruction Loss: 58.5884 - KL Loss: 0.0030'"
      ]
     },
     "execution_count": 8,
     "metadata": {},
     "output_type": "execute_result"
    }
   ],
   "source": [
    "info_epoch"
   ]
  },
  {
   "cell_type": "code",
   "execution_count": null,
   "id": "6085713b",
   "metadata": {},
   "outputs": [],
   "source": []
  }
 ],
 "metadata": {
  "kernelspec": {
   "display_name": "aca",
   "language": "python",
   "name": "python3"
  },
  "language_info": {
   "codemirror_mode": {
    "name": "ipython",
    "version": 3
   },
   "file_extension": ".py",
   "mimetype": "text/x-python",
   "name": "python",
   "nbconvert_exporter": "python",
   "pygments_lexer": "ipython3",
   "version": "3.12.3"
  }
 },
 "nbformat": 4,
 "nbformat_minor": 5
}
