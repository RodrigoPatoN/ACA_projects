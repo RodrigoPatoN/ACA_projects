{
 "cells": [
  {
   "cell_type": "code",
   "execution_count": 2,
   "id": "5b9baec6",
   "metadata": {},
   "outputs": [],
   "source": [
    "import pandas as pd\n",
    "import plotly.graph_objects as go"
   ]
  },
  {
   "cell_type": "code",
   "execution_count": 20,
   "id": "12b97303",
   "metadata": {},
   "outputs": [],
   "source": [
    "with open('losses_VAE_initial.txt', 'r') as f:\n",
    "    losses_epoch = f.readlines()\n",
    "\n",
    "losses_epoch = [(x.strip()) for x in losses_epoch]\n",
    "\n",
    "losses_list = []\n",
    "\n",
    "for i in range(len(losses_epoch)):\n",
    "    info_epoch = losses_epoch[i]\n",
    "\n",
    "    epoch_num = int(info_epoch.split('[')[1].split('/')[0])\n",
    "    total_loss = float(info_epoch.split('VAE Loss: ')[1].split(' ')[0])\n",
    "    recon_loss = float(info_epoch.split('Reconstruction Loss: ')[1].split(' ')[0])\n",
    "    kl_loss = float(info_epoch.split('KL Loss: ')[1].split(' ')[0])\n",
    "\n",
    "    losses_list.append({\"Epoch\": epoch_num, \"Total Loss\": total_loss,\"Recon Loss\": recon_loss, \"KL Loss\": kl_loss})"
   ]
  },
  {
   "cell_type": "code",
   "execution_count": 21,
   "id": "d8403335",
   "metadata": {},
   "outputs": [
    {
     "data": {
      "text/html": [
       "<div>\n",
       "<style scoped>\n",
       "    .dataframe tbody tr th:only-of-type {\n",
       "        vertical-align: middle;\n",
       "    }\n",
       "\n",
       "    .dataframe tbody tr th {\n",
       "        vertical-align: top;\n",
       "    }\n",
       "\n",
       "    .dataframe thead th {\n",
       "        text-align: right;\n",
       "    }\n",
       "</style>\n",
       "<table border=\"1\" class=\"dataframe\">\n",
       "  <thead>\n",
       "    <tr style=\"text-align: right;\">\n",
       "      <th></th>\n",
       "      <th>Epoch</th>\n",
       "      <th>Total Loss</th>\n",
       "      <th>Recon Loss</th>\n",
       "      <th>KL Loss</th>\n",
       "    </tr>\n",
       "  </thead>\n",
       "  <tbody>\n",
       "    <tr>\n",
       "      <th>0</th>\n",
       "      <td>1</td>\n",
       "      <td>77.8031</td>\n",
       "      <td>74.5595</td>\n",
       "      <td>3.2436</td>\n",
       "    </tr>\n",
       "    <tr>\n",
       "      <th>1</th>\n",
       "      <td>2</td>\n",
       "      <td>62.7183</td>\n",
       "      <td>61.2815</td>\n",
       "      <td>1.4368</td>\n",
       "    </tr>\n",
       "    <tr>\n",
       "      <th>2</th>\n",
       "      <td>3</td>\n",
       "      <td>60.6978</td>\n",
       "      <td>60.1737</td>\n",
       "      <td>0.5241</td>\n",
       "    </tr>\n",
       "    <tr>\n",
       "      <th>3</th>\n",
       "      <td>4</td>\n",
       "      <td>59.5402</td>\n",
       "      <td>59.4365</td>\n",
       "      <td>0.1037</td>\n",
       "    </tr>\n",
       "    <tr>\n",
       "      <th>4</th>\n",
       "      <td>5</td>\n",
       "      <td>58.9916</td>\n",
       "      <td>58.9780</td>\n",
       "      <td>0.0136</td>\n",
       "    </tr>\n",
       "    <tr>\n",
       "      <th>...</th>\n",
       "      <td>...</td>\n",
       "      <td>...</td>\n",
       "      <td>...</td>\n",
       "      <td>...</td>\n",
       "    </tr>\n",
       "    <tr>\n",
       "      <th>295</th>\n",
       "      <td>296</td>\n",
       "      <td>59.4107</td>\n",
       "      <td>59.3693</td>\n",
       "      <td>0.0415</td>\n",
       "    </tr>\n",
       "    <tr>\n",
       "      <th>296</th>\n",
       "      <td>297</td>\n",
       "      <td>59.7426</td>\n",
       "      <td>59.5801</td>\n",
       "      <td>0.1624</td>\n",
       "    </tr>\n",
       "    <tr>\n",
       "      <th>297</th>\n",
       "      <td>298</td>\n",
       "      <td>59.5075</td>\n",
       "      <td>59.4538</td>\n",
       "      <td>0.0537</td>\n",
       "    </tr>\n",
       "    <tr>\n",
       "      <th>298</th>\n",
       "      <td>299</td>\n",
       "      <td>59.4470</td>\n",
       "      <td>59.4241</td>\n",
       "      <td>0.0229</td>\n",
       "    </tr>\n",
       "    <tr>\n",
       "      <th>299</th>\n",
       "      <td>300</td>\n",
       "      <td>59.4494</td>\n",
       "      <td>59.4239</td>\n",
       "      <td>0.0255</td>\n",
       "    </tr>\n",
       "  </tbody>\n",
       "</table>\n",
       "<p>300 rows × 4 columns</p>\n",
       "</div>"
      ],
      "text/plain": [
       "     Epoch  Total Loss  Recon Loss  KL Loss\n",
       "0        1     77.8031     74.5595   3.2436\n",
       "1        2     62.7183     61.2815   1.4368\n",
       "2        3     60.6978     60.1737   0.5241\n",
       "3        4     59.5402     59.4365   0.1037\n",
       "4        5     58.9916     58.9780   0.0136\n",
       "..     ...         ...         ...      ...\n",
       "295    296     59.4107     59.3693   0.0415\n",
       "296    297     59.7426     59.5801   0.1624\n",
       "297    298     59.5075     59.4538   0.0537\n",
       "298    299     59.4470     59.4241   0.0229\n",
       "299    300     59.4494     59.4239   0.0255\n",
       "\n",
       "[300 rows x 4 columns]"
      ]
     },
     "execution_count": 21,
     "metadata": {},
     "output_type": "execute_result"
    }
   ],
   "source": [
    "losses_df = pd.DataFrame(losses_list)\n",
    "\n",
    "losses_df"
   ]
  },
  {
   "cell_type": "code",
   "execution_count": 23,
   "id": "74bf901d",
   "metadata": {},
   "outputs": [],
   "source": [
    "with open('losses_VAE_initial_001.txt', 'r') as f:\n",
    "    losses_epoch = f.readlines()\n",
    "\n",
    "losses_epoch = [(x.strip()) for x in losses_epoch]\n",
    "\n",
    "losses_list = []\n",
    "\n",
    "for i in range(len(losses_epoch)):\n",
    "    info_epoch = losses_epoch[i]\n",
    "\n",
    "    epoch_num = int(info_epoch.split('[')[1].split('/')[0])\n",
    "    total_loss = float(info_epoch.split('VAE Loss: ')[1].split(' ')[0])\n",
    "    recon_loss = float(info_epoch.split('Reconstruction Loss: ')[1].split(' ')[0])\n",
    "    kl_loss = float(info_epoch.split('KL Loss: ')[1].split(' ')[0])\n",
    "\n",
    "    losses_list.append({\"Epoch\": epoch_num, \"Total Loss\": total_loss,\"Recon Loss\": recon_loss, \"KL Loss\": kl_loss})"
   ]
  },
  {
   "cell_type": "code",
   "execution_count": 24,
   "id": "5811b62a",
   "metadata": {},
   "outputs": [
    {
     "data": {
      "text/html": [
       "<div>\n",
       "<style scoped>\n",
       "    .dataframe tbody tr th:only-of-type {\n",
       "        vertical-align: middle;\n",
       "    }\n",
       "\n",
       "    .dataframe tbody tr th {\n",
       "        vertical-align: top;\n",
       "    }\n",
       "\n",
       "    .dataframe thead th {\n",
       "        text-align: right;\n",
       "    }\n",
       "</style>\n",
       "<table border=\"1\" class=\"dataframe\">\n",
       "  <thead>\n",
       "    <tr style=\"text-align: right;\">\n",
       "      <th></th>\n",
       "      <th>Epoch</th>\n",
       "      <th>Total Loss</th>\n",
       "      <th>Recon Loss</th>\n",
       "      <th>KL Loss</th>\n",
       "    </tr>\n",
       "  </thead>\n",
       "  <tbody>\n",
       "    <tr>\n",
       "      <th>0</th>\n",
       "      <td>1</td>\n",
       "      <td>106.5295</td>\n",
       "      <td>100.9168</td>\n",
       "      <td>5.6127</td>\n",
       "    </tr>\n",
       "    <tr>\n",
       "      <th>1</th>\n",
       "      <td>2</td>\n",
       "      <td>53.0383</td>\n",
       "      <td>46.6880</td>\n",
       "      <td>6.3503</td>\n",
       "    </tr>\n",
       "    <tr>\n",
       "      <th>2</th>\n",
       "      <td>3</td>\n",
       "      <td>44.9807</td>\n",
       "      <td>39.5938</td>\n",
       "      <td>5.3869</td>\n",
       "    </tr>\n",
       "    <tr>\n",
       "      <th>3</th>\n",
       "      <td>4</td>\n",
       "      <td>40.2737</td>\n",
       "      <td>34.6680</td>\n",
       "      <td>5.6057</td>\n",
       "    </tr>\n",
       "    <tr>\n",
       "      <th>4</th>\n",
       "      <td>5</td>\n",
       "      <td>38.6621</td>\n",
       "      <td>32.6171</td>\n",
       "      <td>6.0449</td>\n",
       "    </tr>\n",
       "    <tr>\n",
       "      <th>...</th>\n",
       "      <td>...</td>\n",
       "      <td>...</td>\n",
       "      <td>...</td>\n",
       "      <td>...</td>\n",
       "    </tr>\n",
       "    <tr>\n",
       "      <th>294</th>\n",
       "      <td>295</td>\n",
       "      <td>31.4860</td>\n",
       "      <td>22.7047</td>\n",
       "      <td>8.7813</td>\n",
       "    </tr>\n",
       "    <tr>\n",
       "      <th>295</th>\n",
       "      <td>296</td>\n",
       "      <td>31.4927</td>\n",
       "      <td>22.7286</td>\n",
       "      <td>8.7642</td>\n",
       "    </tr>\n",
       "    <tr>\n",
       "      <th>296</th>\n",
       "      <td>297</td>\n",
       "      <td>31.5112</td>\n",
       "      <td>22.7444</td>\n",
       "      <td>8.7668</td>\n",
       "    </tr>\n",
       "    <tr>\n",
       "      <th>297</th>\n",
       "      <td>298</td>\n",
       "      <td>31.4983</td>\n",
       "      <td>22.7260</td>\n",
       "      <td>8.7722</td>\n",
       "    </tr>\n",
       "    <tr>\n",
       "      <th>298</th>\n",
       "      <td>299</td>\n",
       "      <td>31.4513</td>\n",
       "      <td>22.6765</td>\n",
       "      <td>8.7748</td>\n",
       "    </tr>\n",
       "  </tbody>\n",
       "</table>\n",
       "<p>299 rows × 4 columns</p>\n",
       "</div>"
      ],
      "text/plain": [
       "     Epoch  Total Loss  Recon Loss  KL Loss\n",
       "0        1    106.5295    100.9168   5.6127\n",
       "1        2     53.0383     46.6880   6.3503\n",
       "2        3     44.9807     39.5938   5.3869\n",
       "3        4     40.2737     34.6680   5.6057\n",
       "4        5     38.6621     32.6171   6.0449\n",
       "..     ...         ...         ...      ...\n",
       "294    295     31.4860     22.7047   8.7813\n",
       "295    296     31.4927     22.7286   8.7642\n",
       "296    297     31.5112     22.7444   8.7668\n",
       "297    298     31.4983     22.7260   8.7722\n",
       "298    299     31.4513     22.6765   8.7748\n",
       "\n",
       "[299 rows x 4 columns]"
      ]
     },
     "execution_count": 24,
     "metadata": {},
     "output_type": "execute_result"
    }
   ],
   "source": [
    "losses_df2 = pd.DataFrame(losses_list)\n",
    "\n",
    "losses_df2"
   ]
  },
  {
   "cell_type": "code",
   "execution_count": null,
   "id": "6085713b",
   "metadata": {},
   "outputs": [
    {
     "data": {
      "application/vnd.plotly.v1+json": {
       "config": {
        "plotlyServerURL": "https://plot.ly"
       },
       "data": [
        {
         "hovertemplate": "Epoch: %{x}<br>Loss: %{y:.2f}<extra></extra>",
         "line": {
          "color": "blue",
          "width": 2
         },
         "marker": {
          "size": 5
         },
         "mode": "lines+markers",
         "name": "Total Loss",
         "type": "scatter",
         "x": {
          "bdata": "AQACAAMABAAFAAYABwAIAAkACgALAAwADQAOAA8AEAARABIAEwAUABUAFgAXABgAGQAaABsAHAAdAB4AHwAgACEAIgAjACQAJQAmACcAKAApACoAKwAsAC0ALgAvADAAMQAyADMANAA1ADYANwA4ADkAOgA7ADwAPQA+AD8AQABBAEIAQwBEAEUARgBHAEgASQBKAEsATABNAE4ATwBQAFEAUgBTAFQAVQBWAFcAWABZAFoAWwBcAF0AXgBfAGAAYQBiAGMAZABlAGYAZwBoAGkAagBrAGwAbQBuAG8AcABxAHIAcwB0AHUAdgB3AHgAeQB6AHsAfAB9AH4AfwCAAIEAggCDAIQAhQCGAIcAiACJAIoAiwCMAI0AjgCPAJAAkQCSAJMAlACVAJYAlwCYAJkAmgCbAJwAnQCeAJ8AoAChAKIAowCkAKUApgCnAKgAqQCqAKsArACtAK4ArwCwALEAsgCzALQAtQC2ALcAuAC5ALoAuwC8AL0AvgC/AMAAwQDCAMMAxADFAMYAxwDIAMkAygDLAMwAzQDOAM8A0ADRANIA0wDUANUA1gDXANgA2QDaANsA3ADdAN4A3wDgAOEA4gDjAOQA5QDmAOcA6ADpAOoA6wDsAO0A7gDvAPAA8QDyAPMA9AD1APYA9wD4APkA+gD7APwA/QD+AP8AAAEBAQIBAwEEAQUBBgEHAQgBCQEKAQsBDAENAQ4BDwEQAREBEgETARQBFQEWARcBGAEZARoBGwEcAR0BHgEfASABIQEiASMBJAElASYBJwEoASkBKgErASwB",
          "dtype": "i2"
         },
         "xaxis": "x",
         "y": {
          "bdata": "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",
          "dtype": "f8"
         },
         "yaxis": "y"
        },
        {
         "hovertemplate": "Epoch: %{x}<br>Loss: %{y:.2f}<extra></extra>",
         "line": {
          "color": "red",
          "width": 2
         },
         "marker": {
          "size": 5
         },
         "mode": "lines+markers",
         "name": "Recon Loss",
         "type": "scatter",
         "x": {
          "bdata": "AQACAAMABAAFAAYABwAIAAkACgALAAwADQAOAA8AEAARABIAEwAUABUAFgAXABgAGQAaABsAHAAdAB4AHwAgACEAIgAjACQAJQAmACcAKAApACoAKwAsAC0ALgAvADAAMQAyADMANAA1ADYANwA4ADkAOgA7ADwAPQA+AD8AQABBAEIAQwBEAEUARgBHAEgASQBKAEsATABNAE4ATwBQAFEAUgBTAFQAVQBWAFcAWABZAFoAWwBcAF0AXgBfAGAAYQBiAGMAZABlAGYAZwBoAGkAagBrAGwAbQBuAG8AcABxAHIAcwB0AHUAdgB3AHgAeQB6AHsAfAB9AH4AfwCAAIEAggCDAIQAhQCGAIcAiACJAIoAiwCMAI0AjgCPAJAAkQCSAJMAlACVAJYAlwCYAJkAmgCbAJwAnQCeAJ8AoAChAKIAowCkAKUApgCnAKgAqQCqAKsArACtAK4ArwCwALEAsgCzALQAtQC2ALcAuAC5ALoAuwC8AL0AvgC/AMAAwQDCAMMAxADFAMYAxwDIAMkAygDLAMwAzQDOAM8A0ADRANIA0wDUANUA1gDXANgA2QDaANsA3ADdAN4A3wDgAOEA4gDjAOQA5QDmAOcA6ADpAOoA6wDsAO0A7gDvAPAA8QDyAPMA9AD1APYA9wD4APkA+gD7APwA/QD+AP8AAAEBAQIBAwEEAQUBBgEHAQgBCQEKAQsBDAENAQ4BDwEQAREBEgETARQBFQEWARcBGAEZARoBGwEcAR0BHgEfASABIQEiASMBJAElASYBJwEoASkBKgErASwB",
          "dtype": "i2"
         },
         "xaxis": "x",
         "y": {
          "bdata": "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",
          "dtype": "f8"
         },
         "yaxis": "y"
        },
        {
         "hovertemplate": "Epoch: %{x}<br>Loss: %{y:.2f}<extra></extra>",
         "line": {
          "color": "green",
          "width": 2
         },
         "marker": {
          "size": 5
         },
         "mode": "lines+markers",
         "name": "KL Loss",
         "type": "scatter",
         "x": {
          "bdata": "AQACAAMABAAFAAYABwAIAAkACgALAAwADQAOAA8AEAARABIAEwAUABUAFgAXABgAGQAaABsAHAAdAB4AHwAgACEAIgAjACQAJQAmACcAKAApACoAKwAsAC0ALgAvADAAMQAyADMANAA1ADYANwA4ADkAOgA7ADwAPQA+AD8AQABBAEIAQwBEAEUARgBHAEgASQBKAEsATABNAE4ATwBQAFEAUgBTAFQAVQBWAFcAWABZAFoAWwBcAF0AXgBfAGAAYQBiAGMAZABlAGYAZwBoAGkAagBrAGwAbQBuAG8AcABxAHIAcwB0AHUAdgB3AHgAeQB6AHsAfAB9AH4AfwCAAIEAggCDAIQAhQCGAIcAiACJAIoAiwCMAI0AjgCPAJAAkQCSAJMAlACVAJYAlwCYAJkAmgCbAJwAnQCeAJ8AoAChAKIAowCkAKUApgCnAKgAqQCqAKsArACtAK4ArwCwALEAsgCzALQAtQC2ALcAuAC5ALoAuwC8AL0AvgC/AMAAwQDCAMMAxADFAMYAxwDIAMkAygDLAMwAzQDOAM8A0ADRANIA0wDUANUA1gDXANgA2QDaANsA3ADdAN4A3wDgAOEA4gDjAOQA5QDmAOcA6ADpAOoA6wDsAO0A7gDvAPAA8QDyAPMA9AD1APYA9wD4APkA+gD7APwA/QD+AP8AAAEBAQIBAwEEAQUBBgEHAQgBCQEKAQsBDAENAQ4BDwEQAREBEgETARQBFQEWARcBGAEZARoBGwEcAR0BHgEfASABIQEiASMBJAElASYBJwEoASkBKgErASwB",
          "dtype": "i2"
         },
         "xaxis": "x",
         "y": {
          "bdata": "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",
          "dtype": "f8"
         },
         "yaxis": "y"
        },
        {
         "hovertemplate": "Epoch: %{x}<br>Loss: %{y:.2f}<extra></extra>",
         "line": {
          "color": "blue",
          "width": 2
         },
         "marker": {
          "size": 5
         },
         "mode": "lines+markers",
         "showlegend": false,
         "type": "scatter",
         "x": {
          "bdata": "AQACAAMABAAFAAYABwAIAAkACgALAAwADQAOAA8AEAARABIAEwAUABUAFgAXABgAGQAaABsAHAAdAB4AHwAgACEAIgAjACQAJQAmACcAKAApACoAKwAsAC0ALgAvADAAMQAyADMANAA1ADYANwA4ADkAOgA7ADwAPQA+AD8AQABBAEIAQwBEAEUARgBHAEgASQBKAEsATABNAE4ATwBQAFEAUgBTAFQAVQBWAFcAWABZAFoAWwBcAF0AXgBfAGAAYQBiAGMAZABlAGYAZwBoAGkAagBrAGwAbQBuAG8AcABxAHIAcwB0AHUAdgB3AHgAeQB6AHsAfAB9AH4AfwCAAIEAggCDAIQAhQCGAIcAiACJAIoAiwCMAI0AjgCPAJAAkQCSAJMAlACVAJYAlwCYAJkAmgCbAJwAnQCeAJ8AoAChAKIAowCkAKUApgCnAKgAqQCqAKsArACtAK4ArwCwALEAsgCzALQAtQC2ALcAuAC5ALoAuwC8AL0AvgC/AMAAwQDCAMMAxADFAMYAxwDIAMkAygDLAMwAzQDOAM8A0ADRANIA0wDUANUA1gDXANgA2QDaANsA3ADdAN4A3wDgAOEA4gDjAOQA5QDmAOcA6ADpAOoA6wDsAO0A7gDvAPAA8QDyAPMA9AD1APYA9wD4APkA+gD7APwA/QD+AP8AAAEBAQIBAwEEAQUBBgEHAQgBCQEKAQsBDAENAQ4BDwEQAREBEgETARQBFQEWARcBGAEZARoBGwEcAR0BHgEfASABIQEiASMBJAElASYBJwEoASkBKgErAQ==",
          "dtype": "i2"
         },
         "xaxis": "x2",
         "y": {
          "bdata": "2c73U+OhWkDpt68D54RKQPaX3ZOHfUZAJXUCmggjREA/V1uxv1RDQF3cRgN4i0JAT6+UZYj7QUCh+DHmrq1BQNv5fmq8hEFAf2q8dJNYQUBPQBNhw0tBQC2yne+nNkFAPzVeukksQUDl8h/SbxdBQA8LtaZ5D0FAYOXQItv5QEBt5/up8epAQOcdp+hI5kBAkxgEVg7VQEDl8h/Sb8dAQAU0ETY8tUBAWvW52oqlQEARNjy9UqZAQPAWSFD8mEBAlkOLbOeTQECEns2qz41AQPLSTWIQiEBAKVyPwvV4QEB7FK5H4YJAQJzEILByeEBAhetRuB51QEC1pnnHKXJAQKMjufyHdEBA7Q2+MJlqQEAtIR/0bGZAQNc07zhFZ0BAFK5H4XpcQEDZzvdT411AQIQNT6+UVUBAy6FFtvNVQEDf4AuTqVJAQGuad5yiS0BAQmDl0CJLQECe76fGS0dAQOjZrPpcRUBA2/l+arxEQEA5tMh2vkdAQOOlm8QgQEBAf9k9eVhAQEB6xyk6kjtAQCKOdXEbNUBA/mX35GE5QECDL0ymCjZAQOeMKO0NNkBAidLe4As7QECdgCbChi9AQDarPldbKUBAN4lBYOUoQECaCBueXilAQOjZrPpcJUBAGXPXEvIpQEDufD81XipAQCBj7lpCJkBAGeJYF7chQEB90LNZ9SFAQGQ730+NH0BAYOXQItshQEAE54wo7R1AQHZPHhZqFUBAwTkjSnsbQEDvOEVHchlAQNV46SYxGEBAcM6I0t4QQEDP91PjpQtAQFvTvOMUFUBAAG+BBMUPQECoV8oyxAlAQFMFo5I6EUBAiUFg5dAKQED0bFZ9rg5AQEvqBDQRFkBATKYKRiUNQEDTvOMUHQlAQDtwzojS/j9A16NwPQoHQEBMpgpGJQ1AQKvP1VbsB0BATfOOU3QMQEBjf9k9eQhAQERpb/CFAUBARPrt68ABQEByio7k8v8/QF3cRgN4+z9AzTtO0ZH8P0D99nXgnAFAQG6jAbwFAkBAr5RliGP9P0BEaW/whfk/QGq8dJMY9D9A1CtlGeIAQECPwvUoXP8/QIXrUbge9T9ALUMc6+L2P0Cu2F92T+4/QOqVsgxx7D9AqmBUUifwP0CxUGuad+w/QBWMSuoE9D9ABoGVQ4vsP0A0orQ3+OI/QOQUHcnl7z9Aw/UoXI/iP0DG3LWEfPA/QJVliGNd7D9AC7WmecfpP0BZhjjWxd0/QIlBYOXQ4j9AG55eKcvgP0B2Tx4Wat0/QJJc/kP63T9AuycPC7XWP0BHcvkP6ec/QPKwUGua5z9A7Z48LNTaP0Ck374OnOM/QNNNYhBY2T9ANBE2PL3iP0B5WKg1zds/QGPuWkI+2D9AB84ZUdrbP0DHKTqSy98/QCbkg57Nyj9AGlHaG3zRP0CKjuTyH9I/QOQUHcnlzz9Aofgx5q7VP0C+wRcmU8U/QAisHFpkyz9Adk8eFmrNP0DIBz2bVc8/QOXQItv5vj9Al5APejbLP0CPU3Qkl78/QHxhMlUwyj9AUiegibDBP0BKDAIrh8Y/QMdLN4lB0D9A8fRKWYbIP0BTBaOSOsE/QHUCmggbvj9AhxbZzvezP0BKe4MvTMY/QAAAAAAAwD9A4QuTqYLBP0BGlPYGX7g/QLdif9k9uT9A5IOezaq/P0BL6gQ0EbY/QD9XW7G/vD9AN4lBYOWwP0DcRgN4C8Q/QMnlP6Tfvj9A9+Rhoda0P0C28/3UeLk/QOC+Dpwzsj9A63O1FfurP0B88rBQa7o/QD7o2az6vD9APSzUmuatP0DtDb4wmao/QCfChqdXqj9As3vysFC7P0AX2c73U7M/QJ/Nqs/Vtj9A1zTvOEW3P0AgQfFjzK0/QBzr4jYasD9ABhIUP8a8P0CcxCCwcqg/QPjCZKpgpD9ATKYKRiW1P0DjNhrAW7A/QClcj8L1qD9AUdobfGGyP0DzjlN0JKc/QD55WKg1rT9AmpmZmZmpP0D3Bl+YTLU/QO58PzVeqj9AFR3J5T+kP0CoV8oyxKE/QIY41sVtpD9ApSxDHOuiP0BHA3gLJKg/QAfwFkhQnD9A/yH99nWgP0BVMCqpE6A/QFZ9rrZinz9AkzoBTYSdP0AMAiuHFpk/QF5LyAc9mz9AT0ATYcOjP0C8BRIUP5Y/QOY/pN++nj9Ab4EExY+xP0DWVuwvu6c/QIY41sVtlD9APnlYqDWdP0CamZmZmZk/QNnO91PjlT9An82qz9WWP0ACK4cW2Y4/QIBIv30dmD9A2PD0SlmWP0CC4seYu5Y/QAMJih9jjj9ALSEf9GyWP0BlqmBUUqc/QNxoAG+BlD9AWvW52oqdP0A8TtGRXI4/QK+UZYhjjT9AvVKWIY6VP0DHSzeJQZA/QJqZmZmZmT9AAd4CCYqfP0DY8PRKWZY/QFYOLbKdjz9AH4XrUbiOP0BBguLHmJs/QLgehetRmD9A7zhFR3KJP0CBlUOLbIc/QPCFyVTBiD9AJzEIrByaP0A6kst/SI8/QJHtfD81jj9A3pOHhVqTP0BcIEHxY4w/QHPXEvJBjz9ATx4Wak2TP0Cmm8QgsII/QFyPwvUojD9AfGEyVTCKP0AFxY8xd40/QCUGgZVDiz9A001iEFiJP0Au/yH99pU/QJXUCWgijD9A6Gor9peNP0AzMzMzM4M/QH0/NV66iT9AjSjtDb6QP0CDL0ymCoY/QNxoAG+BhD9AXW3F/rKLP0Bm9+RhoYY/QPH0SlmGiD9A4XoUrkeRP0AtQxzr4oY/QBdIUPwYgz9A7MA5I0qLP0BfKcsQx4o/QDLmriXkgz9ACKwcWmSLP0AWak3zjoM/QEymCkYlhT9ASS7/If12P0C30QDeAnk/QLfRAN4CiT9AuB6F61GIP0ApyxDHuog/QHRGlPYGfz9AZ9XnaiuGP0CcxCCwcog/QOELk6mCgT9AWvW52op9P0DD9Shcj5I/QC/dJAaBhT9AoyO5/IeEP0DAWyBB8XM/QEMc6+I2ij9A9GxWfa6GP0B7FK5H4Xo/QH0/NV66iT9AFvvL7smDP0DvycNCrXk/QL6fGi/ddD9AtaZ5xyl6P0CzDHGsi4s/QACRfvs6gD9AFmpN846DP0BwzojS3nA/QIMvTKYKhj9AI9v5fmp8P0A8vVKWIX4/QBe30QDegj9AyJi7lpB/P0BPr5RliHM/QA==",
          "dtype": "f8"
         },
         "yaxis": "y2"
        },
        {
         "hovertemplate": "Epoch: %{x}<br>Loss: %{y:.2f}<extra></extra>",
         "line": {
          "color": "red",
          "width": 2
         },
         "marker": {
          "size": 5
         },
         "mode": "lines+markers",
         "showlegend": false,
         "type": "scatter",
         "x": {
          "bdata": "AQACAAMABAAFAAYABwAIAAkACgALAAwADQAOAA8AEAARABIAEwAUABUAFgAXABgAGQAaABsAHAAdAB4AHwAgACEAIgAjACQAJQAmACcAKAApACoAKwAsAC0ALgAvADAAMQAyADMANAA1ADYANwA4ADkAOgA7ADwAPQA+AD8AQABBAEIAQwBEAEUARgBHAEgASQBKAEsATABNAE4ATwBQAFEAUgBTAFQAVQBWAFcAWABZAFoAWwBcAF0AXgBfAGAAYQBiAGMAZABlAGYAZwBoAGkAagBrAGwAbQBuAG8AcABxAHIAcwB0AHUAdgB3AHgAeQB6AHsAfAB9AH4AfwCAAIEAggCDAIQAhQCGAIcAiACJAIoAiwCMAI0AjgCPAJAAkQCSAJMAlACVAJYAlwCYAJkAmgCbAJwAnQCeAJ8AoAChAKIAowCkAKUApgCnAKgAqQCqAKsArACtAK4ArwCwALEAsgCzALQAtQC2ALcAuAC5ALoAuwC8AL0AvgC/AMAAwQDCAMMAxADFAMYAxwDIAMkAygDLAMwAzQDOAM8A0ADRANIA0wDUANUA1gDXANgA2QDaANsA3ADdAN4A3wDgAOEA4gDjAOQA5QDmAOcA6ADpAOoA6wDsAO0A7gDvAPAA8QDyAPMA9AD1APYA9wD4APkA+gD7APwA/QD+AP8AAAEBAQIBAwEEAQUBBgEHAQgBCQEKAQsBDAENAQ4BDwEQAREBEgETARQBFQEWARcBGAEZARoBGwEcAR0BHgEfASABIQEiASMBJAElASYBJwEoASkBKgErAQ==",
          "dtype": "i2"
         },
         "xaxis": "x2",
         "y": {
          "bdata": "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",
          "dtype": "f8"
         },
         "yaxis": "y2"
        },
        {
         "hovertemplate": "Epoch: %{x}<br>Loss: %{y:.2f}<extra></extra>",
         "line": {
          "color": "green",
          "width": 2
         },
         "marker": {
          "size": 5
         },
         "mode": "lines+markers",
         "showlegend": false,
         "type": "scatter",
         "x": {
          "bdata": "AQACAAMABAAFAAYABwAIAAkACgALAAwADQAOAA8AEAARABIAEwAUABUAFgAXABgAGQAaABsAHAAdAB4AHwAgACEAIgAjACQAJQAmACcAKAApACoAKwAsAC0ALgAvADAAMQAyADMANAA1ADYANwA4ADkAOgA7ADwAPQA+AD8AQABBAEIAQwBEAEUARgBHAEgASQBKAEsATABNAE4ATwBQAFEAUgBTAFQAVQBWAFcAWABZAFoAWwBcAF0AXgBfAGAAYQBiAGMAZABlAGYAZwBoAGkAagBrAGwAbQBuAG8AcABxAHIAcwB0AHUAdgB3AHgAeQB6AHsAfAB9AH4AfwCAAIEAggCDAIQAhQCGAIcAiACJAIoAiwCMAI0AjgCPAJAAkQCSAJMAlACVAJYAlwCYAJkAmgCbAJwAnQCeAJ8AoAChAKIAowCkAKUApgCnAKgAqQCqAKsArACtAK4ArwCwALEAsgCzALQAtQC2ALcAuAC5ALoAuwC8AL0AvgC/AMAAwQDCAMMAxADFAMYAxwDIAMkAygDLAMwAzQDOAM8A0ADRANIA0wDUANUA1gDXANgA2QDaANsA3ADdAN4A3wDgAOEA4gDjAOQA5QDmAOcA6ADpAOoA6wDsAO0A7gDvAPAA8QDyAPMA9AD1APYA9wD4APkA+gD7APwA/QD+AP8AAAEBAQIBAwEEAQUBBgEHAQgBCQEKAQsBDAENAQ4BDwEQAREBEgETARQBFQEWARcBGAEZARoBGwEcAR0BHgEfASABIQEiASMBJAElASYBJwEoASkBKgErAQ==",
          "dtype": "i2"
         },
         "xaxis": "x2",
         "y": {
          "bdata": "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",
          "dtype": "f8"
         },
         "yaxis": "y2"
        }
       ],
       "layout": {
        "annotations": [
         {
          "font": {
           "size": 16
          },
          "showarrow": false,
          "text": "Losses - Run 1",
          "x": 0.225,
          "xanchor": "center",
          "xref": "paper",
          "y": 1,
          "yanchor": "bottom",
          "yref": "paper"
         },
         {
          "font": {
           "size": 16
          },
          "showarrow": false,
          "text": "Losses - Run 2",
          "x": 0.775,
          "xanchor": "center",
          "xref": "paper",
          "y": 1,
          "yanchor": "bottom",
          "yref": "paper"
         }
        ],
        "legend": {
         "font": {
          "size": 12
         },
         "title": {
          "font": {
           "size": 14
          },
          "text": "Loss Type"
         }
        },
        "margin": {
         "b": 40,
         "l": 40,
         "r": 40,
         "t": 60
        },
        "template": {
         "data": {
          "bar": [
           {
            "error_x": {
             "color": "#2a3f5f"
            },
            "error_y": {
             "color": "#2a3f5f"
            },
            "marker": {
             "line": {
              "color": "white",
              "width": 0.5
             },
             "pattern": {
              "fillmode": "overlay",
              "size": 10,
              "solidity": 0.2
             }
            },
            "type": "bar"
           }
          ],
          "barpolar": [
           {
            "marker": {
             "line": {
              "color": "white",
              "width": 0.5
             },
             "pattern": {
              "fillmode": "overlay",
              "size": 10,
              "solidity": 0.2
             }
            },
            "type": "barpolar"
           }
          ],
          "carpet": [
           {
            "aaxis": {
             "endlinecolor": "#2a3f5f",
             "gridcolor": "#C8D4E3",
             "linecolor": "#C8D4E3",
             "minorgridcolor": "#C8D4E3",
             "startlinecolor": "#2a3f5f"
            },
            "baxis": {
             "endlinecolor": "#2a3f5f",
             "gridcolor": "#C8D4E3",
             "linecolor": "#C8D4E3",
             "minorgridcolor": "#C8D4E3",
             "startlinecolor": "#2a3f5f"
            },
            "type": "carpet"
           }
          ],
          "choropleth": [
           {
            "colorbar": {
             "outlinewidth": 0,
             "ticks": ""
            },
            "type": "choropleth"
           }
          ],
          "contour": [
           {
            "colorbar": {
             "outlinewidth": 0,
             "ticks": ""
            },
            "colorscale": [
             [
              0,
              "#0d0887"
             ],
             [
              0.1111111111111111,
              "#46039f"
             ],
             [
              0.2222222222222222,
              "#7201a8"
             ],
             [
              0.3333333333333333,
              "#9c179e"
             ],
             [
              0.4444444444444444,
              "#bd3786"
             ],
             [
              0.5555555555555556,
              "#d8576b"
             ],
             [
              0.6666666666666666,
              "#ed7953"
             ],
             [
              0.7777777777777778,
              "#fb9f3a"
             ],
             [
              0.8888888888888888,
              "#fdca26"
             ],
             [
              1,
              "#f0f921"
             ]
            ],
            "type": "contour"
           }
          ],
          "contourcarpet": [
           {
            "colorbar": {
             "outlinewidth": 0,
             "ticks": ""
            },
            "type": "contourcarpet"
           }
          ],
          "heatmap": [
           {
            "colorbar": {
             "outlinewidth": 0,
             "ticks": ""
            },
            "colorscale": [
             [
              0,
              "#0d0887"
             ],
             [
              0.1111111111111111,
              "#46039f"
             ],
             [
              0.2222222222222222,
              "#7201a8"
             ],
             [
              0.3333333333333333,
              "#9c179e"
             ],
             [
              0.4444444444444444,
              "#bd3786"
             ],
             [
              0.5555555555555556,
              "#d8576b"
             ],
             [
              0.6666666666666666,
              "#ed7953"
             ],
             [
              0.7777777777777778,
              "#fb9f3a"
             ],
             [
              0.8888888888888888,
              "#fdca26"
             ],
             [
              1,
              "#f0f921"
             ]
            ],
            "type": "heatmap"
           }
          ],
          "histogram": [
           {
            "marker": {
             "pattern": {
              "fillmode": "overlay",
              "size": 10,
              "solidity": 0.2
             }
            },
            "type": "histogram"
           }
          ],
          "histogram2d": [
           {
            "colorbar": {
             "outlinewidth": 0,
             "ticks": ""
            },
            "colorscale": [
             [
              0,
              "#0d0887"
             ],
             [
              0.1111111111111111,
              "#46039f"
             ],
             [
              0.2222222222222222,
              "#7201a8"
             ],
             [
              0.3333333333333333,
              "#9c179e"
             ],
             [
              0.4444444444444444,
              "#bd3786"
             ],
             [
              0.5555555555555556,
              "#d8576b"
             ],
             [
              0.6666666666666666,
              "#ed7953"
             ],
             [
              0.7777777777777778,
              "#fb9f3a"
             ],
             [
              0.8888888888888888,
              "#fdca26"
             ],
             [
              1,
              "#f0f921"
             ]
            ],
            "type": "histogram2d"
           }
          ],
          "histogram2dcontour": [
           {
            "colorbar": {
             "outlinewidth": 0,
             "ticks": ""
            },
            "colorscale": [
             [
              0,
              "#0d0887"
             ],
             [
              0.1111111111111111,
              "#46039f"
             ],
             [
              0.2222222222222222,
              "#7201a8"
             ],
             [
              0.3333333333333333,
              "#9c179e"
             ],
             [
              0.4444444444444444,
              "#bd3786"
             ],
             [
              0.5555555555555556,
              "#d8576b"
             ],
             [
              0.6666666666666666,
              "#ed7953"
             ],
             [
              0.7777777777777778,
              "#fb9f3a"
             ],
             [
              0.8888888888888888,
              "#fdca26"
             ],
             [
              1,
              "#f0f921"
             ]
            ],
            "type": "histogram2dcontour"
           }
          ],
          "mesh3d": [
           {
            "colorbar": {
             "outlinewidth": 0,
             "ticks": ""
            },
            "type": "mesh3d"
           }
          ],
          "parcoords": [
           {
            "line": {
             "colorbar": {
              "outlinewidth": 0,
              "ticks": ""
             }
            },
            "type": "parcoords"
           }
          ],
          "pie": [
           {
            "automargin": true,
            "type": "pie"
           }
          ],
          "scatter": [
           {
            "fillpattern": {
             "fillmode": "overlay",
             "size": 10,
             "solidity": 0.2
            },
            "type": "scatter"
           }
          ],
          "scatter3d": [
           {
            "line": {
             "colorbar": {
              "outlinewidth": 0,
              "ticks": ""
             }
            },
            "marker": {
             "colorbar": {
              "outlinewidth": 0,
              "ticks": ""
             }
            },
            "type": "scatter3d"
           }
          ],
          "scattercarpet": [
           {
            "marker": {
             "colorbar": {
              "outlinewidth": 0,
              "ticks": ""
             }
            },
            "type": "scattercarpet"
           }
          ],
          "scattergeo": [
           {
            "marker": {
             "colorbar": {
              "outlinewidth": 0,
              "ticks": ""
             }
            },
            "type": "scattergeo"
           }
          ],
          "scattergl": [
           {
            "marker": {
             "colorbar": {
              "outlinewidth": 0,
              "ticks": ""
             }
            },
            "type": "scattergl"
           }
          ],
          "scattermap": [
           {
            "marker": {
             "colorbar": {
              "outlinewidth": 0,
              "ticks": ""
             }
            },
            "type": "scattermap"
           }
          ],
          "scattermapbox": [
           {
            "marker": {
             "colorbar": {
              "outlinewidth": 0,
              "ticks": ""
             }
            },
            "type": "scattermapbox"
           }
          ],
          "scatterpolar": [
           {
            "marker": {
             "colorbar": {
              "outlinewidth": 0,
              "ticks": ""
             }
            },
            "type": "scatterpolar"
           }
          ],
          "scatterpolargl": [
           {
            "marker": {
             "colorbar": {
              "outlinewidth": 0,
              "ticks": ""
             }
            },
            "type": "scatterpolargl"
           }
          ],
          "scatterternary": [
           {
            "marker": {
             "colorbar": {
              "outlinewidth": 0,
              "ticks": ""
             }
            },
            "type": "scatterternary"
           }
          ],
          "surface": [
           {
            "colorbar": {
             "outlinewidth": 0,
             "ticks": ""
            },
            "colorscale": [
             [
              0,
              "#0d0887"
             ],
             [
              0.1111111111111111,
              "#46039f"
             ],
             [
              0.2222222222222222,
              "#7201a8"
             ],
             [
              0.3333333333333333,
              "#9c179e"
             ],
             [
              0.4444444444444444,
              "#bd3786"
             ],
             [
              0.5555555555555556,
              "#d8576b"
             ],
             [
              0.6666666666666666,
              "#ed7953"
             ],
             [
              0.7777777777777778,
              "#fb9f3a"
             ],
             [
              0.8888888888888888,
              "#fdca26"
             ],
             [
              1,
              "#f0f921"
             ]
            ],
            "type": "surface"
           }
          ],
          "table": [
           {
            "cells": {
             "fill": {
              "color": "#EBF0F8"
             },
             "line": {
              "color": "white"
             }
            },
            "header": {
             "fill": {
              "color": "#C8D4E3"
             },
             "line": {
              "color": "white"
             }
            },
            "type": "table"
           }
          ]
         },
         "layout": {
          "annotationdefaults": {
           "arrowcolor": "#2a3f5f",
           "arrowhead": 0,
           "arrowwidth": 1
          },
          "autotypenumbers": "strict",
          "coloraxis": {
           "colorbar": {
            "outlinewidth": 0,
            "ticks": ""
           }
          },
          "colorscale": {
           "diverging": [
            [
             0,
             "#8e0152"
            ],
            [
             0.1,
             "#c51b7d"
            ],
            [
             0.2,
             "#de77ae"
            ],
            [
             0.3,
             "#f1b6da"
            ],
            [
             0.4,
             "#fde0ef"
            ],
            [
             0.5,
             "#f7f7f7"
            ],
            [
             0.6,
             "#e6f5d0"
            ],
            [
             0.7,
             "#b8e186"
            ],
            [
             0.8,
             "#7fbc41"
            ],
            [
             0.9,
             "#4d9221"
            ],
            [
             1,
             "#276419"
            ]
           ],
           "sequential": [
            [
             0,
             "#0d0887"
            ],
            [
             0.1111111111111111,
             "#46039f"
            ],
            [
             0.2222222222222222,
             "#7201a8"
            ],
            [
             0.3333333333333333,
             "#9c179e"
            ],
            [
             0.4444444444444444,
             "#bd3786"
            ],
            [
             0.5555555555555556,
             "#d8576b"
            ],
            [
             0.6666666666666666,
             "#ed7953"
            ],
            [
             0.7777777777777778,
             "#fb9f3a"
            ],
            [
             0.8888888888888888,
             "#fdca26"
            ],
            [
             1,
             "#f0f921"
            ]
           ],
           "sequentialminus": [
            [
             0,
             "#0d0887"
            ],
            [
             0.1111111111111111,
             "#46039f"
            ],
            [
             0.2222222222222222,
             "#7201a8"
            ],
            [
             0.3333333333333333,
             "#9c179e"
            ],
            [
             0.4444444444444444,
             "#bd3786"
            ],
            [
             0.5555555555555556,
             "#d8576b"
            ],
            [
             0.6666666666666666,
             "#ed7953"
            ],
            [
             0.7777777777777778,
             "#fb9f3a"
            ],
            [
             0.8888888888888888,
             "#fdca26"
            ],
            [
             1,
             "#f0f921"
            ]
           ]
          },
          "colorway": [
           "#636efa",
           "#EF553B",
           "#00cc96",
           "#ab63fa",
           "#FFA15A",
           "#19d3f3",
           "#FF6692",
           "#B6E880",
           "#FF97FF",
           "#FECB52"
          ],
          "font": {
           "color": "#2a3f5f"
          },
          "geo": {
           "bgcolor": "white",
           "lakecolor": "white",
           "landcolor": "white",
           "showlakes": true,
           "showland": true,
           "subunitcolor": "#C8D4E3"
          },
          "hoverlabel": {
           "align": "left"
          },
          "hovermode": "closest",
          "mapbox": {
           "style": "light"
          },
          "paper_bgcolor": "white",
          "plot_bgcolor": "white",
          "polar": {
           "angularaxis": {
            "gridcolor": "#EBF0F8",
            "linecolor": "#EBF0F8",
            "ticks": ""
           },
           "bgcolor": "white",
           "radialaxis": {
            "gridcolor": "#EBF0F8",
            "linecolor": "#EBF0F8",
            "ticks": ""
           }
          },
          "scene": {
           "xaxis": {
            "backgroundcolor": "white",
            "gridcolor": "#DFE8F3",
            "gridwidth": 2,
            "linecolor": "#EBF0F8",
            "showbackground": true,
            "ticks": "",
            "zerolinecolor": "#EBF0F8"
           },
           "yaxis": {
            "backgroundcolor": "white",
            "gridcolor": "#DFE8F3",
            "gridwidth": 2,
            "linecolor": "#EBF0F8",
            "showbackground": true,
            "ticks": "",
            "zerolinecolor": "#EBF0F8"
           },
           "zaxis": {
            "backgroundcolor": "white",
            "gridcolor": "#DFE8F3",
            "gridwidth": 2,
            "linecolor": "#EBF0F8",
            "showbackground": true,
            "ticks": "",
            "zerolinecolor": "#EBF0F8"
           }
          },
          "shapedefaults": {
           "line": {
            "color": "#2a3f5f"
           }
          },
          "ternary": {
           "aaxis": {
            "gridcolor": "#DFE8F3",
            "linecolor": "#A2B1C6",
            "ticks": ""
           },
           "baxis": {
            "gridcolor": "#DFE8F3",
            "linecolor": "#A2B1C6",
            "ticks": ""
           },
           "bgcolor": "white",
           "caxis": {
            "gridcolor": "#DFE8F3",
            "linecolor": "#A2B1C6",
            "ticks": ""
           }
          },
          "title": {
           "x": 0.05
          },
          "xaxis": {
           "automargin": true,
           "gridcolor": "#EBF0F8",
           "linecolor": "#EBF0F8",
           "ticks": "",
           "title": {
            "standoff": 15
           },
           "zerolinecolor": "#EBF0F8",
           "zerolinewidth": 2
          },
          "yaxis": {
           "automargin": true,
           "gridcolor": "#EBF0F8",
           "linecolor": "#EBF0F8",
           "ticks": "",
           "title": {
            "standoff": 15
           },
           "zerolinecolor": "#EBF0F8",
           "zerolinewidth": 2
          }
         }
        },
        "xaxis": {
         "anchor": "y",
         "domain": [
          0,
          0.45
         ],
         "title": {
          "font": {
           "size": 14
          },
          "text": "Epoch"
         }
        },
        "xaxis2": {
         "anchor": "y2",
         "domain": [
          0.55,
          1
         ],
         "title": {
          "font": {
           "size": 14
          },
          "text": "Epoch"
         }
        },
        "yaxis": {
         "anchor": "x",
         "domain": [
          0,
          1
         ],
         "title": {
          "font": {
           "size": 14
          },
          "text": "Loss"
         }
        },
        "yaxis2": {
         "anchor": "x2",
         "domain": [
          0,
          1
         ],
         "matches": "y",
         "showticklabels": false
        }
       }
      }
     },
     "metadata": {},
     "output_type": "display_data"
    }
   ],
   "source": [
    "from plotly.subplots import make_subplots\n",
    "import plotly.graph_objects as go\n",
    "\n",
    "# Create subplots with shared y-axis\n",
    "fig = make_subplots(rows=1, cols=2, shared_yaxes=True,\n",
    "                    subplot_titles=(\"LR = 0.01\", \"LR = 0.001\"))\n",
    "\n",
    "# Plot for losses_df (left)\n",
    "fig.add_trace(go.Scatter(x=losses_df['Epoch'], y=losses_df['Total Loss'],\n",
    "                         mode='lines+markers',\n",
    "                         name='Total Loss',\n",
    "                         line=dict(color='blue')),\n",
    "              row=1, col=1)\n",
    "\n",
    "fig.add_trace(go.Scatter(x=losses_df['Epoch'], y=losses_df['Recon Loss'],\n",
    "                         mode='lines+markers',\n",
    "                         name='Recon Loss',\n",
    "                         line=dict(color='red')),\n",
    "              row=1, col=1)\n",
    "\n",
    "fig.add_trace(go.Scatter(x=losses_df['Epoch'], y=losses_df['KL Loss'],\n",
    "                         mode='lines+markers',\n",
    "                         name='KL Loss',\n",
    "                         line=dict(color='green')),\n",
    "              row=1, col=1)\n",
    "\n",
    "# Plot for losses_df_2 (right)\n",
    "fig.add_trace(go.Scatter(x=losses_df2['Epoch'], y=losses_df2['Total Loss'],\n",
    "                         mode='lines+markers',\n",
    "                         line=dict(color='blue'),\n",
    "                         showlegend=False),\n",
    "              row=1, col=2)\n",
    "\n",
    "fig.add_trace(go.Scatter(x=losses_df2['Epoch'], y=losses_df2['Recon Loss'],\n",
    "                         mode='lines+markers',\n",
    "                         line=dict(color='red'),\n",
    "                         showlegend=False),\n",
    "              row=1, col=2)\n",
    "\n",
    "fig.add_trace(go.Scatter(x=losses_df2['Epoch'], y=losses_df2['KL Loss'],\n",
    "                         mode='lines+markers',\n",
    "                         line=dict(color='green'),\n",
    "                         showlegend=False),\n",
    "              row=1, col=2)\n",
    "\n",
    "# Layout and formatting\n",
    "fig.update_layout(\n",
    "    template='plotly_white',\n",
    "    legend_title='Loss Type',\n",
    "    margin=dict(l=40, r=40, t=60, b=40),\n",
    "    legend=dict(title_font=dict(size=14), font=dict(size=12))\n",
    ")\n",
    "\n",
    "fig.update_xaxes(title_text='Epoch', title_font=dict(size=14), row=1, col=1)\n",
    "fig.update_xaxes(title_text='Epoch', title_font=dict(size=14), row=1, col=2)\n",
    "fig.update_yaxes(title_text='Loss', title_font=dict(size=14), row=1, col=1)\n",
    "\n",
    "# Improve hover\n",
    "fig.update_traces(marker=dict(size=5),\n",
    "                  line=dict(width=2),\n",
    "                  hovertemplate='Epoch: %{x}<br>Loss: %{y:.2f}<extra></extra>')\n",
    "\n",
    "fig.show()\n"
   ]
  },
  {
   "cell_type": "code",
   "execution_count": null,
   "id": "c76e2634",
   "metadata": {},
   "outputs": [],
   "source": []
  }
 ],
 "metadata": {
  "kernelspec": {
   "display_name": "aca",
   "language": "python",
   "name": "python3"
  },
  "language_info": {
   "codemirror_mode": {
    "name": "ipython",
    "version": 3
   },
   "file_extension": ".py",
   "mimetype": "text/x-python",
   "name": "python",
   "nbconvert_exporter": "python",
   "pygments_lexer": "ipython3",
   "version": "3.12.3"
  }
 },
 "nbformat": 4,
 "nbformat_minor": 5
}
