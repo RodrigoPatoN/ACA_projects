{
 "cells": [
  {
   "cell_type": "code",
   "execution_count": 2,
   "metadata": {},
   "outputs": [],
   "source": [
    "import pandas as pd\n",
    "import numpy as np\n",
    "import plotly.express as px\n",
    "import plotly.graph_objects as go"
   ]
  },
  {
   "cell_type": "markdown",
   "metadata": {},
   "source": [
    "## DNN"
   ]
  },
  {
   "cell_type": "code",
   "execution_count": 3,
   "metadata": {},
   "outputs": [],
   "source": [
    "data_dnn = pd.read_json('results_dnn.json').T"
   ]
  },
  {
   "cell_type": "code",
   "execution_count": 4,
   "metadata": {},
   "outputs": [],
   "source": [
    "metrics_dnn = []\n",
    "\n",
    "for i, row in data_dnn.iterrows():\n",
    "\n",
    "    accuracy_fold_train = []\n",
    "    accuracy_fold_test = []\n",
    "\n",
    "    recall_fold_train = []\n",
    "    recall_fold_test = []\n",
    "\n",
    "    precision_fold_train = []\n",
    "    precision_fold_test = []\n",
    "\n",
    "    for iteration in row[\"results\"]:\n",
    "        \n",
    "        loss = iteration[\"loss_values\"]\n",
    "        conf_mat_train = np.array(iteration[\"confusion_matrix_train\"])\n",
    "        conf_mat_test = np.array(iteration[\"confusion_matrix_val\"])\n",
    "        \n",
    "        # Compute accuracy (7 classes)\n",
    "        total_train = conf_mat_train.sum()\n",
    "        total_test = conf_mat_test.sum()\n",
    "\n",
    "        accuracy_train = conf_mat_train.diagonal().sum() / total_train if total_train > 0 else 0\n",
    "        accuracy_test = conf_mat_test.diagonal().sum() / total_test if total_test > 0 else 0\n",
    "\n",
    "        # Compute recall and precision (per class)\n",
    "        recall_train = np.array([\n",
    "            conf_mat_train[i, i] / conf_mat_train[i, :].sum() if conf_mat_train[i, :].sum() > 0 else 0\n",
    "            for i in range(7)\n",
    "        ])\n",
    "        recall_test = np.array([\n",
    "            conf_mat_test[i, i] / conf_mat_test[i, :].sum() if conf_mat_test[i, :].sum() > 0 else 0\n",
    "            for i in range(7)\n",
    "        ])\n",
    "\n",
    "        precision_train = np.array([\n",
    "            conf_mat_train[i, i] / conf_mat_train[:, i].sum() if conf_mat_train[:, i].sum() > 0 else 0\n",
    "            for i in range(7)\n",
    "        ])\n",
    "        precision_test = np.array([\n",
    "            conf_mat_test[i, i] / conf_mat_test[:, i].sum() if conf_mat_test[:, i].sum() > 0 else 0\n",
    "            for i in range(7)\n",
    "        ])\n",
    "\n",
    "        accuracy_fold_train.append(accuracy_train)\n",
    "        accuracy_fold_test.append(accuracy_test)\n",
    "\n",
    "        recall_fold_train.append(recall_train)\n",
    "        recall_fold_test.append(recall_test)\n",
    "\n",
    "        precision_fold_train.append(precision_train)\n",
    "        precision_fold_test.append(precision_test)\n",
    "\n",
    "    # Compute mean across folds\n",
    "    accuracy_train = np.mean(accuracy_fold_train)\n",
    "    accuracy_test = np.mean(accuracy_fold_test)\n",
    "\n",
    "    recall_train = np.mean(recall_fold_train, axis=0)\n",
    "    recall_test = np.mean(recall_fold_test, axis=0)\n",
    "\n",
    "    precision_train = np.mean(precision_fold_train, axis=0)\n",
    "    precision_test = np.mean(precision_fold_test, axis=0)\n",
    "\n",
    "    average_recall_train = np.mean(recall_train)\n",
    "    average_recall_test = np.mean(recall_test)\n",
    "\n",
    "    average_precision_train = np.mean(precision_train)\n",
    "    average_precision_test = np.mean(precision_test)\n",
    "\n",
    "    f1_train_average = 2 * (average_precision_train * average_recall_train) / (average_precision_train + average_recall_train)\n",
    "    f1_test_average = 2 * (average_precision_test * average_recall_test) / (average_precision_test + average_recall_test) \n",
    "\n",
    "    row = row.drop(\"results\")\n",
    "    row_dict = row.to_dict()\n",
    "\n",
    "    metrics_dnn.append({\n",
    "        **row_dict,\n",
    "        \"iteration\": i,\n",
    "        \"accuracy_train\": accuracy_train,\n",
    "        \"accuracy_test\": accuracy_test,\n",
    "        \"recall_train\": recall_train.tolist(),  # Convert to list for DataFrame compatibility\n",
    "        \"recall_test\": recall_test.tolist(),\n",
    "        \"averaged_recall_train\": average_recall_train,\n",
    "        \"averaged_recall_test\": average_recall_test,\n",
    "        \"precision_train\": precision_train.tolist(),\n",
    "        \"precision_test\": precision_test.tolist(),\n",
    "        \"averaged_precision_train\": average_precision_train,\n",
    "        \"averaged_precision_test\": average_precision_test,\n",
    "        \"f1_train_average\": f1_train_average,\n",
    "        \"f1_test_average\": f1_test_average\n",
    "    })\n",
    "\n",
    "metrics_dnn = pd.DataFrame(metrics_dnn)\n",
    "#metrics_dnn\n"
   ]
  },
  {
   "cell_type": "markdown",
   "metadata": {},
   "source": [
    "## CNN"
   ]
  },
  {
   "cell_type": "code",
   "execution_count": null,
   "metadata": {},
   "outputs": [],
   "source": [
    "def get_metrics(data : pd.DataFrame):\n",
    "\n",
    "    metrics_cnn = []\n",
    "\n",
    "    for i, row in data.iterrows():\n",
    "\n",
    "        accuracy_fold_train = []\n",
    "        accuracy_fold_test = []\n",
    "\n",
    "        recall_fold_train = []\n",
    "        recall_fold_test = []\n",
    "\n",
    "        precision_fold_train = []\n",
    "        precision_fold_test = []\n",
    "\n",
    "        confusion_matrix_train = []\n",
    "        confusion_matrix_test = []\n",
    "\n",
    "        all_losses = []\n",
    "        all_losses_val = []\n",
    "\n",
    "        for iteration in row[\"results\"]:\n",
    "            \n",
    "            loss = iteration[\"loss_values\"]\n",
    "            val_loss = iteration[\"val_loss\"]\n",
    "\n",
    "            all_losses.append(loss)\n",
    "\n",
    "            conf_mat_train = np.array(iteration[\"confusion_matrix_train\"])\n",
    "            conf_mat_test = np.array(iteration[\"confusion_matrix_val\"])\n",
    "            \n",
    "            # Compute accuracy (7 classes)\n",
    "            total_train = conf_mat_train.sum()\n",
    "            total_test = conf_mat_test.sum()\n",
    "\n",
    "            accuracy_train = conf_mat_train.diagonal().sum() / total_train if total_train > 0 else 0\n",
    "            accuracy_test = conf_mat_test.diagonal().sum() / total_test if total_test > 0 else 0\n",
    "\n",
    "            # Compute recall and precision (per class)\n",
    "            recall_train = np.array([\n",
    "                conf_mat_train[i, i] / conf_mat_train[i, :].sum() if conf_mat_train[i, :].sum() > 0 else 0\n",
    "                for i in range(7)\n",
    "            ])\n",
    "            recall_test = np.array([\n",
    "                conf_mat_test[i, i] / conf_mat_test[i, :].sum() if conf_mat_test[i, :].sum() > 0 else 0\n",
    "                for i in range(7)\n",
    "            ])\n",
    "\n",
    "            precision_train = np.array([\n",
    "                conf_mat_train[i, i] / conf_mat_train[:, i].sum() if conf_mat_train[:, i].sum() > 0 else 0\n",
    "                for i in range(7)\n",
    "            ])\n",
    "            precision_test = np.array([\n",
    "                conf_mat_test[i, i] / conf_mat_test[:, i].sum() if conf_mat_test[:, i].sum() > 0 else 0\n",
    "                for i in range(7)\n",
    "            ])\n",
    "\n",
    "            try:\n",
    "                confusion_matrix_train += conf_mat_train\n",
    "                confusion_matrix_test += conf_mat_test\n",
    "            except:\n",
    "                confusion_matrix_train = conf_mat_train\n",
    "                confusion_matrix_test = conf_mat_test\n",
    "\n",
    "            accuracy_fold_train.append(accuracy_train)\n",
    "            accuracy_fold_test.append(accuracy_test)\n",
    "\n",
    "            recall_fold_train.append(recall_train)\n",
    "            recall_fold_test.append(recall_test)\n",
    "\n",
    "            precision_fold_train.append(precision_train)\n",
    "            precision_fold_test.append(precision_test)\n",
    "\n",
    "        # Compute mean across folds\n",
    "        accuracy_train = np.mean(accuracy_fold_train)\n",
    "        accuracy_test = np.mean(accuracy_fold_test)\n",
    "\n",
    "        recall_train = np.mean(recall_fold_train, axis=0)\n",
    "        recall_test = np.mean(recall_fold_test, axis=0)\n",
    "\n",
    "        precision_train = np.mean(precision_fold_train, axis=0)\n",
    "        precision_test = np.mean(precision_fold_test, axis=0)\n",
    "\n",
    "        average_recall_train = np.mean(recall_train)\n",
    "        average_recall_test = np.mean(recall_test)\n",
    "\n",
    "        average_precision_train = np.mean(precision_train)\n",
    "        average_precision_test = np.mean(precision_test)\n",
    "\n",
    "        f1_train_average = 2 * (average_precision_train * average_recall_train) / (average_precision_train + average_recall_train)\n",
    "        f1_test_average = 2 * (average_precision_test * average_recall_test) / (average_precision_test + average_recall_test) \n",
    "\n",
    "        row = row.drop(\"results\")\n",
    "        row_dict = row.to_dict()\n",
    "\n",
    "        metrics_cnn.append({\n",
    "            **row_dict,\n",
    "            \"iteration\": i,\n",
    "            \"accuracy_train\": accuracy_train,\n",
    "            \"accuracy_test\": accuracy_test,\n",
    "            \"recall_train\": recall_train.tolist(),  # Convert to list for DataFrame compatibility\n",
    "            \"recall_test\": recall_test.tolist(),\n",
    "            \"averaged_recall_train\": average_recall_train,\n",
    "            \"averaged_recall_test\": average_recall_test,\n",
    "            \"precision_train\": precision_train.tolist(),\n",
    "            \"precision_test\": precision_test.tolist(),\n",
    "            \"averaged_precision_train\": average_precision_train,\n",
    "            \"averaged_precision_test\": average_precision_test,\n",
    "            \"f1_train_average\": f1_train_average,\n",
    "            \"f1_test_average\": f1_test_average,\n",
    "            \"confusion_matrix_train\": confusion_matrix_train,\n",
    "            \"confusion_matrix_test\": confusion_matrix_test,\n",
    "            \"loss\": all_losses,\n",
    "            \"valloss\": all_losses_val\n",
    "        })\n",
    "\n",
    "    metrics_cnn = pd.DataFrame(metrics_cnn)\n",
    "    return metrics_cnn\n"
   ]
  },
  {
   "cell_type": "code",
   "execution_count": 6,
   "metadata": {},
   "outputs": [],
   "source": [
    "def plot_confusion_matrix(df):\n",
    "    confusion_matrix_train = np.array(df[\"confusion_matrix_train\"].tolist())\n",
    "    confusion_matrix_test = np.array(df[\"confusion_matrix_test\"].tolist())\n",
    "    \n",
    "    labels = [[str(val) for val in row] for row in confusion_matrix_train]\n",
    "    \n",
    "    fig_train = go.Figure(data=go.Heatmap(\n",
    "        z=confusion_matrix_train,\n",
    "        x=[\"Class {}\".format(i) for i in range(7)],\n",
    "        y=[\"Class {}\".format(i) for i in range(7)],\n",
    "        colorscale='Viridis',\n",
    "        text=labels,\n",
    "        texttemplate=\"%{text}\",\n",
    "        showscale=True\n",
    "    ))\n",
    "\n",
    "    fig_train.update_layout(\n",
    "        title='Confusion Matrix (Train)',\n",
    "        xaxis_title='Predicted Class',\n",
    "        yaxis_title='True Class',\n",
    "        width=800,\n",
    "        height=600\n",
    "    )\n",
    "    \n",
    "    labels = [[str(val) for val in row] for row in confusion_matrix_test]\n",
    "    \n",
    "    fig_test = go.Figure(data=go.Heatmap(\n",
    "        z=confusion_matrix_test,\n",
    "        x=[\"Class {}\".format(i) for i in range(7)],\n",
    "        y=[\"Class {}\".format(i) for i in range(7)],\n",
    "        colorscale='Viridis',\n",
    "        text=labels,\n",
    "        texttemplate=\"%{text}\",\n",
    "        showscale=True\n",
    "    ))\n",
    "\n",
    "    fig_test.update_layout(\n",
    "        title='Confusion Matrix (Test)',\n",
    "        xaxis_title='Predicted Class',\n",
    "        yaxis_title='True Class',\n",
    "        width=800,\n",
    "        height=600\n",
    "    )\n",
    "\n",
    "    fig_train.show()\n",
    "    fig_test.show()"
   ]
  },
  {
   "cell_type": "code",
   "execution_count": 7,
   "metadata": {},
   "outputs": [],
   "source": [
    "data_cnn = pd.read_json('results_cnn_1.json').T"
   ]
  },
  {
   "cell_type": "code",
   "execution_count": 8,
   "metadata": {},
   "outputs": [],
   "source": [
    "metrics_cnn = get_metrics(data_cnn)"
   ]
  },
  {
   "cell_type": "code",
   "execution_count": 9,
   "metadata": {},
   "outputs": [],
   "source": [
    "# get 50 best performances in terms of test accuracy\n",
    "best_cnn = metrics_cnn.sort_values(by=\"accuracy_test\", ascending=False).head(50)\n",
    "data_cnn_50_best = data_cnn.loc[best_cnn.index]\n",
    "data_cnn_50_best.to_csv(\"data_cnn_50_best.csv\")"
   ]
  },
  {
   "cell_type": "markdown",
   "metadata": {},
   "source": [
    "## Impact of the different Hyper-parameters"
   ]
  },
  {
   "cell_type": "code",
   "execution_count": 10,
   "metadata": {},
   "outputs": [],
   "source": [
    "metrics_dnn[\"model\"] = \"DNN\"\n",
    "metrics_cnn[\"model\"] = \"CNN\"\n",
    "\n",
    "metrics_all = pd.concat([metrics_cnn, metrics_dnn], ignore_index=True)\n",
    "metrics_all[\"learning_rate\"] = metrics_all[\"learning_rate\"].astype(str)\n",
    "metrics_all[\"batch_size\"] = metrics_all[\"batch_size\"].astype(str)"
   ]
  },
  {
   "cell_type": "code",
   "execution_count": 11,
   "metadata": {},
   "outputs": [],
   "source": [
    "import pandas as pd\n",
    "import plotly.graph_objects as go\n",
    "from plotly.subplots import make_subplots\n",
    "\n",
    "# Define hyperparameters and metrics\n",
    "hyperparameters = ['activation_function', 'n_layers', 'batch_size', \n",
    "                'learning_rate', 'loss_function', 'optimizer',\n",
    "                'pooling', 'n_conv_layers']\n",
    "\n",
    "metrics = ['accuracy_train', 'accuracy_test']\n",
    "\n",
    "metrics_to_str = {\n",
    "    'accuracy_train': 'Accuracy (Train)',\n",
    "    'accuracy_test': 'Accuracy (Validation)'\n",
    "}\n",
    "\n",
    "# Grid layout settings\n",
    "params_per_row = 2  # Two parameters per row\n",
    "n_rows = -(-len(hyperparameters) // params_per_row)  # Ceiling division for rows\n",
    "\n",
    "# Create subplots\n",
    "fig = make_subplots(\n",
    "    rows=n_rows, cols=params_per_row * 2,  # Each parameter has 2 charts (train & test)\n",
    "    subplot_titles=[f\"{param} - {metrics_to_str[metric]}\" for param in hyperparameters for metric in metrics],\n",
    "    shared_yaxes=False,\n",
    "    horizontal_spacing=0.05, vertical_spacing=0.05\n",
    ")\n",
    "\n",
    "# Loop through each hyperparameter\n",
    "for i, param in enumerate(hyperparameters):\n",
    "    row = i // params_per_row + 1  # Compute row index\n",
    "\n",
    "    df_grouped = metrics_all.groupby([param, \"model\"])[metrics].mean().reset_index()\n",
    "\n",
    "    # Add plots for accuracy_train and accuracy_test\n",
    "    for j, metric in enumerate(metrics):\n",
    "\n",
    "        col = i % params_per_row * 2 + j + 1  # Compute column index\n",
    "\n",
    "        for model, color in zip([\"DNN\", \"CNN\"], [\"#636EFA\", \"#EF553B\"]):\n",
    "\n",
    "            df_subset = df_grouped[df_grouped[\"model\"] == model]\n",
    "            \n",
    "            fig.add_trace(\n",
    "                go.Bar(\n",
    "                    x=df_subset[param], \n",
    "                    y=df_subset[metric], \n",
    "                    name=f\"{model}\",\n",
    "                    marker_color=color,\n",
    "                    legendgroup=model,\n",
    "                    showlegend=(i == 0 and j == 0)  # Show legend only once\n",
    "                ),\n",
    "                row=row, col=col\n",
    "            )\n",
    "\n",
    "# Update layout\n",
    "fig.update_layout(\n",
    "    title_text=\"Impact of Hyperparameters on Accuracy (CNN vs. DNN)\",\n",
    "    height=300 * n_rows, width=1400,\n",
    "    showlegend=True\n",
    ")\n",
    "\n",
    "# Show figure\n",
    "#fig.show()\n",
    "\n",
    "a = 1\n"
   ]
  },
  {
   "cell_type": "markdown",
   "metadata": {},
   "source": [
    "## Overall Performance"
   ]
  },
  {
   "cell_type": "code",
   "execution_count": 12,
   "metadata": {},
   "outputs": [],
   "source": [
    "# get the configuration with the best test accuracy\n",
    "\n",
    "best_cnn = metrics_cnn.sort_values(by=\"accuracy_test\", ascending=False).head(1)\n",
    "best_dnn = metrics_dnn.sort_values(by=\"accuracy_test\", ascending=False).head(1)"
   ]
  },
  {
   "cell_type": "code",
   "execution_count": 13,
   "metadata": {},
   "outputs": [
    {
     "name": "stdout",
     "output_type": "stream",
     "text": [
      "Index(['n_epochs', 'activation_function', 'pooling', 'n_conv_layers',\n",
      "       'conv_out_channels', 'conv_kernel_size', 'conv_padding', 'n_layers',\n",
      "       'batch_size', 'learning_rate', 'loss_function', 'optimizer',\n",
      "       'iteration', 'accuracy_train', 'accuracy_test', 'recall_train',\n",
      "       'recall_test', 'averaged_recall_train', 'averaged_recall_test',\n",
      "       'precision_train', 'precision_test', 'averaged_precision_train',\n",
      "       'averaged_precision_test', 'f1_train_average', 'f1_test_average',\n",
      "       'confusion_matrix_train', 'confusion_matrix_test', 'loss', 'model'],\n",
      "      dtype='object')\n"
     ]
    },
    {
     "data": {
      "text/html": [
       "<div>\n",
       "<style scoped>\n",
       "    .dataframe tbody tr th:only-of-type {\n",
       "        vertical-align: middle;\n",
       "    }\n",
       "\n",
       "    .dataframe tbody tr th {\n",
       "        vertical-align: top;\n",
       "    }\n",
       "\n",
       "    .dataframe thead th {\n",
       "        text-align: right;\n",
       "    }\n",
       "</style>\n",
       "<table border=\"1\" class=\"dataframe\">\n",
       "  <thead>\n",
       "    <tr style=\"text-align: right;\">\n",
       "      <th></th>\n",
       "      <th>n_epochs</th>\n",
       "      <th>activation_function</th>\n",
       "      <th>pooling</th>\n",
       "      <th>n_conv_layers</th>\n",
       "      <th>conv_out_channels</th>\n",
       "      <th>conv_kernel_size</th>\n",
       "      <th>conv_padding</th>\n",
       "      <th>n_layers</th>\n",
       "      <th>batch_size</th>\n",
       "      <th>learning_rate</th>\n",
       "      <th>loss_function</th>\n",
       "      <th>optimizer</th>\n",
       "      <th>confusion_matrix_train</th>\n",
       "      <th>confusion_matrix_test</th>\n",
       "      <th>loss</th>\n",
       "    </tr>\n",
       "  </thead>\n",
       "  <tbody>\n",
       "    <tr>\n",
       "      <th>103</th>\n",
       "      <td>50</td>\n",
       "      <td>relu</td>\n",
       "      <td>MaxPool</td>\n",
       "      <td>2</td>\n",
       "      <td>16</td>\n",
       "      <td>3</td>\n",
       "      <td>1</td>\n",
       "      <td>3</td>\n",
       "      <td>64</td>\n",
       "      <td>0.1</td>\n",
       "      <td>Cross Entropy</td>\n",
       "      <td>SGD</td>\n",
       "      <td>[[2753, 12, 13, 16, 5, 1, 0], [43, 2685, 20, 2...</td>\n",
       "      <td>[[438, 86, 59, 59, 40, 15, 3], [133, 339, 59, ...</td>\n",
       "      <td>[[239.4286093711853, 239.01862823963165, 236.2...</td>\n",
       "    </tr>\n",
       "  </tbody>\n",
       "</table>\n",
       "</div>"
      ],
      "text/plain": [
       "     n_epochs activation_function  pooling  n_conv_layers  conv_out_channels  \\\n",
       "103        50                relu  MaxPool              2                 16   \n",
       "\n",
       "     conv_kernel_size  conv_padding  n_layers  batch_size  learning_rate  \\\n",
       "103                 3             1         3          64            0.1   \n",
       "\n",
       "     loss_function optimizer  \\\n",
       "103  Cross Entropy       SGD   \n",
       "\n",
       "                                confusion_matrix_train  \\\n",
       "103  [[2753, 12, 13, 16, 5, 1, 0], [43, 2685, 20, 2...   \n",
       "\n",
       "                                 confusion_matrix_test  \\\n",
       "103  [[438, 86, 59, 59, 40, 15, 3], [133, 339, 59, ...   \n",
       "\n",
       "                                                  loss  \n",
       "103  [[239.4286093711853, 239.01862823963165, 236.2...  "
      ]
     },
     "execution_count": 13,
     "metadata": {},
     "output_type": "execute_result"
    }
   ],
   "source": [
    "best_cnn_params = best_cnn.drop(columns=[\"iteration\", 'accuracy_train', 'accuracy_test', 'recall_train',\n",
    "       'recall_test', 'averaged_recall_train', 'averaged_recall_test',\n",
    "       'precision_train', 'precision_test', 'averaged_precision_train',\n",
    "       'averaged_precision_test', 'f1_train_average', 'f1_test_average',\n",
    "       \"model\"])\n",
    "\n",
    "print(best_cnn.columns)\n",
    "best_cnn_params"
   ]
  },
  {
   "cell_type": "code",
   "execution_count": 14,
   "metadata": {},
   "outputs": [
    {
     "data": {
      "application/vnd.plotly.v1+json": {
       "config": {
        "plotlyServerURL": "https://plot.ly"
       },
       "data": [
        {
         "marker": {
          "color": "#636EFA"
         },
         "name": "Train",
         "type": "bar",
         "x": [
          "CNN",
          "DNN"
         ],
         "y": [
          0.9732142857142858,
          0.5335204081632653
         ]
        },
        {
         "marker": {
          "color": "#EF553B"
         },
         "name": "Validation",
         "type": "bar",
         "x": [
          "CNN",
          "DNN"
         ],
         "y": [
          0.6538775510204081,
          0.4832653061224489
         ]
        }
       ],
       "layout": {
        "barmode": "group",
        "showlegend": true,
        "template": {
         "data": {
          "bar": [
           {
            "error_x": {
             "color": "#2a3f5f"
            },
            "error_y": {
             "color": "#2a3f5f"
            },
            "marker": {
             "line": {
              "color": "#E5ECF6",
              "width": 0.5
             },
             "pattern": {
              "fillmode": "overlay",
              "size": 10,
              "solidity": 0.2
             }
            },
            "type": "bar"
           }
          ],
          "barpolar": [
           {
            "marker": {
             "line": {
              "color": "#E5ECF6",
              "width": 0.5
             },
             "pattern": {
              "fillmode": "overlay",
              "size": 10,
              "solidity": 0.2
             }
            },
            "type": "barpolar"
           }
          ],
          "carpet": [
           {
            "aaxis": {
             "endlinecolor": "#2a3f5f",
             "gridcolor": "white",
             "linecolor": "white",
             "minorgridcolor": "white",
             "startlinecolor": "#2a3f5f"
            },
            "baxis": {
             "endlinecolor": "#2a3f5f",
             "gridcolor": "white",
             "linecolor": "white",
             "minorgridcolor": "white",
             "startlinecolor": "#2a3f5f"
            },
            "type": "carpet"
           }
          ],
          "choropleth": [
           {
            "colorbar": {
             "outlinewidth": 0,
             "ticks": ""
            },
            "type": "choropleth"
           }
          ],
          "contour": [
           {
            "colorbar": {
             "outlinewidth": 0,
             "ticks": ""
            },
            "colorscale": [
             [
              0,
              "#0d0887"
             ],
             [
              0.1111111111111111,
              "#46039f"
             ],
             [
              0.2222222222222222,
              "#7201a8"
             ],
             [
              0.3333333333333333,
              "#9c179e"
             ],
             [
              0.4444444444444444,
              "#bd3786"
             ],
             [
              0.5555555555555556,
              "#d8576b"
             ],
             [
              0.6666666666666666,
              "#ed7953"
             ],
             [
              0.7777777777777778,
              "#fb9f3a"
             ],
             [
              0.8888888888888888,
              "#fdca26"
             ],
             [
              1,
              "#f0f921"
             ]
            ],
            "type": "contour"
           }
          ],
          "contourcarpet": [
           {
            "colorbar": {
             "outlinewidth": 0,
             "ticks": ""
            },
            "type": "contourcarpet"
           }
          ],
          "heatmap": [
           {
            "colorbar": {
             "outlinewidth": 0,
             "ticks": ""
            },
            "colorscale": [
             [
              0,
              "#0d0887"
             ],
             [
              0.1111111111111111,
              "#46039f"
             ],
             [
              0.2222222222222222,
              "#7201a8"
             ],
             [
              0.3333333333333333,
              "#9c179e"
             ],
             [
              0.4444444444444444,
              "#bd3786"
             ],
             [
              0.5555555555555556,
              "#d8576b"
             ],
             [
              0.6666666666666666,
              "#ed7953"
             ],
             [
              0.7777777777777778,
              "#fb9f3a"
             ],
             [
              0.8888888888888888,
              "#fdca26"
             ],
             [
              1,
              "#f0f921"
             ]
            ],
            "type": "heatmap"
           }
          ],
          "histogram": [
           {
            "marker": {
             "pattern": {
              "fillmode": "overlay",
              "size": 10,
              "solidity": 0.2
             }
            },
            "type": "histogram"
           }
          ],
          "histogram2d": [
           {
            "colorbar": {
             "outlinewidth": 0,
             "ticks": ""
            },
            "colorscale": [
             [
              0,
              "#0d0887"
             ],
             [
              0.1111111111111111,
              "#46039f"
             ],
             [
              0.2222222222222222,
              "#7201a8"
             ],
             [
              0.3333333333333333,
              "#9c179e"
             ],
             [
              0.4444444444444444,
              "#bd3786"
             ],
             [
              0.5555555555555556,
              "#d8576b"
             ],
             [
              0.6666666666666666,
              "#ed7953"
             ],
             [
              0.7777777777777778,
              "#fb9f3a"
             ],
             [
              0.8888888888888888,
              "#fdca26"
             ],
             [
              1,
              "#f0f921"
             ]
            ],
            "type": "histogram2d"
           }
          ],
          "histogram2dcontour": [
           {
            "colorbar": {
             "outlinewidth": 0,
             "ticks": ""
            },
            "colorscale": [
             [
              0,
              "#0d0887"
             ],
             [
              0.1111111111111111,
              "#46039f"
             ],
             [
              0.2222222222222222,
              "#7201a8"
             ],
             [
              0.3333333333333333,
              "#9c179e"
             ],
             [
              0.4444444444444444,
              "#bd3786"
             ],
             [
              0.5555555555555556,
              "#d8576b"
             ],
             [
              0.6666666666666666,
              "#ed7953"
             ],
             [
              0.7777777777777778,
              "#fb9f3a"
             ],
             [
              0.8888888888888888,
              "#fdca26"
             ],
             [
              1,
              "#f0f921"
             ]
            ],
            "type": "histogram2dcontour"
           }
          ],
          "mesh3d": [
           {
            "colorbar": {
             "outlinewidth": 0,
             "ticks": ""
            },
            "type": "mesh3d"
           }
          ],
          "parcoords": [
           {
            "line": {
             "colorbar": {
              "outlinewidth": 0,
              "ticks": ""
             }
            },
            "type": "parcoords"
           }
          ],
          "pie": [
           {
            "automargin": true,
            "type": "pie"
           }
          ],
          "scatter": [
           {
            "fillpattern": {
             "fillmode": "overlay",
             "size": 10,
             "solidity": 0.2
            },
            "type": "scatter"
           }
          ],
          "scatter3d": [
           {
            "line": {
             "colorbar": {
              "outlinewidth": 0,
              "ticks": ""
             }
            },
            "marker": {
             "colorbar": {
              "outlinewidth": 0,
              "ticks": ""
             }
            },
            "type": "scatter3d"
           }
          ],
          "scattercarpet": [
           {
            "marker": {
             "colorbar": {
              "outlinewidth": 0,
              "ticks": ""
             }
            },
            "type": "scattercarpet"
           }
          ],
          "scattergeo": [
           {
            "marker": {
             "colorbar": {
              "outlinewidth": 0,
              "ticks": ""
             }
            },
            "type": "scattergeo"
           }
          ],
          "scattergl": [
           {
            "marker": {
             "colorbar": {
              "outlinewidth": 0,
              "ticks": ""
             }
            },
            "type": "scattergl"
           }
          ],
          "scattermap": [
           {
            "marker": {
             "colorbar": {
              "outlinewidth": 0,
              "ticks": ""
             }
            },
            "type": "scattermap"
           }
          ],
          "scattermapbox": [
           {
            "marker": {
             "colorbar": {
              "outlinewidth": 0,
              "ticks": ""
             }
            },
            "type": "scattermapbox"
           }
          ],
          "scatterpolar": [
           {
            "marker": {
             "colorbar": {
              "outlinewidth": 0,
              "ticks": ""
             }
            },
            "type": "scatterpolar"
           }
          ],
          "scatterpolargl": [
           {
            "marker": {
             "colorbar": {
              "outlinewidth": 0,
              "ticks": ""
             }
            },
            "type": "scatterpolargl"
           }
          ],
          "scatterternary": [
           {
            "marker": {
             "colorbar": {
              "outlinewidth": 0,
              "ticks": ""
             }
            },
            "type": "scatterternary"
           }
          ],
          "surface": [
           {
            "colorbar": {
             "outlinewidth": 0,
             "ticks": ""
            },
            "colorscale": [
             [
              0,
              "#0d0887"
             ],
             [
              0.1111111111111111,
              "#46039f"
             ],
             [
              0.2222222222222222,
              "#7201a8"
             ],
             [
              0.3333333333333333,
              "#9c179e"
             ],
             [
              0.4444444444444444,
              "#bd3786"
             ],
             [
              0.5555555555555556,
              "#d8576b"
             ],
             [
              0.6666666666666666,
              "#ed7953"
             ],
             [
              0.7777777777777778,
              "#fb9f3a"
             ],
             [
              0.8888888888888888,
              "#fdca26"
             ],
             [
              1,
              "#f0f921"
             ]
            ],
            "type": "surface"
           }
          ],
          "table": [
           {
            "cells": {
             "fill": {
              "color": "#EBF0F8"
             },
             "line": {
              "color": "white"
             }
            },
            "header": {
             "fill": {
              "color": "#C8D4E3"
             },
             "line": {
              "color": "white"
             }
            },
            "type": "table"
           }
          ]
         },
         "layout": {
          "annotationdefaults": {
           "arrowcolor": "#2a3f5f",
           "arrowhead": 0,
           "arrowwidth": 1
          },
          "autotypenumbers": "strict",
          "coloraxis": {
           "colorbar": {
            "outlinewidth": 0,
            "ticks": ""
           }
          },
          "colorscale": {
           "diverging": [
            [
             0,
             "#8e0152"
            ],
            [
             0.1,
             "#c51b7d"
            ],
            [
             0.2,
             "#de77ae"
            ],
            [
             0.3,
             "#f1b6da"
            ],
            [
             0.4,
             "#fde0ef"
            ],
            [
             0.5,
             "#f7f7f7"
            ],
            [
             0.6,
             "#e6f5d0"
            ],
            [
             0.7,
             "#b8e186"
            ],
            [
             0.8,
             "#7fbc41"
            ],
            [
             0.9,
             "#4d9221"
            ],
            [
             1,
             "#276419"
            ]
           ],
           "sequential": [
            [
             0,
             "#0d0887"
            ],
            [
             0.1111111111111111,
             "#46039f"
            ],
            [
             0.2222222222222222,
             "#7201a8"
            ],
            [
             0.3333333333333333,
             "#9c179e"
            ],
            [
             0.4444444444444444,
             "#bd3786"
            ],
            [
             0.5555555555555556,
             "#d8576b"
            ],
            [
             0.6666666666666666,
             "#ed7953"
            ],
            [
             0.7777777777777778,
             "#fb9f3a"
            ],
            [
             0.8888888888888888,
             "#fdca26"
            ],
            [
             1,
             "#f0f921"
            ]
           ],
           "sequentialminus": [
            [
             0,
             "#0d0887"
            ],
            [
             0.1111111111111111,
             "#46039f"
            ],
            [
             0.2222222222222222,
             "#7201a8"
            ],
            [
             0.3333333333333333,
             "#9c179e"
            ],
            [
             0.4444444444444444,
             "#bd3786"
            ],
            [
             0.5555555555555556,
             "#d8576b"
            ],
            [
             0.6666666666666666,
             "#ed7953"
            ],
            [
             0.7777777777777778,
             "#fb9f3a"
            ],
            [
             0.8888888888888888,
             "#fdca26"
            ],
            [
             1,
             "#f0f921"
            ]
           ]
          },
          "colorway": [
           "#636efa",
           "#EF553B",
           "#00cc96",
           "#ab63fa",
           "#FFA15A",
           "#19d3f3",
           "#FF6692",
           "#B6E880",
           "#FF97FF",
           "#FECB52"
          ],
          "font": {
           "color": "#2a3f5f"
          },
          "geo": {
           "bgcolor": "white",
           "lakecolor": "white",
           "landcolor": "#E5ECF6",
           "showlakes": true,
           "showland": true,
           "subunitcolor": "white"
          },
          "hoverlabel": {
           "align": "left"
          },
          "hovermode": "closest",
          "mapbox": {
           "style": "light"
          },
          "paper_bgcolor": "white",
          "plot_bgcolor": "#E5ECF6",
          "polar": {
           "angularaxis": {
            "gridcolor": "white",
            "linecolor": "white",
            "ticks": ""
           },
           "bgcolor": "#E5ECF6",
           "radialaxis": {
            "gridcolor": "white",
            "linecolor": "white",
            "ticks": ""
           }
          },
          "scene": {
           "xaxis": {
            "backgroundcolor": "#E5ECF6",
            "gridcolor": "white",
            "gridwidth": 2,
            "linecolor": "white",
            "showbackground": true,
            "ticks": "",
            "zerolinecolor": "white"
           },
           "yaxis": {
            "backgroundcolor": "#E5ECF6",
            "gridcolor": "white",
            "gridwidth": 2,
            "linecolor": "white",
            "showbackground": true,
            "ticks": "",
            "zerolinecolor": "white"
           },
           "zaxis": {
            "backgroundcolor": "#E5ECF6",
            "gridcolor": "white",
            "gridwidth": 2,
            "linecolor": "white",
            "showbackground": true,
            "ticks": "",
            "zerolinecolor": "white"
           }
          },
          "shapedefaults": {
           "line": {
            "color": "#2a3f5f"
           }
          },
          "ternary": {
           "aaxis": {
            "gridcolor": "white",
            "linecolor": "white",
            "ticks": ""
           },
           "baxis": {
            "gridcolor": "white",
            "linecolor": "white",
            "ticks": ""
           },
           "bgcolor": "#E5ECF6",
           "caxis": {
            "gridcolor": "white",
            "linecolor": "white",
            "ticks": ""
           }
          },
          "title": {
           "x": 0.05
          },
          "xaxis": {
           "automargin": true,
           "gridcolor": "white",
           "linecolor": "white",
           "ticks": "",
           "title": {
            "standoff": 15
           },
           "zerolinecolor": "white",
           "zerolinewidth": 2
          },
          "yaxis": {
           "automargin": true,
           "gridcolor": "white",
           "linecolor": "white",
           "ticks": "",
           "title": {
            "standoff": 15
           },
           "zerolinecolor": "white",
           "zerolinewidth": 2
          }
         }
        },
        "title": {
         "text": "Train and Test Accuracy for the Best CNN and DNN Models"
        },
        "xaxis": {
         "title": {
          "text": "Model"
         }
        },
        "yaxis": {
         "title": {
          "text": "Accuracy"
         }
        }
       }
      }
     },
     "metadata": {},
     "output_type": "display_data"
    }
   ],
   "source": [
    "# bar plot with train and test accuracy\n",
    "\n",
    "fig = go.Figure()\n",
    "\n",
    "fig.add_trace(go.Bar(\n",
    "    x=[\"CNN\", \"DNN\"],\n",
    "    y=[best_cnn[\"accuracy_train\"].values[0], best_dnn[\"accuracy_train\"].values[0]],\n",
    "    name='Train',\n",
    "    marker_color='#636EFA'\n",
    "))\n",
    "\n",
    "fig.add_trace(go.Bar(\n",
    "    x=[\"CNN\", \"DNN\"],\n",
    "    y=[best_cnn[\"accuracy_test\"].values[0], best_dnn[\"accuracy_test\"].values[0]],\n",
    "    name='Validation',\n",
    "    marker_color='#EF553B'\n",
    "))\n",
    "\n",
    "fig.update_layout(\n",
    "    title='Train and Test Accuracy for the Best CNN and DNN Models',\n",
    "    barmode='group',\n",
    "    xaxis_title='Model',\n",
    "    yaxis_title='Accuracy',\n",
    "    showlegend=True\n",
    ")\n",
    "\n",
    "fig.show()"
   ]
  },
  {
   "cell_type": "code",
   "execution_count": 15,
   "metadata": {},
   "outputs": [
    {
     "data": {
      "application/vnd.plotly.v1+json": {
       "config": {
        "plotlyServerURL": "https://plot.ly"
       },
       "data": [
        {
         "marker": {
          "color": "#636EFA"
         },
         "name": "Train",
         "type": "bar",
         "x": [
          "CNN",
          "DNN"
         ],
         "y": [
          0.973445018550672,
          0.5411958702807196
         ]
        },
        {
         "marker": {
          "color": "#EF553B"
         },
         "name": "Validation",
         "type": "bar",
         "x": [
          "CNN",
          "DNN"
         ],
         "y": [
          0.6540554126168762,
          0.49206776874351155
         ]
        }
       ],
       "layout": {
        "barmode": "group",
        "showlegend": true,
        "template": {
         "data": {
          "bar": [
           {
            "error_x": {
             "color": "#2a3f5f"
            },
            "error_y": {
             "color": "#2a3f5f"
            },
            "marker": {
             "line": {
              "color": "#E5ECF6",
              "width": 0.5
             },
             "pattern": {
              "fillmode": "overlay",
              "size": 10,
              "solidity": 0.2
             }
            },
            "type": "bar"
           }
          ],
          "barpolar": [
           {
            "marker": {
             "line": {
              "color": "#E5ECF6",
              "width": 0.5
             },
             "pattern": {
              "fillmode": "overlay",
              "size": 10,
              "solidity": 0.2
             }
            },
            "type": "barpolar"
           }
          ],
          "carpet": [
           {
            "aaxis": {
             "endlinecolor": "#2a3f5f",
             "gridcolor": "white",
             "linecolor": "white",
             "minorgridcolor": "white",
             "startlinecolor": "#2a3f5f"
            },
            "baxis": {
             "endlinecolor": "#2a3f5f",
             "gridcolor": "white",
             "linecolor": "white",
             "minorgridcolor": "white",
             "startlinecolor": "#2a3f5f"
            },
            "type": "carpet"
           }
          ],
          "choropleth": [
           {
            "colorbar": {
             "outlinewidth": 0,
             "ticks": ""
            },
            "type": "choropleth"
           }
          ],
          "contour": [
           {
            "colorbar": {
             "outlinewidth": 0,
             "ticks": ""
            },
            "colorscale": [
             [
              0,
              "#0d0887"
             ],
             [
              0.1111111111111111,
              "#46039f"
             ],
             [
              0.2222222222222222,
              "#7201a8"
             ],
             [
              0.3333333333333333,
              "#9c179e"
             ],
             [
              0.4444444444444444,
              "#bd3786"
             ],
             [
              0.5555555555555556,
              "#d8576b"
             ],
             [
              0.6666666666666666,
              "#ed7953"
             ],
             [
              0.7777777777777778,
              "#fb9f3a"
             ],
             [
              0.8888888888888888,
              "#fdca26"
             ],
             [
              1,
              "#f0f921"
             ]
            ],
            "type": "contour"
           }
          ],
          "contourcarpet": [
           {
            "colorbar": {
             "outlinewidth": 0,
             "ticks": ""
            },
            "type": "contourcarpet"
           }
          ],
          "heatmap": [
           {
            "colorbar": {
             "outlinewidth": 0,
             "ticks": ""
            },
            "colorscale": [
             [
              0,
              "#0d0887"
             ],
             [
              0.1111111111111111,
              "#46039f"
             ],
             [
              0.2222222222222222,
              "#7201a8"
             ],
             [
              0.3333333333333333,
              "#9c179e"
             ],
             [
              0.4444444444444444,
              "#bd3786"
             ],
             [
              0.5555555555555556,
              "#d8576b"
             ],
             [
              0.6666666666666666,
              "#ed7953"
             ],
             [
              0.7777777777777778,
              "#fb9f3a"
             ],
             [
              0.8888888888888888,
              "#fdca26"
             ],
             [
              1,
              "#f0f921"
             ]
            ],
            "type": "heatmap"
           }
          ],
          "histogram": [
           {
            "marker": {
             "pattern": {
              "fillmode": "overlay",
              "size": 10,
              "solidity": 0.2
             }
            },
            "type": "histogram"
           }
          ],
          "histogram2d": [
           {
            "colorbar": {
             "outlinewidth": 0,
             "ticks": ""
            },
            "colorscale": [
             [
              0,
              "#0d0887"
             ],
             [
              0.1111111111111111,
              "#46039f"
             ],
             [
              0.2222222222222222,
              "#7201a8"
             ],
             [
              0.3333333333333333,
              "#9c179e"
             ],
             [
              0.4444444444444444,
              "#bd3786"
             ],
             [
              0.5555555555555556,
              "#d8576b"
             ],
             [
              0.6666666666666666,
              "#ed7953"
             ],
             [
              0.7777777777777778,
              "#fb9f3a"
             ],
             [
              0.8888888888888888,
              "#fdca26"
             ],
             [
              1,
              "#f0f921"
             ]
            ],
            "type": "histogram2d"
           }
          ],
          "histogram2dcontour": [
           {
            "colorbar": {
             "outlinewidth": 0,
             "ticks": ""
            },
            "colorscale": [
             [
              0,
              "#0d0887"
             ],
             [
              0.1111111111111111,
              "#46039f"
             ],
             [
              0.2222222222222222,
              "#7201a8"
             ],
             [
              0.3333333333333333,
              "#9c179e"
             ],
             [
              0.4444444444444444,
              "#bd3786"
             ],
             [
              0.5555555555555556,
              "#d8576b"
             ],
             [
              0.6666666666666666,
              "#ed7953"
             ],
             [
              0.7777777777777778,
              "#fb9f3a"
             ],
             [
              0.8888888888888888,
              "#fdca26"
             ],
             [
              1,
              "#f0f921"
             ]
            ],
            "type": "histogram2dcontour"
           }
          ],
          "mesh3d": [
           {
            "colorbar": {
             "outlinewidth": 0,
             "ticks": ""
            },
            "type": "mesh3d"
           }
          ],
          "parcoords": [
           {
            "line": {
             "colorbar": {
              "outlinewidth": 0,
              "ticks": ""
             }
            },
            "type": "parcoords"
           }
          ],
          "pie": [
           {
            "automargin": true,
            "type": "pie"
           }
          ],
          "scatter": [
           {
            "fillpattern": {
             "fillmode": "overlay",
             "size": 10,
             "solidity": 0.2
            },
            "type": "scatter"
           }
          ],
          "scatter3d": [
           {
            "line": {
             "colorbar": {
              "outlinewidth": 0,
              "ticks": ""
             }
            },
            "marker": {
             "colorbar": {
              "outlinewidth": 0,
              "ticks": ""
             }
            },
            "type": "scatter3d"
           }
          ],
          "scattercarpet": [
           {
            "marker": {
             "colorbar": {
              "outlinewidth": 0,
              "ticks": ""
             }
            },
            "type": "scattercarpet"
           }
          ],
          "scattergeo": [
           {
            "marker": {
             "colorbar": {
              "outlinewidth": 0,
              "ticks": ""
             }
            },
            "type": "scattergeo"
           }
          ],
          "scattergl": [
           {
            "marker": {
             "colorbar": {
              "outlinewidth": 0,
              "ticks": ""
             }
            },
            "type": "scattergl"
           }
          ],
          "scattermap": [
           {
            "marker": {
             "colorbar": {
              "outlinewidth": 0,
              "ticks": ""
             }
            },
            "type": "scattermap"
           }
          ],
          "scattermapbox": [
           {
            "marker": {
             "colorbar": {
              "outlinewidth": 0,
              "ticks": ""
             }
            },
            "type": "scattermapbox"
           }
          ],
          "scatterpolar": [
           {
            "marker": {
             "colorbar": {
              "outlinewidth": 0,
              "ticks": ""
             }
            },
            "type": "scatterpolar"
           }
          ],
          "scatterpolargl": [
           {
            "marker": {
             "colorbar": {
              "outlinewidth": 0,
              "ticks": ""
             }
            },
            "type": "scatterpolargl"
           }
          ],
          "scatterternary": [
           {
            "marker": {
             "colorbar": {
              "outlinewidth": 0,
              "ticks": ""
             }
            },
            "type": "scatterternary"
           }
          ],
          "surface": [
           {
            "colorbar": {
             "outlinewidth": 0,
             "ticks": ""
            },
            "colorscale": [
             [
              0,
              "#0d0887"
             ],
             [
              0.1111111111111111,
              "#46039f"
             ],
             [
              0.2222222222222222,
              "#7201a8"
             ],
             [
              0.3333333333333333,
              "#9c179e"
             ],
             [
              0.4444444444444444,
              "#bd3786"
             ],
             [
              0.5555555555555556,
              "#d8576b"
             ],
             [
              0.6666666666666666,
              "#ed7953"
             ],
             [
              0.7777777777777778,
              "#fb9f3a"
             ],
             [
              0.8888888888888888,
              "#fdca26"
             ],
             [
              1,
              "#f0f921"
             ]
            ],
            "type": "surface"
           }
          ],
          "table": [
           {
            "cells": {
             "fill": {
              "color": "#EBF0F8"
             },
             "line": {
              "color": "white"
             }
            },
            "header": {
             "fill": {
              "color": "#C8D4E3"
             },
             "line": {
              "color": "white"
             }
            },
            "type": "table"
           }
          ]
         },
         "layout": {
          "annotationdefaults": {
           "arrowcolor": "#2a3f5f",
           "arrowhead": 0,
           "arrowwidth": 1
          },
          "autotypenumbers": "strict",
          "coloraxis": {
           "colorbar": {
            "outlinewidth": 0,
            "ticks": ""
           }
          },
          "colorscale": {
           "diverging": [
            [
             0,
             "#8e0152"
            ],
            [
             0.1,
             "#c51b7d"
            ],
            [
             0.2,
             "#de77ae"
            ],
            [
             0.3,
             "#f1b6da"
            ],
            [
             0.4,
             "#fde0ef"
            ],
            [
             0.5,
             "#f7f7f7"
            ],
            [
             0.6,
             "#e6f5d0"
            ],
            [
             0.7,
             "#b8e186"
            ],
            [
             0.8,
             "#7fbc41"
            ],
            [
             0.9,
             "#4d9221"
            ],
            [
             1,
             "#276419"
            ]
           ],
           "sequential": [
            [
             0,
             "#0d0887"
            ],
            [
             0.1111111111111111,
             "#46039f"
            ],
            [
             0.2222222222222222,
             "#7201a8"
            ],
            [
             0.3333333333333333,
             "#9c179e"
            ],
            [
             0.4444444444444444,
             "#bd3786"
            ],
            [
             0.5555555555555556,
             "#d8576b"
            ],
            [
             0.6666666666666666,
             "#ed7953"
            ],
            [
             0.7777777777777778,
             "#fb9f3a"
            ],
            [
             0.8888888888888888,
             "#fdca26"
            ],
            [
             1,
             "#f0f921"
            ]
           ],
           "sequentialminus": [
            [
             0,
             "#0d0887"
            ],
            [
             0.1111111111111111,
             "#46039f"
            ],
            [
             0.2222222222222222,
             "#7201a8"
            ],
            [
             0.3333333333333333,
             "#9c179e"
            ],
            [
             0.4444444444444444,
             "#bd3786"
            ],
            [
             0.5555555555555556,
             "#d8576b"
            ],
            [
             0.6666666666666666,
             "#ed7953"
            ],
            [
             0.7777777777777778,
             "#fb9f3a"
            ],
            [
             0.8888888888888888,
             "#fdca26"
            ],
            [
             1,
             "#f0f921"
            ]
           ]
          },
          "colorway": [
           "#636efa",
           "#EF553B",
           "#00cc96",
           "#ab63fa",
           "#FFA15A",
           "#19d3f3",
           "#FF6692",
           "#B6E880",
           "#FF97FF",
           "#FECB52"
          ],
          "font": {
           "color": "#2a3f5f"
          },
          "geo": {
           "bgcolor": "white",
           "lakecolor": "white",
           "landcolor": "#E5ECF6",
           "showlakes": true,
           "showland": true,
           "subunitcolor": "white"
          },
          "hoverlabel": {
           "align": "left"
          },
          "hovermode": "closest",
          "mapbox": {
           "style": "light"
          },
          "paper_bgcolor": "white",
          "plot_bgcolor": "#E5ECF6",
          "polar": {
           "angularaxis": {
            "gridcolor": "white",
            "linecolor": "white",
            "ticks": ""
           },
           "bgcolor": "#E5ECF6",
           "radialaxis": {
            "gridcolor": "white",
            "linecolor": "white",
            "ticks": ""
           }
          },
          "scene": {
           "xaxis": {
            "backgroundcolor": "#E5ECF6",
            "gridcolor": "white",
            "gridwidth": 2,
            "linecolor": "white",
            "showbackground": true,
            "ticks": "",
            "zerolinecolor": "white"
           },
           "yaxis": {
            "backgroundcolor": "#E5ECF6",
            "gridcolor": "white",
            "gridwidth": 2,
            "linecolor": "white",
            "showbackground": true,
            "ticks": "",
            "zerolinecolor": "white"
           },
           "zaxis": {
            "backgroundcolor": "#E5ECF6",
            "gridcolor": "white",
            "gridwidth": 2,
            "linecolor": "white",
            "showbackground": true,
            "ticks": "",
            "zerolinecolor": "white"
           }
          },
          "shapedefaults": {
           "line": {
            "color": "#2a3f5f"
           }
          },
          "ternary": {
           "aaxis": {
            "gridcolor": "white",
            "linecolor": "white",
            "ticks": ""
           },
           "baxis": {
            "gridcolor": "white",
            "linecolor": "white",
            "ticks": ""
           },
           "bgcolor": "#E5ECF6",
           "caxis": {
            "gridcolor": "white",
            "linecolor": "white",
            "ticks": ""
           }
          },
          "title": {
           "x": 0.05
          },
          "xaxis": {
           "automargin": true,
           "gridcolor": "white",
           "linecolor": "white",
           "ticks": "",
           "title": {
            "standoff": 15
           },
           "zerolinecolor": "white",
           "zerolinewidth": 2
          },
          "yaxis": {
           "automargin": true,
           "gridcolor": "white",
           "linecolor": "white",
           "ticks": "",
           "title": {
            "standoff": 15
           },
           "zerolinecolor": "white",
           "zerolinewidth": 2
          }
         }
        },
        "title": {
         "text": "Train and Test Accuracy for the Best CNN and DNN Models"
        },
        "xaxis": {
         "title": {
          "text": "Model"
         }
        },
        "yaxis": {
         "title": {
          "text": "Accuracy"
         }
        }
       }
      }
     },
     "metadata": {},
     "output_type": "display_data"
    }
   ],
   "source": [
    "# bar plot with train and test accuracy\n",
    "\n",
    "fig = go.Figure()\n",
    "\n",
    "fig.add_trace(go.Bar(\n",
    "    x=[\"CNN\", \"DNN\"],\n",
    "    y=[best_cnn[\"f1_train_average\"].values[0], best_dnn[\"f1_train_average\"].values[0]],\n",
    "    name='Train',\n",
    "    marker_color='#636EFA'\n",
    "))\n",
    "\n",
    "fig.add_trace(go.Bar(\n",
    "    x=[\"CNN\", \"DNN\"],\n",
    "    y=[best_cnn[\"f1_test_average\"].values[0], best_dnn[\"f1_test_average\"].values[0]],\n",
    "    name='Validation',\n",
    "    marker_color='#EF553B'\n",
    "))\n",
    "\n",
    "fig.update_layout(\n",
    "    title='Train and Test Accuracy for the Best CNN and DNN Models',\n",
    "    barmode='group',\n",
    "    xaxis_title='Model',\n",
    "    yaxis_title='Accuracy',\n",
    "    showlegend=True\n",
    ")\n",
    "\n",
    "fig.show()"
   ]
  },
  {
   "cell_type": "markdown",
   "metadata": {},
   "source": [
    "# FIXING ATTEMPTS"
   ]
  },
  {
   "cell_type": "markdown",
   "metadata": {},
   "source": [
    "## Early Stopping"
   ]
  },
  {
   "cell_type": "code",
   "execution_count": 16,
   "metadata": {},
   "outputs": [],
   "source": [
    "data_cnn_early_stopping = pd.read_json('results_cnn_early.json').T\n",
    "#data_cnn_early_stopping"
   ]
  },
  {
   "cell_type": "code",
   "execution_count": 17,
   "metadata": {},
   "outputs": [],
   "source": [
    "metrics_early = get_metrics(data_cnn_early_stopping)"
   ]
  },
  {
   "cell_type": "code",
   "execution_count": 18,
   "metadata": {},
   "outputs": [
    {
     "data": {
      "text/plain": [
       "(np.float64(0.6309427591407378), np.float64(0.8425808460199662))"
      ]
     },
     "execution_count": 18,
     "metadata": {},
     "output_type": "execute_result"
    }
   ],
   "source": [
    "max_f1_train = metrics_early[\"f1_train_average\"].max()\n",
    "max_f1_test = metrics_early[\"f1_test_average\"].max()\n",
    "\n",
    "max_f1_test, max_f1_train"
   ]
  },
  {
   "cell_type": "markdown",
   "metadata": {},
   "source": [
    "## No Data Augmentation"
   ]
  },
  {
   "cell_type": "code",
   "execution_count": 19,
   "metadata": {},
   "outputs": [],
   "source": [
    "data_no_aug_cnn = pd.read_json('../results_original/results_cnn.json').T\n",
    "\n",
    "#data_no_aug_cnn"
   ]
  },
  {
   "cell_type": "code",
   "execution_count": 20,
   "metadata": {},
   "outputs": [],
   "source": [
    "import ast\n",
    "\n",
    "results_all = []\n",
    "j = 0\n",
    "\n",
    "for i, row in data_no_aug_cnn.iterrows():\n",
    "\n",
    "    conf_mat_train = np.array(row[\"confusion_matrix_train\"])\n",
    "    conf_mat_test = np.array(row[\"confusion_matrix_val\"])\n",
    "\n",
    "    total_train = conf_mat_train.sum()\n",
    "    total_test = conf_mat_test.sum()\n",
    "\n",
    "    accuracy_train = conf_mat_train.diagonal().sum() / total_train if total_train > 0 else 0\n",
    "    accuracy_test = conf_mat_test.diagonal().sum() / total_test if total_test > 0 else 0\n",
    "\n",
    "    # Compute recall and precision (per class)\n",
    "    recall_train = np.array([\n",
    "        conf_mat_train[i, i] / conf_mat_train[i, :].sum() if conf_mat_train[i, :].sum() > 0 else 0\n",
    "        for i in range(7)\n",
    "    ])\n",
    "    recall_test = np.array([\n",
    "        conf_mat_test[i, i] / conf_mat_test[i, :].sum() if conf_mat_test[i, :].sum() > 0 else 0\n",
    "        for i in range(7)\n",
    "    ])\n",
    "\n",
    "    precision_train = np.array([\n",
    "        conf_mat_train[i, i] / conf_mat_train[:, i].sum() if conf_mat_train[:, i].sum() > 0 else 0\n",
    "        for i in range(7)\n",
    "    ])\n",
    "    precision_test = np.array([\n",
    "        conf_mat_test[i, i] / conf_mat_test[:, i].sum() if conf_mat_test[:, i].sum() > 0 else 0\n",
    "        for i in range(7)\n",
    "    ])\n",
    "\n",
    "    average_recall_train = np.mean(recall_train)\n",
    "    average_precision_train = np.mean(precision_train)\n",
    "\n",
    "    average_recall_test = np.mean(recall_test)\n",
    "    average_precision_test = np.mean(precision_test)\n",
    "\n",
    "    f1_score_train = 2 * (average_precision_train * average_recall_train) / (average_precision_train + average_recall_train)\n",
    "    f1_score_test  = 2 * (average_precision_test  * average_recall_test)  / (average_precision_test  + average_recall_test)\n",
    "\n",
    "    results_all.append({\n",
    "        \"iteration\": j,\n",
    "        \"accuracy_train\": accuracy_train,\n",
    "        \"accuracy_test\": accuracy_test,\n",
    "        \"recall_train\": recall_train.tolist(),\n",
    "        \"recall_test\": recall_test.tolist(),\n",
    "        \"averaged_recall_train\": average_precision_train,\n",
    "        \"averaged_recall_test\": average_recall_test,\n",
    "        \"precision_train\": precision_train,\n",
    "        \"precision_test\": precision_test,\n",
    "        \"averaged_precision_train\": average_precision_train,\n",
    "        \"averaged_precision_test\": average_precision_test,\n",
    "        \"f1_score_train\": f1_score_train,\n",
    "        \"f1_score_test\": f1_score_test,\n",
    "        \"confusion_matrix_train\": conf_mat_train,\n",
    "        \"confusion_matrix_test\": conf_mat_test,\n",
    "    })\n",
    "    \n",
    "    j += 1\n",
    "\n",
    "metrics_cnn_no_aug = pd.DataFrame(results_all)\n",
    "#metrics_cnn_no_aug"
   ]
  },
  {
   "cell_type": "code",
   "execution_count": 21,
   "metadata": {},
   "outputs": [
    {
     "data": {
      "text/plain": [
       "(np.float64(0.5139272775997877), np.float64(0.9076493479959407))"
      ]
     },
     "execution_count": 21,
     "metadata": {},
     "output_type": "execute_result"
    }
   ],
   "source": [
    "max_f1_train = metrics_cnn_no_aug[\"f1_score_train\"].max()\n",
    "max_f1_test = metrics_cnn_no_aug[\"f1_score_test\"].max()\n",
    "\n",
    "max_f1_test, max_f1_train"
   ]
  },
  {
   "cell_type": "code",
   "execution_count": 22,
   "metadata": {},
   "outputs": [
    {
     "data": {
      "application/vnd.plotly.v1+json": {
       "config": {
        "plotlyServerURL": "https://plot.ly"
       },
       "data": [
        {
         "colorscale": [
          [
           0,
           "#440154"
          ],
          [
           0.1111111111111111,
           "#482878"
          ],
          [
           0.2222222222222222,
           "#3e4989"
          ],
          [
           0.3333333333333333,
           "#31688e"
          ],
          [
           0.4444444444444444,
           "#26828e"
          ],
          [
           0.5555555555555556,
           "#1f9e89"
          ],
          [
           0.6666666666666666,
           "#35b779"
          ],
          [
           0.7777777777777778,
           "#6ece58"
          ],
          [
           0.8888888888888888,
           "#b5de2b"
          ],
          [
           1,
           "#fde725"
          ]
         ],
         "showscale": true,
         "text": [
          [
           "202",
           "4",
           "8",
           "0",
           "5",
           "9",
           "0"
          ],
          [
           "7",
           "293",
           "11",
           "5",
           "5",
           "37",
           "1"
          ],
          [
           "5",
           "0",
           "635",
           "2",
           "18",
           "109",
           "0"
          ],
          [
           "1",
           "2",
           "2",
           "61",
           "1",
           "13",
           "0"
          ],
          [
           "3",
           "1",
           "6",
           "1",
           "696",
           "72",
           "0"
          ],
          [
           "0",
           "5",
           "22",
           "2",
           "38",
           "4626",
           "0"
          ],
          [
           "0",
           "0",
           "0",
           "0",
           "0",
           "5",
           "94"
          ]
         ],
         "texttemplate": "%{text}",
         "type": "heatmap",
         "x": [
          "Class 0",
          "Class 1",
          "Class 2",
          "Class 3",
          "Class 4",
          "Class 5",
          "Class 6"
         ],
         "y": [
          "Class 0",
          "Class 1",
          "Class 2",
          "Class 3",
          "Class 4",
          "Class 5",
          "Class 6"
         ],
         "z": {
          "bdata": "ygAEAAgAAAAFAAkAAAAHACUBCwAFAAUAJQABAAUAAAB7AgIAEgBtAAAAAQACAAIAPQABAA0AAAADAAEABgABALgCSAAAAAAABQAWAAIAJgASEgAAAAAAAAAAAAAAAAUAXgA=",
          "dtype": "i2",
          "shape": "7, 7"
         }
        }
       ],
       "layout": {
        "height": 600,
        "template": {
         "data": {
          "bar": [
           {
            "error_x": {
             "color": "#2a3f5f"
            },
            "error_y": {
             "color": "#2a3f5f"
            },
            "marker": {
             "line": {
              "color": "#E5ECF6",
              "width": 0.5
             },
             "pattern": {
              "fillmode": "overlay",
              "size": 10,
              "solidity": 0.2
             }
            },
            "type": "bar"
           }
          ],
          "barpolar": [
           {
            "marker": {
             "line": {
              "color": "#E5ECF6",
              "width": 0.5
             },
             "pattern": {
              "fillmode": "overlay",
              "size": 10,
              "solidity": 0.2
             }
            },
            "type": "barpolar"
           }
          ],
          "carpet": [
           {
            "aaxis": {
             "endlinecolor": "#2a3f5f",
             "gridcolor": "white",
             "linecolor": "white",
             "minorgridcolor": "white",
             "startlinecolor": "#2a3f5f"
            },
            "baxis": {
             "endlinecolor": "#2a3f5f",
             "gridcolor": "white",
             "linecolor": "white",
             "minorgridcolor": "white",
             "startlinecolor": "#2a3f5f"
            },
            "type": "carpet"
           }
          ],
          "choropleth": [
           {
            "colorbar": {
             "outlinewidth": 0,
             "ticks": ""
            },
            "type": "choropleth"
           }
          ],
          "contour": [
           {
            "colorbar": {
             "outlinewidth": 0,
             "ticks": ""
            },
            "colorscale": [
             [
              0,
              "#0d0887"
             ],
             [
              0.1111111111111111,
              "#46039f"
             ],
             [
              0.2222222222222222,
              "#7201a8"
             ],
             [
              0.3333333333333333,
              "#9c179e"
             ],
             [
              0.4444444444444444,
              "#bd3786"
             ],
             [
              0.5555555555555556,
              "#d8576b"
             ],
             [
              0.6666666666666666,
              "#ed7953"
             ],
             [
              0.7777777777777778,
              "#fb9f3a"
             ],
             [
              0.8888888888888888,
              "#fdca26"
             ],
             [
              1,
              "#f0f921"
             ]
            ],
            "type": "contour"
           }
          ],
          "contourcarpet": [
           {
            "colorbar": {
             "outlinewidth": 0,
             "ticks": ""
            },
            "type": "contourcarpet"
           }
          ],
          "heatmap": [
           {
            "colorbar": {
             "outlinewidth": 0,
             "ticks": ""
            },
            "colorscale": [
             [
              0,
              "#0d0887"
             ],
             [
              0.1111111111111111,
              "#46039f"
             ],
             [
              0.2222222222222222,
              "#7201a8"
             ],
             [
              0.3333333333333333,
              "#9c179e"
             ],
             [
              0.4444444444444444,
              "#bd3786"
             ],
             [
              0.5555555555555556,
              "#d8576b"
             ],
             [
              0.6666666666666666,
              "#ed7953"
             ],
             [
              0.7777777777777778,
              "#fb9f3a"
             ],
             [
              0.8888888888888888,
              "#fdca26"
             ],
             [
              1,
              "#f0f921"
             ]
            ],
            "type": "heatmap"
           }
          ],
          "histogram": [
           {
            "marker": {
             "pattern": {
              "fillmode": "overlay",
              "size": 10,
              "solidity": 0.2
             }
            },
            "type": "histogram"
           }
          ],
          "histogram2d": [
           {
            "colorbar": {
             "outlinewidth": 0,
             "ticks": ""
            },
            "colorscale": [
             [
              0,
              "#0d0887"
             ],
             [
              0.1111111111111111,
              "#46039f"
             ],
             [
              0.2222222222222222,
              "#7201a8"
             ],
             [
              0.3333333333333333,
              "#9c179e"
             ],
             [
              0.4444444444444444,
              "#bd3786"
             ],
             [
              0.5555555555555556,
              "#d8576b"
             ],
             [
              0.6666666666666666,
              "#ed7953"
             ],
             [
              0.7777777777777778,
              "#fb9f3a"
             ],
             [
              0.8888888888888888,
              "#fdca26"
             ],
             [
              1,
              "#f0f921"
             ]
            ],
            "type": "histogram2d"
           }
          ],
          "histogram2dcontour": [
           {
            "colorbar": {
             "outlinewidth": 0,
             "ticks": ""
            },
            "colorscale": [
             [
              0,
              "#0d0887"
             ],
             [
              0.1111111111111111,
              "#46039f"
             ],
             [
              0.2222222222222222,
              "#7201a8"
             ],
             [
              0.3333333333333333,
              "#9c179e"
             ],
             [
              0.4444444444444444,
              "#bd3786"
             ],
             [
              0.5555555555555556,
              "#d8576b"
             ],
             [
              0.6666666666666666,
              "#ed7953"
             ],
             [
              0.7777777777777778,
              "#fb9f3a"
             ],
             [
              0.8888888888888888,
              "#fdca26"
             ],
             [
              1,
              "#f0f921"
             ]
            ],
            "type": "histogram2dcontour"
           }
          ],
          "mesh3d": [
           {
            "colorbar": {
             "outlinewidth": 0,
             "ticks": ""
            },
            "type": "mesh3d"
           }
          ],
          "parcoords": [
           {
            "line": {
             "colorbar": {
              "outlinewidth": 0,
              "ticks": ""
             }
            },
            "type": "parcoords"
           }
          ],
          "pie": [
           {
            "automargin": true,
            "type": "pie"
           }
          ],
          "scatter": [
           {
            "fillpattern": {
             "fillmode": "overlay",
             "size": 10,
             "solidity": 0.2
            },
            "type": "scatter"
           }
          ],
          "scatter3d": [
           {
            "line": {
             "colorbar": {
              "outlinewidth": 0,
              "ticks": ""
             }
            },
            "marker": {
             "colorbar": {
              "outlinewidth": 0,
              "ticks": ""
             }
            },
            "type": "scatter3d"
           }
          ],
          "scattercarpet": [
           {
            "marker": {
             "colorbar": {
              "outlinewidth": 0,
              "ticks": ""
             }
            },
            "type": "scattercarpet"
           }
          ],
          "scattergeo": [
           {
            "marker": {
             "colorbar": {
              "outlinewidth": 0,
              "ticks": ""
             }
            },
            "type": "scattergeo"
           }
          ],
          "scattergl": [
           {
            "marker": {
             "colorbar": {
              "outlinewidth": 0,
              "ticks": ""
             }
            },
            "type": "scattergl"
           }
          ],
          "scattermap": [
           {
            "marker": {
             "colorbar": {
              "outlinewidth": 0,
              "ticks": ""
             }
            },
            "type": "scattermap"
           }
          ],
          "scattermapbox": [
           {
            "marker": {
             "colorbar": {
              "outlinewidth": 0,
              "ticks": ""
             }
            },
            "type": "scattermapbox"
           }
          ],
          "scatterpolar": [
           {
            "marker": {
             "colorbar": {
              "outlinewidth": 0,
              "ticks": ""
             }
            },
            "type": "scatterpolar"
           }
          ],
          "scatterpolargl": [
           {
            "marker": {
             "colorbar": {
              "outlinewidth": 0,
              "ticks": ""
             }
            },
            "type": "scatterpolargl"
           }
          ],
          "scatterternary": [
           {
            "marker": {
             "colorbar": {
              "outlinewidth": 0,
              "ticks": ""
             }
            },
            "type": "scatterternary"
           }
          ],
          "surface": [
           {
            "colorbar": {
             "outlinewidth": 0,
             "ticks": ""
            },
            "colorscale": [
             [
              0,
              "#0d0887"
             ],
             [
              0.1111111111111111,
              "#46039f"
             ],
             [
              0.2222222222222222,
              "#7201a8"
             ],
             [
              0.3333333333333333,
              "#9c179e"
             ],
             [
              0.4444444444444444,
              "#bd3786"
             ],
             [
              0.5555555555555556,
              "#d8576b"
             ],
             [
              0.6666666666666666,
              "#ed7953"
             ],
             [
              0.7777777777777778,
              "#fb9f3a"
             ],
             [
              0.8888888888888888,
              "#fdca26"
             ],
             [
              1,
              "#f0f921"
             ]
            ],
            "type": "surface"
           }
          ],
          "table": [
           {
            "cells": {
             "fill": {
              "color": "#EBF0F8"
             },
             "line": {
              "color": "white"
             }
            },
            "header": {
             "fill": {
              "color": "#C8D4E3"
             },
             "line": {
              "color": "white"
             }
            },
            "type": "table"
           }
          ]
         },
         "layout": {
          "annotationdefaults": {
           "arrowcolor": "#2a3f5f",
           "arrowhead": 0,
           "arrowwidth": 1
          },
          "autotypenumbers": "strict",
          "coloraxis": {
           "colorbar": {
            "outlinewidth": 0,
            "ticks": ""
           }
          },
          "colorscale": {
           "diverging": [
            [
             0,
             "#8e0152"
            ],
            [
             0.1,
             "#c51b7d"
            ],
            [
             0.2,
             "#de77ae"
            ],
            [
             0.3,
             "#f1b6da"
            ],
            [
             0.4,
             "#fde0ef"
            ],
            [
             0.5,
             "#f7f7f7"
            ],
            [
             0.6,
             "#e6f5d0"
            ],
            [
             0.7,
             "#b8e186"
            ],
            [
             0.8,
             "#7fbc41"
            ],
            [
             0.9,
             "#4d9221"
            ],
            [
             1,
             "#276419"
            ]
           ],
           "sequential": [
            [
             0,
             "#0d0887"
            ],
            [
             0.1111111111111111,
             "#46039f"
            ],
            [
             0.2222222222222222,
             "#7201a8"
            ],
            [
             0.3333333333333333,
             "#9c179e"
            ],
            [
             0.4444444444444444,
             "#bd3786"
            ],
            [
             0.5555555555555556,
             "#d8576b"
            ],
            [
             0.6666666666666666,
             "#ed7953"
            ],
            [
             0.7777777777777778,
             "#fb9f3a"
            ],
            [
             0.8888888888888888,
             "#fdca26"
            ],
            [
             1,
             "#f0f921"
            ]
           ],
           "sequentialminus": [
            [
             0,
             "#0d0887"
            ],
            [
             0.1111111111111111,
             "#46039f"
            ],
            [
             0.2222222222222222,
             "#7201a8"
            ],
            [
             0.3333333333333333,
             "#9c179e"
            ],
            [
             0.4444444444444444,
             "#bd3786"
            ],
            [
             0.5555555555555556,
             "#d8576b"
            ],
            [
             0.6666666666666666,
             "#ed7953"
            ],
            [
             0.7777777777777778,
             "#fb9f3a"
            ],
            [
             0.8888888888888888,
             "#fdca26"
            ],
            [
             1,
             "#f0f921"
            ]
           ]
          },
          "colorway": [
           "#636efa",
           "#EF553B",
           "#00cc96",
           "#ab63fa",
           "#FFA15A",
           "#19d3f3",
           "#FF6692",
           "#B6E880",
           "#FF97FF",
           "#FECB52"
          ],
          "font": {
           "color": "#2a3f5f"
          },
          "geo": {
           "bgcolor": "white",
           "lakecolor": "white",
           "landcolor": "#E5ECF6",
           "showlakes": true,
           "showland": true,
           "subunitcolor": "white"
          },
          "hoverlabel": {
           "align": "left"
          },
          "hovermode": "closest",
          "mapbox": {
           "style": "light"
          },
          "paper_bgcolor": "white",
          "plot_bgcolor": "#E5ECF6",
          "polar": {
           "angularaxis": {
            "gridcolor": "white",
            "linecolor": "white",
            "ticks": ""
           },
           "bgcolor": "#E5ECF6",
           "radialaxis": {
            "gridcolor": "white",
            "linecolor": "white",
            "ticks": ""
           }
          },
          "scene": {
           "xaxis": {
            "backgroundcolor": "#E5ECF6",
            "gridcolor": "white",
            "gridwidth": 2,
            "linecolor": "white",
            "showbackground": true,
            "ticks": "",
            "zerolinecolor": "white"
           },
           "yaxis": {
            "backgroundcolor": "#E5ECF6",
            "gridcolor": "white",
            "gridwidth": 2,
            "linecolor": "white",
            "showbackground": true,
            "ticks": "",
            "zerolinecolor": "white"
           },
           "zaxis": {
            "backgroundcolor": "#E5ECF6",
            "gridcolor": "white",
            "gridwidth": 2,
            "linecolor": "white",
            "showbackground": true,
            "ticks": "",
            "zerolinecolor": "white"
           }
          },
          "shapedefaults": {
           "line": {
            "color": "#2a3f5f"
           }
          },
          "ternary": {
           "aaxis": {
            "gridcolor": "white",
            "linecolor": "white",
            "ticks": ""
           },
           "baxis": {
            "gridcolor": "white",
            "linecolor": "white",
            "ticks": ""
           },
           "bgcolor": "#E5ECF6",
           "caxis": {
            "gridcolor": "white",
            "linecolor": "white",
            "ticks": ""
           }
          },
          "title": {
           "x": 0.05
          },
          "xaxis": {
           "automargin": true,
           "gridcolor": "white",
           "linecolor": "white",
           "ticks": "",
           "title": {
            "standoff": 15
           },
           "zerolinecolor": "white",
           "zerolinewidth": 2
          },
          "yaxis": {
           "automargin": true,
           "gridcolor": "white",
           "linecolor": "white",
           "ticks": "",
           "title": {
            "standoff": 15
           },
           "zerolinecolor": "white",
           "zerolinewidth": 2
          }
         }
        },
        "title": {
         "text": "Confusion Matrix (Train)"
        },
        "width": 800,
        "xaxis": {
         "title": {
          "text": "Predicted Class"
         }
        },
        "yaxis": {
         "title": {
          "text": "True Class"
         }
        }
       }
      }
     },
     "metadata": {},
     "output_type": "display_data"
    },
    {
     "data": {
      "application/vnd.plotly.v1+json": {
       "config": {
        "plotlyServerURL": "https://plot.ly"
       },
       "data": [
        {
         "colorscale": [
          [
           0,
           "#440154"
          ],
          [
           0.1111111111111111,
           "#482878"
          ],
          [
           0.2222222222222222,
           "#3e4989"
          ],
          [
           0.3333333333333333,
           "#31688e"
          ],
          [
           0.4444444444444444,
           "#26828e"
          ],
          [
           0.5555555555555556,
           "#1f9e89"
          ],
          [
           0.6666666666666666,
           "#35b779"
          ],
          [
           0.7777777777777778,
           "#6ece58"
          ],
          [
           0.8888888888888888,
           "#b5de2b"
          ],
          [
           1,
           "#fde725"
          ]
         ],
         "showscale": true,
         "text": [
          [
           "10",
           "7",
           "2",
           "0",
           "4",
           "9",
           "1"
          ],
          [
           "2",
           "22",
           "11",
           "1",
           "5",
           "10",
           "1"
          ],
          [
           "2",
           "6",
           "50",
           "1",
           "12",
           "39",
           "0"
          ],
          [
           "2",
           "2",
           "1",
           "3",
           "0",
           "4",
           "0"
          ],
          [
           "1",
           "0",
           "10",
           "0",
           "46",
           "52",
           "2"
          ],
          [
           "2",
           "2",
           "18",
           "0",
           "32",
           "614",
           "3"
          ],
          [
           "0",
           "1",
           "1",
           "0",
           "1",
           "4",
           "7"
          ]
         ],
         "texttemplate": "%{text}",
         "type": "heatmap",
         "x": [
          "Class 0",
          "Class 1",
          "Class 2",
          "Class 3",
          "Class 4",
          "Class 5",
          "Class 6"
         ],
         "y": [
          "Class 0",
          "Class 1",
          "Class 2",
          "Class 3",
          "Class 4",
          "Class 5",
          "Class 6"
         ],
         "z": {
          "bdata": "CgAHAAIAAAAEAAkAAQACABYACwABAAUACgABAAIABgAyAAEADAAnAAAAAgACAAEAAwAAAAQAAAABAAAACgAAAC4ANAACAAIAAgASAAAAIABmAgMAAAABAAEAAAABAAQABwA=",
          "dtype": "i2",
          "shape": "7, 7"
         }
        }
       ],
       "layout": {
        "height": 600,
        "template": {
         "data": {
          "bar": [
           {
            "error_x": {
             "color": "#2a3f5f"
            },
            "error_y": {
             "color": "#2a3f5f"
            },
            "marker": {
             "line": {
              "color": "#E5ECF6",
              "width": 0.5
             },
             "pattern": {
              "fillmode": "overlay",
              "size": 10,
              "solidity": 0.2
             }
            },
            "type": "bar"
           }
          ],
          "barpolar": [
           {
            "marker": {
             "line": {
              "color": "#E5ECF6",
              "width": 0.5
             },
             "pattern": {
              "fillmode": "overlay",
              "size": 10,
              "solidity": 0.2
             }
            },
            "type": "barpolar"
           }
          ],
          "carpet": [
           {
            "aaxis": {
             "endlinecolor": "#2a3f5f",
             "gridcolor": "white",
             "linecolor": "white",
             "minorgridcolor": "white",
             "startlinecolor": "#2a3f5f"
            },
            "baxis": {
             "endlinecolor": "#2a3f5f",
             "gridcolor": "white",
             "linecolor": "white",
             "minorgridcolor": "white",
             "startlinecolor": "#2a3f5f"
            },
            "type": "carpet"
           }
          ],
          "choropleth": [
           {
            "colorbar": {
             "outlinewidth": 0,
             "ticks": ""
            },
            "type": "choropleth"
           }
          ],
          "contour": [
           {
            "colorbar": {
             "outlinewidth": 0,
             "ticks": ""
            },
            "colorscale": [
             [
              0,
              "#0d0887"
             ],
             [
              0.1111111111111111,
              "#46039f"
             ],
             [
              0.2222222222222222,
              "#7201a8"
             ],
             [
              0.3333333333333333,
              "#9c179e"
             ],
             [
              0.4444444444444444,
              "#bd3786"
             ],
             [
              0.5555555555555556,
              "#d8576b"
             ],
             [
              0.6666666666666666,
              "#ed7953"
             ],
             [
              0.7777777777777778,
              "#fb9f3a"
             ],
             [
              0.8888888888888888,
              "#fdca26"
             ],
             [
              1,
              "#f0f921"
             ]
            ],
            "type": "contour"
           }
          ],
          "contourcarpet": [
           {
            "colorbar": {
             "outlinewidth": 0,
             "ticks": ""
            },
            "type": "contourcarpet"
           }
          ],
          "heatmap": [
           {
            "colorbar": {
             "outlinewidth": 0,
             "ticks": ""
            },
            "colorscale": [
             [
              0,
              "#0d0887"
             ],
             [
              0.1111111111111111,
              "#46039f"
             ],
             [
              0.2222222222222222,
              "#7201a8"
             ],
             [
              0.3333333333333333,
              "#9c179e"
             ],
             [
              0.4444444444444444,
              "#bd3786"
             ],
             [
              0.5555555555555556,
              "#d8576b"
             ],
             [
              0.6666666666666666,
              "#ed7953"
             ],
             [
              0.7777777777777778,
              "#fb9f3a"
             ],
             [
              0.8888888888888888,
              "#fdca26"
             ],
             [
              1,
              "#f0f921"
             ]
            ],
            "type": "heatmap"
           }
          ],
          "histogram": [
           {
            "marker": {
             "pattern": {
              "fillmode": "overlay",
              "size": 10,
              "solidity": 0.2
             }
            },
            "type": "histogram"
           }
          ],
          "histogram2d": [
           {
            "colorbar": {
             "outlinewidth": 0,
             "ticks": ""
            },
            "colorscale": [
             [
              0,
              "#0d0887"
             ],
             [
              0.1111111111111111,
              "#46039f"
             ],
             [
              0.2222222222222222,
              "#7201a8"
             ],
             [
              0.3333333333333333,
              "#9c179e"
             ],
             [
              0.4444444444444444,
              "#bd3786"
             ],
             [
              0.5555555555555556,
              "#d8576b"
             ],
             [
              0.6666666666666666,
              "#ed7953"
             ],
             [
              0.7777777777777778,
              "#fb9f3a"
             ],
             [
              0.8888888888888888,
              "#fdca26"
             ],
             [
              1,
              "#f0f921"
             ]
            ],
            "type": "histogram2d"
           }
          ],
          "histogram2dcontour": [
           {
            "colorbar": {
             "outlinewidth": 0,
             "ticks": ""
            },
            "colorscale": [
             [
              0,
              "#0d0887"
             ],
             [
              0.1111111111111111,
              "#46039f"
             ],
             [
              0.2222222222222222,
              "#7201a8"
             ],
             [
              0.3333333333333333,
              "#9c179e"
             ],
             [
              0.4444444444444444,
              "#bd3786"
             ],
             [
              0.5555555555555556,
              "#d8576b"
             ],
             [
              0.6666666666666666,
              "#ed7953"
             ],
             [
              0.7777777777777778,
              "#fb9f3a"
             ],
             [
              0.8888888888888888,
              "#fdca26"
             ],
             [
              1,
              "#f0f921"
             ]
            ],
            "type": "histogram2dcontour"
           }
          ],
          "mesh3d": [
           {
            "colorbar": {
             "outlinewidth": 0,
             "ticks": ""
            },
            "type": "mesh3d"
           }
          ],
          "parcoords": [
           {
            "line": {
             "colorbar": {
              "outlinewidth": 0,
              "ticks": ""
             }
            },
            "type": "parcoords"
           }
          ],
          "pie": [
           {
            "automargin": true,
            "type": "pie"
           }
          ],
          "scatter": [
           {
            "fillpattern": {
             "fillmode": "overlay",
             "size": 10,
             "solidity": 0.2
            },
            "type": "scatter"
           }
          ],
          "scatter3d": [
           {
            "line": {
             "colorbar": {
              "outlinewidth": 0,
              "ticks": ""
             }
            },
            "marker": {
             "colorbar": {
              "outlinewidth": 0,
              "ticks": ""
             }
            },
            "type": "scatter3d"
           }
          ],
          "scattercarpet": [
           {
            "marker": {
             "colorbar": {
              "outlinewidth": 0,
              "ticks": ""
             }
            },
            "type": "scattercarpet"
           }
          ],
          "scattergeo": [
           {
            "marker": {
             "colorbar": {
              "outlinewidth": 0,
              "ticks": ""
             }
            },
            "type": "scattergeo"
           }
          ],
          "scattergl": [
           {
            "marker": {
             "colorbar": {
              "outlinewidth": 0,
              "ticks": ""
             }
            },
            "type": "scattergl"
           }
          ],
          "scattermap": [
           {
            "marker": {
             "colorbar": {
              "outlinewidth": 0,
              "ticks": ""
             }
            },
            "type": "scattermap"
           }
          ],
          "scattermapbox": [
           {
            "marker": {
             "colorbar": {
              "outlinewidth": 0,
              "ticks": ""
             }
            },
            "type": "scattermapbox"
           }
          ],
          "scatterpolar": [
           {
            "marker": {
             "colorbar": {
              "outlinewidth": 0,
              "ticks": ""
             }
            },
            "type": "scatterpolar"
           }
          ],
          "scatterpolargl": [
           {
            "marker": {
             "colorbar": {
              "outlinewidth": 0,
              "ticks": ""
             }
            },
            "type": "scatterpolargl"
           }
          ],
          "scatterternary": [
           {
            "marker": {
             "colorbar": {
              "outlinewidth": 0,
              "ticks": ""
             }
            },
            "type": "scatterternary"
           }
          ],
          "surface": [
           {
            "colorbar": {
             "outlinewidth": 0,
             "ticks": ""
            },
            "colorscale": [
             [
              0,
              "#0d0887"
             ],
             [
              0.1111111111111111,
              "#46039f"
             ],
             [
              0.2222222222222222,
              "#7201a8"
             ],
             [
              0.3333333333333333,
              "#9c179e"
             ],
             [
              0.4444444444444444,
              "#bd3786"
             ],
             [
              0.5555555555555556,
              "#d8576b"
             ],
             [
              0.6666666666666666,
              "#ed7953"
             ],
             [
              0.7777777777777778,
              "#fb9f3a"
             ],
             [
              0.8888888888888888,
              "#fdca26"
             ],
             [
              1,
              "#f0f921"
             ]
            ],
            "type": "surface"
           }
          ],
          "table": [
           {
            "cells": {
             "fill": {
              "color": "#EBF0F8"
             },
             "line": {
              "color": "white"
             }
            },
            "header": {
             "fill": {
              "color": "#C8D4E3"
             },
             "line": {
              "color": "white"
             }
            },
            "type": "table"
           }
          ]
         },
         "layout": {
          "annotationdefaults": {
           "arrowcolor": "#2a3f5f",
           "arrowhead": 0,
           "arrowwidth": 1
          },
          "autotypenumbers": "strict",
          "coloraxis": {
           "colorbar": {
            "outlinewidth": 0,
            "ticks": ""
           }
          },
          "colorscale": {
           "diverging": [
            [
             0,
             "#8e0152"
            ],
            [
             0.1,
             "#c51b7d"
            ],
            [
             0.2,
             "#de77ae"
            ],
            [
             0.3,
             "#f1b6da"
            ],
            [
             0.4,
             "#fde0ef"
            ],
            [
             0.5,
             "#f7f7f7"
            ],
            [
             0.6,
             "#e6f5d0"
            ],
            [
             0.7,
             "#b8e186"
            ],
            [
             0.8,
             "#7fbc41"
            ],
            [
             0.9,
             "#4d9221"
            ],
            [
             1,
             "#276419"
            ]
           ],
           "sequential": [
            [
             0,
             "#0d0887"
            ],
            [
             0.1111111111111111,
             "#46039f"
            ],
            [
             0.2222222222222222,
             "#7201a8"
            ],
            [
             0.3333333333333333,
             "#9c179e"
            ],
            [
             0.4444444444444444,
             "#bd3786"
            ],
            [
             0.5555555555555556,
             "#d8576b"
            ],
            [
             0.6666666666666666,
             "#ed7953"
            ],
            [
             0.7777777777777778,
             "#fb9f3a"
            ],
            [
             0.8888888888888888,
             "#fdca26"
            ],
            [
             1,
             "#f0f921"
            ]
           ],
           "sequentialminus": [
            [
             0,
             "#0d0887"
            ],
            [
             0.1111111111111111,
             "#46039f"
            ],
            [
             0.2222222222222222,
             "#7201a8"
            ],
            [
             0.3333333333333333,
             "#9c179e"
            ],
            [
             0.4444444444444444,
             "#bd3786"
            ],
            [
             0.5555555555555556,
             "#d8576b"
            ],
            [
             0.6666666666666666,
             "#ed7953"
            ],
            [
             0.7777777777777778,
             "#fb9f3a"
            ],
            [
             0.8888888888888888,
             "#fdca26"
            ],
            [
             1,
             "#f0f921"
            ]
           ]
          },
          "colorway": [
           "#636efa",
           "#EF553B",
           "#00cc96",
           "#ab63fa",
           "#FFA15A",
           "#19d3f3",
           "#FF6692",
           "#B6E880",
           "#FF97FF",
           "#FECB52"
          ],
          "font": {
           "color": "#2a3f5f"
          },
          "geo": {
           "bgcolor": "white",
           "lakecolor": "white",
           "landcolor": "#E5ECF6",
           "showlakes": true,
           "showland": true,
           "subunitcolor": "white"
          },
          "hoverlabel": {
           "align": "left"
          },
          "hovermode": "closest",
          "mapbox": {
           "style": "light"
          },
          "paper_bgcolor": "white",
          "plot_bgcolor": "#E5ECF6",
          "polar": {
           "angularaxis": {
            "gridcolor": "white",
            "linecolor": "white",
            "ticks": ""
           },
           "bgcolor": "#E5ECF6",
           "radialaxis": {
            "gridcolor": "white",
            "linecolor": "white",
            "ticks": ""
           }
          },
          "scene": {
           "xaxis": {
            "backgroundcolor": "#E5ECF6",
            "gridcolor": "white",
            "gridwidth": 2,
            "linecolor": "white",
            "showbackground": true,
            "ticks": "",
            "zerolinecolor": "white"
           },
           "yaxis": {
            "backgroundcolor": "#E5ECF6",
            "gridcolor": "white",
            "gridwidth": 2,
            "linecolor": "white",
            "showbackground": true,
            "ticks": "",
            "zerolinecolor": "white"
           },
           "zaxis": {
            "backgroundcolor": "#E5ECF6",
            "gridcolor": "white",
            "gridwidth": 2,
            "linecolor": "white",
            "showbackground": true,
            "ticks": "",
            "zerolinecolor": "white"
           }
          },
          "shapedefaults": {
           "line": {
            "color": "#2a3f5f"
           }
          },
          "ternary": {
           "aaxis": {
            "gridcolor": "white",
            "linecolor": "white",
            "ticks": ""
           },
           "baxis": {
            "gridcolor": "white",
            "linecolor": "white",
            "ticks": ""
           },
           "bgcolor": "#E5ECF6",
           "caxis": {
            "gridcolor": "white",
            "linecolor": "white",
            "ticks": ""
           }
          },
          "title": {
           "x": 0.05
          },
          "xaxis": {
           "automargin": true,
           "gridcolor": "white",
           "linecolor": "white",
           "ticks": "",
           "title": {
            "standoff": 15
           },
           "zerolinecolor": "white",
           "zerolinewidth": 2
          },
          "yaxis": {
           "automargin": true,
           "gridcolor": "white",
           "linecolor": "white",
           "ticks": "",
           "title": {
            "standoff": 15
           },
           "zerolinecolor": "white",
           "zerolinewidth": 2
          }
         }
        },
        "title": {
         "text": "Confusion Matrix (Test)"
        },
        "width": 800,
        "xaxis": {
         "title": {
          "text": "Predicted Class"
         }
        },
        "yaxis": {
         "title": {
          "text": "True Class"
         }
        }
       }
      }
     },
     "metadata": {},
     "output_type": "display_data"
    }
   ],
   "source": [
    "params_max_f1 = metrics_cnn_no_aug.loc[metrics_cnn_no_aug[\"f1_score_test\"].idxmax()]\n",
    "\n",
    "plot_confusion_matrix(params_max_f1)"
   ]
  },
  {
   "cell_type": "markdown",
   "metadata": {},
   "source": [
    "## Only undersampling"
   ]
  },
  {
   "cell_type": "code",
   "execution_count": 23,
   "metadata": {},
   "outputs": [],
   "source": [
    "data_under_cnn = pd.read_json('./results_cnn_under.json').T"
   ]
  },
  {
   "cell_type": "code",
   "execution_count": 24,
   "metadata": {},
   "outputs": [],
   "source": [
    "metrics_under_cnn = get_metrics(data_under_cnn)"
   ]
  },
  {
   "cell_type": "code",
   "execution_count": 25,
   "metadata": {},
   "outputs": [
    {
     "data": {
      "text/plain": [
       "(np.float64(0.4991124052880161), np.float64(0.8951487107489473))"
      ]
     },
     "execution_count": 25,
     "metadata": {},
     "output_type": "execute_result"
    }
   ],
   "source": [
    "max_f1_train = metrics_under_cnn[\"f1_train_average\"].max()\n",
    "max_f1_test = metrics_under_cnn[\"f1_test_average\"].max()\n",
    "\n",
    "max_f1_test, max_f1_train"
   ]
  },
  {
   "cell_type": "code",
   "execution_count": 26,
   "metadata": {},
   "outputs": [
    {
     "data": {
      "application/vnd.plotly.v1+json": {
       "config": {
        "plotlyServerURL": "https://plot.ly"
       },
       "data": [
        {
         "colorscale": [
          [
           0,
           "#440154"
          ],
          [
           0.1111111111111111,
           "#482878"
          ],
          [
           0.2222222222222222,
           "#3e4989"
          ],
          [
           0.3333333333333333,
           "#31688e"
          ],
          [
           0.4444444444444444,
           "#26828e"
          ],
          [
           0.5555555555555556,
           "#1f9e89"
          ],
          [
           0.6666666666666666,
           "#35b779"
          ],
          [
           0.7777777777777778,
           "#6ece58"
          ],
          [
           0.8888888888888888,
           "#b5de2b"
          ],
          [
           1,
           "#fde725"
          ]
         ],
         "showscale": true,
         "text": [
          [
           "764",
           "56",
           "42",
           "3",
           "42",
           "5",
           "0"
          ],
          [
           "145",
           "1116",
           "68",
           "12",
           "50",
           "28",
           "17"
          ],
          [
           "105",
           "74",
           "2192",
           "3",
           "276",
           "140",
           "10"
          ],
          [
           "48",
           "59",
           "46",
           "153",
           "8",
           "4",
           "2"
          ],
          [
           "10",
           "15",
           "109",
           "0",
           "2602",
           "65",
           "0"
          ],
          [
           "22",
           "34",
           "110",
           "2",
           "276",
           "2347",
           "9"
          ],
          [
           "1",
           "14",
           "4",
           "2",
           "1",
           "3",
           "371"
          ]
         ],
         "texttemplate": "%{text}",
         "type": "heatmap",
         "x": [
          "Class 0",
          "Class 1",
          "Class 2",
          "Class 3",
          "Class 4",
          "Class 5",
          "Class 6"
         ],
         "y": [
          "Class 0",
          "Class 1",
          "Class 2",
          "Class 3",
          "Class 4",
          "Class 5",
          "Class 6"
         ],
         "z": {
          "bdata": "/AI4ACoAAwAqAAUAAACRAFwERAAMADIAHAARAGkASgCQCAMAFAGMAAoAMAA7AC4AmQAIAAQAAgAKAA8AbQAAACoKQQAAABYAIgBuAAIAFAErCQkAAQAOAAQAAgABAAMAcwE=",
          "dtype": "i2",
          "shape": "7, 7"
         }
        }
       ],
       "layout": {
        "height": 600,
        "template": {
         "data": {
          "bar": [
           {
            "error_x": {
             "color": "#2a3f5f"
            },
            "error_y": {
             "color": "#2a3f5f"
            },
            "marker": {
             "line": {
              "color": "#E5ECF6",
              "width": 0.5
             },
             "pattern": {
              "fillmode": "overlay",
              "size": 10,
              "solidity": 0.2
             }
            },
            "type": "bar"
           }
          ],
          "barpolar": [
           {
            "marker": {
             "line": {
              "color": "#E5ECF6",
              "width": 0.5
             },
             "pattern": {
              "fillmode": "overlay",
              "size": 10,
              "solidity": 0.2
             }
            },
            "type": "barpolar"
           }
          ],
          "carpet": [
           {
            "aaxis": {
             "endlinecolor": "#2a3f5f",
             "gridcolor": "white",
             "linecolor": "white",
             "minorgridcolor": "white",
             "startlinecolor": "#2a3f5f"
            },
            "baxis": {
             "endlinecolor": "#2a3f5f",
             "gridcolor": "white",
             "linecolor": "white",
             "minorgridcolor": "white",
             "startlinecolor": "#2a3f5f"
            },
            "type": "carpet"
           }
          ],
          "choropleth": [
           {
            "colorbar": {
             "outlinewidth": 0,
             "ticks": ""
            },
            "type": "choropleth"
           }
          ],
          "contour": [
           {
            "colorbar": {
             "outlinewidth": 0,
             "ticks": ""
            },
            "colorscale": [
             [
              0,
              "#0d0887"
             ],
             [
              0.1111111111111111,
              "#46039f"
             ],
             [
              0.2222222222222222,
              "#7201a8"
             ],
             [
              0.3333333333333333,
              "#9c179e"
             ],
             [
              0.4444444444444444,
              "#bd3786"
             ],
             [
              0.5555555555555556,
              "#d8576b"
             ],
             [
              0.6666666666666666,
              "#ed7953"
             ],
             [
              0.7777777777777778,
              "#fb9f3a"
             ],
             [
              0.8888888888888888,
              "#fdca26"
             ],
             [
              1,
              "#f0f921"
             ]
            ],
            "type": "contour"
           }
          ],
          "contourcarpet": [
           {
            "colorbar": {
             "outlinewidth": 0,
             "ticks": ""
            },
            "type": "contourcarpet"
           }
          ],
          "heatmap": [
           {
            "colorbar": {
             "outlinewidth": 0,
             "ticks": ""
            },
            "colorscale": [
             [
              0,
              "#0d0887"
             ],
             [
              0.1111111111111111,
              "#46039f"
             ],
             [
              0.2222222222222222,
              "#7201a8"
             ],
             [
              0.3333333333333333,
              "#9c179e"
             ],
             [
              0.4444444444444444,
              "#bd3786"
             ],
             [
              0.5555555555555556,
              "#d8576b"
             ],
             [
              0.6666666666666666,
              "#ed7953"
             ],
             [
              0.7777777777777778,
              "#fb9f3a"
             ],
             [
              0.8888888888888888,
              "#fdca26"
             ],
             [
              1,
              "#f0f921"
             ]
            ],
            "type": "heatmap"
           }
          ],
          "histogram": [
           {
            "marker": {
             "pattern": {
              "fillmode": "overlay",
              "size": 10,
              "solidity": 0.2
             }
            },
            "type": "histogram"
           }
          ],
          "histogram2d": [
           {
            "colorbar": {
             "outlinewidth": 0,
             "ticks": ""
            },
            "colorscale": [
             [
              0,
              "#0d0887"
             ],
             [
              0.1111111111111111,
              "#46039f"
             ],
             [
              0.2222222222222222,
              "#7201a8"
             ],
             [
              0.3333333333333333,
              "#9c179e"
             ],
             [
              0.4444444444444444,
              "#bd3786"
             ],
             [
              0.5555555555555556,
              "#d8576b"
             ],
             [
              0.6666666666666666,
              "#ed7953"
             ],
             [
              0.7777777777777778,
              "#fb9f3a"
             ],
             [
              0.8888888888888888,
              "#fdca26"
             ],
             [
              1,
              "#f0f921"
             ]
            ],
            "type": "histogram2d"
           }
          ],
          "histogram2dcontour": [
           {
            "colorbar": {
             "outlinewidth": 0,
             "ticks": ""
            },
            "colorscale": [
             [
              0,
              "#0d0887"
             ],
             [
              0.1111111111111111,
              "#46039f"
             ],
             [
              0.2222222222222222,
              "#7201a8"
             ],
             [
              0.3333333333333333,
              "#9c179e"
             ],
             [
              0.4444444444444444,
              "#bd3786"
             ],
             [
              0.5555555555555556,
              "#d8576b"
             ],
             [
              0.6666666666666666,
              "#ed7953"
             ],
             [
              0.7777777777777778,
              "#fb9f3a"
             ],
             [
              0.8888888888888888,
              "#fdca26"
             ],
             [
              1,
              "#f0f921"
             ]
            ],
            "type": "histogram2dcontour"
           }
          ],
          "mesh3d": [
           {
            "colorbar": {
             "outlinewidth": 0,
             "ticks": ""
            },
            "type": "mesh3d"
           }
          ],
          "parcoords": [
           {
            "line": {
             "colorbar": {
              "outlinewidth": 0,
              "ticks": ""
             }
            },
            "type": "parcoords"
           }
          ],
          "pie": [
           {
            "automargin": true,
            "type": "pie"
           }
          ],
          "scatter": [
           {
            "fillpattern": {
             "fillmode": "overlay",
             "size": 10,
             "solidity": 0.2
            },
            "type": "scatter"
           }
          ],
          "scatter3d": [
           {
            "line": {
             "colorbar": {
              "outlinewidth": 0,
              "ticks": ""
             }
            },
            "marker": {
             "colorbar": {
              "outlinewidth": 0,
              "ticks": ""
             }
            },
            "type": "scatter3d"
           }
          ],
          "scattercarpet": [
           {
            "marker": {
             "colorbar": {
              "outlinewidth": 0,
              "ticks": ""
             }
            },
            "type": "scattercarpet"
           }
          ],
          "scattergeo": [
           {
            "marker": {
             "colorbar": {
              "outlinewidth": 0,
              "ticks": ""
             }
            },
            "type": "scattergeo"
           }
          ],
          "scattergl": [
           {
            "marker": {
             "colorbar": {
              "outlinewidth": 0,
              "ticks": ""
             }
            },
            "type": "scattergl"
           }
          ],
          "scattermap": [
           {
            "marker": {
             "colorbar": {
              "outlinewidth": 0,
              "ticks": ""
             }
            },
            "type": "scattermap"
           }
          ],
          "scattermapbox": [
           {
            "marker": {
             "colorbar": {
              "outlinewidth": 0,
              "ticks": ""
             }
            },
            "type": "scattermapbox"
           }
          ],
          "scatterpolar": [
           {
            "marker": {
             "colorbar": {
              "outlinewidth": 0,
              "ticks": ""
             }
            },
            "type": "scatterpolar"
           }
          ],
          "scatterpolargl": [
           {
            "marker": {
             "colorbar": {
              "outlinewidth": 0,
              "ticks": ""
             }
            },
            "type": "scatterpolargl"
           }
          ],
          "scatterternary": [
           {
            "marker": {
             "colorbar": {
              "outlinewidth": 0,
              "ticks": ""
             }
            },
            "type": "scatterternary"
           }
          ],
          "surface": [
           {
            "colorbar": {
             "outlinewidth": 0,
             "ticks": ""
            },
            "colorscale": [
             [
              0,
              "#0d0887"
             ],
             [
              0.1111111111111111,
              "#46039f"
             ],
             [
              0.2222222222222222,
              "#7201a8"
             ],
             [
              0.3333333333333333,
              "#9c179e"
             ],
             [
              0.4444444444444444,
              "#bd3786"
             ],
             [
              0.5555555555555556,
              "#d8576b"
             ],
             [
              0.6666666666666666,
              "#ed7953"
             ],
             [
              0.7777777777777778,
              "#fb9f3a"
             ],
             [
              0.8888888888888888,
              "#fdca26"
             ],
             [
              1,
              "#f0f921"
             ]
            ],
            "type": "surface"
           }
          ],
          "table": [
           {
            "cells": {
             "fill": {
              "color": "#EBF0F8"
             },
             "line": {
              "color": "white"
             }
            },
            "header": {
             "fill": {
              "color": "#C8D4E3"
             },
             "line": {
              "color": "white"
             }
            },
            "type": "table"
           }
          ]
         },
         "layout": {
          "annotationdefaults": {
           "arrowcolor": "#2a3f5f",
           "arrowhead": 0,
           "arrowwidth": 1
          },
          "autotypenumbers": "strict",
          "coloraxis": {
           "colorbar": {
            "outlinewidth": 0,
            "ticks": ""
           }
          },
          "colorscale": {
           "diverging": [
            [
             0,
             "#8e0152"
            ],
            [
             0.1,
             "#c51b7d"
            ],
            [
             0.2,
             "#de77ae"
            ],
            [
             0.3,
             "#f1b6da"
            ],
            [
             0.4,
             "#fde0ef"
            ],
            [
             0.5,
             "#f7f7f7"
            ],
            [
             0.6,
             "#e6f5d0"
            ],
            [
             0.7,
             "#b8e186"
            ],
            [
             0.8,
             "#7fbc41"
            ],
            [
             0.9,
             "#4d9221"
            ],
            [
             1,
             "#276419"
            ]
           ],
           "sequential": [
            [
             0,
             "#0d0887"
            ],
            [
             0.1111111111111111,
             "#46039f"
            ],
            [
             0.2222222222222222,
             "#7201a8"
            ],
            [
             0.3333333333333333,
             "#9c179e"
            ],
            [
             0.4444444444444444,
             "#bd3786"
            ],
            [
             0.5555555555555556,
             "#d8576b"
            ],
            [
             0.6666666666666666,
             "#ed7953"
            ],
            [
             0.7777777777777778,
             "#fb9f3a"
            ],
            [
             0.8888888888888888,
             "#fdca26"
            ],
            [
             1,
             "#f0f921"
            ]
           ],
           "sequentialminus": [
            [
             0,
             "#0d0887"
            ],
            [
             0.1111111111111111,
             "#46039f"
            ],
            [
             0.2222222222222222,
             "#7201a8"
            ],
            [
             0.3333333333333333,
             "#9c179e"
            ],
            [
             0.4444444444444444,
             "#bd3786"
            ],
            [
             0.5555555555555556,
             "#d8576b"
            ],
            [
             0.6666666666666666,
             "#ed7953"
            ],
            [
             0.7777777777777778,
             "#fb9f3a"
            ],
            [
             0.8888888888888888,
             "#fdca26"
            ],
            [
             1,
             "#f0f921"
            ]
           ]
          },
          "colorway": [
           "#636efa",
           "#EF553B",
           "#00cc96",
           "#ab63fa",
           "#FFA15A",
           "#19d3f3",
           "#FF6692",
           "#B6E880",
           "#FF97FF",
           "#FECB52"
          ],
          "font": {
           "color": "#2a3f5f"
          },
          "geo": {
           "bgcolor": "white",
           "lakecolor": "white",
           "landcolor": "#E5ECF6",
           "showlakes": true,
           "showland": true,
           "subunitcolor": "white"
          },
          "hoverlabel": {
           "align": "left"
          },
          "hovermode": "closest",
          "mapbox": {
           "style": "light"
          },
          "paper_bgcolor": "white",
          "plot_bgcolor": "#E5ECF6",
          "polar": {
           "angularaxis": {
            "gridcolor": "white",
            "linecolor": "white",
            "ticks": ""
           },
           "bgcolor": "#E5ECF6",
           "radialaxis": {
            "gridcolor": "white",
            "linecolor": "white",
            "ticks": ""
           }
          },
          "scene": {
           "xaxis": {
            "backgroundcolor": "#E5ECF6",
            "gridcolor": "white",
            "gridwidth": 2,
            "linecolor": "white",
            "showbackground": true,
            "ticks": "",
            "zerolinecolor": "white"
           },
           "yaxis": {
            "backgroundcolor": "#E5ECF6",
            "gridcolor": "white",
            "gridwidth": 2,
            "linecolor": "white",
            "showbackground": true,
            "ticks": "",
            "zerolinecolor": "white"
           },
           "zaxis": {
            "backgroundcolor": "#E5ECF6",
            "gridcolor": "white",
            "gridwidth": 2,
            "linecolor": "white",
            "showbackground": true,
            "ticks": "",
            "zerolinecolor": "white"
           }
          },
          "shapedefaults": {
           "line": {
            "color": "#2a3f5f"
           }
          },
          "ternary": {
           "aaxis": {
            "gridcolor": "white",
            "linecolor": "white",
            "ticks": ""
           },
           "baxis": {
            "gridcolor": "white",
            "linecolor": "white",
            "ticks": ""
           },
           "bgcolor": "#E5ECF6",
           "caxis": {
            "gridcolor": "white",
            "linecolor": "white",
            "ticks": ""
           }
          },
          "title": {
           "x": 0.05
          },
          "xaxis": {
           "automargin": true,
           "gridcolor": "white",
           "linecolor": "white",
           "ticks": "",
           "title": {
            "standoff": 15
           },
           "zerolinecolor": "white",
           "zerolinewidth": 2
          },
          "yaxis": {
           "automargin": true,
           "gridcolor": "white",
           "linecolor": "white",
           "ticks": "",
           "title": {
            "standoff": 15
           },
           "zerolinecolor": "white",
           "zerolinewidth": 2
          }
         }
        },
        "title": {
         "text": "Confusion Matrix (Train)"
        },
        "width": 800,
        "xaxis": {
         "title": {
          "text": "Predicted Class"
         }
        },
        "yaxis": {
         "title": {
          "text": "True Class"
         }
        }
       }
      }
     },
     "metadata": {},
     "output_type": "display_data"
    },
    {
     "data": {
      "application/vnd.plotly.v1+json": {
       "config": {
        "plotlyServerURL": "https://plot.ly"
       },
       "data": [
        {
         "colorscale": [
          [
           0,
           "#440154"
          ],
          [
           0.1111111111111111,
           "#482878"
          ],
          [
           0.2222222222222222,
           "#3e4989"
          ],
          [
           0.3333333333333333,
           "#31688e"
          ],
          [
           0.4444444444444444,
           "#26828e"
          ],
          [
           0.5555555555555556,
           "#1f9e89"
          ],
          [
           0.6666666666666666,
           "#35b779"
          ],
          [
           0.7777777777777778,
           "#6ece58"
          ],
          [
           0.8888888888888888,
           "#b5de2b"
          ],
          [
           1,
           "#fde725"
          ]
         ],
         "showscale": true,
         "text": [
          [
           "95",
           "50",
           "40",
           "5",
           "30",
           "8",
           "0"
          ],
          [
           "57",
           "189",
           "48",
           "10",
           "33",
           "12",
           "10"
          ],
          [
           "47",
           "37",
           "349",
           "3",
           "177",
           "77",
           "10"
          ],
          [
           "12",
           "26",
           "26",
           "8",
           "2",
           "5",
           "1"
          ],
          [
           "26",
           "29",
           "101",
           "3",
           "450",
           "83",
           "7"
          ],
          [
           "14",
           "17",
           "72",
           "1",
           "187",
           "404",
           "5"
          ],
          [
           "5",
           "11",
           "7",
           "0",
           "7",
           "5",
           "64"
          ]
         ],
         "texttemplate": "%{text}",
         "type": "heatmap",
         "x": [
          "Class 0",
          "Class 1",
          "Class 2",
          "Class 3",
          "Class 4",
          "Class 5",
          "Class 6"
         ],
         "y": [
          "Class 0",
          "Class 1",
          "Class 2",
          "Class 3",
          "Class 4",
          "Class 5",
          "Class 6"
         ],
         "z": {
          "bdata": "XwAyACgABQAeAAgAAAA5AL0AMAAKACEADAAKAC8AJQBdAQMAsQBNAAoADAAaABoACAACAAUAAQAaAB0AZQADAMIBUwAHAA4AEQBIAAEAuwCUAQUABQALAAcAAAAHAAUAQAA=",
          "dtype": "i2",
          "shape": "7, 7"
         }
        }
       ],
       "layout": {
        "height": 600,
        "template": {
         "data": {
          "bar": [
           {
            "error_x": {
             "color": "#2a3f5f"
            },
            "error_y": {
             "color": "#2a3f5f"
            },
            "marker": {
             "line": {
              "color": "#E5ECF6",
              "width": 0.5
             },
             "pattern": {
              "fillmode": "overlay",
              "size": 10,
              "solidity": 0.2
             }
            },
            "type": "bar"
           }
          ],
          "barpolar": [
           {
            "marker": {
             "line": {
              "color": "#E5ECF6",
              "width": 0.5
             },
             "pattern": {
              "fillmode": "overlay",
              "size": 10,
              "solidity": 0.2
             }
            },
            "type": "barpolar"
           }
          ],
          "carpet": [
           {
            "aaxis": {
             "endlinecolor": "#2a3f5f",
             "gridcolor": "white",
             "linecolor": "white",
             "minorgridcolor": "white",
             "startlinecolor": "#2a3f5f"
            },
            "baxis": {
             "endlinecolor": "#2a3f5f",
             "gridcolor": "white",
             "linecolor": "white",
             "minorgridcolor": "white",
             "startlinecolor": "#2a3f5f"
            },
            "type": "carpet"
           }
          ],
          "choropleth": [
           {
            "colorbar": {
             "outlinewidth": 0,
             "ticks": ""
            },
            "type": "choropleth"
           }
          ],
          "contour": [
           {
            "colorbar": {
             "outlinewidth": 0,
             "ticks": ""
            },
            "colorscale": [
             [
              0,
              "#0d0887"
             ],
             [
              0.1111111111111111,
              "#46039f"
             ],
             [
              0.2222222222222222,
              "#7201a8"
             ],
             [
              0.3333333333333333,
              "#9c179e"
             ],
             [
              0.4444444444444444,
              "#bd3786"
             ],
             [
              0.5555555555555556,
              "#d8576b"
             ],
             [
              0.6666666666666666,
              "#ed7953"
             ],
             [
              0.7777777777777778,
              "#fb9f3a"
             ],
             [
              0.8888888888888888,
              "#fdca26"
             ],
             [
              1,
              "#f0f921"
             ]
            ],
            "type": "contour"
           }
          ],
          "contourcarpet": [
           {
            "colorbar": {
             "outlinewidth": 0,
             "ticks": ""
            },
            "type": "contourcarpet"
           }
          ],
          "heatmap": [
           {
            "colorbar": {
             "outlinewidth": 0,
             "ticks": ""
            },
            "colorscale": [
             [
              0,
              "#0d0887"
             ],
             [
              0.1111111111111111,
              "#46039f"
             ],
             [
              0.2222222222222222,
              "#7201a8"
             ],
             [
              0.3333333333333333,
              "#9c179e"
             ],
             [
              0.4444444444444444,
              "#bd3786"
             ],
             [
              0.5555555555555556,
              "#d8576b"
             ],
             [
              0.6666666666666666,
              "#ed7953"
             ],
             [
              0.7777777777777778,
              "#fb9f3a"
             ],
             [
              0.8888888888888888,
              "#fdca26"
             ],
             [
              1,
              "#f0f921"
             ]
            ],
            "type": "heatmap"
           }
          ],
          "histogram": [
           {
            "marker": {
             "pattern": {
              "fillmode": "overlay",
              "size": 10,
              "solidity": 0.2
             }
            },
            "type": "histogram"
           }
          ],
          "histogram2d": [
           {
            "colorbar": {
             "outlinewidth": 0,
             "ticks": ""
            },
            "colorscale": [
             [
              0,
              "#0d0887"
             ],
             [
              0.1111111111111111,
              "#46039f"
             ],
             [
              0.2222222222222222,
              "#7201a8"
             ],
             [
              0.3333333333333333,
              "#9c179e"
             ],
             [
              0.4444444444444444,
              "#bd3786"
             ],
             [
              0.5555555555555556,
              "#d8576b"
             ],
             [
              0.6666666666666666,
              "#ed7953"
             ],
             [
              0.7777777777777778,
              "#fb9f3a"
             ],
             [
              0.8888888888888888,
              "#fdca26"
             ],
             [
              1,
              "#f0f921"
             ]
            ],
            "type": "histogram2d"
           }
          ],
          "histogram2dcontour": [
           {
            "colorbar": {
             "outlinewidth": 0,
             "ticks": ""
            },
            "colorscale": [
             [
              0,
              "#0d0887"
             ],
             [
              0.1111111111111111,
              "#46039f"
             ],
             [
              0.2222222222222222,
              "#7201a8"
             ],
             [
              0.3333333333333333,
              "#9c179e"
             ],
             [
              0.4444444444444444,
              "#bd3786"
             ],
             [
              0.5555555555555556,
              "#d8576b"
             ],
             [
              0.6666666666666666,
              "#ed7953"
             ],
             [
              0.7777777777777778,
              "#fb9f3a"
             ],
             [
              0.8888888888888888,
              "#fdca26"
             ],
             [
              1,
              "#f0f921"
             ]
            ],
            "type": "histogram2dcontour"
           }
          ],
          "mesh3d": [
           {
            "colorbar": {
             "outlinewidth": 0,
             "ticks": ""
            },
            "type": "mesh3d"
           }
          ],
          "parcoords": [
           {
            "line": {
             "colorbar": {
              "outlinewidth": 0,
              "ticks": ""
             }
            },
            "type": "parcoords"
           }
          ],
          "pie": [
           {
            "automargin": true,
            "type": "pie"
           }
          ],
          "scatter": [
           {
            "fillpattern": {
             "fillmode": "overlay",
             "size": 10,
             "solidity": 0.2
            },
            "type": "scatter"
           }
          ],
          "scatter3d": [
           {
            "line": {
             "colorbar": {
              "outlinewidth": 0,
              "ticks": ""
             }
            },
            "marker": {
             "colorbar": {
              "outlinewidth": 0,
              "ticks": ""
             }
            },
            "type": "scatter3d"
           }
          ],
          "scattercarpet": [
           {
            "marker": {
             "colorbar": {
              "outlinewidth": 0,
              "ticks": ""
             }
            },
            "type": "scattercarpet"
           }
          ],
          "scattergeo": [
           {
            "marker": {
             "colorbar": {
              "outlinewidth": 0,
              "ticks": ""
             }
            },
            "type": "scattergeo"
           }
          ],
          "scattergl": [
           {
            "marker": {
             "colorbar": {
              "outlinewidth": 0,
              "ticks": ""
             }
            },
            "type": "scattergl"
           }
          ],
          "scattermap": [
           {
            "marker": {
             "colorbar": {
              "outlinewidth": 0,
              "ticks": ""
             }
            },
            "type": "scattermap"
           }
          ],
          "scattermapbox": [
           {
            "marker": {
             "colorbar": {
              "outlinewidth": 0,
              "ticks": ""
             }
            },
            "type": "scattermapbox"
           }
          ],
          "scatterpolar": [
           {
            "marker": {
             "colorbar": {
              "outlinewidth": 0,
              "ticks": ""
             }
            },
            "type": "scatterpolar"
           }
          ],
          "scatterpolargl": [
           {
            "marker": {
             "colorbar": {
              "outlinewidth": 0,
              "ticks": ""
             }
            },
            "type": "scatterpolargl"
           }
          ],
          "scatterternary": [
           {
            "marker": {
             "colorbar": {
              "outlinewidth": 0,
              "ticks": ""
             }
            },
            "type": "scatterternary"
           }
          ],
          "surface": [
           {
            "colorbar": {
             "outlinewidth": 0,
             "ticks": ""
            },
            "colorscale": [
             [
              0,
              "#0d0887"
             ],
             [
              0.1111111111111111,
              "#46039f"
             ],
             [
              0.2222222222222222,
              "#7201a8"
             ],
             [
              0.3333333333333333,
              "#9c179e"
             ],
             [
              0.4444444444444444,
              "#bd3786"
             ],
             [
              0.5555555555555556,
              "#d8576b"
             ],
             [
              0.6666666666666666,
              "#ed7953"
             ],
             [
              0.7777777777777778,
              "#fb9f3a"
             ],
             [
              0.8888888888888888,
              "#fdca26"
             ],
             [
              1,
              "#f0f921"
             ]
            ],
            "type": "surface"
           }
          ],
          "table": [
           {
            "cells": {
             "fill": {
              "color": "#EBF0F8"
             },
             "line": {
              "color": "white"
             }
            },
            "header": {
             "fill": {
              "color": "#C8D4E3"
             },
             "line": {
              "color": "white"
             }
            },
            "type": "table"
           }
          ]
         },
         "layout": {
          "annotationdefaults": {
           "arrowcolor": "#2a3f5f",
           "arrowhead": 0,
           "arrowwidth": 1
          },
          "autotypenumbers": "strict",
          "coloraxis": {
           "colorbar": {
            "outlinewidth": 0,
            "ticks": ""
           }
          },
          "colorscale": {
           "diverging": [
            [
             0,
             "#8e0152"
            ],
            [
             0.1,
             "#c51b7d"
            ],
            [
             0.2,
             "#de77ae"
            ],
            [
             0.3,
             "#f1b6da"
            ],
            [
             0.4,
             "#fde0ef"
            ],
            [
             0.5,
             "#f7f7f7"
            ],
            [
             0.6,
             "#e6f5d0"
            ],
            [
             0.7,
             "#b8e186"
            ],
            [
             0.8,
             "#7fbc41"
            ],
            [
             0.9,
             "#4d9221"
            ],
            [
             1,
             "#276419"
            ]
           ],
           "sequential": [
            [
             0,
             "#0d0887"
            ],
            [
             0.1111111111111111,
             "#46039f"
            ],
            [
             0.2222222222222222,
             "#7201a8"
            ],
            [
             0.3333333333333333,
             "#9c179e"
            ],
            [
             0.4444444444444444,
             "#bd3786"
            ],
            [
             0.5555555555555556,
             "#d8576b"
            ],
            [
             0.6666666666666666,
             "#ed7953"
            ],
            [
             0.7777777777777778,
             "#fb9f3a"
            ],
            [
             0.8888888888888888,
             "#fdca26"
            ],
            [
             1,
             "#f0f921"
            ]
           ],
           "sequentialminus": [
            [
             0,
             "#0d0887"
            ],
            [
             0.1111111111111111,
             "#46039f"
            ],
            [
             0.2222222222222222,
             "#7201a8"
            ],
            [
             0.3333333333333333,
             "#9c179e"
            ],
            [
             0.4444444444444444,
             "#bd3786"
            ],
            [
             0.5555555555555556,
             "#d8576b"
            ],
            [
             0.6666666666666666,
             "#ed7953"
            ],
            [
             0.7777777777777778,
             "#fb9f3a"
            ],
            [
             0.8888888888888888,
             "#fdca26"
            ],
            [
             1,
             "#f0f921"
            ]
           ]
          },
          "colorway": [
           "#636efa",
           "#EF553B",
           "#00cc96",
           "#ab63fa",
           "#FFA15A",
           "#19d3f3",
           "#FF6692",
           "#B6E880",
           "#FF97FF",
           "#FECB52"
          ],
          "font": {
           "color": "#2a3f5f"
          },
          "geo": {
           "bgcolor": "white",
           "lakecolor": "white",
           "landcolor": "#E5ECF6",
           "showlakes": true,
           "showland": true,
           "subunitcolor": "white"
          },
          "hoverlabel": {
           "align": "left"
          },
          "hovermode": "closest",
          "mapbox": {
           "style": "light"
          },
          "paper_bgcolor": "white",
          "plot_bgcolor": "#E5ECF6",
          "polar": {
           "angularaxis": {
            "gridcolor": "white",
            "linecolor": "white",
            "ticks": ""
           },
           "bgcolor": "#E5ECF6",
           "radialaxis": {
            "gridcolor": "white",
            "linecolor": "white",
            "ticks": ""
           }
          },
          "scene": {
           "xaxis": {
            "backgroundcolor": "#E5ECF6",
            "gridcolor": "white",
            "gridwidth": 2,
            "linecolor": "white",
            "showbackground": true,
            "ticks": "",
            "zerolinecolor": "white"
           },
           "yaxis": {
            "backgroundcolor": "#E5ECF6",
            "gridcolor": "white",
            "gridwidth": 2,
            "linecolor": "white",
            "showbackground": true,
            "ticks": "",
            "zerolinecolor": "white"
           },
           "zaxis": {
            "backgroundcolor": "#E5ECF6",
            "gridcolor": "white",
            "gridwidth": 2,
            "linecolor": "white",
            "showbackground": true,
            "ticks": "",
            "zerolinecolor": "white"
           }
          },
          "shapedefaults": {
           "line": {
            "color": "#2a3f5f"
           }
          },
          "ternary": {
           "aaxis": {
            "gridcolor": "white",
            "linecolor": "white",
            "ticks": ""
           },
           "baxis": {
            "gridcolor": "white",
            "linecolor": "white",
            "ticks": ""
           },
           "bgcolor": "#E5ECF6",
           "caxis": {
            "gridcolor": "white",
            "linecolor": "white",
            "ticks": ""
           }
          },
          "title": {
           "x": 0.05
          },
          "xaxis": {
           "automargin": true,
           "gridcolor": "white",
           "linecolor": "white",
           "ticks": "",
           "title": {
            "standoff": 15
           },
           "zerolinecolor": "white",
           "zerolinewidth": 2
          },
          "yaxis": {
           "automargin": true,
           "gridcolor": "white",
           "linecolor": "white",
           "ticks": "",
           "title": {
            "standoff": 15
           },
           "zerolinecolor": "white",
           "zerolinewidth": 2
          }
         }
        },
        "title": {
         "text": "Confusion Matrix (Test)"
        },
        "width": 800,
        "xaxis": {
         "title": {
          "text": "Predicted Class"
         }
        },
        "yaxis": {
         "title": {
          "text": "True Class"
         }
        }
       }
      }
     },
     "metadata": {},
     "output_type": "display_data"
    }
   ],
   "source": [
    "params_max_f1 = metrics_under_cnn.loc[metrics_under_cnn[\"f1_test_average\"].idxmax()]\n",
    "\n",
    "plot_confusion_matrix(params_max_f1)"
   ]
  },
  {
   "cell_type": "markdown",
   "metadata": {},
   "source": [
    "## Early Stopping"
   ]
  },
  {
   "cell_type": "code",
   "execution_count": 27,
   "metadata": {},
   "outputs": [],
   "source": [
    "data_early_cnn = pd.read_json('./results_cnn_early.json').T"
   ]
  },
  {
   "cell_type": "code",
   "execution_count": 28,
   "metadata": {},
   "outputs": [],
   "source": [
    "metrics_early_cnn = get_metrics(data_early_cnn)"
   ]
  },
  {
   "cell_type": "code",
   "execution_count": 29,
   "metadata": {},
   "outputs": [
    {
     "data": {
      "text/plain": [
       "(np.float64(0.6309427591407378), np.float64(0.8425808460199662))"
      ]
     },
     "execution_count": 29,
     "metadata": {},
     "output_type": "execute_result"
    }
   ],
   "source": [
    "max_f1_train = metrics_early_cnn[\"f1_train_average\"].max()\n",
    "max_f1_test = metrics_early_cnn[\"f1_test_average\"].max()\n",
    "\n",
    "max_f1_test, max_f1_train"
   ]
  },
  {
   "cell_type": "code",
   "execution_count": 30,
   "metadata": {},
   "outputs": [
    {
     "data": {
      "application/vnd.plotly.v1+json": {
       "config": {
        "plotlyServerURL": "https://plot.ly"
       },
       "data": [
        {
         "colorscale": [
          [
           0,
           "#440154"
          ],
          [
           0.1111111111111111,
           "#482878"
          ],
          [
           0.2222222222222222,
           "#3e4989"
          ],
          [
           0.3333333333333333,
           "#31688e"
          ],
          [
           0.4444444444444444,
           "#26828e"
          ],
          [
           0.5555555555555556,
           "#1f9e89"
          ],
          [
           0.6666666666666666,
           "#35b779"
          ],
          [
           0.7777777777777778,
           "#6ece58"
          ],
          [
           0.8888888888888888,
           "#b5de2b"
          ],
          [
           1,
           "#fde725"
          ]
         ],
         "showscale": true,
         "text": [
          [
           "2111",
           "268",
           "246",
           "94",
           "60",
           "17",
           "4"
          ],
          [
           "201",
           "2217",
           "164",
           "87",
           "22",
           "32",
           "77"
          ],
          [
           "93",
           "120",
           "2198",
           "20",
           "248",
           "94",
           "27"
          ],
          [
           "388",
           "164",
           "127",
           "2096",
           "10",
           "9",
           "6"
          ],
          [
           "69",
           "37",
           "337",
           "13",
           "2160",
           "165",
           "19"
          ],
          [
           "20",
           "47",
           "374",
           "16",
           "353",
           "1976",
           "14"
          ],
          [
           "28",
           "111",
           "15",
           "3",
           "3",
           "6",
           "2634"
          ]
         ],
         "texttemplate": "%{text}",
         "type": "heatmap",
         "x": [
          "Class 0",
          "Class 1",
          "Class 2",
          "Class 3",
          "Class 4",
          "Class 5",
          "Class 6"
         ],
         "y": [
          "Class 0",
          "Class 1",
          "Class 2",
          "Class 3",
          "Class 4",
          "Class 5",
          "Class 6"
         ],
         "z": {
          "bdata": "PwgMAfYAXgA8ABEABADJAKkIpABXABYAIABNAF0AeACWCBQA+ABeABsAhAGkAH8AMAgKAAkABgBFACUAUQENAHAIpQATABQALwB2ARAAYQG4Bw4AHABvAA8AAwADAAYASgo=",
          "dtype": "i2",
          "shape": "7, 7"
         }
        }
       ],
       "layout": {
        "height": 600,
        "template": {
         "data": {
          "bar": [
           {
            "error_x": {
             "color": "#2a3f5f"
            },
            "error_y": {
             "color": "#2a3f5f"
            },
            "marker": {
             "line": {
              "color": "#E5ECF6",
              "width": 0.5
             },
             "pattern": {
              "fillmode": "overlay",
              "size": 10,
              "solidity": 0.2
             }
            },
            "type": "bar"
           }
          ],
          "barpolar": [
           {
            "marker": {
             "line": {
              "color": "#E5ECF6",
              "width": 0.5
             },
             "pattern": {
              "fillmode": "overlay",
              "size": 10,
              "solidity": 0.2
             }
            },
            "type": "barpolar"
           }
          ],
          "carpet": [
           {
            "aaxis": {
             "endlinecolor": "#2a3f5f",
             "gridcolor": "white",
             "linecolor": "white",
             "minorgridcolor": "white",
             "startlinecolor": "#2a3f5f"
            },
            "baxis": {
             "endlinecolor": "#2a3f5f",
             "gridcolor": "white",
             "linecolor": "white",
             "minorgridcolor": "white",
             "startlinecolor": "#2a3f5f"
            },
            "type": "carpet"
           }
          ],
          "choropleth": [
           {
            "colorbar": {
             "outlinewidth": 0,
             "ticks": ""
            },
            "type": "choropleth"
           }
          ],
          "contour": [
           {
            "colorbar": {
             "outlinewidth": 0,
             "ticks": ""
            },
            "colorscale": [
             [
              0,
              "#0d0887"
             ],
             [
              0.1111111111111111,
              "#46039f"
             ],
             [
              0.2222222222222222,
              "#7201a8"
             ],
             [
              0.3333333333333333,
              "#9c179e"
             ],
             [
              0.4444444444444444,
              "#bd3786"
             ],
             [
              0.5555555555555556,
              "#d8576b"
             ],
             [
              0.6666666666666666,
              "#ed7953"
             ],
             [
              0.7777777777777778,
              "#fb9f3a"
             ],
             [
              0.8888888888888888,
              "#fdca26"
             ],
             [
              1,
              "#f0f921"
             ]
            ],
            "type": "contour"
           }
          ],
          "contourcarpet": [
           {
            "colorbar": {
             "outlinewidth": 0,
             "ticks": ""
            },
            "type": "contourcarpet"
           }
          ],
          "heatmap": [
           {
            "colorbar": {
             "outlinewidth": 0,
             "ticks": ""
            },
            "colorscale": [
             [
              0,
              "#0d0887"
             ],
             [
              0.1111111111111111,
              "#46039f"
             ],
             [
              0.2222222222222222,
              "#7201a8"
             ],
             [
              0.3333333333333333,
              "#9c179e"
             ],
             [
              0.4444444444444444,
              "#bd3786"
             ],
             [
              0.5555555555555556,
              "#d8576b"
             ],
             [
              0.6666666666666666,
              "#ed7953"
             ],
             [
              0.7777777777777778,
              "#fb9f3a"
             ],
             [
              0.8888888888888888,
              "#fdca26"
             ],
             [
              1,
              "#f0f921"
             ]
            ],
            "type": "heatmap"
           }
          ],
          "histogram": [
           {
            "marker": {
             "pattern": {
              "fillmode": "overlay",
              "size": 10,
              "solidity": 0.2
             }
            },
            "type": "histogram"
           }
          ],
          "histogram2d": [
           {
            "colorbar": {
             "outlinewidth": 0,
             "ticks": ""
            },
            "colorscale": [
             [
              0,
              "#0d0887"
             ],
             [
              0.1111111111111111,
              "#46039f"
             ],
             [
              0.2222222222222222,
              "#7201a8"
             ],
             [
              0.3333333333333333,
              "#9c179e"
             ],
             [
              0.4444444444444444,
              "#bd3786"
             ],
             [
              0.5555555555555556,
              "#d8576b"
             ],
             [
              0.6666666666666666,
              "#ed7953"
             ],
             [
              0.7777777777777778,
              "#fb9f3a"
             ],
             [
              0.8888888888888888,
              "#fdca26"
             ],
             [
              1,
              "#f0f921"
             ]
            ],
            "type": "histogram2d"
           }
          ],
          "histogram2dcontour": [
           {
            "colorbar": {
             "outlinewidth": 0,
             "ticks": ""
            },
            "colorscale": [
             [
              0,
              "#0d0887"
             ],
             [
              0.1111111111111111,
              "#46039f"
             ],
             [
              0.2222222222222222,
              "#7201a8"
             ],
             [
              0.3333333333333333,
              "#9c179e"
             ],
             [
              0.4444444444444444,
              "#bd3786"
             ],
             [
              0.5555555555555556,
              "#d8576b"
             ],
             [
              0.6666666666666666,
              "#ed7953"
             ],
             [
              0.7777777777777778,
              "#fb9f3a"
             ],
             [
              0.8888888888888888,
              "#fdca26"
             ],
             [
              1,
              "#f0f921"
             ]
            ],
            "type": "histogram2dcontour"
           }
          ],
          "mesh3d": [
           {
            "colorbar": {
             "outlinewidth": 0,
             "ticks": ""
            },
            "type": "mesh3d"
           }
          ],
          "parcoords": [
           {
            "line": {
             "colorbar": {
              "outlinewidth": 0,
              "ticks": ""
             }
            },
            "type": "parcoords"
           }
          ],
          "pie": [
           {
            "automargin": true,
            "type": "pie"
           }
          ],
          "scatter": [
           {
            "fillpattern": {
             "fillmode": "overlay",
             "size": 10,
             "solidity": 0.2
            },
            "type": "scatter"
           }
          ],
          "scatter3d": [
           {
            "line": {
             "colorbar": {
              "outlinewidth": 0,
              "ticks": ""
             }
            },
            "marker": {
             "colorbar": {
              "outlinewidth": 0,
              "ticks": ""
             }
            },
            "type": "scatter3d"
           }
          ],
          "scattercarpet": [
           {
            "marker": {
             "colorbar": {
              "outlinewidth": 0,
              "ticks": ""
             }
            },
            "type": "scattercarpet"
           }
          ],
          "scattergeo": [
           {
            "marker": {
             "colorbar": {
              "outlinewidth": 0,
              "ticks": ""
             }
            },
            "type": "scattergeo"
           }
          ],
          "scattergl": [
           {
            "marker": {
             "colorbar": {
              "outlinewidth": 0,
              "ticks": ""
             }
            },
            "type": "scattergl"
           }
          ],
          "scattermap": [
           {
            "marker": {
             "colorbar": {
              "outlinewidth": 0,
              "ticks": ""
             }
            },
            "type": "scattermap"
           }
          ],
          "scattermapbox": [
           {
            "marker": {
             "colorbar": {
              "outlinewidth": 0,
              "ticks": ""
             }
            },
            "type": "scattermapbox"
           }
          ],
          "scatterpolar": [
           {
            "marker": {
             "colorbar": {
              "outlinewidth": 0,
              "ticks": ""
             }
            },
            "type": "scatterpolar"
           }
          ],
          "scatterpolargl": [
           {
            "marker": {
             "colorbar": {
              "outlinewidth": 0,
              "ticks": ""
             }
            },
            "type": "scatterpolargl"
           }
          ],
          "scatterternary": [
           {
            "marker": {
             "colorbar": {
              "outlinewidth": 0,
              "ticks": ""
             }
            },
            "type": "scatterternary"
           }
          ],
          "surface": [
           {
            "colorbar": {
             "outlinewidth": 0,
             "ticks": ""
            },
            "colorscale": [
             [
              0,
              "#0d0887"
             ],
             [
              0.1111111111111111,
              "#46039f"
             ],
             [
              0.2222222222222222,
              "#7201a8"
             ],
             [
              0.3333333333333333,
              "#9c179e"
             ],
             [
              0.4444444444444444,
              "#bd3786"
             ],
             [
              0.5555555555555556,
              "#d8576b"
             ],
             [
              0.6666666666666666,
              "#ed7953"
             ],
             [
              0.7777777777777778,
              "#fb9f3a"
             ],
             [
              0.8888888888888888,
              "#fdca26"
             ],
             [
              1,
              "#f0f921"
             ]
            ],
            "type": "surface"
           }
          ],
          "table": [
           {
            "cells": {
             "fill": {
              "color": "#EBF0F8"
             },
             "line": {
              "color": "white"
             }
            },
            "header": {
             "fill": {
              "color": "#C8D4E3"
             },
             "line": {
              "color": "white"
             }
            },
            "type": "table"
           }
          ]
         },
         "layout": {
          "annotationdefaults": {
           "arrowcolor": "#2a3f5f",
           "arrowhead": 0,
           "arrowwidth": 1
          },
          "autotypenumbers": "strict",
          "coloraxis": {
           "colorbar": {
            "outlinewidth": 0,
            "ticks": ""
           }
          },
          "colorscale": {
           "diverging": [
            [
             0,
             "#8e0152"
            ],
            [
             0.1,
             "#c51b7d"
            ],
            [
             0.2,
             "#de77ae"
            ],
            [
             0.3,
             "#f1b6da"
            ],
            [
             0.4,
             "#fde0ef"
            ],
            [
             0.5,
             "#f7f7f7"
            ],
            [
             0.6,
             "#e6f5d0"
            ],
            [
             0.7,
             "#b8e186"
            ],
            [
             0.8,
             "#7fbc41"
            ],
            [
             0.9,
             "#4d9221"
            ],
            [
             1,
             "#276419"
            ]
           ],
           "sequential": [
            [
             0,
             "#0d0887"
            ],
            [
             0.1111111111111111,
             "#46039f"
            ],
            [
             0.2222222222222222,
             "#7201a8"
            ],
            [
             0.3333333333333333,
             "#9c179e"
            ],
            [
             0.4444444444444444,
             "#bd3786"
            ],
            [
             0.5555555555555556,
             "#d8576b"
            ],
            [
             0.6666666666666666,
             "#ed7953"
            ],
            [
             0.7777777777777778,
             "#fb9f3a"
            ],
            [
             0.8888888888888888,
             "#fdca26"
            ],
            [
             1,
             "#f0f921"
            ]
           ],
           "sequentialminus": [
            [
             0,
             "#0d0887"
            ],
            [
             0.1111111111111111,
             "#46039f"
            ],
            [
             0.2222222222222222,
             "#7201a8"
            ],
            [
             0.3333333333333333,
             "#9c179e"
            ],
            [
             0.4444444444444444,
             "#bd3786"
            ],
            [
             0.5555555555555556,
             "#d8576b"
            ],
            [
             0.6666666666666666,
             "#ed7953"
            ],
            [
             0.7777777777777778,
             "#fb9f3a"
            ],
            [
             0.8888888888888888,
             "#fdca26"
            ],
            [
             1,
             "#f0f921"
            ]
           ]
          },
          "colorway": [
           "#636efa",
           "#EF553B",
           "#00cc96",
           "#ab63fa",
           "#FFA15A",
           "#19d3f3",
           "#FF6692",
           "#B6E880",
           "#FF97FF",
           "#FECB52"
          ],
          "font": {
           "color": "#2a3f5f"
          },
          "geo": {
           "bgcolor": "white",
           "lakecolor": "white",
           "landcolor": "#E5ECF6",
           "showlakes": true,
           "showland": true,
           "subunitcolor": "white"
          },
          "hoverlabel": {
           "align": "left"
          },
          "hovermode": "closest",
          "mapbox": {
           "style": "light"
          },
          "paper_bgcolor": "white",
          "plot_bgcolor": "#E5ECF6",
          "polar": {
           "angularaxis": {
            "gridcolor": "white",
            "linecolor": "white",
            "ticks": ""
           },
           "bgcolor": "#E5ECF6",
           "radialaxis": {
            "gridcolor": "white",
            "linecolor": "white",
            "ticks": ""
           }
          },
          "scene": {
           "xaxis": {
            "backgroundcolor": "#E5ECF6",
            "gridcolor": "white",
            "gridwidth": 2,
            "linecolor": "white",
            "showbackground": true,
            "ticks": "",
            "zerolinecolor": "white"
           },
           "yaxis": {
            "backgroundcolor": "#E5ECF6",
            "gridcolor": "white",
            "gridwidth": 2,
            "linecolor": "white",
            "showbackground": true,
            "ticks": "",
            "zerolinecolor": "white"
           },
           "zaxis": {
            "backgroundcolor": "#E5ECF6",
            "gridcolor": "white",
            "gridwidth": 2,
            "linecolor": "white",
            "showbackground": true,
            "ticks": "",
            "zerolinecolor": "white"
           }
          },
          "shapedefaults": {
           "line": {
            "color": "#2a3f5f"
           }
          },
          "ternary": {
           "aaxis": {
            "gridcolor": "white",
            "linecolor": "white",
            "ticks": ""
           },
           "baxis": {
            "gridcolor": "white",
            "linecolor": "white",
            "ticks": ""
           },
           "bgcolor": "#E5ECF6",
           "caxis": {
            "gridcolor": "white",
            "linecolor": "white",
            "ticks": ""
           }
          },
          "title": {
           "x": 0.05
          },
          "xaxis": {
           "automargin": true,
           "gridcolor": "white",
           "linecolor": "white",
           "ticks": "",
           "title": {
            "standoff": 15
           },
           "zerolinecolor": "white",
           "zerolinewidth": 2
          },
          "yaxis": {
           "automargin": true,
           "gridcolor": "white",
           "linecolor": "white",
           "ticks": "",
           "title": {
            "standoff": 15
           },
           "zerolinecolor": "white",
           "zerolinewidth": 2
          }
         }
        },
        "title": {
         "text": "Confusion Matrix (Train)"
        },
        "width": 800,
        "xaxis": {
         "title": {
          "text": "Predicted Class"
         }
        },
        "yaxis": {
         "title": {
          "text": "True Class"
         }
        }
       }
      }
     },
     "metadata": {},
     "output_type": "display_data"
    },
    {
     "data": {
      "application/vnd.plotly.v1+json": {
       "config": {
        "plotlyServerURL": "https://plot.ly"
       },
       "data": [
        {
         "colorscale": [
          [
           0,
           "#440154"
          ],
          [
           0.1111111111111111,
           "#482878"
          ],
          [
           0.2222222222222222,
           "#3e4989"
          ],
          [
           0.3333333333333333,
           "#31688e"
          ],
          [
           0.4444444444444444,
           "#26828e"
          ],
          [
           0.5555555555555556,
           "#1f9e89"
          ],
          [
           0.6666666666666666,
           "#35b779"
          ],
          [
           0.7777777777777778,
           "#6ece58"
          ],
          [
           0.8888888888888888,
           "#b5de2b"
          ],
          [
           1,
           "#fde725"
          ]
         ],
         "showscale": true,
         "text": [
          [
           "360",
           "140",
           "84",
           "68",
           "27",
           "11",
           "10"
          ],
          [
           "111",
           "394",
           "70",
           "56",
           "15",
           "16",
           "38"
          ],
          [
           "47",
           "43",
           "416",
           "14",
           "117",
           "52",
           "11"
          ],
          [
           "111",
           "75",
           "40",
           "454",
           "12",
           "6",
           "2"
          ],
          [
           "26",
           "20",
           "160",
           "10",
           "392",
           "72",
           "20"
          ],
          [
           "10",
           "17",
           "136",
           "5",
           "129",
           "390",
           "13"
          ],
          [
           "10",
           "38",
           "10",
           "5",
           "9",
           "8",
           "620"
          ]
         ],
         "texttemplate": "%{text}",
         "type": "heatmap",
         "x": [
          "Class 0",
          "Class 1",
          "Class 2",
          "Class 3",
          "Class 4",
          "Class 5",
          "Class 6"
         ],
         "y": [
          "Class 0",
          "Class 1",
          "Class 2",
          "Class 3",
          "Class 4",
          "Class 5",
          "Class 6"
         ],
         "z": {
          "bdata": "aAGMAFQARAAbAAsACgBvAIoBRgA4AA8AEAAmAC8AKwCgAQ4AdQA0AAsAbwBLACgAxgEMAAYAAgAaABQAoAAKAIgBSAAUAAoAEQCIAAUAgQCGAQ0ACgAmAAoABQAJAAgAbAI=",
          "dtype": "i2",
          "shape": "7, 7"
         }
        }
       ],
       "layout": {
        "height": 600,
        "template": {
         "data": {
          "bar": [
           {
            "error_x": {
             "color": "#2a3f5f"
            },
            "error_y": {
             "color": "#2a3f5f"
            },
            "marker": {
             "line": {
              "color": "#E5ECF6",
              "width": 0.5
             },
             "pattern": {
              "fillmode": "overlay",
              "size": 10,
              "solidity": 0.2
             }
            },
            "type": "bar"
           }
          ],
          "barpolar": [
           {
            "marker": {
             "line": {
              "color": "#E5ECF6",
              "width": 0.5
             },
             "pattern": {
              "fillmode": "overlay",
              "size": 10,
              "solidity": 0.2
             }
            },
            "type": "barpolar"
           }
          ],
          "carpet": [
           {
            "aaxis": {
             "endlinecolor": "#2a3f5f",
             "gridcolor": "white",
             "linecolor": "white",
             "minorgridcolor": "white",
             "startlinecolor": "#2a3f5f"
            },
            "baxis": {
             "endlinecolor": "#2a3f5f",
             "gridcolor": "white",
             "linecolor": "white",
             "minorgridcolor": "white",
             "startlinecolor": "#2a3f5f"
            },
            "type": "carpet"
           }
          ],
          "choropleth": [
           {
            "colorbar": {
             "outlinewidth": 0,
             "ticks": ""
            },
            "type": "choropleth"
           }
          ],
          "contour": [
           {
            "colorbar": {
             "outlinewidth": 0,
             "ticks": ""
            },
            "colorscale": [
             [
              0,
              "#0d0887"
             ],
             [
              0.1111111111111111,
              "#46039f"
             ],
             [
              0.2222222222222222,
              "#7201a8"
             ],
             [
              0.3333333333333333,
              "#9c179e"
             ],
             [
              0.4444444444444444,
              "#bd3786"
             ],
             [
              0.5555555555555556,
              "#d8576b"
             ],
             [
              0.6666666666666666,
              "#ed7953"
             ],
             [
              0.7777777777777778,
              "#fb9f3a"
             ],
             [
              0.8888888888888888,
              "#fdca26"
             ],
             [
              1,
              "#f0f921"
             ]
            ],
            "type": "contour"
           }
          ],
          "contourcarpet": [
           {
            "colorbar": {
             "outlinewidth": 0,
             "ticks": ""
            },
            "type": "contourcarpet"
           }
          ],
          "heatmap": [
           {
            "colorbar": {
             "outlinewidth": 0,
             "ticks": ""
            },
            "colorscale": [
             [
              0,
              "#0d0887"
             ],
             [
              0.1111111111111111,
              "#46039f"
             ],
             [
              0.2222222222222222,
              "#7201a8"
             ],
             [
              0.3333333333333333,
              "#9c179e"
             ],
             [
              0.4444444444444444,
              "#bd3786"
             ],
             [
              0.5555555555555556,
              "#d8576b"
             ],
             [
              0.6666666666666666,
              "#ed7953"
             ],
             [
              0.7777777777777778,
              "#fb9f3a"
             ],
             [
              0.8888888888888888,
              "#fdca26"
             ],
             [
              1,
              "#f0f921"
             ]
            ],
            "type": "heatmap"
           }
          ],
          "histogram": [
           {
            "marker": {
             "pattern": {
              "fillmode": "overlay",
              "size": 10,
              "solidity": 0.2
             }
            },
            "type": "histogram"
           }
          ],
          "histogram2d": [
           {
            "colorbar": {
             "outlinewidth": 0,
             "ticks": ""
            },
            "colorscale": [
             [
              0,
              "#0d0887"
             ],
             [
              0.1111111111111111,
              "#46039f"
             ],
             [
              0.2222222222222222,
              "#7201a8"
             ],
             [
              0.3333333333333333,
              "#9c179e"
             ],
             [
              0.4444444444444444,
              "#bd3786"
             ],
             [
              0.5555555555555556,
              "#d8576b"
             ],
             [
              0.6666666666666666,
              "#ed7953"
             ],
             [
              0.7777777777777778,
              "#fb9f3a"
             ],
             [
              0.8888888888888888,
              "#fdca26"
             ],
             [
              1,
              "#f0f921"
             ]
            ],
            "type": "histogram2d"
           }
          ],
          "histogram2dcontour": [
           {
            "colorbar": {
             "outlinewidth": 0,
             "ticks": ""
            },
            "colorscale": [
             [
              0,
              "#0d0887"
             ],
             [
              0.1111111111111111,
              "#46039f"
             ],
             [
              0.2222222222222222,
              "#7201a8"
             ],
             [
              0.3333333333333333,
              "#9c179e"
             ],
             [
              0.4444444444444444,
              "#bd3786"
             ],
             [
              0.5555555555555556,
              "#d8576b"
             ],
             [
              0.6666666666666666,
              "#ed7953"
             ],
             [
              0.7777777777777778,
              "#fb9f3a"
             ],
             [
              0.8888888888888888,
              "#fdca26"
             ],
             [
              1,
              "#f0f921"
             ]
            ],
            "type": "histogram2dcontour"
           }
          ],
          "mesh3d": [
           {
            "colorbar": {
             "outlinewidth": 0,
             "ticks": ""
            },
            "type": "mesh3d"
           }
          ],
          "parcoords": [
           {
            "line": {
             "colorbar": {
              "outlinewidth": 0,
              "ticks": ""
             }
            },
            "type": "parcoords"
           }
          ],
          "pie": [
           {
            "automargin": true,
            "type": "pie"
           }
          ],
          "scatter": [
           {
            "fillpattern": {
             "fillmode": "overlay",
             "size": 10,
             "solidity": 0.2
            },
            "type": "scatter"
           }
          ],
          "scatter3d": [
           {
            "line": {
             "colorbar": {
              "outlinewidth": 0,
              "ticks": ""
             }
            },
            "marker": {
             "colorbar": {
              "outlinewidth": 0,
              "ticks": ""
             }
            },
            "type": "scatter3d"
           }
          ],
          "scattercarpet": [
           {
            "marker": {
             "colorbar": {
              "outlinewidth": 0,
              "ticks": ""
             }
            },
            "type": "scattercarpet"
           }
          ],
          "scattergeo": [
           {
            "marker": {
             "colorbar": {
              "outlinewidth": 0,
              "ticks": ""
             }
            },
            "type": "scattergeo"
           }
          ],
          "scattergl": [
           {
            "marker": {
             "colorbar": {
              "outlinewidth": 0,
              "ticks": ""
             }
            },
            "type": "scattergl"
           }
          ],
          "scattermap": [
           {
            "marker": {
             "colorbar": {
              "outlinewidth": 0,
              "ticks": ""
             }
            },
            "type": "scattermap"
           }
          ],
          "scattermapbox": [
           {
            "marker": {
             "colorbar": {
              "outlinewidth": 0,
              "ticks": ""
             }
            },
            "type": "scattermapbox"
           }
          ],
          "scatterpolar": [
           {
            "marker": {
             "colorbar": {
              "outlinewidth": 0,
              "ticks": ""
             }
            },
            "type": "scatterpolar"
           }
          ],
          "scatterpolargl": [
           {
            "marker": {
             "colorbar": {
              "outlinewidth": 0,
              "ticks": ""
             }
            },
            "type": "scatterpolargl"
           }
          ],
          "scatterternary": [
           {
            "marker": {
             "colorbar": {
              "outlinewidth": 0,
              "ticks": ""
             }
            },
            "type": "scatterternary"
           }
          ],
          "surface": [
           {
            "colorbar": {
             "outlinewidth": 0,
             "ticks": ""
            },
            "colorscale": [
             [
              0,
              "#0d0887"
             ],
             [
              0.1111111111111111,
              "#46039f"
             ],
             [
              0.2222222222222222,
              "#7201a8"
             ],
             [
              0.3333333333333333,
              "#9c179e"
             ],
             [
              0.4444444444444444,
              "#bd3786"
             ],
             [
              0.5555555555555556,
              "#d8576b"
             ],
             [
              0.6666666666666666,
              "#ed7953"
             ],
             [
              0.7777777777777778,
              "#fb9f3a"
             ],
             [
              0.8888888888888888,
              "#fdca26"
             ],
             [
              1,
              "#f0f921"
             ]
            ],
            "type": "surface"
           }
          ],
          "table": [
           {
            "cells": {
             "fill": {
              "color": "#EBF0F8"
             },
             "line": {
              "color": "white"
             }
            },
            "header": {
             "fill": {
              "color": "#C8D4E3"
             },
             "line": {
              "color": "white"
             }
            },
            "type": "table"
           }
          ]
         },
         "layout": {
          "annotationdefaults": {
           "arrowcolor": "#2a3f5f",
           "arrowhead": 0,
           "arrowwidth": 1
          },
          "autotypenumbers": "strict",
          "coloraxis": {
           "colorbar": {
            "outlinewidth": 0,
            "ticks": ""
           }
          },
          "colorscale": {
           "diverging": [
            [
             0,
             "#8e0152"
            ],
            [
             0.1,
             "#c51b7d"
            ],
            [
             0.2,
             "#de77ae"
            ],
            [
             0.3,
             "#f1b6da"
            ],
            [
             0.4,
             "#fde0ef"
            ],
            [
             0.5,
             "#f7f7f7"
            ],
            [
             0.6,
             "#e6f5d0"
            ],
            [
             0.7,
             "#b8e186"
            ],
            [
             0.8,
             "#7fbc41"
            ],
            [
             0.9,
             "#4d9221"
            ],
            [
             1,
             "#276419"
            ]
           ],
           "sequential": [
            [
             0,
             "#0d0887"
            ],
            [
             0.1111111111111111,
             "#46039f"
            ],
            [
             0.2222222222222222,
             "#7201a8"
            ],
            [
             0.3333333333333333,
             "#9c179e"
            ],
            [
             0.4444444444444444,
             "#bd3786"
            ],
            [
             0.5555555555555556,
             "#d8576b"
            ],
            [
             0.6666666666666666,
             "#ed7953"
            ],
            [
             0.7777777777777778,
             "#fb9f3a"
            ],
            [
             0.8888888888888888,
             "#fdca26"
            ],
            [
             1,
             "#f0f921"
            ]
           ],
           "sequentialminus": [
            [
             0,
             "#0d0887"
            ],
            [
             0.1111111111111111,
             "#46039f"
            ],
            [
             0.2222222222222222,
             "#7201a8"
            ],
            [
             0.3333333333333333,
             "#9c179e"
            ],
            [
             0.4444444444444444,
             "#bd3786"
            ],
            [
             0.5555555555555556,
             "#d8576b"
            ],
            [
             0.6666666666666666,
             "#ed7953"
            ],
            [
             0.7777777777777778,
             "#fb9f3a"
            ],
            [
             0.8888888888888888,
             "#fdca26"
            ],
            [
             1,
             "#f0f921"
            ]
           ]
          },
          "colorway": [
           "#636efa",
           "#EF553B",
           "#00cc96",
           "#ab63fa",
           "#FFA15A",
           "#19d3f3",
           "#FF6692",
           "#B6E880",
           "#FF97FF",
           "#FECB52"
          ],
          "font": {
           "color": "#2a3f5f"
          },
          "geo": {
           "bgcolor": "white",
           "lakecolor": "white",
           "landcolor": "#E5ECF6",
           "showlakes": true,
           "showland": true,
           "subunitcolor": "white"
          },
          "hoverlabel": {
           "align": "left"
          },
          "hovermode": "closest",
          "mapbox": {
           "style": "light"
          },
          "paper_bgcolor": "white",
          "plot_bgcolor": "#E5ECF6",
          "polar": {
           "angularaxis": {
            "gridcolor": "white",
            "linecolor": "white",
            "ticks": ""
           },
           "bgcolor": "#E5ECF6",
           "radialaxis": {
            "gridcolor": "white",
            "linecolor": "white",
            "ticks": ""
           }
          },
          "scene": {
           "xaxis": {
            "backgroundcolor": "#E5ECF6",
            "gridcolor": "white",
            "gridwidth": 2,
            "linecolor": "white",
            "showbackground": true,
            "ticks": "",
            "zerolinecolor": "white"
           },
           "yaxis": {
            "backgroundcolor": "#E5ECF6",
            "gridcolor": "white",
            "gridwidth": 2,
            "linecolor": "white",
            "showbackground": true,
            "ticks": "",
            "zerolinecolor": "white"
           },
           "zaxis": {
            "backgroundcolor": "#E5ECF6",
            "gridcolor": "white",
            "gridwidth": 2,
            "linecolor": "white",
            "showbackground": true,
            "ticks": "",
            "zerolinecolor": "white"
           }
          },
          "shapedefaults": {
           "line": {
            "color": "#2a3f5f"
           }
          },
          "ternary": {
           "aaxis": {
            "gridcolor": "white",
            "linecolor": "white",
            "ticks": ""
           },
           "baxis": {
            "gridcolor": "white",
            "linecolor": "white",
            "ticks": ""
           },
           "bgcolor": "#E5ECF6",
           "caxis": {
            "gridcolor": "white",
            "linecolor": "white",
            "ticks": ""
           }
          },
          "title": {
           "x": 0.05
          },
          "xaxis": {
           "automargin": true,
           "gridcolor": "white",
           "linecolor": "white",
           "ticks": "",
           "title": {
            "standoff": 15
           },
           "zerolinecolor": "white",
           "zerolinewidth": 2
          },
          "yaxis": {
           "automargin": true,
           "gridcolor": "white",
           "linecolor": "white",
           "ticks": "",
           "title": {
            "standoff": 15
           },
           "zerolinecolor": "white",
           "zerolinewidth": 2
          }
         }
        },
        "title": {
         "text": "Confusion Matrix (Test)"
        },
        "width": 800,
        "xaxis": {
         "title": {
          "text": "Predicted Class"
         }
        },
        "yaxis": {
         "title": {
          "text": "True Class"
         }
        }
       }
      }
     },
     "metadata": {},
     "output_type": "display_data"
    }
   ],
   "source": [
    "params_max_f1 = metrics_early_cnn.loc[metrics_early_cnn[\"f1_test_average\"].idxmax()]\n",
    "\n",
    "plot_confusion_matrix(params_max_f1)"
   ]
  },
  {
   "cell_type": "markdown",
   "metadata": {},
   "source": [
    "## Weight Decay"
   ]
  },
  {
   "cell_type": "code",
   "execution_count": 31,
   "metadata": {},
   "outputs": [],
   "source": [
    "data_decay_cnn = pd.read_json('./results_cnn_decay.json').T"
   ]
  },
  {
   "cell_type": "code",
   "execution_count": 32,
   "metadata": {},
   "outputs": [],
   "source": [
    "metrics_decay_cnn = get_metrics(data_decay_cnn)"
   ]
  },
  {
   "cell_type": "code",
   "execution_count": 33,
   "metadata": {},
   "outputs": [
    {
     "data": {
      "text/plain": [
       "(np.float64(0.6473054780411176), np.float64(0.9513362135318266))"
      ]
     },
     "execution_count": 33,
     "metadata": {},
     "output_type": "execute_result"
    }
   ],
   "source": [
    "max_f1_test = metrics_decay_cnn[\"f1_test_average\"].max()\n",
    "max_f1_train = metrics_decay_cnn[\"f1_train_average\"].max()\n",
    "\n",
    "max_f1_test, max_f1_train"
   ]
  },
  {
   "cell_type": "code",
   "execution_count": 34,
   "metadata": {},
   "outputs": [
    {
     "data": {
      "application/vnd.plotly.v1+json": {
       "config": {
        "plotlyServerURL": "https://plot.ly"
       },
       "data": [
        {
         "colorscale": [
          [
           0,
           "#440154"
          ],
          [
           0.1111111111111111,
           "#482878"
          ],
          [
           0.2222222222222222,
           "#3e4989"
          ],
          [
           0.3333333333333333,
           "#31688e"
          ],
          [
           0.4444444444444444,
           "#26828e"
          ],
          [
           0.5555555555555556,
           "#1f9e89"
          ],
          [
           0.6666666666666666,
           "#35b779"
          ],
          [
           0.7777777777777778,
           "#6ece58"
          ],
          [
           0.8888888888888888,
           "#b5de2b"
          ],
          [
           1,
           "#fde725"
          ]
         ],
         "showscale": true,
         "text": [
          [
           "2554",
           "136",
           "63",
           "23",
           "15",
           "7",
           "2"
          ],
          [
           "14",
           "2709",
           "38",
           "14",
           "3",
           "10",
           "12"
          ],
          [
           "14",
           "45",
           "2654",
           "21",
           "45",
           "16",
           "5"
          ],
          [
           "27",
           "64",
           "13",
           "2689",
           "1",
           "2",
           "4"
          ],
          [
           "7",
           "9",
           "94",
           "3",
           "2631",
           "55",
           "1"
          ],
          [
           "7",
           "25",
           "71",
           "7",
           "73",
           "2614",
           "3"
          ],
          [
           "0",
           "8",
           "9",
           "1",
           "6",
           "2",
           "2774"
          ]
         ],
         "texttemplate": "%{text}",
         "type": "heatmap",
         "x": [
          "Class 0",
          "Class 1",
          "Class 2",
          "Class 3",
          "Class 4",
          "Class 5",
          "Class 6"
         ],
         "y": [
          "Class 0",
          "Class 1",
          "Class 2",
          "Class 3",
          "Class 4",
          "Class 5",
          "Class 6"
         ],
         "z": {
          "bdata": "+gmIAD8AFwAPAAcAAgAOAJUKJgAOAAMACgAMAA4ALQBeChUALQAQAAUAGwBAAA0AgQoBAAIABAAHAAkAXgADAEcKNwABAAcAGQBHAAcASQA2CgMAAAAIAAkAAQAGAAIA1go=",
          "dtype": "i2",
          "shape": "7, 7"
         }
        }
       ],
       "layout": {
        "height": 600,
        "template": {
         "data": {
          "bar": [
           {
            "error_x": {
             "color": "#2a3f5f"
            },
            "error_y": {
             "color": "#2a3f5f"
            },
            "marker": {
             "line": {
              "color": "#E5ECF6",
              "width": 0.5
             },
             "pattern": {
              "fillmode": "overlay",
              "size": 10,
              "solidity": 0.2
             }
            },
            "type": "bar"
           }
          ],
          "barpolar": [
           {
            "marker": {
             "line": {
              "color": "#E5ECF6",
              "width": 0.5
             },
             "pattern": {
              "fillmode": "overlay",
              "size": 10,
              "solidity": 0.2
             }
            },
            "type": "barpolar"
           }
          ],
          "carpet": [
           {
            "aaxis": {
             "endlinecolor": "#2a3f5f",
             "gridcolor": "white",
             "linecolor": "white",
             "minorgridcolor": "white",
             "startlinecolor": "#2a3f5f"
            },
            "baxis": {
             "endlinecolor": "#2a3f5f",
             "gridcolor": "white",
             "linecolor": "white",
             "minorgridcolor": "white",
             "startlinecolor": "#2a3f5f"
            },
            "type": "carpet"
           }
          ],
          "choropleth": [
           {
            "colorbar": {
             "outlinewidth": 0,
             "ticks": ""
            },
            "type": "choropleth"
           }
          ],
          "contour": [
           {
            "colorbar": {
             "outlinewidth": 0,
             "ticks": ""
            },
            "colorscale": [
             [
              0,
              "#0d0887"
             ],
             [
              0.1111111111111111,
              "#46039f"
             ],
             [
              0.2222222222222222,
              "#7201a8"
             ],
             [
              0.3333333333333333,
              "#9c179e"
             ],
             [
              0.4444444444444444,
              "#bd3786"
             ],
             [
              0.5555555555555556,
              "#d8576b"
             ],
             [
              0.6666666666666666,
              "#ed7953"
             ],
             [
              0.7777777777777778,
              "#fb9f3a"
             ],
             [
              0.8888888888888888,
              "#fdca26"
             ],
             [
              1,
              "#f0f921"
             ]
            ],
            "type": "contour"
           }
          ],
          "contourcarpet": [
           {
            "colorbar": {
             "outlinewidth": 0,
             "ticks": ""
            },
            "type": "contourcarpet"
           }
          ],
          "heatmap": [
           {
            "colorbar": {
             "outlinewidth": 0,
             "ticks": ""
            },
            "colorscale": [
             [
              0,
              "#0d0887"
             ],
             [
              0.1111111111111111,
              "#46039f"
             ],
             [
              0.2222222222222222,
              "#7201a8"
             ],
             [
              0.3333333333333333,
              "#9c179e"
             ],
             [
              0.4444444444444444,
              "#bd3786"
             ],
             [
              0.5555555555555556,
              "#d8576b"
             ],
             [
              0.6666666666666666,
              "#ed7953"
             ],
             [
              0.7777777777777778,
              "#fb9f3a"
             ],
             [
              0.8888888888888888,
              "#fdca26"
             ],
             [
              1,
              "#f0f921"
             ]
            ],
            "type": "heatmap"
           }
          ],
          "histogram": [
           {
            "marker": {
             "pattern": {
              "fillmode": "overlay",
              "size": 10,
              "solidity": 0.2
             }
            },
            "type": "histogram"
           }
          ],
          "histogram2d": [
           {
            "colorbar": {
             "outlinewidth": 0,
             "ticks": ""
            },
            "colorscale": [
             [
              0,
              "#0d0887"
             ],
             [
              0.1111111111111111,
              "#46039f"
             ],
             [
              0.2222222222222222,
              "#7201a8"
             ],
             [
              0.3333333333333333,
              "#9c179e"
             ],
             [
              0.4444444444444444,
              "#bd3786"
             ],
             [
              0.5555555555555556,
              "#d8576b"
             ],
             [
              0.6666666666666666,
              "#ed7953"
             ],
             [
              0.7777777777777778,
              "#fb9f3a"
             ],
             [
              0.8888888888888888,
              "#fdca26"
             ],
             [
              1,
              "#f0f921"
             ]
            ],
            "type": "histogram2d"
           }
          ],
          "histogram2dcontour": [
           {
            "colorbar": {
             "outlinewidth": 0,
             "ticks": ""
            },
            "colorscale": [
             [
              0,
              "#0d0887"
             ],
             [
              0.1111111111111111,
              "#46039f"
             ],
             [
              0.2222222222222222,
              "#7201a8"
             ],
             [
              0.3333333333333333,
              "#9c179e"
             ],
             [
              0.4444444444444444,
              "#bd3786"
             ],
             [
              0.5555555555555556,
              "#d8576b"
             ],
             [
              0.6666666666666666,
              "#ed7953"
             ],
             [
              0.7777777777777778,
              "#fb9f3a"
             ],
             [
              0.8888888888888888,
              "#fdca26"
             ],
             [
              1,
              "#f0f921"
             ]
            ],
            "type": "histogram2dcontour"
           }
          ],
          "mesh3d": [
           {
            "colorbar": {
             "outlinewidth": 0,
             "ticks": ""
            },
            "type": "mesh3d"
           }
          ],
          "parcoords": [
           {
            "line": {
             "colorbar": {
              "outlinewidth": 0,
              "ticks": ""
             }
            },
            "type": "parcoords"
           }
          ],
          "pie": [
           {
            "automargin": true,
            "type": "pie"
           }
          ],
          "scatter": [
           {
            "fillpattern": {
             "fillmode": "overlay",
             "size": 10,
             "solidity": 0.2
            },
            "type": "scatter"
           }
          ],
          "scatter3d": [
           {
            "line": {
             "colorbar": {
              "outlinewidth": 0,
              "ticks": ""
             }
            },
            "marker": {
             "colorbar": {
              "outlinewidth": 0,
              "ticks": ""
             }
            },
            "type": "scatter3d"
           }
          ],
          "scattercarpet": [
           {
            "marker": {
             "colorbar": {
              "outlinewidth": 0,
              "ticks": ""
             }
            },
            "type": "scattercarpet"
           }
          ],
          "scattergeo": [
           {
            "marker": {
             "colorbar": {
              "outlinewidth": 0,
              "ticks": ""
             }
            },
            "type": "scattergeo"
           }
          ],
          "scattergl": [
           {
            "marker": {
             "colorbar": {
              "outlinewidth": 0,
              "ticks": ""
             }
            },
            "type": "scattergl"
           }
          ],
          "scattermap": [
           {
            "marker": {
             "colorbar": {
              "outlinewidth": 0,
              "ticks": ""
             }
            },
            "type": "scattermap"
           }
          ],
          "scattermapbox": [
           {
            "marker": {
             "colorbar": {
              "outlinewidth": 0,
              "ticks": ""
             }
            },
            "type": "scattermapbox"
           }
          ],
          "scatterpolar": [
           {
            "marker": {
             "colorbar": {
              "outlinewidth": 0,
              "ticks": ""
             }
            },
            "type": "scatterpolar"
           }
          ],
          "scatterpolargl": [
           {
            "marker": {
             "colorbar": {
              "outlinewidth": 0,
              "ticks": ""
             }
            },
            "type": "scatterpolargl"
           }
          ],
          "scatterternary": [
           {
            "marker": {
             "colorbar": {
              "outlinewidth": 0,
              "ticks": ""
             }
            },
            "type": "scatterternary"
           }
          ],
          "surface": [
           {
            "colorbar": {
             "outlinewidth": 0,
             "ticks": ""
            },
            "colorscale": [
             [
              0,
              "#0d0887"
             ],
             [
              0.1111111111111111,
              "#46039f"
             ],
             [
              0.2222222222222222,
              "#7201a8"
             ],
             [
              0.3333333333333333,
              "#9c179e"
             ],
             [
              0.4444444444444444,
              "#bd3786"
             ],
             [
              0.5555555555555556,
              "#d8576b"
             ],
             [
              0.6666666666666666,
              "#ed7953"
             ],
             [
              0.7777777777777778,
              "#fb9f3a"
             ],
             [
              0.8888888888888888,
              "#fdca26"
             ],
             [
              1,
              "#f0f921"
             ]
            ],
            "type": "surface"
           }
          ],
          "table": [
           {
            "cells": {
             "fill": {
              "color": "#EBF0F8"
             },
             "line": {
              "color": "white"
             }
            },
            "header": {
             "fill": {
              "color": "#C8D4E3"
             },
             "line": {
              "color": "white"
             }
            },
            "type": "table"
           }
          ]
         },
         "layout": {
          "annotationdefaults": {
           "arrowcolor": "#2a3f5f",
           "arrowhead": 0,
           "arrowwidth": 1
          },
          "autotypenumbers": "strict",
          "coloraxis": {
           "colorbar": {
            "outlinewidth": 0,
            "ticks": ""
           }
          },
          "colorscale": {
           "diverging": [
            [
             0,
             "#8e0152"
            ],
            [
             0.1,
             "#c51b7d"
            ],
            [
             0.2,
             "#de77ae"
            ],
            [
             0.3,
             "#f1b6da"
            ],
            [
             0.4,
             "#fde0ef"
            ],
            [
             0.5,
             "#f7f7f7"
            ],
            [
             0.6,
             "#e6f5d0"
            ],
            [
             0.7,
             "#b8e186"
            ],
            [
             0.8,
             "#7fbc41"
            ],
            [
             0.9,
             "#4d9221"
            ],
            [
             1,
             "#276419"
            ]
           ],
           "sequential": [
            [
             0,
             "#0d0887"
            ],
            [
             0.1111111111111111,
             "#46039f"
            ],
            [
             0.2222222222222222,
             "#7201a8"
            ],
            [
             0.3333333333333333,
             "#9c179e"
            ],
            [
             0.4444444444444444,
             "#bd3786"
            ],
            [
             0.5555555555555556,
             "#d8576b"
            ],
            [
             0.6666666666666666,
             "#ed7953"
            ],
            [
             0.7777777777777778,
             "#fb9f3a"
            ],
            [
             0.8888888888888888,
             "#fdca26"
            ],
            [
             1,
             "#f0f921"
            ]
           ],
           "sequentialminus": [
            [
             0,
             "#0d0887"
            ],
            [
             0.1111111111111111,
             "#46039f"
            ],
            [
             0.2222222222222222,
             "#7201a8"
            ],
            [
             0.3333333333333333,
             "#9c179e"
            ],
            [
             0.4444444444444444,
             "#bd3786"
            ],
            [
             0.5555555555555556,
             "#d8576b"
            ],
            [
             0.6666666666666666,
             "#ed7953"
            ],
            [
             0.7777777777777778,
             "#fb9f3a"
            ],
            [
             0.8888888888888888,
             "#fdca26"
            ],
            [
             1,
             "#f0f921"
            ]
           ]
          },
          "colorway": [
           "#636efa",
           "#EF553B",
           "#00cc96",
           "#ab63fa",
           "#FFA15A",
           "#19d3f3",
           "#FF6692",
           "#B6E880",
           "#FF97FF",
           "#FECB52"
          ],
          "font": {
           "color": "#2a3f5f"
          },
          "geo": {
           "bgcolor": "white",
           "lakecolor": "white",
           "landcolor": "#E5ECF6",
           "showlakes": true,
           "showland": true,
           "subunitcolor": "white"
          },
          "hoverlabel": {
           "align": "left"
          },
          "hovermode": "closest",
          "mapbox": {
           "style": "light"
          },
          "paper_bgcolor": "white",
          "plot_bgcolor": "#E5ECF6",
          "polar": {
           "angularaxis": {
            "gridcolor": "white",
            "linecolor": "white",
            "ticks": ""
           },
           "bgcolor": "#E5ECF6",
           "radialaxis": {
            "gridcolor": "white",
            "linecolor": "white",
            "ticks": ""
           }
          },
          "scene": {
           "xaxis": {
            "backgroundcolor": "#E5ECF6",
            "gridcolor": "white",
            "gridwidth": 2,
            "linecolor": "white",
            "showbackground": true,
            "ticks": "",
            "zerolinecolor": "white"
           },
           "yaxis": {
            "backgroundcolor": "#E5ECF6",
            "gridcolor": "white",
            "gridwidth": 2,
            "linecolor": "white",
            "showbackground": true,
            "ticks": "",
            "zerolinecolor": "white"
           },
           "zaxis": {
            "backgroundcolor": "#E5ECF6",
            "gridcolor": "white",
            "gridwidth": 2,
            "linecolor": "white",
            "showbackground": true,
            "ticks": "",
            "zerolinecolor": "white"
           }
          },
          "shapedefaults": {
           "line": {
            "color": "#2a3f5f"
           }
          },
          "ternary": {
           "aaxis": {
            "gridcolor": "white",
            "linecolor": "white",
            "ticks": ""
           },
           "baxis": {
            "gridcolor": "white",
            "linecolor": "white",
            "ticks": ""
           },
           "bgcolor": "#E5ECF6",
           "caxis": {
            "gridcolor": "white",
            "linecolor": "white",
            "ticks": ""
           }
          },
          "title": {
           "x": 0.05
          },
          "xaxis": {
           "automargin": true,
           "gridcolor": "white",
           "linecolor": "white",
           "ticks": "",
           "title": {
            "standoff": 15
           },
           "zerolinecolor": "white",
           "zerolinewidth": 2
          },
          "yaxis": {
           "automargin": true,
           "gridcolor": "white",
           "linecolor": "white",
           "ticks": "",
           "title": {
            "standoff": 15
           },
           "zerolinecolor": "white",
           "zerolinewidth": 2
          }
         }
        },
        "title": {
         "text": "Confusion Matrix (Train)"
        },
        "width": 800,
        "xaxis": {
         "title": {
          "text": "Predicted Class"
         }
        },
        "yaxis": {
         "title": {
          "text": "True Class"
         }
        }
       }
      }
     },
     "metadata": {},
     "output_type": "display_data"
    },
    {
     "data": {
      "application/vnd.plotly.v1+json": {
       "config": {
        "plotlyServerURL": "https://plot.ly"
       },
       "data": [
        {
         "colorscale": [
          [
           0,
           "#440154"
          ],
          [
           0.1111111111111111,
           "#482878"
          ],
          [
           0.2222222222222222,
           "#3e4989"
          ],
          [
           0.3333333333333333,
           "#31688e"
          ],
          [
           0.4444444444444444,
           "#26828e"
          ],
          [
           0.5555555555555556,
           "#1f9e89"
          ],
          [
           0.6666666666666666,
           "#35b779"
          ],
          [
           0.7777777777777778,
           "#6ece58"
          ],
          [
           0.8888888888888888,
           "#b5de2b"
          ],
          [
           1,
           "#fde725"
          ]
         ],
         "showscale": true,
         "text": [
          [
           "361",
           "152",
           "100",
           "38",
           "34",
           "13",
           "2"
          ],
          [
           "83",
           "451",
           "70",
           "40",
           "21",
           "19",
           "16"
          ],
          [
           "49",
           "78",
           "362",
           "26",
           "109",
           "63",
           "13"
          ],
          [
           "31",
           "76",
           "16",
           "552",
           "1",
           "13",
           "11"
          ],
          [
           "36",
           "41",
           "144",
           "12",
           "361",
           "95",
           "11"
          ],
          [
           "5",
           "32",
           "93",
           "9",
           "128",
           "420",
           "13"
          ],
          [
           "8",
           "21",
           "9",
           "5",
           "10",
           "10",
           "637"
          ]
         ],
         "texttemplate": "%{text}",
         "type": "heatmap",
         "x": [
          "Class 0",
          "Class 1",
          "Class 2",
          "Class 3",
          "Class 4",
          "Class 5",
          "Class 6"
         ],
         "y": [
          "Class 0",
          "Class 1",
          "Class 2",
          "Class 3",
          "Class 4",
          "Class 5",
          "Class 6"
         ],
         "z": {
          "bdata": "aQGYAGQAJgAiAA0AAgBTAMMBRgAoABUAEwAQADEATgBqARoAbQA/AA0AHwBMABAAKAIBAA0ACwAkACkAkAAMAGkBXwALAAUAIABdAAkAgACkAQ0ACAAVAAkABQAKAAoAfQI=",
          "dtype": "i2",
          "shape": "7, 7"
         }
        }
       ],
       "layout": {
        "height": 600,
        "template": {
         "data": {
          "bar": [
           {
            "error_x": {
             "color": "#2a3f5f"
            },
            "error_y": {
             "color": "#2a3f5f"
            },
            "marker": {
             "line": {
              "color": "#E5ECF6",
              "width": 0.5
             },
             "pattern": {
              "fillmode": "overlay",
              "size": 10,
              "solidity": 0.2
             }
            },
            "type": "bar"
           }
          ],
          "barpolar": [
           {
            "marker": {
             "line": {
              "color": "#E5ECF6",
              "width": 0.5
             },
             "pattern": {
              "fillmode": "overlay",
              "size": 10,
              "solidity": 0.2
             }
            },
            "type": "barpolar"
           }
          ],
          "carpet": [
           {
            "aaxis": {
             "endlinecolor": "#2a3f5f",
             "gridcolor": "white",
             "linecolor": "white",
             "minorgridcolor": "white",
             "startlinecolor": "#2a3f5f"
            },
            "baxis": {
             "endlinecolor": "#2a3f5f",
             "gridcolor": "white",
             "linecolor": "white",
             "minorgridcolor": "white",
             "startlinecolor": "#2a3f5f"
            },
            "type": "carpet"
           }
          ],
          "choropleth": [
           {
            "colorbar": {
             "outlinewidth": 0,
             "ticks": ""
            },
            "type": "choropleth"
           }
          ],
          "contour": [
           {
            "colorbar": {
             "outlinewidth": 0,
             "ticks": ""
            },
            "colorscale": [
             [
              0,
              "#0d0887"
             ],
             [
              0.1111111111111111,
              "#46039f"
             ],
             [
              0.2222222222222222,
              "#7201a8"
             ],
             [
              0.3333333333333333,
              "#9c179e"
             ],
             [
              0.4444444444444444,
              "#bd3786"
             ],
             [
              0.5555555555555556,
              "#d8576b"
             ],
             [
              0.6666666666666666,
              "#ed7953"
             ],
             [
              0.7777777777777778,
              "#fb9f3a"
             ],
             [
              0.8888888888888888,
              "#fdca26"
             ],
             [
              1,
              "#f0f921"
             ]
            ],
            "type": "contour"
           }
          ],
          "contourcarpet": [
           {
            "colorbar": {
             "outlinewidth": 0,
             "ticks": ""
            },
            "type": "contourcarpet"
           }
          ],
          "heatmap": [
           {
            "colorbar": {
             "outlinewidth": 0,
             "ticks": ""
            },
            "colorscale": [
             [
              0,
              "#0d0887"
             ],
             [
              0.1111111111111111,
              "#46039f"
             ],
             [
              0.2222222222222222,
              "#7201a8"
             ],
             [
              0.3333333333333333,
              "#9c179e"
             ],
             [
              0.4444444444444444,
              "#bd3786"
             ],
             [
              0.5555555555555556,
              "#d8576b"
             ],
             [
              0.6666666666666666,
              "#ed7953"
             ],
             [
              0.7777777777777778,
              "#fb9f3a"
             ],
             [
              0.8888888888888888,
              "#fdca26"
             ],
             [
              1,
              "#f0f921"
             ]
            ],
            "type": "heatmap"
           }
          ],
          "histogram": [
           {
            "marker": {
             "pattern": {
              "fillmode": "overlay",
              "size": 10,
              "solidity": 0.2
             }
            },
            "type": "histogram"
           }
          ],
          "histogram2d": [
           {
            "colorbar": {
             "outlinewidth": 0,
             "ticks": ""
            },
            "colorscale": [
             [
              0,
              "#0d0887"
             ],
             [
              0.1111111111111111,
              "#46039f"
             ],
             [
              0.2222222222222222,
              "#7201a8"
             ],
             [
              0.3333333333333333,
              "#9c179e"
             ],
             [
              0.4444444444444444,
              "#bd3786"
             ],
             [
              0.5555555555555556,
              "#d8576b"
             ],
             [
              0.6666666666666666,
              "#ed7953"
             ],
             [
              0.7777777777777778,
              "#fb9f3a"
             ],
             [
              0.8888888888888888,
              "#fdca26"
             ],
             [
              1,
              "#f0f921"
             ]
            ],
            "type": "histogram2d"
           }
          ],
          "histogram2dcontour": [
           {
            "colorbar": {
             "outlinewidth": 0,
             "ticks": ""
            },
            "colorscale": [
             [
              0,
              "#0d0887"
             ],
             [
              0.1111111111111111,
              "#46039f"
             ],
             [
              0.2222222222222222,
              "#7201a8"
             ],
             [
              0.3333333333333333,
              "#9c179e"
             ],
             [
              0.4444444444444444,
              "#bd3786"
             ],
             [
              0.5555555555555556,
              "#d8576b"
             ],
             [
              0.6666666666666666,
              "#ed7953"
             ],
             [
              0.7777777777777778,
              "#fb9f3a"
             ],
             [
              0.8888888888888888,
              "#fdca26"
             ],
             [
              1,
              "#f0f921"
             ]
            ],
            "type": "histogram2dcontour"
           }
          ],
          "mesh3d": [
           {
            "colorbar": {
             "outlinewidth": 0,
             "ticks": ""
            },
            "type": "mesh3d"
           }
          ],
          "parcoords": [
           {
            "line": {
             "colorbar": {
              "outlinewidth": 0,
              "ticks": ""
             }
            },
            "type": "parcoords"
           }
          ],
          "pie": [
           {
            "automargin": true,
            "type": "pie"
           }
          ],
          "scatter": [
           {
            "fillpattern": {
             "fillmode": "overlay",
             "size": 10,
             "solidity": 0.2
            },
            "type": "scatter"
           }
          ],
          "scatter3d": [
           {
            "line": {
             "colorbar": {
              "outlinewidth": 0,
              "ticks": ""
             }
            },
            "marker": {
             "colorbar": {
              "outlinewidth": 0,
              "ticks": ""
             }
            },
            "type": "scatter3d"
           }
          ],
          "scattercarpet": [
           {
            "marker": {
             "colorbar": {
              "outlinewidth": 0,
              "ticks": ""
             }
            },
            "type": "scattercarpet"
           }
          ],
          "scattergeo": [
           {
            "marker": {
             "colorbar": {
              "outlinewidth": 0,
              "ticks": ""
             }
            },
            "type": "scattergeo"
           }
          ],
          "scattergl": [
           {
            "marker": {
             "colorbar": {
              "outlinewidth": 0,
              "ticks": ""
             }
            },
            "type": "scattergl"
           }
          ],
          "scattermap": [
           {
            "marker": {
             "colorbar": {
              "outlinewidth": 0,
              "ticks": ""
             }
            },
            "type": "scattermap"
           }
          ],
          "scattermapbox": [
           {
            "marker": {
             "colorbar": {
              "outlinewidth": 0,
              "ticks": ""
             }
            },
            "type": "scattermapbox"
           }
          ],
          "scatterpolar": [
           {
            "marker": {
             "colorbar": {
              "outlinewidth": 0,
              "ticks": ""
             }
            },
            "type": "scatterpolar"
           }
          ],
          "scatterpolargl": [
           {
            "marker": {
             "colorbar": {
              "outlinewidth": 0,
              "ticks": ""
             }
            },
            "type": "scatterpolargl"
           }
          ],
          "scatterternary": [
           {
            "marker": {
             "colorbar": {
              "outlinewidth": 0,
              "ticks": ""
             }
            },
            "type": "scatterternary"
           }
          ],
          "surface": [
           {
            "colorbar": {
             "outlinewidth": 0,
             "ticks": ""
            },
            "colorscale": [
             [
              0,
              "#0d0887"
             ],
             [
              0.1111111111111111,
              "#46039f"
             ],
             [
              0.2222222222222222,
              "#7201a8"
             ],
             [
              0.3333333333333333,
              "#9c179e"
             ],
             [
              0.4444444444444444,
              "#bd3786"
             ],
             [
              0.5555555555555556,
              "#d8576b"
             ],
             [
              0.6666666666666666,
              "#ed7953"
             ],
             [
              0.7777777777777778,
              "#fb9f3a"
             ],
             [
              0.8888888888888888,
              "#fdca26"
             ],
             [
              1,
              "#f0f921"
             ]
            ],
            "type": "surface"
           }
          ],
          "table": [
           {
            "cells": {
             "fill": {
              "color": "#EBF0F8"
             },
             "line": {
              "color": "white"
             }
            },
            "header": {
             "fill": {
              "color": "#C8D4E3"
             },
             "line": {
              "color": "white"
             }
            },
            "type": "table"
           }
          ]
         },
         "layout": {
          "annotationdefaults": {
           "arrowcolor": "#2a3f5f",
           "arrowhead": 0,
           "arrowwidth": 1
          },
          "autotypenumbers": "strict",
          "coloraxis": {
           "colorbar": {
            "outlinewidth": 0,
            "ticks": ""
           }
          },
          "colorscale": {
           "diverging": [
            [
             0,
             "#8e0152"
            ],
            [
             0.1,
             "#c51b7d"
            ],
            [
             0.2,
             "#de77ae"
            ],
            [
             0.3,
             "#f1b6da"
            ],
            [
             0.4,
             "#fde0ef"
            ],
            [
             0.5,
             "#f7f7f7"
            ],
            [
             0.6,
             "#e6f5d0"
            ],
            [
             0.7,
             "#b8e186"
            ],
            [
             0.8,
             "#7fbc41"
            ],
            [
             0.9,
             "#4d9221"
            ],
            [
             1,
             "#276419"
            ]
           ],
           "sequential": [
            [
             0,
             "#0d0887"
            ],
            [
             0.1111111111111111,
             "#46039f"
            ],
            [
             0.2222222222222222,
             "#7201a8"
            ],
            [
             0.3333333333333333,
             "#9c179e"
            ],
            [
             0.4444444444444444,
             "#bd3786"
            ],
            [
             0.5555555555555556,
             "#d8576b"
            ],
            [
             0.6666666666666666,
             "#ed7953"
            ],
            [
             0.7777777777777778,
             "#fb9f3a"
            ],
            [
             0.8888888888888888,
             "#fdca26"
            ],
            [
             1,
             "#f0f921"
            ]
           ],
           "sequentialminus": [
            [
             0,
             "#0d0887"
            ],
            [
             0.1111111111111111,
             "#46039f"
            ],
            [
             0.2222222222222222,
             "#7201a8"
            ],
            [
             0.3333333333333333,
             "#9c179e"
            ],
            [
             0.4444444444444444,
             "#bd3786"
            ],
            [
             0.5555555555555556,
             "#d8576b"
            ],
            [
             0.6666666666666666,
             "#ed7953"
            ],
            [
             0.7777777777777778,
             "#fb9f3a"
            ],
            [
             0.8888888888888888,
             "#fdca26"
            ],
            [
             1,
             "#f0f921"
            ]
           ]
          },
          "colorway": [
           "#636efa",
           "#EF553B",
           "#00cc96",
           "#ab63fa",
           "#FFA15A",
           "#19d3f3",
           "#FF6692",
           "#B6E880",
           "#FF97FF",
           "#FECB52"
          ],
          "font": {
           "color": "#2a3f5f"
          },
          "geo": {
           "bgcolor": "white",
           "lakecolor": "white",
           "landcolor": "#E5ECF6",
           "showlakes": true,
           "showland": true,
           "subunitcolor": "white"
          },
          "hoverlabel": {
           "align": "left"
          },
          "hovermode": "closest",
          "mapbox": {
           "style": "light"
          },
          "paper_bgcolor": "white",
          "plot_bgcolor": "#E5ECF6",
          "polar": {
           "angularaxis": {
            "gridcolor": "white",
            "linecolor": "white",
            "ticks": ""
           },
           "bgcolor": "#E5ECF6",
           "radialaxis": {
            "gridcolor": "white",
            "linecolor": "white",
            "ticks": ""
           }
          },
          "scene": {
           "xaxis": {
            "backgroundcolor": "#E5ECF6",
            "gridcolor": "white",
            "gridwidth": 2,
            "linecolor": "white",
            "showbackground": true,
            "ticks": "",
            "zerolinecolor": "white"
           },
           "yaxis": {
            "backgroundcolor": "#E5ECF6",
            "gridcolor": "white",
            "gridwidth": 2,
            "linecolor": "white",
            "showbackground": true,
            "ticks": "",
            "zerolinecolor": "white"
           },
           "zaxis": {
            "backgroundcolor": "#E5ECF6",
            "gridcolor": "white",
            "gridwidth": 2,
            "linecolor": "white",
            "showbackground": true,
            "ticks": "",
            "zerolinecolor": "white"
           }
          },
          "shapedefaults": {
           "line": {
            "color": "#2a3f5f"
           }
          },
          "ternary": {
           "aaxis": {
            "gridcolor": "white",
            "linecolor": "white",
            "ticks": ""
           },
           "baxis": {
            "gridcolor": "white",
            "linecolor": "white",
            "ticks": ""
           },
           "bgcolor": "#E5ECF6",
           "caxis": {
            "gridcolor": "white",
            "linecolor": "white",
            "ticks": ""
           }
          },
          "title": {
           "x": 0.05
          },
          "xaxis": {
           "automargin": true,
           "gridcolor": "white",
           "linecolor": "white",
           "ticks": "",
           "title": {
            "standoff": 15
           },
           "zerolinecolor": "white",
           "zerolinewidth": 2
          },
          "yaxis": {
           "automargin": true,
           "gridcolor": "white",
           "linecolor": "white",
           "ticks": "",
           "title": {
            "standoff": 15
           },
           "zerolinecolor": "white",
           "zerolinewidth": 2
          }
         }
        },
        "title": {
         "text": "Confusion Matrix (Test)"
        },
        "width": 800,
        "xaxis": {
         "title": {
          "text": "Predicted Class"
         }
        },
        "yaxis": {
         "title": {
          "text": "True Class"
         }
        }
       }
      }
     },
     "metadata": {},
     "output_type": "display_data"
    }
   ],
   "source": [
    "params_max_f1 = metrics_decay_cnn.loc[metrics_decay_cnn[\"f1_test_average\"].idxmax()]\n",
    "\n",
    "plot_confusion_matrix(params_max_f1)"
   ]
  },
  {
   "cell_type": "markdown",
   "metadata": {},
   "source": [
    "## Additional tests\n",
    "\n",
    "None of the previous solutions worked"
   ]
  },
  {
   "cell_type": "code",
   "execution_count": 35,
   "metadata": {},
   "outputs": [],
   "source": [
    "data_add_cnn = pd.read_json('./results_cnn_additional.json').T"
   ]
  },
  {
   "cell_type": "code",
   "execution_count": 36,
   "metadata": {},
   "outputs": [],
   "source": [
    "metrics_add_cnn = get_metrics(data_add_cnn)"
   ]
  },
  {
   "cell_type": "code",
   "execution_count": 37,
   "metadata": {},
   "outputs": [
    {
     "data": {
      "text/plain": [
       "(np.float64(0.6707665605319414), np.float64(0.94321155589057))"
      ]
     },
     "execution_count": 37,
     "metadata": {},
     "output_type": "execute_result"
    }
   ],
   "source": [
    "max_f1_test = metrics_add_cnn[\"f1_test_average\"].max()\n",
    "max_f1_train = metrics_add_cnn[\"f1_train_average\"].max()\n",
    "\n",
    "max_f1_test, max_f1_train"
   ]
  },
  {
   "cell_type": "code",
   "execution_count": 38,
   "metadata": {},
   "outputs": [],
   "source": [
    "params_max_f1 = metrics_add_cnn.loc[metrics_add_cnn[\"f1_test_average\"].idxmax()]"
   ]
  },
  {
   "cell_type": "code",
   "execution_count": 39,
   "metadata": {},
   "outputs": [
    {
     "data": {
      "application/vnd.plotly.v1+json": {
       "config": {
        "plotlyServerURL": "https://plot.ly"
       },
       "data": [
        {
         "colorscale": [
          [
           0,
           "#440154"
          ],
          [
           0.1111111111111111,
           "#482878"
          ],
          [
           0.2222222222222222,
           "#3e4989"
          ],
          [
           0.3333333333333333,
           "#31688e"
          ],
          [
           0.4444444444444444,
           "#26828e"
          ],
          [
           0.5555555555555556,
           "#1f9e89"
          ],
          [
           0.6666666666666666,
           "#35b779"
          ],
          [
           0.7777777777777778,
           "#6ece58"
          ],
          [
           0.8888888888888888,
           "#b5de2b"
          ],
          [
           1,
           "#fde725"
          ]
         ],
         "showscale": true,
         "text": [
          [
           "2696",
           "37",
           "32",
           "21",
           "11",
           "2",
           "1"
          ],
          [
           "118",
           "2535",
           "48",
           "46",
           "17",
           "5",
           "31"
          ],
          [
           "56",
           "44",
           "2542",
           "12",
           "61",
           "59",
           "26"
          ],
          [
           "47",
           "19",
           "9",
           "2716",
           "3",
           "5",
           "1"
          ],
          [
           "35",
           "19",
           "156",
           "8",
           "2517",
           "51",
           "14"
          ],
          [
           "22",
           "25",
           "166",
           "6",
           "150",
           "2408",
           "23"
          ],
          [
           "0",
           "3",
           "12",
           "4",
           "2",
           "2",
           "2777"
          ]
         ],
         "texttemplate": "%{text}",
         "type": "heatmap",
         "x": [
          "Class 0",
          "Class 1",
          "Class 2",
          "Class 3",
          "Class 4",
          "Class 5",
          "Class 6"
         ],
         "y": [
          "Class 0",
          "Class 1",
          "Class 2",
          "Class 3",
          "Class 4",
          "Class 5",
          "Class 6"
         ],
         "z": {
          "bdata": "iAolACAAFQALAAIAAQB2AOcJMAAuABEABQAfADgALADuCQwAPQA7ABoALwATAAkAnAoDAAUAAQAjABMAnAAIANUJMwAOABYAGQCmAAYAlgBoCRcAAAADAAwABAACAAIA2Qo=",
          "dtype": "i2",
          "shape": "7, 7"
         }
        }
       ],
       "layout": {
        "height": 600,
        "template": {
         "data": {
          "bar": [
           {
            "error_x": {
             "color": "#2a3f5f"
            },
            "error_y": {
             "color": "#2a3f5f"
            },
            "marker": {
             "line": {
              "color": "#E5ECF6",
              "width": 0.5
             },
             "pattern": {
              "fillmode": "overlay",
              "size": 10,
              "solidity": 0.2
             }
            },
            "type": "bar"
           }
          ],
          "barpolar": [
           {
            "marker": {
             "line": {
              "color": "#E5ECF6",
              "width": 0.5
             },
             "pattern": {
              "fillmode": "overlay",
              "size": 10,
              "solidity": 0.2
             }
            },
            "type": "barpolar"
           }
          ],
          "carpet": [
           {
            "aaxis": {
             "endlinecolor": "#2a3f5f",
             "gridcolor": "white",
             "linecolor": "white",
             "minorgridcolor": "white",
             "startlinecolor": "#2a3f5f"
            },
            "baxis": {
             "endlinecolor": "#2a3f5f",
             "gridcolor": "white",
             "linecolor": "white",
             "minorgridcolor": "white",
             "startlinecolor": "#2a3f5f"
            },
            "type": "carpet"
           }
          ],
          "choropleth": [
           {
            "colorbar": {
             "outlinewidth": 0,
             "ticks": ""
            },
            "type": "choropleth"
           }
          ],
          "contour": [
           {
            "colorbar": {
             "outlinewidth": 0,
             "ticks": ""
            },
            "colorscale": [
             [
              0,
              "#0d0887"
             ],
             [
              0.1111111111111111,
              "#46039f"
             ],
             [
              0.2222222222222222,
              "#7201a8"
             ],
             [
              0.3333333333333333,
              "#9c179e"
             ],
             [
              0.4444444444444444,
              "#bd3786"
             ],
             [
              0.5555555555555556,
              "#d8576b"
             ],
             [
              0.6666666666666666,
              "#ed7953"
             ],
             [
              0.7777777777777778,
              "#fb9f3a"
             ],
             [
              0.8888888888888888,
              "#fdca26"
             ],
             [
              1,
              "#f0f921"
             ]
            ],
            "type": "contour"
           }
          ],
          "contourcarpet": [
           {
            "colorbar": {
             "outlinewidth": 0,
             "ticks": ""
            },
            "type": "contourcarpet"
           }
          ],
          "heatmap": [
           {
            "colorbar": {
             "outlinewidth": 0,
             "ticks": ""
            },
            "colorscale": [
             [
              0,
              "#0d0887"
             ],
             [
              0.1111111111111111,
              "#46039f"
             ],
             [
              0.2222222222222222,
              "#7201a8"
             ],
             [
              0.3333333333333333,
              "#9c179e"
             ],
             [
              0.4444444444444444,
              "#bd3786"
             ],
             [
              0.5555555555555556,
              "#d8576b"
             ],
             [
              0.6666666666666666,
              "#ed7953"
             ],
             [
              0.7777777777777778,
              "#fb9f3a"
             ],
             [
              0.8888888888888888,
              "#fdca26"
             ],
             [
              1,
              "#f0f921"
             ]
            ],
            "type": "heatmap"
           }
          ],
          "histogram": [
           {
            "marker": {
             "pattern": {
              "fillmode": "overlay",
              "size": 10,
              "solidity": 0.2
             }
            },
            "type": "histogram"
           }
          ],
          "histogram2d": [
           {
            "colorbar": {
             "outlinewidth": 0,
             "ticks": ""
            },
            "colorscale": [
             [
              0,
              "#0d0887"
             ],
             [
              0.1111111111111111,
              "#46039f"
             ],
             [
              0.2222222222222222,
              "#7201a8"
             ],
             [
              0.3333333333333333,
              "#9c179e"
             ],
             [
              0.4444444444444444,
              "#bd3786"
             ],
             [
              0.5555555555555556,
              "#d8576b"
             ],
             [
              0.6666666666666666,
              "#ed7953"
             ],
             [
              0.7777777777777778,
              "#fb9f3a"
             ],
             [
              0.8888888888888888,
              "#fdca26"
             ],
             [
              1,
              "#f0f921"
             ]
            ],
            "type": "histogram2d"
           }
          ],
          "histogram2dcontour": [
           {
            "colorbar": {
             "outlinewidth": 0,
             "ticks": ""
            },
            "colorscale": [
             [
              0,
              "#0d0887"
             ],
             [
              0.1111111111111111,
              "#46039f"
             ],
             [
              0.2222222222222222,
              "#7201a8"
             ],
             [
              0.3333333333333333,
              "#9c179e"
             ],
             [
              0.4444444444444444,
              "#bd3786"
             ],
             [
              0.5555555555555556,
              "#d8576b"
             ],
             [
              0.6666666666666666,
              "#ed7953"
             ],
             [
              0.7777777777777778,
              "#fb9f3a"
             ],
             [
              0.8888888888888888,
              "#fdca26"
             ],
             [
              1,
              "#f0f921"
             ]
            ],
            "type": "histogram2dcontour"
           }
          ],
          "mesh3d": [
           {
            "colorbar": {
             "outlinewidth": 0,
             "ticks": ""
            },
            "type": "mesh3d"
           }
          ],
          "parcoords": [
           {
            "line": {
             "colorbar": {
              "outlinewidth": 0,
              "ticks": ""
             }
            },
            "type": "parcoords"
           }
          ],
          "pie": [
           {
            "automargin": true,
            "type": "pie"
           }
          ],
          "scatter": [
           {
            "fillpattern": {
             "fillmode": "overlay",
             "size": 10,
             "solidity": 0.2
            },
            "type": "scatter"
           }
          ],
          "scatter3d": [
           {
            "line": {
             "colorbar": {
              "outlinewidth": 0,
              "ticks": ""
             }
            },
            "marker": {
             "colorbar": {
              "outlinewidth": 0,
              "ticks": ""
             }
            },
            "type": "scatter3d"
           }
          ],
          "scattercarpet": [
           {
            "marker": {
             "colorbar": {
              "outlinewidth": 0,
              "ticks": ""
             }
            },
            "type": "scattercarpet"
           }
          ],
          "scattergeo": [
           {
            "marker": {
             "colorbar": {
              "outlinewidth": 0,
              "ticks": ""
             }
            },
            "type": "scattergeo"
           }
          ],
          "scattergl": [
           {
            "marker": {
             "colorbar": {
              "outlinewidth": 0,
              "ticks": ""
             }
            },
            "type": "scattergl"
           }
          ],
          "scattermap": [
           {
            "marker": {
             "colorbar": {
              "outlinewidth": 0,
              "ticks": ""
             }
            },
            "type": "scattermap"
           }
          ],
          "scattermapbox": [
           {
            "marker": {
             "colorbar": {
              "outlinewidth": 0,
              "ticks": ""
             }
            },
            "type": "scattermapbox"
           }
          ],
          "scatterpolar": [
           {
            "marker": {
             "colorbar": {
              "outlinewidth": 0,
              "ticks": ""
             }
            },
            "type": "scatterpolar"
           }
          ],
          "scatterpolargl": [
           {
            "marker": {
             "colorbar": {
              "outlinewidth": 0,
              "ticks": ""
             }
            },
            "type": "scatterpolargl"
           }
          ],
          "scatterternary": [
           {
            "marker": {
             "colorbar": {
              "outlinewidth": 0,
              "ticks": ""
             }
            },
            "type": "scatterternary"
           }
          ],
          "surface": [
           {
            "colorbar": {
             "outlinewidth": 0,
             "ticks": ""
            },
            "colorscale": [
             [
              0,
              "#0d0887"
             ],
             [
              0.1111111111111111,
              "#46039f"
             ],
             [
              0.2222222222222222,
              "#7201a8"
             ],
             [
              0.3333333333333333,
              "#9c179e"
             ],
             [
              0.4444444444444444,
              "#bd3786"
             ],
             [
              0.5555555555555556,
              "#d8576b"
             ],
             [
              0.6666666666666666,
              "#ed7953"
             ],
             [
              0.7777777777777778,
              "#fb9f3a"
             ],
             [
              0.8888888888888888,
              "#fdca26"
             ],
             [
              1,
              "#f0f921"
             ]
            ],
            "type": "surface"
           }
          ],
          "table": [
           {
            "cells": {
             "fill": {
              "color": "#EBF0F8"
             },
             "line": {
              "color": "white"
             }
            },
            "header": {
             "fill": {
              "color": "#C8D4E3"
             },
             "line": {
              "color": "white"
             }
            },
            "type": "table"
           }
          ]
         },
         "layout": {
          "annotationdefaults": {
           "arrowcolor": "#2a3f5f",
           "arrowhead": 0,
           "arrowwidth": 1
          },
          "autotypenumbers": "strict",
          "coloraxis": {
           "colorbar": {
            "outlinewidth": 0,
            "ticks": ""
           }
          },
          "colorscale": {
           "diverging": [
            [
             0,
             "#8e0152"
            ],
            [
             0.1,
             "#c51b7d"
            ],
            [
             0.2,
             "#de77ae"
            ],
            [
             0.3,
             "#f1b6da"
            ],
            [
             0.4,
             "#fde0ef"
            ],
            [
             0.5,
             "#f7f7f7"
            ],
            [
             0.6,
             "#e6f5d0"
            ],
            [
             0.7,
             "#b8e186"
            ],
            [
             0.8,
             "#7fbc41"
            ],
            [
             0.9,
             "#4d9221"
            ],
            [
             1,
             "#276419"
            ]
           ],
           "sequential": [
            [
             0,
             "#0d0887"
            ],
            [
             0.1111111111111111,
             "#46039f"
            ],
            [
             0.2222222222222222,
             "#7201a8"
            ],
            [
             0.3333333333333333,
             "#9c179e"
            ],
            [
             0.4444444444444444,
             "#bd3786"
            ],
            [
             0.5555555555555556,
             "#d8576b"
            ],
            [
             0.6666666666666666,
             "#ed7953"
            ],
            [
             0.7777777777777778,
             "#fb9f3a"
            ],
            [
             0.8888888888888888,
             "#fdca26"
            ],
            [
             1,
             "#f0f921"
            ]
           ],
           "sequentialminus": [
            [
             0,
             "#0d0887"
            ],
            [
             0.1111111111111111,
             "#46039f"
            ],
            [
             0.2222222222222222,
             "#7201a8"
            ],
            [
             0.3333333333333333,
             "#9c179e"
            ],
            [
             0.4444444444444444,
             "#bd3786"
            ],
            [
             0.5555555555555556,
             "#d8576b"
            ],
            [
             0.6666666666666666,
             "#ed7953"
            ],
            [
             0.7777777777777778,
             "#fb9f3a"
            ],
            [
             0.8888888888888888,
             "#fdca26"
            ],
            [
             1,
             "#f0f921"
            ]
           ]
          },
          "colorway": [
           "#636efa",
           "#EF553B",
           "#00cc96",
           "#ab63fa",
           "#FFA15A",
           "#19d3f3",
           "#FF6692",
           "#B6E880",
           "#FF97FF",
           "#FECB52"
          ],
          "font": {
           "color": "#2a3f5f"
          },
          "geo": {
           "bgcolor": "white",
           "lakecolor": "white",
           "landcolor": "#E5ECF6",
           "showlakes": true,
           "showland": true,
           "subunitcolor": "white"
          },
          "hoverlabel": {
           "align": "left"
          },
          "hovermode": "closest",
          "mapbox": {
           "style": "light"
          },
          "paper_bgcolor": "white",
          "plot_bgcolor": "#E5ECF6",
          "polar": {
           "angularaxis": {
            "gridcolor": "white",
            "linecolor": "white",
            "ticks": ""
           },
           "bgcolor": "#E5ECF6",
           "radialaxis": {
            "gridcolor": "white",
            "linecolor": "white",
            "ticks": ""
           }
          },
          "scene": {
           "xaxis": {
            "backgroundcolor": "#E5ECF6",
            "gridcolor": "white",
            "gridwidth": 2,
            "linecolor": "white",
            "showbackground": true,
            "ticks": "",
            "zerolinecolor": "white"
           },
           "yaxis": {
            "backgroundcolor": "#E5ECF6",
            "gridcolor": "white",
            "gridwidth": 2,
            "linecolor": "white",
            "showbackground": true,
            "ticks": "",
            "zerolinecolor": "white"
           },
           "zaxis": {
            "backgroundcolor": "#E5ECF6",
            "gridcolor": "white",
            "gridwidth": 2,
            "linecolor": "white",
            "showbackground": true,
            "ticks": "",
            "zerolinecolor": "white"
           }
          },
          "shapedefaults": {
           "line": {
            "color": "#2a3f5f"
           }
          },
          "ternary": {
           "aaxis": {
            "gridcolor": "white",
            "linecolor": "white",
            "ticks": ""
           },
           "baxis": {
            "gridcolor": "white",
            "linecolor": "white",
            "ticks": ""
           },
           "bgcolor": "#E5ECF6",
           "caxis": {
            "gridcolor": "white",
            "linecolor": "white",
            "ticks": ""
           }
          },
          "title": {
           "x": 0.05
          },
          "xaxis": {
           "automargin": true,
           "gridcolor": "white",
           "linecolor": "white",
           "ticks": "",
           "title": {
            "standoff": 15
           },
           "zerolinecolor": "white",
           "zerolinewidth": 2
          },
          "yaxis": {
           "automargin": true,
           "gridcolor": "white",
           "linecolor": "white",
           "ticks": "",
           "title": {
            "standoff": 15
           },
           "zerolinecolor": "white",
           "zerolinewidth": 2
          }
         }
        },
        "title": {
         "text": "Confusion Matrix (Train)"
        },
        "width": 800,
        "xaxis": {
         "title": {
          "text": "Predicted Class"
         }
        },
        "yaxis": {
         "title": {
          "text": "True Class"
         }
        }
       }
      }
     },
     "metadata": {},
     "output_type": "display_data"
    },
    {
     "data": {
      "application/vnd.plotly.v1+json": {
       "config": {
        "plotlyServerURL": "https://plot.ly"
       },
       "data": [
        {
         "colorscale": [
          [
           0,
           "#440154"
          ],
          [
           0.1111111111111111,
           "#482878"
          ],
          [
           0.2222222222222222,
           "#3e4989"
          ],
          [
           0.3333333333333333,
           "#31688e"
          ],
          [
           0.4444444444444444,
           "#26828e"
          ],
          [
           0.5555555555555556,
           "#1f9e89"
          ],
          [
           0.6666666666666666,
           "#35b779"
          ],
          [
           0.7777777777777778,
           "#6ece58"
          ],
          [
           0.8888888888888888,
           "#b5de2b"
          ],
          [
           1,
           "#fde725"
          ]
         ],
         "showscale": true,
         "text": [
          [
           "467",
           "73",
           "68",
           "47",
           "24",
           "20",
           "1"
          ],
          [
           "126",
           "399",
           "46",
           "65",
           "18",
           "12",
           "34"
          ],
          [
           "59",
           "48",
           "391",
           "24",
           "115",
           "50",
           "13"
          ],
          [
           "43",
           "31",
           "17",
           "595",
           "3",
           "5",
           "6"
          ],
          [
           "50",
           "20",
           "150",
           "12",
           "360",
           "84",
           "24"
          ],
          [
           "15",
           "15",
           "91",
           "9",
           "148",
           "407",
           "15"
          ],
          [
           "1",
           "15",
           "18",
           "6",
           "7",
           "4",
           "649"
          ]
         ],
         "texttemplate": "%{text}",
         "type": "heatmap",
         "x": [
          "Class 0",
          "Class 1",
          "Class 2",
          "Class 3",
          "Class 4",
          "Class 5",
          "Class 6"
         ],
         "y": [
          "Class 0",
          "Class 1",
          "Class 2",
          "Class 3",
          "Class 4",
          "Class 5",
          "Class 6"
         ],
         "z": {
          "bdata": "0wFJAEQALwAYABQAAQB+AI8BLgBBABIADAAiADsAMACHARgAcwAyAA0AKwAfABEAUwIDAAUABgAyABQAlgAMAGgBVAAYAA8ADwBbAAkAlACXAQ8AAQAPABIABgAHAAQAiQI=",
          "dtype": "i2",
          "shape": "7, 7"
         }
        }
       ],
       "layout": {
        "height": 600,
        "template": {
         "data": {
          "bar": [
           {
            "error_x": {
             "color": "#2a3f5f"
            },
            "error_y": {
             "color": "#2a3f5f"
            },
            "marker": {
             "line": {
              "color": "#E5ECF6",
              "width": 0.5
             },
             "pattern": {
              "fillmode": "overlay",
              "size": 10,
              "solidity": 0.2
             }
            },
            "type": "bar"
           }
          ],
          "barpolar": [
           {
            "marker": {
             "line": {
              "color": "#E5ECF6",
              "width": 0.5
             },
             "pattern": {
              "fillmode": "overlay",
              "size": 10,
              "solidity": 0.2
             }
            },
            "type": "barpolar"
           }
          ],
          "carpet": [
           {
            "aaxis": {
             "endlinecolor": "#2a3f5f",
             "gridcolor": "white",
             "linecolor": "white",
             "minorgridcolor": "white",
             "startlinecolor": "#2a3f5f"
            },
            "baxis": {
             "endlinecolor": "#2a3f5f",
             "gridcolor": "white",
             "linecolor": "white",
             "minorgridcolor": "white",
             "startlinecolor": "#2a3f5f"
            },
            "type": "carpet"
           }
          ],
          "choropleth": [
           {
            "colorbar": {
             "outlinewidth": 0,
             "ticks": ""
            },
            "type": "choropleth"
           }
          ],
          "contour": [
           {
            "colorbar": {
             "outlinewidth": 0,
             "ticks": ""
            },
            "colorscale": [
             [
              0,
              "#0d0887"
             ],
             [
              0.1111111111111111,
              "#46039f"
             ],
             [
              0.2222222222222222,
              "#7201a8"
             ],
             [
              0.3333333333333333,
              "#9c179e"
             ],
             [
              0.4444444444444444,
              "#bd3786"
             ],
             [
              0.5555555555555556,
              "#d8576b"
             ],
             [
              0.6666666666666666,
              "#ed7953"
             ],
             [
              0.7777777777777778,
              "#fb9f3a"
             ],
             [
              0.8888888888888888,
              "#fdca26"
             ],
             [
              1,
              "#f0f921"
             ]
            ],
            "type": "contour"
           }
          ],
          "contourcarpet": [
           {
            "colorbar": {
             "outlinewidth": 0,
             "ticks": ""
            },
            "type": "contourcarpet"
           }
          ],
          "heatmap": [
           {
            "colorbar": {
             "outlinewidth": 0,
             "ticks": ""
            },
            "colorscale": [
             [
              0,
              "#0d0887"
             ],
             [
              0.1111111111111111,
              "#46039f"
             ],
             [
              0.2222222222222222,
              "#7201a8"
             ],
             [
              0.3333333333333333,
              "#9c179e"
             ],
             [
              0.4444444444444444,
              "#bd3786"
             ],
             [
              0.5555555555555556,
              "#d8576b"
             ],
             [
              0.6666666666666666,
              "#ed7953"
             ],
             [
              0.7777777777777778,
              "#fb9f3a"
             ],
             [
              0.8888888888888888,
              "#fdca26"
             ],
             [
              1,
              "#f0f921"
             ]
            ],
            "type": "heatmap"
           }
          ],
          "histogram": [
           {
            "marker": {
             "pattern": {
              "fillmode": "overlay",
              "size": 10,
              "solidity": 0.2
             }
            },
            "type": "histogram"
           }
          ],
          "histogram2d": [
           {
            "colorbar": {
             "outlinewidth": 0,
             "ticks": ""
            },
            "colorscale": [
             [
              0,
              "#0d0887"
             ],
             [
              0.1111111111111111,
              "#46039f"
             ],
             [
              0.2222222222222222,
              "#7201a8"
             ],
             [
              0.3333333333333333,
              "#9c179e"
             ],
             [
              0.4444444444444444,
              "#bd3786"
             ],
             [
              0.5555555555555556,
              "#d8576b"
             ],
             [
              0.6666666666666666,
              "#ed7953"
             ],
             [
              0.7777777777777778,
              "#fb9f3a"
             ],
             [
              0.8888888888888888,
              "#fdca26"
             ],
             [
              1,
              "#f0f921"
             ]
            ],
            "type": "histogram2d"
           }
          ],
          "histogram2dcontour": [
           {
            "colorbar": {
             "outlinewidth": 0,
             "ticks": ""
            },
            "colorscale": [
             [
              0,
              "#0d0887"
             ],
             [
              0.1111111111111111,
              "#46039f"
             ],
             [
              0.2222222222222222,
              "#7201a8"
             ],
             [
              0.3333333333333333,
              "#9c179e"
             ],
             [
              0.4444444444444444,
              "#bd3786"
             ],
             [
              0.5555555555555556,
              "#d8576b"
             ],
             [
              0.6666666666666666,
              "#ed7953"
             ],
             [
              0.7777777777777778,
              "#fb9f3a"
             ],
             [
              0.8888888888888888,
              "#fdca26"
             ],
             [
              1,
              "#f0f921"
             ]
            ],
            "type": "histogram2dcontour"
           }
          ],
          "mesh3d": [
           {
            "colorbar": {
             "outlinewidth": 0,
             "ticks": ""
            },
            "type": "mesh3d"
           }
          ],
          "parcoords": [
           {
            "line": {
             "colorbar": {
              "outlinewidth": 0,
              "ticks": ""
             }
            },
            "type": "parcoords"
           }
          ],
          "pie": [
           {
            "automargin": true,
            "type": "pie"
           }
          ],
          "scatter": [
           {
            "fillpattern": {
             "fillmode": "overlay",
             "size": 10,
             "solidity": 0.2
            },
            "type": "scatter"
           }
          ],
          "scatter3d": [
           {
            "line": {
             "colorbar": {
              "outlinewidth": 0,
              "ticks": ""
             }
            },
            "marker": {
             "colorbar": {
              "outlinewidth": 0,
              "ticks": ""
             }
            },
            "type": "scatter3d"
           }
          ],
          "scattercarpet": [
           {
            "marker": {
             "colorbar": {
              "outlinewidth": 0,
              "ticks": ""
             }
            },
            "type": "scattercarpet"
           }
          ],
          "scattergeo": [
           {
            "marker": {
             "colorbar": {
              "outlinewidth": 0,
              "ticks": ""
             }
            },
            "type": "scattergeo"
           }
          ],
          "scattergl": [
           {
            "marker": {
             "colorbar": {
              "outlinewidth": 0,
              "ticks": ""
             }
            },
            "type": "scattergl"
           }
          ],
          "scattermap": [
           {
            "marker": {
             "colorbar": {
              "outlinewidth": 0,
              "ticks": ""
             }
            },
            "type": "scattermap"
           }
          ],
          "scattermapbox": [
           {
            "marker": {
             "colorbar": {
              "outlinewidth": 0,
              "ticks": ""
             }
            },
            "type": "scattermapbox"
           }
          ],
          "scatterpolar": [
           {
            "marker": {
             "colorbar": {
              "outlinewidth": 0,
              "ticks": ""
             }
            },
            "type": "scatterpolar"
           }
          ],
          "scatterpolargl": [
           {
            "marker": {
             "colorbar": {
              "outlinewidth": 0,
              "ticks": ""
             }
            },
            "type": "scatterpolargl"
           }
          ],
          "scatterternary": [
           {
            "marker": {
             "colorbar": {
              "outlinewidth": 0,
              "ticks": ""
             }
            },
            "type": "scatterternary"
           }
          ],
          "surface": [
           {
            "colorbar": {
             "outlinewidth": 0,
             "ticks": ""
            },
            "colorscale": [
             [
              0,
              "#0d0887"
             ],
             [
              0.1111111111111111,
              "#46039f"
             ],
             [
              0.2222222222222222,
              "#7201a8"
             ],
             [
              0.3333333333333333,
              "#9c179e"
             ],
             [
              0.4444444444444444,
              "#bd3786"
             ],
             [
              0.5555555555555556,
              "#d8576b"
             ],
             [
              0.6666666666666666,
              "#ed7953"
             ],
             [
              0.7777777777777778,
              "#fb9f3a"
             ],
             [
              0.8888888888888888,
              "#fdca26"
             ],
             [
              1,
              "#f0f921"
             ]
            ],
            "type": "surface"
           }
          ],
          "table": [
           {
            "cells": {
             "fill": {
              "color": "#EBF0F8"
             },
             "line": {
              "color": "white"
             }
            },
            "header": {
             "fill": {
              "color": "#C8D4E3"
             },
             "line": {
              "color": "white"
             }
            },
            "type": "table"
           }
          ]
         },
         "layout": {
          "annotationdefaults": {
           "arrowcolor": "#2a3f5f",
           "arrowhead": 0,
           "arrowwidth": 1
          },
          "autotypenumbers": "strict",
          "coloraxis": {
           "colorbar": {
            "outlinewidth": 0,
            "ticks": ""
           }
          },
          "colorscale": {
           "diverging": [
            [
             0,
             "#8e0152"
            ],
            [
             0.1,
             "#c51b7d"
            ],
            [
             0.2,
             "#de77ae"
            ],
            [
             0.3,
             "#f1b6da"
            ],
            [
             0.4,
             "#fde0ef"
            ],
            [
             0.5,
             "#f7f7f7"
            ],
            [
             0.6,
             "#e6f5d0"
            ],
            [
             0.7,
             "#b8e186"
            ],
            [
             0.8,
             "#7fbc41"
            ],
            [
             0.9,
             "#4d9221"
            ],
            [
             1,
             "#276419"
            ]
           ],
           "sequential": [
            [
             0,
             "#0d0887"
            ],
            [
             0.1111111111111111,
             "#46039f"
            ],
            [
             0.2222222222222222,
             "#7201a8"
            ],
            [
             0.3333333333333333,
             "#9c179e"
            ],
            [
             0.4444444444444444,
             "#bd3786"
            ],
            [
             0.5555555555555556,
             "#d8576b"
            ],
            [
             0.6666666666666666,
             "#ed7953"
            ],
            [
             0.7777777777777778,
             "#fb9f3a"
            ],
            [
             0.8888888888888888,
             "#fdca26"
            ],
            [
             1,
             "#f0f921"
            ]
           ],
           "sequentialminus": [
            [
             0,
             "#0d0887"
            ],
            [
             0.1111111111111111,
             "#46039f"
            ],
            [
             0.2222222222222222,
             "#7201a8"
            ],
            [
             0.3333333333333333,
             "#9c179e"
            ],
            [
             0.4444444444444444,
             "#bd3786"
            ],
            [
             0.5555555555555556,
             "#d8576b"
            ],
            [
             0.6666666666666666,
             "#ed7953"
            ],
            [
             0.7777777777777778,
             "#fb9f3a"
            ],
            [
             0.8888888888888888,
             "#fdca26"
            ],
            [
             1,
             "#f0f921"
            ]
           ]
          },
          "colorway": [
           "#636efa",
           "#EF553B",
           "#00cc96",
           "#ab63fa",
           "#FFA15A",
           "#19d3f3",
           "#FF6692",
           "#B6E880",
           "#FF97FF",
           "#FECB52"
          ],
          "font": {
           "color": "#2a3f5f"
          },
          "geo": {
           "bgcolor": "white",
           "lakecolor": "white",
           "landcolor": "#E5ECF6",
           "showlakes": true,
           "showland": true,
           "subunitcolor": "white"
          },
          "hoverlabel": {
           "align": "left"
          },
          "hovermode": "closest",
          "mapbox": {
           "style": "light"
          },
          "paper_bgcolor": "white",
          "plot_bgcolor": "#E5ECF6",
          "polar": {
           "angularaxis": {
            "gridcolor": "white",
            "linecolor": "white",
            "ticks": ""
           },
           "bgcolor": "#E5ECF6",
           "radialaxis": {
            "gridcolor": "white",
            "linecolor": "white",
            "ticks": ""
           }
          },
          "scene": {
           "xaxis": {
            "backgroundcolor": "#E5ECF6",
            "gridcolor": "white",
            "gridwidth": 2,
            "linecolor": "white",
            "showbackground": true,
            "ticks": "",
            "zerolinecolor": "white"
           },
           "yaxis": {
            "backgroundcolor": "#E5ECF6",
            "gridcolor": "white",
            "gridwidth": 2,
            "linecolor": "white",
            "showbackground": true,
            "ticks": "",
            "zerolinecolor": "white"
           },
           "zaxis": {
            "backgroundcolor": "#E5ECF6",
            "gridcolor": "white",
            "gridwidth": 2,
            "linecolor": "white",
            "showbackground": true,
            "ticks": "",
            "zerolinecolor": "white"
           }
          },
          "shapedefaults": {
           "line": {
            "color": "#2a3f5f"
           }
          },
          "ternary": {
           "aaxis": {
            "gridcolor": "white",
            "linecolor": "white",
            "ticks": ""
           },
           "baxis": {
            "gridcolor": "white",
            "linecolor": "white",
            "ticks": ""
           },
           "bgcolor": "#E5ECF6",
           "caxis": {
            "gridcolor": "white",
            "linecolor": "white",
            "ticks": ""
           }
          },
          "title": {
           "x": 0.05
          },
          "xaxis": {
           "automargin": true,
           "gridcolor": "white",
           "linecolor": "white",
           "ticks": "",
           "title": {
            "standoff": 15
           },
           "zerolinecolor": "white",
           "zerolinewidth": 2
          },
          "yaxis": {
           "automargin": true,
           "gridcolor": "white",
           "linecolor": "white",
           "ticks": "",
           "title": {
            "standoff": 15
           },
           "zerolinecolor": "white",
           "zerolinewidth": 2
          }
         }
        },
        "title": {
         "text": "Confusion Matrix (Test)"
        },
        "width": 800,
        "xaxis": {
         "title": {
          "text": "Predicted Class"
         }
        },
        "yaxis": {
         "title": {
          "text": "True Class"
         }
        }
       }
      }
     },
     "metadata": {},
     "output_type": "display_data"
    }
   ],
   "source": [
    "plot_confusion_matrix(params_max_f1)"
   ]
  },
  {
   "cell_type": "code",
   "execution_count": 40,
   "metadata": {},
   "outputs": [
    {
     "data": {
      "text/plain": [
       "n_epochs                                                                   50\n",
       "activation_function                                                      relu\n",
       "pooling                                                               MaxPool\n",
       "n_conv_layers                                                               3\n",
       "conv_out_channels                                                          64\n",
       "conv_kernel_size                                                            3\n",
       "conv_padding                                                                1\n",
       "n_layers                                                                    1\n",
       "batch_size                                                                 64\n",
       "learning_rate                                                             0.1\n",
       "loss_function                                                   Cross Entropy\n",
       "optimizer                                                                 SGD\n",
       "iteration                                                                  74\n",
       "accuracy_train                                                       0.928112\n",
       "accuracy_test                                                        0.666939\n",
       "recall_train                [0.9628258075203064, 0.9057685951375095, 0.908...\n",
       "recall_test                 [0.669983175292422, 0.5704047054953088, 0.5541...\n",
       "averaged_recall_train                                                0.928123\n",
       "averaged_recall_test                                                 0.667306\n",
       "precision_train             [0.9118665509849373, 0.946333664260105, 0.8652...\n",
       "precision_test              [0.6143320693516624, 0.6678724386724386, 0.517...\n",
       "averaged_precision_train                                             0.932258\n",
       "averaged_precision_test                                              0.674263\n",
       "f1_train_average                                                     0.930186\n",
       "f1_test_average                                                      0.670767\n",
       "confusion_matrix_train      [[2696, 37, 32, 21, 11, 2, 1], [118, 2535, 48,...\n",
       "confusion_matrix_test       [[467, 73, 68, 47, 24, 20, 1], [126, 399, 46, ...\n",
       "loss                        [[239.12511217594147, 236.14683711528778, 219....\n",
       "Name: 24, dtype: object"
      ]
     },
     "execution_count": 40,
     "metadata": {},
     "output_type": "execute_result"
    }
   ],
   "source": [
    "# params for best f1 score\n",
    "best_f1_test = metrics_add_cnn[\"f1_test_average\"].max()\n",
    "best_f1_test_row = metrics_add_cnn.loc[metrics_add_cnn[\"f1_test_average\"].idxmax()]\n",
    "best_f1_test_row"
   ]
  },
  {
   "cell_type": "code",
   "execution_count": 41,
   "metadata": {},
   "outputs": [
    {
     "data": {
      "application/vnd.plotly.v1+json": {
       "config": {
        "plotlyServerURL": "https://plot.ly"
       },
       "data": [
        {
         "mode": "lines+markers",
         "name": "Fold 1",
         "type": "scatter",
         "x": [
          0,
          1,
          2,
          3,
          4,
          5,
          6,
          7,
          8,
          9,
          10,
          11,
          12,
          13,
          14,
          15,
          16,
          17,
          18,
          19,
          20,
          21,
          22,
          23,
          24,
          25,
          26,
          27,
          28,
          29,
          30,
          31,
          32,
          33,
          34,
          35,
          36,
          37,
          38,
          39,
          40,
          41,
          42,
          43,
          44,
          45,
          46,
          47,
          48,
          49
         ],
         "y": [
          239.12511217594147,
          236.14683711528778,
          219.35075688362122,
          205.19029307365417,
          193.56439661979675,
          176.7060251235962,
          167.8477434515953,
          160.3095805644989,
          153.36811524629593,
          148.81678116321564,
          144.21313804388046,
          140.00001007318497,
          137.3435059785843,
          132.54731249809265,
          128.2069455385208,
          125.60303711891174,
          120.83804547786713,
          116.45322948694229,
          110.67171496152878,
          108.79745969176292,
          102.90391990542412,
          94.45619836449623,
          92.8721207678318,
          89.42277598381042,
          79.84426975250244,
          77.40233051776886,
          69.39701794087887,
          165.01835173368454,
          148.35667377710342,
          119.61246395111084,
          108.40529906749725,
          90.11593174934387,
          82.2491427063942,
          87.50133347511292,
          74.52162535488605,
          64.40270635485649,
          56.92500147968531,
          62.38778233528137,
          50.9265600591898,
          44.68243966251612,
          49.958841510117054,
          41.65955573320389,
          32.92219559941441,
          34.78736233711243,
          23.797980135306716,
          44.6966860704124,
          24.941831294447184,
          45.61383040435612,
          20.291239770129323,
          43.391515424475074
         ]
        },
        {
         "mode": "lines+markers",
         "name": "Fold 2",
         "type": "scatter",
         "x": [
          0,
          1,
          2,
          3,
          4,
          5,
          6,
          7,
          8,
          9,
          10,
          11,
          12,
          13,
          14,
          15,
          16,
          17,
          18,
          19,
          20,
          21,
          22,
          23,
          24,
          25,
          26,
          27,
          28,
          29,
          30,
          31,
          32,
          33,
          34,
          35,
          36,
          37,
          38,
          39,
          40,
          41,
          42,
          43,
          44,
          45,
          46,
          47,
          48,
          49
         ],
         "y": [
          239.24297070503235,
          237.09136629104614,
          227.12311375141144,
          209.2814394235611,
          200.5423630475998,
          194.46350753307343,
          183.88616716861725,
          172.36072266101837,
          160.72817206382751,
          156.89189630746841,
          149.836676299572,
          145.02674174308777,
          141.16064244508743,
          137.5022800564766,
          132.08567309379578,
          128.72383379936218,
          126.99429976940155,
          119.88824993371964,
          117.96330207586288,
          109.83307331800461,
          109.04077130556107,
          104.32506608963013,
          98.42164033651352,
          89.72230106592178,
          84.3861193060875,
          82.94064240157604,
          78.21291498839855,
          113.90605425834656,
          90.02120250463486,
          80.27860134840012,
          65.96981152892113,
          62.90509024262428,
          59.98908895999193,
          55.62980640679598,
          47.72578984498978,
          49.37751090526581,
          43.8677859082818,
          38.6127018108964,
          39.17381635680795,
          24.2438177280128,
          28.946738597005606,
          41.266560174524784,
          26.08238496258855,
          28.195424968376756,
          14.258887487929314,
          15.464763054158539,
          37.117981743998826,
          24.54286824259907,
          13.562626162078232,
          14.56986434198916
         ]
        },
        {
         "mode": "lines+markers",
         "name": "Fold 3",
         "type": "scatter",
         "x": [
          0,
          1,
          2,
          3,
          4,
          5,
          6,
          7,
          8,
          9,
          10,
          11,
          12,
          13,
          14,
          15,
          16,
          17,
          18,
          19,
          20,
          21,
          22,
          23,
          24,
          25,
          26,
          27,
          28,
          29,
          30,
          31,
          32,
          33,
          34,
          35,
          36,
          37,
          38,
          39,
          40,
          41,
          42,
          43,
          44,
          45,
          46,
          47,
          48,
          49
         ],
         "y": [
          239.3265609741211,
          238.12367057800293,
          228.68552029132843,
          209.97360861301422,
          199.33590257167816,
          192.5867496728897,
          179.5487937927246,
          166.97358357906342,
          158.15670508146286,
          153.32937216758728,
          149.01307487487793,
          145.1676602959633,
          141.33294892311096,
          137.20744103193283,
          134.82717901468277,
          131.72363358736038,
          126.46270561218262,
          121.98501670360565,
          118.49737226963043,
          112.78046756982803,
          114.55510622262955,
          108.16103997826576,
          101.60763573646545,
          99.51363235712051,
          95.52611342072487,
          88.75283375382423,
          92.31239691376686,
          76.61489495635033,
          80.71697881817818,
          72.16034816205502,
          61.43272551894188,
          66.2418851852417,
          60.81014912575483,
          53.16780187189579,
          103.75898198783398,
          58.18314279615879,
          43.121677573770285,
          51.981701634824276,
          69.30837869644165,
          43.90362162515521,
          37.73974620550871,
          32.29424235969782,
          24.18458868190646,
          42.892713222652674,
          31.03217053692788,
          23.113059231080115,
          17.55181049834937,
          29.363033023197204,
          13.332431403920054,
          10.436781619675457
         ]
        },
        {
         "mode": "lines+markers",
         "name": "Fold 4",
         "type": "scatter",
         "x": [
          0,
          1,
          2,
          3,
          4,
          5,
          6,
          7,
          8,
          9,
          10,
          11,
          12,
          13,
          14,
          15,
          16,
          17,
          18,
          19,
          20,
          21,
          22,
          23,
          24,
          25,
          26,
          27,
          28,
          29,
          30,
          31,
          32,
          33,
          34,
          35,
          36,
          37,
          38,
          39,
          40,
          41,
          42,
          43,
          44,
          45,
          46,
          47,
          48,
          49
         ],
         "y": [
          239.28211641311646,
          236.7498893737793,
          222.76256346702576,
          207.77168905735016,
          199.91436171531677,
          194.75053095817566,
          194.22484362125397,
          180.72191846370697,
          168.1850709915161,
          164.54133021831512,
          157.2552708387375,
          151.38511610031128,
          149.07007133960724,
          141.52377766370773,
          135.48968714475632,
          131.46470421552658,
          129.91894555091858,
          127.28695333003998,
          119.45679950714111,
          118.17584681510925,
          113.43062871694565,
          107.69682970643044,
          102.90207973122597,
          98.9629043340683,
          93.36425915360451,
          89.87874746322632,
          88.47611916065216,
          82.38095399737358,
          77.21314868330956,
          71.22717535495758,
          66.76659378409386,
          66.39271211624146,
          54.86855974793434,
          61.14821055531502,
          45.6265221722424,
          80.11705207824707,
          45.27913801372051,
          38.93146750330925,
          63.15942978858948,
          43.59620706923306,
          32.58058661967516,
          36.86117422580719,
          24.54779102280736,
          29.267869477160275,
          14.30057145981118,
          33.29429178405553,
          26.6520335925743,
          13.507800575345755,
          18.61139746196568,
          13.587354484479874
         ]
        },
        {
         "mode": "lines+markers",
         "name": "Fold 5",
         "type": "scatter",
         "x": [
          0,
          1,
          2,
          3,
          4,
          5,
          6,
          7,
          8,
          9,
          10,
          11,
          12,
          13,
          14,
          15,
          16,
          17,
          18,
          19,
          20,
          21,
          22,
          23,
          24,
          25,
          26,
          27,
          28,
          29,
          30,
          31,
          32,
          33,
          34,
          35,
          36,
          37,
          38,
          39,
          40,
          41,
          42,
          43,
          44,
          45,
          46,
          47,
          48,
          49
         ],
         "y": [
          239.34307634830475,
          238.65051805973053,
          233.81652855873108,
          215.5885763168335,
          204.9417461156845,
          197.0742825269699,
          186.43497121334076,
          171.42113637924194,
          163.65887647867203,
          156.79804438352585,
          153.5518714785576,
          147.40534871816635,
          143.54765206575394,
          138.7376543879509,
          135.91422432661057,
          130.9282585978508,
          129.1601501107216,
          124.01415979862213,
          119.12979316711426,
          116.44194293022156,
          108.4731080532074,
          104.54692459106445,
          100.69124215841293,
          97.90491795539856,
          97.24647521972656,
          90.32914900779724,
          81.89657640457153,
          81.459996342659,
          72.15968209505081,
          68.69177910685539,
          64.23332042992115,
          62.62530864775181,
          65.86676254868507,
          51.67901065945625,
          55.79442623257637,
          51.871774822473526,
          40.16262748837471,
          37.469669848680496,
          28.231209579855204,
          61.55463510006666,
          39.38826511055231,
          25.803034072741866,
          32.062233470380306,
          20.87345654144883,
          35.18544043973088,
          28.879707761108875,
          21.290210747160017,
          16.130466577596962,
          18.07183158583939,
          17.848398350179195
         ]
        }
       ],
       "layout": {
        "legend": {
         "title": {
          "text": "Folds"
         }
        },
        "template": {
         "data": {
          "bar": [
           {
            "error_x": {
             "color": "#2a3f5f"
            },
            "error_y": {
             "color": "#2a3f5f"
            },
            "marker": {
             "line": {
              "color": "#E5ECF6",
              "width": 0.5
             },
             "pattern": {
              "fillmode": "overlay",
              "size": 10,
              "solidity": 0.2
             }
            },
            "type": "bar"
           }
          ],
          "barpolar": [
           {
            "marker": {
             "line": {
              "color": "#E5ECF6",
              "width": 0.5
             },
             "pattern": {
              "fillmode": "overlay",
              "size": 10,
              "solidity": 0.2
             }
            },
            "type": "barpolar"
           }
          ],
          "carpet": [
           {
            "aaxis": {
             "endlinecolor": "#2a3f5f",
             "gridcolor": "white",
             "linecolor": "white",
             "minorgridcolor": "white",
             "startlinecolor": "#2a3f5f"
            },
            "baxis": {
             "endlinecolor": "#2a3f5f",
             "gridcolor": "white",
             "linecolor": "white",
             "minorgridcolor": "white",
             "startlinecolor": "#2a3f5f"
            },
            "type": "carpet"
           }
          ],
          "choropleth": [
           {
            "colorbar": {
             "outlinewidth": 0,
             "ticks": ""
            },
            "type": "choropleth"
           }
          ],
          "contour": [
           {
            "colorbar": {
             "outlinewidth": 0,
             "ticks": ""
            },
            "colorscale": [
             [
              0,
              "#0d0887"
             ],
             [
              0.1111111111111111,
              "#46039f"
             ],
             [
              0.2222222222222222,
              "#7201a8"
             ],
             [
              0.3333333333333333,
              "#9c179e"
             ],
             [
              0.4444444444444444,
              "#bd3786"
             ],
             [
              0.5555555555555556,
              "#d8576b"
             ],
             [
              0.6666666666666666,
              "#ed7953"
             ],
             [
              0.7777777777777778,
              "#fb9f3a"
             ],
             [
              0.8888888888888888,
              "#fdca26"
             ],
             [
              1,
              "#f0f921"
             ]
            ],
            "type": "contour"
           }
          ],
          "contourcarpet": [
           {
            "colorbar": {
             "outlinewidth": 0,
             "ticks": ""
            },
            "type": "contourcarpet"
           }
          ],
          "heatmap": [
           {
            "colorbar": {
             "outlinewidth": 0,
             "ticks": ""
            },
            "colorscale": [
             [
              0,
              "#0d0887"
             ],
             [
              0.1111111111111111,
              "#46039f"
             ],
             [
              0.2222222222222222,
              "#7201a8"
             ],
             [
              0.3333333333333333,
              "#9c179e"
             ],
             [
              0.4444444444444444,
              "#bd3786"
             ],
             [
              0.5555555555555556,
              "#d8576b"
             ],
             [
              0.6666666666666666,
              "#ed7953"
             ],
             [
              0.7777777777777778,
              "#fb9f3a"
             ],
             [
              0.8888888888888888,
              "#fdca26"
             ],
             [
              1,
              "#f0f921"
             ]
            ],
            "type": "heatmap"
           }
          ],
          "histogram": [
           {
            "marker": {
             "pattern": {
              "fillmode": "overlay",
              "size": 10,
              "solidity": 0.2
             }
            },
            "type": "histogram"
           }
          ],
          "histogram2d": [
           {
            "colorbar": {
             "outlinewidth": 0,
             "ticks": ""
            },
            "colorscale": [
             [
              0,
              "#0d0887"
             ],
             [
              0.1111111111111111,
              "#46039f"
             ],
             [
              0.2222222222222222,
              "#7201a8"
             ],
             [
              0.3333333333333333,
              "#9c179e"
             ],
             [
              0.4444444444444444,
              "#bd3786"
             ],
             [
              0.5555555555555556,
              "#d8576b"
             ],
             [
              0.6666666666666666,
              "#ed7953"
             ],
             [
              0.7777777777777778,
              "#fb9f3a"
             ],
             [
              0.8888888888888888,
              "#fdca26"
             ],
             [
              1,
              "#f0f921"
             ]
            ],
            "type": "histogram2d"
           }
          ],
          "histogram2dcontour": [
           {
            "colorbar": {
             "outlinewidth": 0,
             "ticks": ""
            },
            "colorscale": [
             [
              0,
              "#0d0887"
             ],
             [
              0.1111111111111111,
              "#46039f"
             ],
             [
              0.2222222222222222,
              "#7201a8"
             ],
             [
              0.3333333333333333,
              "#9c179e"
             ],
             [
              0.4444444444444444,
              "#bd3786"
             ],
             [
              0.5555555555555556,
              "#d8576b"
             ],
             [
              0.6666666666666666,
              "#ed7953"
             ],
             [
              0.7777777777777778,
              "#fb9f3a"
             ],
             [
              0.8888888888888888,
              "#fdca26"
             ],
             [
              1,
              "#f0f921"
             ]
            ],
            "type": "histogram2dcontour"
           }
          ],
          "mesh3d": [
           {
            "colorbar": {
             "outlinewidth": 0,
             "ticks": ""
            },
            "type": "mesh3d"
           }
          ],
          "parcoords": [
           {
            "line": {
             "colorbar": {
              "outlinewidth": 0,
              "ticks": ""
             }
            },
            "type": "parcoords"
           }
          ],
          "pie": [
           {
            "automargin": true,
            "type": "pie"
           }
          ],
          "scatter": [
           {
            "fillpattern": {
             "fillmode": "overlay",
             "size": 10,
             "solidity": 0.2
            },
            "type": "scatter"
           }
          ],
          "scatter3d": [
           {
            "line": {
             "colorbar": {
              "outlinewidth": 0,
              "ticks": ""
             }
            },
            "marker": {
             "colorbar": {
              "outlinewidth": 0,
              "ticks": ""
             }
            },
            "type": "scatter3d"
           }
          ],
          "scattercarpet": [
           {
            "marker": {
             "colorbar": {
              "outlinewidth": 0,
              "ticks": ""
             }
            },
            "type": "scattercarpet"
           }
          ],
          "scattergeo": [
           {
            "marker": {
             "colorbar": {
              "outlinewidth": 0,
              "ticks": ""
             }
            },
            "type": "scattergeo"
           }
          ],
          "scattergl": [
           {
            "marker": {
             "colorbar": {
              "outlinewidth": 0,
              "ticks": ""
             }
            },
            "type": "scattergl"
           }
          ],
          "scattermap": [
           {
            "marker": {
             "colorbar": {
              "outlinewidth": 0,
              "ticks": ""
             }
            },
            "type": "scattermap"
           }
          ],
          "scattermapbox": [
           {
            "marker": {
             "colorbar": {
              "outlinewidth": 0,
              "ticks": ""
             }
            },
            "type": "scattermapbox"
           }
          ],
          "scatterpolar": [
           {
            "marker": {
             "colorbar": {
              "outlinewidth": 0,
              "ticks": ""
             }
            },
            "type": "scatterpolar"
           }
          ],
          "scatterpolargl": [
           {
            "marker": {
             "colorbar": {
              "outlinewidth": 0,
              "ticks": ""
             }
            },
            "type": "scatterpolargl"
           }
          ],
          "scatterternary": [
           {
            "marker": {
             "colorbar": {
              "outlinewidth": 0,
              "ticks": ""
             }
            },
            "type": "scatterternary"
           }
          ],
          "surface": [
           {
            "colorbar": {
             "outlinewidth": 0,
             "ticks": ""
            },
            "colorscale": [
             [
              0,
              "#0d0887"
             ],
             [
              0.1111111111111111,
              "#46039f"
             ],
             [
              0.2222222222222222,
              "#7201a8"
             ],
             [
              0.3333333333333333,
              "#9c179e"
             ],
             [
              0.4444444444444444,
              "#bd3786"
             ],
             [
              0.5555555555555556,
              "#d8576b"
             ],
             [
              0.6666666666666666,
              "#ed7953"
             ],
             [
              0.7777777777777778,
              "#fb9f3a"
             ],
             [
              0.8888888888888888,
              "#fdca26"
             ],
             [
              1,
              "#f0f921"
             ]
            ],
            "type": "surface"
           }
          ],
          "table": [
           {
            "cells": {
             "fill": {
              "color": "#EBF0F8"
             },
             "line": {
              "color": "white"
             }
            },
            "header": {
             "fill": {
              "color": "#C8D4E3"
             },
             "line": {
              "color": "white"
             }
            },
            "type": "table"
           }
          ]
         },
         "layout": {
          "annotationdefaults": {
           "arrowcolor": "#2a3f5f",
           "arrowhead": 0,
           "arrowwidth": 1
          },
          "autotypenumbers": "strict",
          "coloraxis": {
           "colorbar": {
            "outlinewidth": 0,
            "ticks": ""
           }
          },
          "colorscale": {
           "diverging": [
            [
             0,
             "#8e0152"
            ],
            [
             0.1,
             "#c51b7d"
            ],
            [
             0.2,
             "#de77ae"
            ],
            [
             0.3,
             "#f1b6da"
            ],
            [
             0.4,
             "#fde0ef"
            ],
            [
             0.5,
             "#f7f7f7"
            ],
            [
             0.6,
             "#e6f5d0"
            ],
            [
             0.7,
             "#b8e186"
            ],
            [
             0.8,
             "#7fbc41"
            ],
            [
             0.9,
             "#4d9221"
            ],
            [
             1,
             "#276419"
            ]
           ],
           "sequential": [
            [
             0,
             "#0d0887"
            ],
            [
             0.1111111111111111,
             "#46039f"
            ],
            [
             0.2222222222222222,
             "#7201a8"
            ],
            [
             0.3333333333333333,
             "#9c179e"
            ],
            [
             0.4444444444444444,
             "#bd3786"
            ],
            [
             0.5555555555555556,
             "#d8576b"
            ],
            [
             0.6666666666666666,
             "#ed7953"
            ],
            [
             0.7777777777777778,
             "#fb9f3a"
            ],
            [
             0.8888888888888888,
             "#fdca26"
            ],
            [
             1,
             "#f0f921"
            ]
           ],
           "sequentialminus": [
            [
             0,
             "#0d0887"
            ],
            [
             0.1111111111111111,
             "#46039f"
            ],
            [
             0.2222222222222222,
             "#7201a8"
            ],
            [
             0.3333333333333333,
             "#9c179e"
            ],
            [
             0.4444444444444444,
             "#bd3786"
            ],
            [
             0.5555555555555556,
             "#d8576b"
            ],
            [
             0.6666666666666666,
             "#ed7953"
            ],
            [
             0.7777777777777778,
             "#fb9f3a"
            ],
            [
             0.8888888888888888,
             "#fdca26"
            ],
            [
             1,
             "#f0f921"
            ]
           ]
          },
          "colorway": [
           "#636efa",
           "#EF553B",
           "#00cc96",
           "#ab63fa",
           "#FFA15A",
           "#19d3f3",
           "#FF6692",
           "#B6E880",
           "#FF97FF",
           "#FECB52"
          ],
          "font": {
           "color": "#2a3f5f"
          },
          "geo": {
           "bgcolor": "white",
           "lakecolor": "white",
           "landcolor": "#E5ECF6",
           "showlakes": true,
           "showland": true,
           "subunitcolor": "white"
          },
          "hoverlabel": {
           "align": "left"
          },
          "hovermode": "closest",
          "mapbox": {
           "style": "light"
          },
          "paper_bgcolor": "white",
          "plot_bgcolor": "#E5ECF6",
          "polar": {
           "angularaxis": {
            "gridcolor": "white",
            "linecolor": "white",
            "ticks": ""
           },
           "bgcolor": "#E5ECF6",
           "radialaxis": {
            "gridcolor": "white",
            "linecolor": "white",
            "ticks": ""
           }
          },
          "scene": {
           "xaxis": {
            "backgroundcolor": "#E5ECF6",
            "gridcolor": "white",
            "gridwidth": 2,
            "linecolor": "white",
            "showbackground": true,
            "ticks": "",
            "zerolinecolor": "white"
           },
           "yaxis": {
            "backgroundcolor": "#E5ECF6",
            "gridcolor": "white",
            "gridwidth": 2,
            "linecolor": "white",
            "showbackground": true,
            "ticks": "",
            "zerolinecolor": "white"
           },
           "zaxis": {
            "backgroundcolor": "#E5ECF6",
            "gridcolor": "white",
            "gridwidth": 2,
            "linecolor": "white",
            "showbackground": true,
            "ticks": "",
            "zerolinecolor": "white"
           }
          },
          "shapedefaults": {
           "line": {
            "color": "#2a3f5f"
           }
          },
          "ternary": {
           "aaxis": {
            "gridcolor": "white",
            "linecolor": "white",
            "ticks": ""
           },
           "baxis": {
            "gridcolor": "white",
            "linecolor": "white",
            "ticks": ""
           },
           "bgcolor": "#E5ECF6",
           "caxis": {
            "gridcolor": "white",
            "linecolor": "white",
            "ticks": ""
           }
          },
          "title": {
           "x": 0.05
          },
          "xaxis": {
           "automargin": true,
           "gridcolor": "white",
           "linecolor": "white",
           "ticks": "",
           "title": {
            "standoff": 15
           },
           "zerolinecolor": "white",
           "zerolinewidth": 2
          },
          "yaxis": {
           "automargin": true,
           "gridcolor": "white",
           "linecolor": "white",
           "ticks": "",
           "title": {
            "standoff": 15
           },
           "zerolinecolor": "white",
           "zerolinewidth": 2
          }
         }
        },
        "title": {
         "text": "Losses for Each Fold"
        },
        "xaxis": {
         "title": {
          "text": "Epochs"
         }
        },
        "yaxis": {
         "title": {
          "text": "Loss"
         }
        }
       }
      }
     },
     "metadata": {},
     "output_type": "display_data"
    }
   ],
   "source": [
    "# do a line plot with all the losses - different color for each fold\n",
    "\n",
    "all_losses = best_f1_test_row[\"loss\"]\n",
    "\n",
    "fig = go.Figure()\n",
    "\n",
    "for i, loss in enumerate(all_losses):\n",
    "    fig.add_trace(go.Scatter(\n",
    "        x=list(range(len(loss))),\n",
    "        y=loss,\n",
    "        mode='lines+markers',\n",
    "        name=f'Fold {i+1}'\n",
    "    ))\n",
    "\n",
    "fig.update_layout(\n",
    "    title='Losses for Each Fold',\n",
    "    xaxis_title='Epochs',\n",
    "    yaxis_title='Loss',\n",
    "    legend_title='Folds'\n",
    ")\n",
    "\n",
    "fig.show()"
   ]
  },
  {
   "cell_type": "markdown",
   "metadata": {},
   "source": [
    "## Extensive Search"
   ]
  },
  {
   "cell_type": "code",
   "execution_count": 42,
   "metadata": {},
   "outputs": [],
   "source": [
    "data_extensive_cnn = pd.read_json('./results_cnn_extensive.json').T"
   ]
  },
  {
   "cell_type": "code",
   "execution_count": 43,
   "metadata": {},
   "outputs": [],
   "source": [
    "metrics_extensive_cnn = get_metrics(data_extensive_cnn)"
   ]
  },
  {
   "cell_type": "code",
   "execution_count": 45,
   "metadata": {},
   "outputs": [
    {
     "data": {
      "text/plain": [
       "(np.float64(0.6938206386592364), np.float64(1.0))"
      ]
     },
     "execution_count": 45,
     "metadata": {},
     "output_type": "execute_result"
    }
   ],
   "source": [
    "max_f1_test = metrics_extensive_cnn[\"f1_test_average\"].max()\n",
    "max_f1_train = metrics_extensive_cnn[\"f1_train_average\"].max()\n",
    "\n",
    "max_f1_test, max_f1_train"
   ]
  },
  {
   "cell_type": "code",
   "execution_count": 47,
   "metadata": {},
   "outputs": [
    {
     "data": {
      "text/plain": [
       "n_epochs                                                                  500\n",
       "activation_function                                                      relu\n",
       "pooling                                                               MaxPool\n",
       "n_conv_layers                                                               3\n",
       "conv_out_channels                                                          64\n",
       "conv_kernel_size                                                            3\n",
       "conv_padding                                                                1\n",
       "n_layers                                                                    1\n",
       "batch_size                                                                 64\n",
       "learning_rate                                                            0.01\n",
       "loss_function                                                   Cross Entropy\n",
       "optimizer                                                                 SGD\n",
       "iteration                                                                  50\n",
       "accuracy_train                                                            1.0\n",
       "accuracy_test                                                        0.694082\n",
       "recall_train                              [1.0, 1.0, 1.0, 1.0, 1.0, 1.0, 1.0]\n",
       "recall_test                 [0.667487876566615, 0.6187224292278289, 0.5454...\n",
       "averaged_recall_train                                                     1.0\n",
       "averaged_recall_test                                                 0.694342\n",
       "precision_train                           [1.0, 1.0, 1.0, 1.0, 1.0, 1.0, 1.0]\n",
       "precision_test              [0.6770462980282606, 0.6615887999662662, 0.525...\n",
       "averaged_precision_train                                                  1.0\n",
       "averaged_precision_test                                                0.6933\n",
       "f1_train_average                                                          1.0\n",
       "f1_test_average                                                      0.693821\n",
       "confusion_matrix_train      [[2800, 0, 0, 0, 0, 0, 0], [0, 2800, 0, 0, 0, ...\n",
       "confusion_matrix_test       [[467, 82, 59, 39, 42, 8, 3], [91, 433, 52, 55...\n",
       "loss                        [[239.39678239822388, 239.288436293602, 239.21...\n",
       "Name: 0, dtype: object"
      ]
     },
     "execution_count": 47,
     "metadata": {},
     "output_type": "execute_result"
    }
   ],
   "source": [
    "# params for best f1 score\n",
    "best_f1_test = metrics_extensive_cnn[\"f1_test_average\"].max()\n",
    "best_f1_test_row = metrics_extensive_cnn.loc[metrics_extensive_cnn[\"f1_test_average\"].idxmax()]\n",
    "best_f1_test_row"
   ]
  },
  {
   "cell_type": "code",
   "execution_count": null,
   "metadata": {},
   "outputs": [
    {
     "data": {
      "application/vnd.plotly.v1+json": {
       "config": {
        "plotlyServerURL": "https://plot.ly"
       },
       "data": [
        {
         "mode": "lines+markers",
         "name": "Fold 1",
         "type": "scatter",
         "x": [
          0,
          1,
          2,
          3,
          4,
          5,
          6,
          7,
          8,
          9,
          10,
          11,
          12,
          13,
          14,
          15,
          16,
          17,
          18,
          19,
          20,
          21,
          22,
          23,
          24,
          25,
          26,
          27,
          28,
          29,
          30,
          31,
          32,
          33,
          34,
          35,
          36,
          37,
          38,
          39,
          40,
          41,
          42,
          43,
          44,
          45,
          46,
          47,
          48,
          49,
          50,
          51,
          52,
          53,
          54,
          55,
          56,
          57,
          58,
          59,
          60,
          61,
          62,
          63,
          64,
          65,
          66,
          67,
          68,
          69,
          70,
          71,
          72,
          73,
          74,
          75,
          76,
          77,
          78,
          79,
          80,
          81,
          82,
          83,
          84,
          85,
          86,
          87,
          88,
          89,
          90,
          91,
          92,
          93,
          94,
          95,
          96,
          97,
          98,
          99,
          100,
          101,
          102,
          103,
          104,
          105,
          106,
          107,
          108,
          109,
          110,
          111,
          112,
          113,
          114,
          115,
          116,
          117,
          118,
          119,
          120,
          121,
          122,
          123,
          124,
          125,
          126,
          127,
          128,
          129,
          130,
          131,
          132,
          133,
          134,
          135,
          136,
          137,
          138,
          139,
          140,
          141,
          142,
          143,
          144,
          145,
          146,
          147,
          148,
          149,
          150,
          151,
          152,
          153,
          154,
          155,
          156,
          157,
          158,
          159,
          160,
          161,
          162,
          163,
          164,
          165,
          166,
          167,
          168,
          169,
          170,
          171,
          172,
          173,
          174,
          175,
          176,
          177,
          178,
          179,
          180,
          181,
          182,
          183,
          184,
          185,
          186,
          187,
          188,
          189,
          190,
          191,
          192,
          193,
          194,
          195,
          196,
          197,
          198,
          199,
          200,
          201,
          202,
          203,
          204,
          205,
          206,
          207,
          208,
          209,
          210,
          211,
          212,
          213,
          214,
          215,
          216,
          217,
          218,
          219,
          220,
          221,
          222,
          223,
          224,
          225,
          226,
          227,
          228,
          229,
          230,
          231,
          232,
          233,
          234,
          235,
          236,
          237,
          238,
          239,
          240,
          241,
          242,
          243,
          244,
          245,
          246,
          247,
          248,
          249,
          250,
          251,
          252,
          253,
          254,
          255,
          256,
          257,
          258,
          259,
          260,
          261,
          262,
          263,
          264,
          265,
          266,
          267,
          268,
          269,
          270,
          271,
          272,
          273,
          274,
          275,
          276,
          277,
          278,
          279,
          280,
          281,
          282,
          283,
          284,
          285,
          286,
          287,
          288,
          289,
          290,
          291,
          292,
          293,
          294,
          295,
          296,
          297,
          298,
          299,
          300,
          301,
          302,
          303,
          304,
          305,
          306,
          307,
          308,
          309,
          310,
          311,
          312,
          313,
          314,
          315,
          316,
          317,
          318,
          319,
          320,
          321,
          322,
          323,
          324,
          325,
          326,
          327,
          328,
          329,
          330,
          331,
          332,
          333,
          334,
          335,
          336,
          337,
          338,
          339,
          340,
          341,
          342,
          343,
          344,
          345,
          346,
          347,
          348,
          349,
          350,
          351,
          352,
          353,
          354,
          355,
          356,
          357,
          358,
          359,
          360,
          361,
          362,
          363,
          364,
          365,
          366,
          367,
          368,
          369,
          370,
          371,
          372,
          373,
          374,
          375,
          376,
          377,
          378,
          379,
          380,
          381,
          382,
          383,
          384,
          385,
          386,
          387,
          388,
          389,
          390,
          391,
          392,
          393,
          394,
          395,
          396,
          397,
          398,
          399,
          400,
          401,
          402,
          403,
          404,
          405,
          406,
          407,
          408,
          409,
          410,
          411,
          412,
          413,
          414,
          415,
          416,
          417,
          418,
          419,
          420,
          421,
          422,
          423,
          424,
          425,
          426,
          427,
          428,
          429,
          430,
          431,
          432,
          433,
          434,
          435,
          436,
          437,
          438,
          439,
          440,
          441,
          442,
          443,
          444,
          445,
          446,
          447,
          448,
          449,
          450,
          451,
          452,
          453,
          454,
          455,
          456,
          457,
          458,
          459,
          460,
          461,
          462,
          463,
          464,
          465,
          466,
          467,
          468,
          469,
          470,
          471,
          472,
          473,
          474,
          475,
          476,
          477,
          478,
          479,
          480,
          481,
          482,
          483,
          484,
          485,
          486,
          487,
          488,
          489,
          490,
          491,
          492,
          493,
          494,
          495,
          496,
          497,
          498,
          499
         ],
         "y": [
          239.39678239822388,
          239.288436293602,
          239.2103555202484,
          239.13437247276306,
          239.04405915737152,
          238.9367458820343,
          238.80980622768402,
          238.6497415304184,
          238.43858206272125,
          238.15241658687592,
          237.7401338815689,
          237.12443220615387,
          236.1474140882492,
          234.48571848869324,
          231.6667207479477,
          227.66639745235443,
          224.04956781864166,
          221.4357807636261,
          219.09767758846283,
          216.81853759288788,
          214.56573796272278,
          212.35021722316742,
          210.19798910617828,
          208.1288285255432,
          206.1396802663803,
          204.18981456756592,
          202.30445683002472,
          200.438143491745,
          198.6098828315735,
          196.8193951845169,
          195.04304146766663,
          193.23799884319305,
          191.41737353801727,
          189.55526900291443,
          187.60020232200623,
          185.56289446353912,
          183.4192110300064,
          181.12766933441162,
          178.68963944911957,
          176.06805729866028,
          173.29206323623657,
          170.40923368930817,
          167.4265537261963,
          164.73140799999237,
          162.14731907844543,
          159.7956417798996,
          157.6672436594963,
          155.6934028863907,
          153.91086852550507,
          152.26422214508057,
          150.79094541072845,
          149.33749556541443,
          148.02782654762268,
          146.756354033947,
          145.5650943517685,
          144.36242228746414,
          143.23433047533035,
          142.13615280389786,
          141.04194563627243,
          139.91327112913132,
          138.84272688627243,
          137.79403162002563,
          136.8174793124199,
          135.83128893375397,
          134.87822300195694,
          133.97859209775925,
          133.06472545862198,
          132.1815221309662,
          131.28556978702545,
          130.38721591234207,
          129.4922907948494,
          128.59279948472977,
          127.69575810432434,
          126.86964386701584,
          125.95611256361008,
          125.13401168584824,
          124.26008689403534,
          123.40025269985199,
          122.54426890611649,
          121.67746824026108,
          120.82890260219574,
          119.9491274356842,
          119.06502091884613,
          118.17035174369812,
          117.2835773229599,
          116.36596477031708,
          115.45469039678574,
          114.54820549488068,
          113.58043026924133,
          112.65052700042725,
          111.71223598718643,
          110.78399538993835,
          109.7668522298336,
          108.73922535777092,
          107.71219238638878,
          106.67292326688766,
          105.61487099528313,
          104.58935472369194,
          103.53266564011574,
          102.48974508047104,
          101.40148687362671,
          100.24041822552681,
          99.10182258486748,
          97.91444298624992,
          96.80269029736519,
          95.6072715818882,
          94.42893359065056,
          93.22328579425812,
          92.00047495961189,
          90.75866478681564,
          89.67604041099548,
          88.36463066935539,
          87.11271595954895,
          85.87067675590515,
          84.70202296972275,
          83.40236750245094,
          81.96752920746803,
          80.68961998820305,
          79.51338267326355,
          78.12930113077164,
          76.7899728268385,
          75.59568728506565,
          74.38880169391632,
          73.28301419317722,
          72.10371594130993,
          70.86468374729156,
          69.67314751446247,
          68.26044371724129,
          67.3634153008461,
          66.0375921279192,
          64.70051118731499,
          64.31944467127323,
          62.33717708289623,
          61.24853353202343,
          59.95828902721405,
          58.593003407120705,
          59.050205796957016,
          56.185940250754356,
          57.32824666798115,
          53.942926436662674,
          52.49972753226757,
          51.554515570402145,
          50.608509853482246,
          50.38522079586983,
          51.59245206415653,
          47.92283834517002,
          46.02544713020325,
          44.922219678759575,
          43.6151837259531,
          42.57117696851492,
          42.725158147513866,
          40.795604184269905,
          41.63224425166845,
          37.808734618127346,
          36.95639118552208,
          36.11878052353859,
          35.296756379306316,
          33.867007575929165,
          32.1216441988945,
          41.8584993109107,
          32.29414638131857,
          30.397187925875187,
          30.007745780050755,
          33.457744397222996,
          27.93079399317503,
          28.04857601225376,
          34.093506909906864,
          32.69806182384491,
          25.355609614402056,
          22.510181784629822,
          33.873421762138605,
          33.69733893498778,
          21.636922840029,
          19.185801330953836,
          17.73136662133038,
          16.3841164521873,
          15.833184700459242,
          16.462207067757845,
          17.807412587106228,
          15.008611619472504,
          18.863035690039396,
          34.67657176218927,
          38.2061655446887,
          15.564474014565349,
          11.770493760704994,
          10.746599677950144,
          9.653451643884182,
          9.153811918571591,
          8.92764980904758,
          8.812331813387573,
          17.869037894532084,
          10.623812213540077,
          56.56271476764232,
          11.024961594492197,
          7.803596785292029,
          6.713281972333789,
          6.024838395416737,
          5.56773177254945,
          5.272703691385686,
          7.557841180358082,
          5.096893096808344,
          4.3236095434986055,
          4.105074219871312,
          5.455431906506419,
          58.07267885841429,
          6.750751341227442,
          4.559507064055651,
          3.8117326088249683,
          3.430242579896003,
          3.156823850236833,
          2.946556477341801,
          2.77952774730511,
          2.604500724934041,
          2.454831460723653,
          2.328532719053328,
          2.201721659163013,
          2.093319729669019,
          1.9944638558663421,
          1.898387196008116,
          1.813019004184752,
          1.73493574024178,
          1.663610858377069,
          1.5868419513572,
          1.529948884155601,
          1.465770803857594,
          1.407772911945358,
          1.355892497114837,
          1.305131062865257,
          1.257145126815885,
          1.210996597073972,
          1.167500272626057,
          1.128608820959925,
          1.090720429318025,
          1.054126265924424,
          1.020881509641185,
          0.9903381748590611,
          0.9576705633662641,
          0.929850057698786,
          0.90184052591212,
          0.8748094076290721,
          0.8500585604924701,
          0.823830693028867,
          0.801304406719282,
          0.780157418339513,
          0.758570214966312,
          0.736735321464948,
          0.7175683642271901,
          0.699137723422609,
          0.679988674819469,
          0.6635310355341061,
          0.6467537205899131,
          0.6308995581930501,
          0.615320612327195,
          0.601192809292115,
          0.5870864493772381,
          0.5738089446676891,
          0.5608245149487631,
          0.5487374574877321,
          0.536068931920453,
          0.524915012647397,
          0.5136345868231721,
          0.5026026268023991,
          0.49236871453467707,
          0.48262652603443706,
          0.472507411031983,
          0.46326664439402504,
          0.45401836081873603,
          0.44594689074438004,
          0.43713968771044104,
          0.428888437221758,
          0.42142652883194304,
          0.413238650071434,
          0.40586114849429505,
          0.39857552282046504,
          0.39182030234951504,
          0.384777337429113,
          0.378757457016035,
          0.372215238050557,
          0.366288628662005,
          0.35998925473541005,
          0.354240142274647,
          0.348443839466199,
          0.34244951535947604,
          0.33706415269989504,
          0.331954098772257,
          0.32691781967878303,
          0.321574916597455,
          0.316693425527773,
          0.31215027323924005,
          0.307291613193228,
          0.30293206044007004,
          0.298488316009752,
          0.294374481774866,
          0.290476949827279,
          0.28592312469845604,
          0.28234060481190604,
          0.27836462191771705,
          0.274380836170166,
          0.270979007531423,
          0.266959433269221,
          0.263587303285021,
          0.260076415841467,
          0.256695136835332,
          0.25336847559083203,
          0.25030157493893,
          0.24716729606734503,
          0.24410654779057903,
          0.24097058555344103,
          0.237983965198509,
          0.235099122102838,
          0.23238738864893002,
          0.229602876410353,
          0.22678130667191,
          0.22421101143117902,
          0.22180227335775202,
          0.219289320579264,
          0.21667899750173003,
          0.214309139468241,
          0.21213380701374202,
          0.209953402169048,
          0.20740990806370901,
          0.20532971859211102,
          0.20317380700726,
          0.20084958808729403,
          0.19882237206911602,
          0.19690197613090202,
          0.194807996158488,
          0.19273189839441301,
          0.19078886066563402,
          0.18888229469303003,
          0.186956183228176,
          0.18488567863823802,
          0.183161218534223,
          0.18146493716631001,
          0.17958968912716902,
          0.177803217433393,
          0.17625858288374702,
          0.17435044533340202,
          0.17271268155309302,
          0.170999897411093,
          0.16947410683496802,
          0.16804801128455402,
          0.16631816999870302,
          0.164841576450271,
          0.16333443883922802,
          0.16193912201561,
          0.160430196498055,
          0.158915834879735,
          0.15758024301612703,
          0.15618998315767302,
          0.15487282231333602,
          0.153521493892185,
          0.15217744585243,
          0.15084077959181702,
          0.149533623072784,
          0.148345185240032,
          0.147034485562471,
          0.145804203959414,
          0.144555106322513,
          0.14343923094565902,
          0.142261097207665,
          0.14102928800275502,
          0.139980984851717,
          0.13890528198680802,
          0.13770844446844402,
          0.136763578950194,
          0.13554922523326202,
          0.134527014975901,
          0.133524876990122,
          0.13248282772838102,
          0.131475668225903,
          0.130469877592986,
          0.12952765155932802,
          0.12853444108623002,
          0.127586175542091,
          0.126644443836994,
          0.125703917670762,
          0.12478310888400301,
          0.12393389633507401,
          0.12301652392488902,
          0.12209640137734801,
          0.12124261126155,
          0.12037255289033001,
          0.11950738282757802,
          0.11876090813893801,
          0.11792749661253701,
          0.11710878918529401,
          0.11624707336886701,
          0.11549042272963501,
          0.11460470070596701,
          0.11387843554257401,
          0.11314673439483101,
          0.112345590896438,
          0.11152484678314001,
          0.11089428560808301,
          0.110049473616527,
          0.109389195422409,
          0.10864499918534401,
          0.10804420750355301,
          0.10727108677383501,
          0.106576249032514,
          0.105845132609829,
          0.10524356138193901,
          0.10448510141577501,
          0.103897578199394,
          0.10318150342209201,
          0.102546256268396,
          0.101953977136872,
          0.10129298825631801,
          0.10062048322288301,
          0.10002216207794801,
          0.09942639392102101,
          0.09881181915989101,
          0.098241188927204,
          0.09759192306955801,
          0.09703449622611501,
          0.09650578697619401,
          0.09592234934098001,
          0.095332594573847,
          0.09479249252763101,
          0.09417311061406501,
          0.09365413906925801,
          0.09308193981996701,
          0.092558480188017,
          0.09204784659959801,
          0.091468545302632,
          0.090960334942792,
          0.09048796078423,
          0.089933922121417,
          0.08939339444623301,
          0.08891938171291201,
          0.08843088152934701,
          0.08795551957155101,
          0.08745416891179,
          0.08689169777790001,
          0.08641982759581801,
          0.085948922409443,
          0.085487096628639,
          0.085030570058734,
          0.084572168445447,
          0.08411947281274401,
          0.083618058779393,
          0.08318683032121,
          0.08275388833135301,
          0.08228728598624001,
          0.08186041998851501,
          0.081389523955294,
          0.080971674105967,
          0.08057524333707901,
          0.08017543081950801,
          0.079724886134499,
          0.07935211085714401,
          0.078895623781136,
          0.07852991791150901,
          0.078151887937565,
          0.077727992116706,
          0.077337528811767,
          0.07694766715576401,
          0.076512922401889,
          0.07618308856035501,
          0.07579388594604,
          0.075382517607067,
          0.075020649266662,
          0.074655872813309,
          0.074298933250247,
          0.073902424177504,
          0.07355197324068201,
          0.073197618155973,
          0.07281320403853801,
          0.07247088912117701,
          0.072126085244235,
          0.071782525294111,
          0.0714280900429,
          0.071130783486296,
          0.070787473247037,
          0.07039483787957501,
          0.07010160294885201,
          0.06976284498523401,
          0.069444128457689,
          0.069120969230425,
          0.068803988804575,
          0.068517667110427,
          0.06815806691884001,
          0.06785451021278201,
          0.06752888874325401,
          0.06722938005987,
          0.066887304026749,
          0.06661559385247501,
          0.06632009285385701,
          0.065997581885312,
          0.065747319807996,
          0.06542879903281501,
          0.065155129923368,
          0.064855059041292,
          0.064549444257863,
          0.06428259683889301,
          0.06395194309880001,
          0.06365322730562101,
          0.063415191645617,
          0.06312842712213701
         ]
        },
        {
         "mode": "lines+markers",
         "name": "Fold 2",
         "type": "scatter",
         "x": [
          0,
          1,
          2,
          3,
          4,
          5,
          6,
          7,
          8,
          9,
          10,
          11,
          12,
          13,
          14,
          15,
          16,
          17,
          18,
          19,
          20,
          21,
          22,
          23,
          24,
          25,
          26,
          27,
          28,
          29,
          30,
          31,
          32,
          33,
          34,
          35,
          36,
          37,
          38,
          39,
          40,
          41,
          42,
          43,
          44,
          45,
          46,
          47,
          48,
          49,
          50,
          51,
          52,
          53,
          54,
          55,
          56,
          57,
          58,
          59,
          60,
          61,
          62,
          63,
          64,
          65,
          66,
          67,
          68,
          69,
          70,
          71,
          72,
          73,
          74,
          75,
          76,
          77,
          78,
          79,
          80,
          81,
          82,
          83,
          84,
          85,
          86,
          87,
          88,
          89,
          90,
          91,
          92,
          93,
          94,
          95,
          96,
          97,
          98,
          99,
          100,
          101,
          102,
          103,
          104,
          105,
          106,
          107,
          108,
          109,
          110,
          111,
          112,
          113,
          114,
          115,
          116,
          117,
          118,
          119,
          120,
          121,
          122,
          123,
          124,
          125,
          126,
          127,
          128,
          129,
          130,
          131,
          132,
          133,
          134,
          135,
          136,
          137,
          138,
          139,
          140,
          141,
          142,
          143,
          144,
          145,
          146,
          147,
          148,
          149,
          150,
          151,
          152,
          153,
          154,
          155,
          156,
          157,
          158,
          159,
          160,
          161,
          162,
          163,
          164,
          165,
          166,
          167,
          168,
          169,
          170,
          171,
          172,
          173,
          174,
          175,
          176,
          177,
          178,
          179,
          180,
          181,
          182,
          183,
          184,
          185,
          186,
          187,
          188,
          189,
          190,
          191,
          192,
          193,
          194,
          195,
          196,
          197,
          198,
          199,
          200,
          201,
          202,
          203,
          204,
          205,
          206,
          207,
          208,
          209,
          210,
          211,
          212,
          213,
          214,
          215,
          216,
          217,
          218,
          219,
          220,
          221,
          222,
          223,
          224,
          225,
          226,
          227,
          228,
          229,
          230,
          231,
          232,
          233,
          234,
          235,
          236,
          237,
          238,
          239,
          240,
          241,
          242,
          243,
          244,
          245,
          246,
          247,
          248,
          249,
          250,
          251,
          252,
          253,
          254,
          255,
          256,
          257,
          258,
          259,
          260,
          261,
          262,
          263,
          264,
          265,
          266,
          267,
          268,
          269,
          270,
          271,
          272,
          273,
          274,
          275,
          276,
          277,
          278,
          279,
          280,
          281,
          282,
          283,
          284,
          285,
          286,
          287,
          288,
          289,
          290,
          291,
          292,
          293,
          294,
          295,
          296,
          297,
          298,
          299,
          300,
          301,
          302,
          303,
          304,
          305,
          306,
          307,
          308,
          309,
          310,
          311,
          312,
          313,
          314,
          315,
          316,
          317,
          318,
          319,
          320,
          321,
          322,
          323,
          324,
          325,
          326,
          327,
          328,
          329,
          330,
          331,
          332,
          333,
          334,
          335,
          336,
          337,
          338,
          339,
          340,
          341,
          342,
          343,
          344,
          345,
          346,
          347,
          348,
          349,
          350,
          351,
          352,
          353,
          354,
          355,
          356,
          357,
          358,
          359,
          360,
          361,
          362,
          363,
          364,
          365,
          366,
          367,
          368,
          369,
          370,
          371,
          372,
          373,
          374,
          375,
          376,
          377,
          378,
          379,
          380,
          381,
          382,
          383,
          384,
          385,
          386,
          387,
          388,
          389,
          390,
          391,
          392,
          393,
          394,
          395,
          396,
          397,
          398,
          399,
          400,
          401,
          402,
          403,
          404,
          405,
          406,
          407,
          408,
          409,
          410,
          411,
          412,
          413,
          414,
          415,
          416,
          417,
          418,
          419,
          420,
          421,
          422,
          423,
          424,
          425,
          426,
          427,
          428,
          429,
          430,
          431,
          432,
          433,
          434,
          435,
          436,
          437,
          438,
          439,
          440,
          441,
          442,
          443,
          444,
          445,
          446,
          447,
          448,
          449,
          450,
          451,
          452,
          453,
          454,
          455,
          456,
          457,
          458,
          459,
          460,
          461,
          462,
          463,
          464,
          465,
          466,
          467,
          468,
          469,
          470,
          471,
          472,
          473,
          474,
          475,
          476,
          477,
          478,
          479,
          480,
          481,
          482,
          483,
          484,
          485,
          486,
          487,
          488,
          489,
          490,
          491,
          492,
          493,
          494,
          495,
          496,
          497,
          498,
          499
         ],
         "y": [
          239.35559034347534,
          239.23106253147125,
          239.13980329036713,
          239.0583792924881,
          238.97953307628632,
          238.89405822753906,
          238.7974874973297,
          238.68183302879333,
          238.54071724414825,
          238.36902832984924,
          238.15586686134338,
          237.8840559720993,
          237.5220946073532,
          237.02617073059082,
          236.31972706317902,
          235.2479397058487,
          233.50962698459625,
          230.51464176177979,
          225.6569038629532,
          219.76162040233612,
          214.40125584602356,
          209.9001762866974,
          206.2161159515381,
          203.18768107891083,
          200.60691666603088,
          198.31402969360352,
          196.1891860961914,
          194.17879045009613,
          192.270001411438,
          190.3219153881073,
          188.30831170082092,
          186.14927530288696,
          183.84371984004974,
          181.3260442018509,
          178.5507537126541,
          175.41109693050385,
          172.10085141658783,
          168.59455853700638,
          165.21689772605896,
          162.22127431631088,
          159.5084731578827,
          157.07452285289764,
          154.86401975154877,
          152.8872132897377,
          151.15569067001343,
          149.60069179534912,
          148.22803962230682,
          146.95246291160583,
          145.76529556512833,
          144.6107747554779,
          143.52520769834518,
          142.5048760175705,
          141.55413430929184,
          140.62964910268784,
          139.70735239982605,
          138.81483709812164,
          137.96464574337006,
          137.1713805794716,
          136.37569499015808,
          135.62868803739548,
          134.8827998638153,
          134.1290466785431,
          133.4150551557541,
          132.67680275440216,
          131.95181065797806,
          131.2218320965767,
          130.50324374437332,
          129.79752534627914,
          129.0912725329399,
          128.37585365772247,
          127.68965220451355,
          126.97809970378876,
          126.29990547895432,
          125.59145295619965,
          124.91647398471832,
          124.21270060539246,
          123.54066771268845,
          122.88282948732376,
          122.20706444978714,
          121.49814194440842,
          120.82058399915695,
          120.13935643434525,
          119.42233031988144,
          118.698874771595,
          117.99411565065384,
          117.27648627758026,
          116.60916340351105,
          115.8475096821785,
          115.12778306007385,
          114.37720775604248,
          113.63447368144989,
          112.8913488984108,
          112.14835232496262,
          111.39500778913498,
          110.57631242275238,
          109.78849947452545,
          108.99858784675598,
          108.23909229040146,
          107.43979978561401,
          106.58234745264053,
          105.79562103748322,
          104.96774154901505,
          104.12843385338783,
          103.30872955918312,
          102.41356334090233,
          101.60741657018661,
          100.79133555293083,
          99.86825945973396,
          98.98266252875328,
          98.02056589722633,
          97.21423971652985,
          96.17744931578636,
          95.40772986412048,
          94.4702987074852,
          93.64652135968208,
          92.68399003148079,
          91.73680433630943,
          90.80149266123772,
          89.83203476667404,
          88.9387591779232,
          87.91133663058281,
          86.87735465168953,
          85.80792710185051,
          85.07332208752632,
          83.9684225320816,
          82.885867446661,
          81.8057644367218,
          80.83117225766182,
          79.72080552577972,
          78.7175644338131,
          77.77349343895912,
          76.67970219254494,
          75.65154033899307,
          74.70986860990524,
          73.70158576965332,
          72.77986234426498,
          71.56619188189507,
          70.3093518614769,
          69.41855949163437,
          68.33784312009811,
          67.17924965918064,
          66.51272924244404,
          65.25114198029041,
          64.03201735019684,
          62.868852108716965,
          61.739521980285645,
          60.655856132507324,
          59.5979955047369,
          58.31463786959648,
          57.524654015898705,
          56.377189949154854,
          55.54158090054989,
          54.244061052799225,
          53.34285232424736,
          51.618992418050766,
          50.88384099304676,
          51.90398444235325,
          48.66996881365776,
          48.025892458856106,
          46.717764779925346,
          45.65285286307335,
          45.47013024240732,
          44.42499901354313,
          41.99866005778313,
          41.47308497130871,
          40.818213663995266,
          49.90020898729563,
          39.269924603402615,
          36.8450805619359,
          37.90860144048929,
          36.47976412624121,
          34.33976197242737,
          34.04282982647419,
          34.21075426787138,
          32.80973242968321,
          31.434545792639256,
          28.834413699805737,
          27.507173746824265,
          34.04742408543825,
          38.96995352208614,
          26.733356915414333,
          37.20985399931669,
          42.47078300267458,
          24.020589977502823,
          22.11700578406453,
          20.722187124192715,
          19.564178962260485,
          23.219828449189663,
          27.338535513728857,
          35.10036447271705,
          18.959523398429155,
          17.281576234847307,
          16.01001387834549,
          15.166083373129368,
          27.547271264716983,
          14.402634344995022,
          14.943474853411317,
          13.354067098349333,
          175.51806405186653,
          45.15933991223574,
          23.73594055324793,
          18.21332610026002,
          14.95412877947092,
          13.076597981154919,
          11.720397517085075,
          10.753741882741451,
          9.890289966017008,
          9.277571169659495,
          8.588921308517456,
          8.113372622057796,
          7.655622374266386,
          7.227962530218065,
          6.798026622273028,
          6.451979177072644,
          6.137864879332483,
          5.836654182523489,
          5.4995981846004725,
          5.217750179581344,
          4.907943804748356,
          4.6673740008845925,
          4.384432801045477,
          4.248986750841141,
          3.98395866015926,
          3.808776021003723,
          3.523287278600037,
          3.394334160722792,
          3.215123150497675,
          3.085654158145189,
          2.873156134039163,
          2.721703964751214,
          2.602754989638924,
          2.464582716114819,
          2.340965122450143,
          2.241190088447183,
          2.13669890165329,
          2.040573893114924,
          1.959587677381932,
          1.880908372811973,
          1.805922975298017,
          1.734562296885997,
          1.670798451639711,
          1.6079417178407311,
          1.546194268390536,
          1.490433945320546,
          1.4370236704126,
          1.388089250773191,
          1.339923421386629,
          1.297158739296719,
          1.256412603193894,
          1.212199277943,
          1.176985312253236,
          1.137442409293726,
          1.1045867404900491,
          1.071430126670748,
          1.038744623539969,
          1.008014547405764,
          0.9802950774319471,
          0.952586451545357,
          0.926345481537282,
          0.9009292656555771,
          0.87823816249147,
          0.8547653723508121,
          0.83147480036132,
          0.8082384718582031,
          0.788324971683323,
          0.767770664300769,
          0.7472229925915591,
          0.729238211177289,
          0.710640536155551,
          0.693361640092916,
          0.677651449805125,
          0.661467470112256,
          0.645860814023762,
          0.631546088028699,
          0.617035804665647,
          0.603067805292084,
          0.5906107323244211,
          0.578668272937648,
          0.5660780640318991,
          0.5548538983566681,
          0.5428813997423271,
          0.532107928534969,
          0.5221370753133671,
          0.5118848507991061,
          0.500916821998544,
          0.49228206544648806,
          0.48287527810316505,
          0.47374930698424506,
          0.46456802240572803,
          0.456716405111365,
          0.44838657916989105,
          0.44000570545904305,
          0.433634794084355,
          0.425501602119766,
          0.41860067471861806,
          0.411724862060509,
          0.40446491166949206,
          0.39819362014532,
          0.39167288946919104,
          0.385467307642102,
          0.379652226227335,
          0.37368199636694005,
          0.36804599594324805,
          0.36246192560065504,
          0.35721704864408804,
          0.352024857420474,
          0.346936806337907,
          0.34195576119236604,
          0.33682831120677204,
          0.332387094967998,
          0.327841573860496,
          0.323810142814181,
          0.31952448002994005,
          0.315094085759483,
          0.31098041869699905,
          0.306686196592636,
          0.302911490667611,
          0.29876617447007403,
          0.295106976409442,
          0.29147707729134703,
          0.287377408298198,
          0.283934639592189,
          0.28046720416750703,
          0.277064366440754,
          0.273628682945854,
          0.27044323366135303,
          0.26722443063044904,
          0.264071187120862,
          0.26101514999754705,
          0.257819383696187,
          0.25496653385926005,
          0.25231964024715103,
          0.24945172667503301,
          0.24662167025962803,
          0.24428153008921002,
          0.24119140219409002,
          0.238717725616879,
          0.236137452418915,
          0.23366557067492902,
          0.230923675408121,
          0.22875385422958003,
          0.226333071768749,
          0.224075321282725,
          0.22157383296871502,
          0.21945504698669502,
          0.21720631449716102,
          0.215071975020691,
          0.21295214787824002,
          0.210589365800842,
          0.20876898407004701,
          0.20664597890572603,
          0.20458853361196802,
          0.202763848297763,
          0.20080495171714502,
          0.19881577958585603,
          0.19698861223878303,
          0.19515293824952,
          0.193335040297824,
          0.191382558201439,
          0.18973826203728,
          0.18817946274066302,
          0.18639545055339102,
          0.18467283679638002,
          0.183005988714285,
          0.181489505805075,
          0.17979862028732801,
          0.178243783942889,
          0.17679583840072102,
          0.17530810728203503,
          0.173515759583096,
          0.17228661925764702,
          0.17080910509685002,
          0.16933442663867002,
          0.168001000361982,
          0.16659880115184902,
          0.16512954625068202,
          0.163988693995634,
          0.16255893485504203,
          0.16131098690675502,
          0.160010700114071,
          0.158689650474116,
          0.15741712306044,
          0.15610768061014801,
          0.154996608529472,
          0.153770564240403,
          0.152578542358241,
          0.15140414834604501,
          0.150205339159583,
          0.14901842587278202,
          0.14797480270499302,
          0.146693544927984,
          0.14560149953467702,
          0.144482684816466,
          0.143551173241576,
          0.142468041856773,
          0.14134625514270702,
          0.14035514369606902,
          0.13939504796871902,
          0.13833032260299602,
          0.137330132623901,
          0.136491728801047,
          0.13536576117621701,
          0.13452956234687002,
          0.133652163902297,
          0.132521633844589,
          0.13169804558856402,
          0.130792591400677,
          0.129816053871763,
          0.128990238852566,
          0.128020020812982,
          0.12724166049156302,
          0.126352467370452,
          0.125554082187591,
          0.12461444086511601,
          0.123881411040201,
          0.123081058991374,
          0.122189207555493,
          0.12146362607018,
          0.120655399980023,
          0.11988093005493201,
          0.11910169257316701,
          0.1183542276558,
          0.11755742001696401,
          0.11691183387301801,
          0.11618027320946502,
          0.115447242278605,
          0.11469446434057301,
          0.11400800864794201,
          0.11329713536542801,
          0.11260764475446101,
          0.11195524118375001,
          0.11128268748871001,
          0.110505404503783,
          0.10986396053340201,
          0.10927336412714701,
          0.108612621726933,
          0.107965039089322,
          0.10729378569521901,
          0.10663082479732101,
          0.10602485452545801,
          0.105428212351398,
          0.10480312691652201,
          0.104198290937347,
          0.103653037978801,
          0.102994898363249,
          0.10249484071391601,
          0.101812681561568,
          0.101263220130931,
          0.100691672065295,
          0.100089650368317,
          0.09959206409985201,
          0.099068139010341,
          0.098529454757226,
          0.09792304810252901,
          0.09740199628868101,
          0.09687122364994101,
          0.09638316550990501,
          0.095859848195686,
          0.095279010216472,
          0.094795756944222,
          0.09428408025996701,
          0.093813095591031,
          0.09328270223340901,
          0.092800858430564,
          0.09236758365295801,
          0.09183992093312501,
          0.091368626424809,
          0.090925691358279,
          0.09042333334218701,
          0.089979836862767,
          0.08949735565693101,
          0.089004416542593,
          0.08854141572373901,
          0.08813068550080001,
          0.08768673607846701,
          0.08723450481193101,
          0.086788827815325,
          0.086387276096502,
          0.085954954556655,
          0.085491104488028,
          0.085034108225954,
          0.084626188938273,
          0.08422071780660101,
          0.08383923460496501,
          0.083386185287963,
          0.08302376000210601,
          0.082620711429626,
          0.08214867149945301,
          0.081856892604264,
          0.081388796199462,
          0.081061672681244,
          0.08061801438452601,
          0.080260073998942,
          0.079908207975677,
          0.079481945125735,
          0.07914578181225801,
          0.07879454817157201,
          0.07844994601327901,
          0.07799055118812201,
          0.077668686499237
         ]
        },
        {
         "mode": "lines+markers",
         "name": "Fold 3",
         "type": "scatter",
         "x": [
          0,
          1,
          2,
          3,
          4,
          5,
          6,
          7,
          8,
          9,
          10,
          11,
          12,
          13,
          14,
          15,
          16,
          17,
          18,
          19,
          20,
          21,
          22,
          23,
          24,
          25,
          26,
          27,
          28,
          29,
          30,
          31,
          32,
          33,
          34,
          35,
          36,
          37,
          38,
          39,
          40,
          41,
          42,
          43,
          44,
          45,
          46,
          47,
          48,
          49,
          50,
          51,
          52,
          53,
          54,
          55,
          56,
          57,
          58,
          59,
          60,
          61,
          62,
          63,
          64,
          65,
          66,
          67,
          68,
          69,
          70,
          71,
          72,
          73,
          74,
          75,
          76,
          77,
          78,
          79,
          80,
          81,
          82,
          83,
          84,
          85,
          86,
          87,
          88,
          89,
          90,
          91,
          92,
          93,
          94,
          95,
          96,
          97,
          98,
          99,
          100,
          101,
          102,
          103,
          104,
          105,
          106,
          107,
          108,
          109,
          110,
          111,
          112,
          113,
          114,
          115,
          116,
          117,
          118,
          119,
          120,
          121,
          122,
          123,
          124,
          125,
          126,
          127,
          128,
          129,
          130,
          131,
          132,
          133,
          134,
          135,
          136,
          137,
          138,
          139,
          140,
          141,
          142,
          143,
          144,
          145,
          146,
          147,
          148,
          149,
          150,
          151,
          152,
          153,
          154,
          155,
          156,
          157,
          158,
          159,
          160,
          161,
          162,
          163,
          164,
          165,
          166,
          167,
          168,
          169,
          170,
          171,
          172,
          173,
          174,
          175,
          176,
          177,
          178,
          179,
          180,
          181,
          182,
          183,
          184,
          185,
          186,
          187,
          188,
          189,
          190,
          191,
          192,
          193,
          194,
          195,
          196,
          197,
          198,
          199,
          200,
          201,
          202,
          203,
          204,
          205,
          206,
          207,
          208,
          209,
          210,
          211,
          212,
          213,
          214,
          215,
          216,
          217,
          218,
          219,
          220,
          221,
          222,
          223,
          224,
          225,
          226,
          227,
          228,
          229,
          230,
          231,
          232,
          233,
          234,
          235,
          236,
          237,
          238,
          239,
          240,
          241,
          242,
          243,
          244,
          245,
          246,
          247,
          248,
          249,
          250,
          251,
          252,
          253,
          254,
          255,
          256,
          257,
          258,
          259,
          260,
          261,
          262,
          263,
          264,
          265,
          266,
          267,
          268,
          269,
          270,
          271,
          272,
          273,
          274,
          275,
          276,
          277,
          278,
          279,
          280,
          281,
          282,
          283,
          284,
          285,
          286,
          287,
          288,
          289,
          290,
          291,
          292,
          293,
          294,
          295,
          296,
          297,
          298,
          299,
          300,
          301,
          302,
          303,
          304,
          305,
          306,
          307,
          308,
          309,
          310,
          311,
          312,
          313,
          314,
          315,
          316,
          317,
          318,
          319,
          320,
          321,
          322,
          323,
          324,
          325,
          326,
          327,
          328,
          329,
          330,
          331,
          332,
          333,
          334,
          335,
          336,
          337,
          338,
          339,
          340,
          341,
          342,
          343,
          344,
          345,
          346,
          347,
          348,
          349,
          350,
          351,
          352,
          353,
          354,
          355,
          356,
          357,
          358,
          359,
          360,
          361,
          362,
          363,
          364,
          365,
          366,
          367,
          368,
          369,
          370,
          371,
          372,
          373,
          374,
          375,
          376,
          377,
          378,
          379,
          380,
          381,
          382,
          383,
          384,
          385,
          386,
          387,
          388,
          389,
          390,
          391,
          392,
          393,
          394,
          395,
          396,
          397,
          398,
          399,
          400,
          401,
          402,
          403,
          404,
          405,
          406,
          407,
          408,
          409,
          410,
          411,
          412,
          413,
          414,
          415,
          416,
          417,
          418,
          419,
          420,
          421,
          422,
          423,
          424,
          425,
          426,
          427,
          428,
          429,
          430,
          431,
          432,
          433,
          434,
          435,
          436,
          437,
          438,
          439,
          440,
          441,
          442,
          443,
          444,
          445,
          446,
          447,
          448,
          449,
          450,
          451,
          452,
          453,
          454,
          455,
          456,
          457,
          458,
          459,
          460,
          461,
          462,
          463,
          464,
          465,
          466,
          467,
          468,
          469,
          470,
          471,
          472,
          473,
          474,
          475,
          476,
          477,
          478,
          479,
          480,
          481,
          482,
          483,
          484,
          485,
          486,
          487,
          488,
          489,
          490,
          491,
          492,
          493,
          494,
          495,
          496,
          497,
          498,
          499
         ],
         "y": [
          239.35323750972748,
          239.23051142692566,
          239.14313399791718,
          239.06252825260162,
          238.9707487821579,
          238.85997200012207,
          238.71498656272888,
          238.51979100704193,
          238.23859214782715,
          237.82451486587524,
          237.18939638137817,
          236.17573463916779,
          234.54467284679413,
          232.0513118505478,
          228.9544676542282,
          225.96308422088623,
          223.199462890625,
          220.49606788158417,
          217.93658304214478,
          215.58658719062805,
          213.34804785251617,
          211.2548884153366,
          209.24339497089386,
          207.29901897907257,
          205.42040705680847,
          203.59271323680878,
          201.81121015548706,
          200.02833247184753,
          198.2643177509308,
          196.49367833137512,
          194.71597039699554,
          192.91292107105255,
          191.08408570289612,
          189.23410654067993,
          187.32840633392334,
          185.32547771930695,
          183.12689650058746,
          180.75497770309448,
          178.16815602779388,
          175.27461051940918,
          172.2420620918274,
          169.0715535879135,
          166.0636922121048,
          163.14298224449158,
          160.43115293979645,
          157.97907745838165,
          155.79443436861038,
          153.79815369844437,
          152.0713445544243,
          150.458824634552,
          148.96129429340363,
          147.68674051761627,
          146.45101118087769,
          145.2056258916855,
          144.0559037923813,
          142.95224124193192,
          141.86457842588425,
          140.83187210559845,
          139.81502413749695,
          138.80180913209915,
          137.8482804298401,
          136.91672211885452,
          135.9561711549759,
          134.9700447320938,
          134.01154112815857,
          133.05131912231445,
          132.08916348218918,
          131.12357342243195,
          130.1836478114128,
          129.28127014636993,
          128.37028414011002,
          127.46059012413025,
          126.51766383647919,
          125.6181720495224,
          124.71784520149231,
          123.77031069993973,
          122.82533812522888,
          121.93558156490326,
          121.05791527032852,
          120.09827554225922,
          119.13890689611435,
          118.21740227937698,
          117.26521998643875,
          116.34495401382446,
          115.3865048289299,
          114.38741731643677,
          113.38491493463516,
          112.39353507757187,
          111.30887341499329,
          110.22936356067657,
          109.21788662672043,
          108.18425357341766,
          107.03444063663483,
          105.98465633392334,
          104.94281613826752,
          103.79889559745789,
          102.6534059047699,
          101.46539944410324,
          100.44708025455475,
          99.21911472082138,
          97.9885846376419,
          96.79973042011261,
          95.63657510280609,
          94.39808785915375,
          93.32517382502556,
          92.08125212788582,
          91.11156079173088,
          89.71292498707771,
          88.71373063325882,
          87.54434844851494,
          86.54102000594139,
          85.43865942955017,
          83.97229140996933,
          82.91930130124092,
          81.7655921280384,
          80.80294468998909,
          79.45415169000626,
          78.25120511651039,
          77.11374598741531,
          75.92574974894524,
          74.75174897909164,
          73.4301415681839,
          72.1477442085743,
          70.80793976783752,
          69.77116033434868,
          68.61743707954884,
          67.2076876014471,
          66.20477041602135,
          65.23800294101238,
          63.63731388747692,
          62.69281379878521,
          61.20257145166397,
          60.428606033325195,
          58.69243749976158,
          57.77981425821781,
          56.512924671173096,
          55.42264211177826,
          54.36676940321922,
          53.90616191923618,
          51.74046164751053,
          50.125599667429924,
          49.6072406321764,
          49.21849571168423,
          46.29795154929161,
          45.663692116737366,
          54.8064898699522,
          44.0746895968914,
          42.32278115302324,
          41.00900939106941,
          45.72252690047026,
          40.178931050002575,
          38.09057983011007,
          45.40805049240589,
          37.16427122056484,
          34.499502062797546,
          34.22482226788998,
          48.047933518886566,
          36.31667207181454,
          31.493494175374508,
          31.24680606275797,
          41.57475759088993,
          30.36510295420885,
          26.81625883281231,
          26.038120560348034,
          25.97174920886755,
          28.31011812016368,
          27.32677711546421,
          34.798912923783064,
          22.28385939449072,
          22.033042140305042,
          20.211948160082102,
          19.0448513738811,
          18.304103404283524,
          38.13832542672753,
          34.40497311577201,
          28.478416457772255,
          17.657332811504602,
          15.835571248084307,
          29.499459847807884,
          14.514728903770447,
          13.036891037598252,
          12.37108314037323,
          11.937948858365417,
          38.352253375574946,
          32.87816009670496,
          12.845300197601318,
          12.193030964583158,
          11.32023031450808,
          10.137559531256557,
          9.115053858608007,
          8.690707867965102,
          8.889037888497114,
          7.637978946790099,
          54.69171794131398,
          18.392324341461062,
          9.4171649441123,
          7.591412347741425,
          6.6090167760849,
          6.073861795477569,
          5.5975586399436,
          5.189888619817793,
          4.835383606143296,
          4.519602021202445,
          4.217636982910335,
          3.969303963240236,
          3.73673621751368,
          3.51415431080386,
          3.322336639277637,
          3.14828862529248,
          2.972511818166822,
          2.818770356010645,
          2.657706192228943,
          2.5187971866689622,
          2.391346987802535,
          2.275641515851021,
          2.15742333419621,
          2.058235118631273,
          1.958955225534737,
          1.872368963900953,
          1.787174967583268,
          1.7066085909027602,
          1.633112587267533,
          1.569283789489418,
          1.5045589103829111,
          1.446404835907742,
          1.385182340396568,
          1.338242630474269,
          1.286927685141563,
          1.241583277937024,
          1.198744816007092,
          1.155240966938436,
          1.11926251463592,
          1.08331294148229,
          1.045986136421561,
          1.014371831901371,
          0.98072963161394,
          0.9503682914655651,
          0.9235109252622351,
          0.895686353323981,
          0.868545077042654,
          0.8447507028467951,
          0.8215046327095471,
          0.7983085088199,
          0.7780474710743871,
          0.758383878623135,
          0.737498889211565,
          0.7200830825604491,
          0.701740239863283,
          0.6849689409136771,
          0.6688704760745161,
          0.653568915673531,
          0.638646125560626,
          0.623408521874807,
          0.6100038647418841,
          0.5972615935606881,
          0.5846200386295091,
          0.5728724794462321,
          0.560909498832188,
          0.5494068161351601,
          0.5381765721831471,
          0.527605650015175,
          0.518100027344189,
          0.507940560462884,
          0.49823905911762206,
          0.48881368653383106,
          0.47992676484864205,
          0.47182895545847703,
          0.462533594924025,
          0.454324309132061,
          0.446411535609513,
          0.43879353348165706,
          0.432253785198554,
          0.42416404723189705,
          0.41727487125899604,
          0.410954604274593,
          0.403960873023606,
          0.39739661151543204,
          0.39122234913520504,
          0.38500506465788903,
          0.379569722455926,
          0.37364556815009503,
          0.36774094053544104,
          0.36290392291266405,
          0.35678308072965503,
          0.351603988092392,
          0.34748323686653704,
          0.34163499262649505,
          0.336849298968445,
          0.332390953670255,
          0.327314100810326,
          0.32280815287958803,
          0.31950808310648404,
          0.31449441559379904,
          0.310821364575531,
          0.306417360436171,
          0.30238826130516805,
          0.29899413388920904,
          0.294288480945397,
          0.29097974143223804,
          0.287505605258047,
          0.28377636033110304,
          0.280559645907487,
          0.276664647099096,
          0.273171315027866,
          0.270376813947223,
          0.266994224803056,
          0.26370115048484805,
          0.260538982402067,
          0.257727268966846,
          0.254436502174939,
          0.25136862089857404,
          0.24883659172337502,
          0.24584494833834403,
          0.24307093990501003,
          0.24042956240009503,
          0.23754012299468702,
          0.23505529877729703,
          0.23243438970530403,
          0.23000289720948702,
          0.227165985968895,
          0.22499920567497603,
          0.22237406804924803,
          0.22012783534592,
          0.21781695331446801,
          0.215288159146439,
          0.21327026095241303,
          0.211128090624697,
          0.20900994888506802,
          0.206798203114885,
          0.20488336717244202,
          0.20264490973204302,
          0.20057568559423,
          0.198780758539214,
          0.196620022470597,
          0.19488481449661701,
          0.192767160246148,
          0.191123897675424,
          0.18917805264936702,
          0.18743993190582803,
          0.185699493682477,
          0.184001896297559,
          0.182188701175618,
          0.18058306974126,
          0.178768675192259,
          0.17746993293985702,
          0.175635301333386,
          0.17413713422138202,
          0.172521289787255,
          0.170956791727803,
          0.169375207333359,
          0.16785680249449703,
          0.16655897360760702,
          0.16503753841971,
          0.163430544285802,
          0.162245583196636,
          0.160726626054383,
          0.159498895780416,
          0.157987726270221,
          0.156763523351401,
          0.15546528625418402,
          0.15424820090993302,
          0.152943227789364,
          0.151756896928418,
          0.150436607073061,
          0.14925050290185002,
          0.14797800796804902,
          0.14693135072593502,
          0.145655284606618,
          0.144455096276942,
          0.143473748757969,
          0.14230891881743402,
          0.141038818546803,
          0.14022254961309902,
          0.139106083312071,
          0.137880284019047,
          0.136931576183997,
          0.135985215747496,
          0.134959809802239,
          0.133971088362159,
          0.13301740470342302,
          0.132003289501881,
          0.13106010068440802,
          0.130200549669098,
          0.129246200842317,
          0.128264341736212,
          0.127390996640315,
          0.126416479179169,
          0.12561879330314601,
          0.124624295218382,
          0.123949884931789,
          0.122925552510423,
          0.12204975937493101,
          0.12122744123917001,
          0.12042773148277701,
          0.119573634758125,
          0.11874896701192401,
          0.11800960925756901,
          0.11703803922864602,
          0.116382905573118,
          0.11556306187412702,
          0.11485616097343102,
          0.11401429283432601,
          0.113329453510232,
          0.11247226846171501,
          0.11188471180503201,
          0.11104778220760601,
          0.110299594642128,
          0.10965180746279601,
          0.10895496411831102,
          0.10819797203294002,
          0.10746539419051201,
          0.106899659673217,
          0.106170082610333,
          0.10552832306711901,
          0.10482076506013902,
          0.104225382936419,
          0.10350479051703501,
          0.102949752501444,
          0.102224505419144,
          0.101687130139907,
          0.101038449909538,
          0.10037743477732801,
          0.099768936575856,
          0.099234917171997,
          0.098612298781517,
          0.09803635979187601,
          0.09736670527490701,
          0.096950202161679,
          0.09635026869364001,
          0.09572287078481101,
          0.09510276530636401,
          0.094699138426221,
          0.094065459968987,
          0.09353044239105601,
          0.093033721321262,
          0.092478042701259,
          0.09195140301017,
          0.09153038955992,
          0.090881070209434,
          0.09040694480063301,
          0.089931038935901,
          0.08938492991728701,
          0.08887399180093701,
          0.088341471389867,
          0.087920762889552,
          0.087402534380089,
          0.08691045007435601,
          0.08651251855189901,
          0.08603074254642701,
          0.08555773737316401,
          0.085066826621186,
          0.08471525889763101,
          0.08414919096685401,
          0.08373574874713001,
          0.08332369691925101,
          0.082888495962833,
          0.082399643040844,
          0.081996099339448,
          0.081529212635359,
          0.08115048817126001,
          0.08071105019189401,
          0.080324349066358,
          0.079846386361168,
          0.07943867307039901,
          0.07911788727506,
          0.078708464687224,
          0.07829338575538701,
          0.077878313575638,
          0.07751529994129601,
          0.077143285874626,
          0.07676503929542301,
          0.07640594715485301,
          0.075978931155987,
          0.075676958236726,
          0.07530106918420601,
          0.074917516729328,
          0.07451286028663101,
          0.07417247579724001,
          0.07382906171551401,
          0.07344824020401501,
          0.07312667723454,
          0.072796620079316,
          0.07241182769939701,
          0.072065606116666,
          0.071748613408999,
          0.071453934026067,
          0.071088822121964,
          0.07070957719406501,
          0.070440560826682,
          0.070069522742414,
          0.06976237903290801,
          0.069435686309589,
          0.069142363980063,
          0.06881010203505801,
          0.06849152334325401,
          0.068216195490094,
          0.06791284694918401,
          0.067545467391028,
          0.067290366743691,
          0.06694789195898901
         ]
        },
        {
         "mode": "lines+markers",
         "name": "Fold 4",
         "type": "scatter",
         "x": [
          0,
          1,
          2,
          3,
          4,
          5,
          6,
          7,
          8,
          9,
          10,
          11,
          12,
          13,
          14,
          15,
          16,
          17,
          18,
          19,
          20,
          21,
          22,
          23,
          24,
          25,
          26,
          27,
          28,
          29,
          30,
          31,
          32,
          33,
          34,
          35,
          36,
          37,
          38,
          39,
          40,
          41,
          42,
          43,
          44,
          45,
          46,
          47,
          48,
          49,
          50,
          51,
          52,
          53,
          54,
          55,
          56,
          57,
          58,
          59,
          60,
          61,
          62,
          63,
          64,
          65,
          66,
          67,
          68,
          69,
          70,
          71,
          72,
          73,
          74,
          75,
          76,
          77,
          78,
          79,
          80,
          81,
          82,
          83,
          84,
          85,
          86,
          87,
          88,
          89,
          90,
          91,
          92,
          93,
          94,
          95,
          96,
          97,
          98,
          99,
          100,
          101,
          102,
          103,
          104,
          105,
          106,
          107,
          108,
          109,
          110,
          111,
          112,
          113,
          114,
          115,
          116,
          117,
          118,
          119,
          120,
          121,
          122,
          123,
          124,
          125,
          126,
          127,
          128,
          129,
          130,
          131,
          132,
          133,
          134,
          135,
          136,
          137,
          138,
          139,
          140,
          141,
          142,
          143,
          144,
          145,
          146,
          147,
          148,
          149,
          150,
          151,
          152,
          153,
          154,
          155,
          156,
          157,
          158,
          159,
          160,
          161,
          162,
          163,
          164,
          165,
          166,
          167,
          168,
          169,
          170,
          171,
          172,
          173,
          174,
          175,
          176,
          177,
          178,
          179,
          180,
          181,
          182,
          183,
          184,
          185,
          186,
          187,
          188,
          189,
          190,
          191,
          192,
          193,
          194,
          195,
          196,
          197,
          198,
          199,
          200,
          201,
          202,
          203,
          204,
          205,
          206,
          207,
          208,
          209,
          210,
          211,
          212,
          213,
          214,
          215,
          216,
          217,
          218,
          219,
          220,
          221,
          222,
          223,
          224,
          225,
          226,
          227,
          228,
          229,
          230,
          231,
          232,
          233,
          234,
          235,
          236,
          237,
          238,
          239,
          240,
          241,
          242,
          243,
          244,
          245,
          246,
          247,
          248,
          249,
          250,
          251,
          252,
          253,
          254,
          255,
          256,
          257,
          258,
          259,
          260,
          261,
          262,
          263,
          264,
          265,
          266,
          267,
          268,
          269,
          270,
          271,
          272,
          273,
          274,
          275,
          276,
          277,
          278,
          279,
          280,
          281,
          282,
          283,
          284,
          285,
          286,
          287,
          288,
          289,
          290,
          291,
          292,
          293,
          294,
          295,
          296,
          297,
          298,
          299,
          300,
          301,
          302,
          303,
          304,
          305,
          306,
          307,
          308,
          309,
          310,
          311,
          312,
          313,
          314,
          315,
          316,
          317,
          318,
          319,
          320,
          321,
          322,
          323,
          324,
          325,
          326,
          327,
          328,
          329,
          330,
          331,
          332,
          333,
          334,
          335,
          336,
          337,
          338,
          339,
          340,
          341,
          342,
          343,
          344,
          345,
          346,
          347,
          348,
          349,
          350,
          351,
          352,
          353,
          354,
          355,
          356,
          357,
          358,
          359,
          360,
          361,
          362,
          363,
          364,
          365,
          366,
          367,
          368,
          369,
          370,
          371,
          372,
          373,
          374,
          375,
          376,
          377,
          378,
          379,
          380,
          381,
          382,
          383,
          384,
          385,
          386,
          387,
          388,
          389,
          390,
          391,
          392,
          393,
          394,
          395,
          396,
          397,
          398,
          399,
          400,
          401,
          402,
          403,
          404,
          405,
          406,
          407,
          408,
          409,
          410,
          411,
          412,
          413,
          414,
          415,
          416,
          417,
          418,
          419,
          420,
          421,
          422,
          423,
          424,
          425,
          426,
          427,
          428,
          429,
          430,
          431,
          432,
          433,
          434,
          435,
          436,
          437,
          438,
          439,
          440,
          441,
          442,
          443,
          444,
          445,
          446,
          447,
          448,
          449,
          450,
          451,
          452,
          453,
          454,
          455,
          456,
          457,
          458,
          459,
          460,
          461,
          462,
          463,
          464,
          465,
          466,
          467,
          468,
          469,
          470,
          471,
          472,
          473,
          474,
          475,
          476,
          477,
          478,
          479,
          480,
          481,
          482,
          483,
          484,
          485,
          486,
          487,
          488,
          489,
          490,
          491,
          492,
          493,
          494,
          495,
          496,
          497,
          498,
          499
         ],
         "y": [
          239.34683179855347,
          239.2568541765213,
          239.19049394130707,
          239.13189089298248,
          239.07430481910706,
          239.01376032829285,
          238.94706559181213,
          238.8686648607254,
          238.77312624454498,
          238.65418004989624,
          238.5052353143692,
          238.31578266620636,
          238.06852972507477,
          237.73168349266052,
          237.26825666427612,
          236.59701538085938,
          235.5789439678192,
          234.01875233650208,
          231.64117908477783,
          228.47417640686035,
          225.21033453941345,
          222.22454953193665,
          219.26999080181122,
          216.50706231594086,
          213.88391995429993,
          211.30400812625885,
          208.61662650108337,
          205.80245625972748,
          202.96418380737305,
          200.11772465705872,
          197.0391274690628,
          193.3976353406906,
          188.9728398323059,
          184.6968264579773,
          180.6466827392578,
          176.52924358844757,
          172.54792654514313,
          169.14554584026337,
          166.30416643619537,
          163.8158506155014,
          161.67361509799957,
          159.69538271427155,
          157.94359904527664,
          156.3249683380127,
          154.87267243862152,
          153.47996932268143,
          152.13006728887558,
          150.84636706113815,
          149.61767625808716,
          148.42940109968185,
          147.2680839896202,
          146.1839559674263,
          145.1649330854416,
          144.23812812566757,
          143.34349113702774,
          142.51013678312302,
          141.68572616577148,
          140.94084841012955,
          140.1830174922943,
          139.43281000852585,
          138.71543353796005,
          137.9939712882042,
          137.27791088819504,
          136.5752380490303,
          135.87188428640366,
          135.17789161205292,
          134.48849952220917,
          133.77669668197632,
          133.13630026578903,
          132.44216918945312,
          131.75633132457733,
          131.0571267604828,
          130.34686869382858,
          129.63469231128693,
          128.95203232765198,
          128.2468100786209,
          127.55288463830948,
          126.86300253868103,
          126.18386626243591,
          125.49692326784134,
          124.8050782084465,
          124.13918912410736,
          123.43034541606903,
          122.72305011749268,
          122.01144081354141,
          121.29029995203018,
          120.58654135465622,
          119.87286591529846,
          119.14976269006729,
          118.44403403997421,
          117.69608724117279,
          116.98820042610168,
          116.2083375453949,
          115.47589391469955,
          114.74071156978607,
          113.95393604040146,
          113.15098732709885,
          112.34213185310364,
          111.54123723506927,
          110.69163662195206,
          109.86534345149994,
          108.98710721731186,
          108.08548218011856,
          107.22918170690536,
          106.33011209964752,
          105.42455315589905,
          104.54081147909164,
          103.5897746682167,
          102.65660279989243,
          101.61174815893173,
          100.66247564554214,
          99.76519215106964,
          98.75064474344254,
          97.7493759393692,
          96.8007405102253,
          95.83070918917656,
          94.84240257740021,
          93.8084265589714,
          92.83513182401657,
          91.81710058450699,
          90.7245545387268,
          89.60454455018044,
          88.70219632983208,
          87.60101470351219,
          86.49655911326408,
          85.5170576274395,
          84.54561704397202,
          83.45882752537727,
          82.43811824917793,
          81.40239256620407,
          80.3787253499031,
          79.43328019976616,
          78.4179265499115,
          77.16417524218559,
          76.36819097399712,
          75.24361708760262,
          74.2406276166439,
          73.21235257387161,
          72.21197724342346,
          71.13590802252293,
          70.08165273070335,
          69.22981628775597,
          68.27586604654789,
          67.14188219606876,
          66.34136675298214,
          65.15104922652245,
          64.2333203703165,
          63.17964707314968,
          62.36146496236324,
          61.22221417725086,
          60.0810731202364,
          58.98407305777073,
          58.03424455225468,
          57.11252583563328,
          55.7707826346159,
          55.12724923342466,
          53.976843520998955,
          53.19110215455294,
          52.29653038084507,
          50.95491521805525,
          49.956503465771675,
          49.44351501762867,
          48.40612441301346,
          47.21740711480379,
          46.29044306278229,
          45.6601440012455,
          45.21777722239494,
          43.62122145295143,
          43.19198775291443,
          41.91482177376747,
          40.856768906116486,
          40.38239908218384,
          39.23952891677618,
          40.07783047109842,
          36.65683786571026,
          41.45812027901411,
          35.68575122952461,
          36.07951166853309,
          33.736332919448614,
          34.87804937362671,
          32.31955322250724,
          31.219019412994385,
          38.983637142926455,
          30.44669070467353,
          34.74544285610318,
          28.242997638881207,
          27.440469581633806,
          33.75458946451545,
          25.588934909552336,
          24.72295342758298,
          23.2808026522398,
          30.17123244702816,
          27.091734182089567,
          21.676917295902967,
          20.85127229243517,
          20.41741155460477,
          18.831710789352655,
          18.050989005714655,
          18.2591199465096,
          16.60172275826335,
          38.83039674349129,
          18.291662704199553,
          14.837960828095675,
          13.788125129416585,
          13.178759146481752,
          22.522390067577362,
          25.738883974030614,
          13.104305740445852,
          11.732204224914312,
          10.738735059276223,
          10.572621665894985,
          50.094514802098274,
          13.27508607134223,
          10.00465727970004,
          31.13850797712803,
          10.399468055926263,
          8.752690520137548,
          8.16549347806722,
          7.62751898355782,
          7.088800826109946,
          6.663043695501983,
          6.281427707523107,
          5.969812963157892,
          5.606989838182926,
          5.374639256857336,
          5.004195203073323,
          4.834868534468114,
          4.501873469911516,
          4.286494452040642,
          4.058324950747192,
          3.820356671698391,
          3.640421567019075,
          3.469175869598984,
          3.307826951146126,
          3.141261162236333,
          2.97740674810484,
          2.797392556909471,
          2.657971331384033,
          2.528429430443793,
          2.394400376826524,
          2.278857385739684,
          2.176464195596054,
          2.079420407302677,
          1.990960139082744,
          1.914028322556987,
          1.83806323329918,
          1.761815194273367,
          1.6889827623963352,
          1.6282652847003192,
          1.563064254121855,
          1.506827351404354,
          1.451877326471731,
          1.400360023137182,
          1.352971533779054,
          1.304811320733279,
          1.263100781943649,
          1.221668608952313,
          1.181580278091132,
          1.1453027902171011,
          1.110357675701379,
          1.079163645394146,
          1.046263603493571,
          1.017981575103476,
          0.9898027123417701,
          0.9612487505655731,
          0.9368506113532931,
          0.913058744859881,
          0.8900696325581521,
          0.86866955331061,
          0.8466018888866521,
          0.8266379028791561,
          0.807241278234869,
          0.7882351444568481,
          0.7706244565779341,
          0.7527264363598071,
          0.7365387222962451,
          0.720828005578368,
          0.7051213752711191,
          0.6909149033017451,
          0.6760004007956011,
          0.6618524161167441,
          0.648957781377248,
          0.6356927426531911,
          0.623540176660753,
          0.610830540768802,
          0.599550135200843,
          0.5881233232794331,
          0.577112166443839,
          0.566294666961766,
          0.555635742435697,
          0.545523427485022,
          0.5359542939113451,
          0.526231054682284,
          0.517121931246947,
          0.5088533749803901,
          0.499042412033304,
          0.49135303992079504,
          0.483167745056562,
          0.47543824033346005,
          0.46726461523212404,
          0.459596057480666,
          0.45275801082607303,
          0.44556773861404503,
          0.439164307317696,
          0.431604674144182,
          0.425139135797508,
          0.41874615091364803,
          0.41248352883849204,
          0.406065964780282,
          0.400290621677413,
          0.39457870874321005,
          0.388946463470347,
          0.38346832722891105,
          0.377911315823439,
          0.37278181454166703,
          0.36704608687432405,
          0.36237238568719404,
          0.35747740534134204,
          0.3525228164508,
          0.347716981428675,
          0.34290317248087304,
          0.338732856384012,
          0.33407325850566805,
          0.329800289648119,
          0.32572996895760303,
          0.321402373258024,
          0.31773828342556903,
          0.313227347738575,
          0.309486352140083,
          0.30552491976413804,
          0.30186730425339103,
          0.29810932924738104,
          0.29467351152561605,
          0.290881237306166,
          0.28765521617606205,
          0.28428144333884103,
          0.281078378291567,
          0.27791786097805005,
          0.27477367076789905,
          0.271682173013687,
          0.268452905758749,
          0.26557209558086403,
          0.262639510619919,
          0.259692934894701,
          0.257042976183583,
          0.25434245480573703,
          0.251451442454708,
          0.24907239634194403,
          0.24621525616385,
          0.24369667755672703,
          0.24114510838990103,
          0.238600916374707,
          0.23629023489775103,
          0.23409370644367303,
          0.23150216307840302,
          0.22914671961916602,
          0.22718816270935302,
          0.225011088827159,
          0.22293232422089201,
          0.22040926653426102,
          0.21872385597089303,
          0.21639398872503002,
          0.214373487251577,
          0.21239591724588502,
          0.210370400396641,
          0.208440037124091,
          0.20643603414646303,
          0.204491579410387,
          0.202746553957695,
          0.20079786324640703,
          0.19932024399167803,
          0.19734959484776401,
          0.195796514686662,
          0.19380438802181701,
          0.192138386308215,
          0.190408866357756,
          0.18891483559855202,
          0.187175677507184,
          0.185582418605918,
          0.184001485351473,
          0.182437624520389,
          0.18103921678266402,
          0.179470716655487,
          0.177955843508243,
          0.17652781223296102,
          0.17499628718360302,
          0.173661084612831,
          0.17235747445374702,
          0.17073388150311,
          0.169605853006942,
          0.16817580748465802,
          0.166675478918477,
          0.165631147770909,
          0.16419217086513502,
          0.162960627290885,
          0.16165304498281302,
          0.16050106714828802,
          0.159208231227239,
          0.15805854258360302,
          0.15673277041059902,
          0.155516933300532,
          0.154408590955426,
          0.153264390508411,
          0.152135182259371,
          0.150960377126466,
          0.149811724229948,
          0.14872793224640102,
          0.147697720210999,
          0.14647708524717,
          0.14561170971137402,
          0.14453594514634402,
          0.14358421738143,
          0.142499358451459,
          0.14153694023843802,
          0.140543399058515,
          0.139510475157294,
          0.138719980313908,
          0.137672479002503,
          0.13677258105599302,
          0.135836126719368,
          0.134883072227239,
          0.134010899957502,
          0.133234065084252,
          0.13220218240167,
          0.131371507188305,
          0.130571742309257,
          0.129675675241742,
          0.12889822671422702,
          0.12796731799608002,
          0.127165071549825,
          0.126395572035107,
          0.125595299206906,
          0.124790528585435,
          0.123984563018893,
          0.12318247478106001,
          0.12240463352645702,
          0.12162207727669701,
          0.12085490307072101,
          0.12009138325811301,
          0.11941010633017801,
          0.11869816314720001,
          0.11795601040648701,
          0.117161681919242,
          0.11657562723848901,
          0.115765941838617,
          0.11506853191531201,
          0.114426068466855,
          0.11371380311902601,
          0.113067105456138,
          0.112380110731464,
          0.11173352067999001,
          0.11112760924152001,
          0.11044026821036801,
          0.109776058481656,
          0.10928083331964401,
          0.10846161087101701,
          0.10797096478927401,
          0.10718455893220301,
          0.106682773592183,
          0.106112183566438,
          0.105452128103934,
          0.10489054200297601,
          0.10431122600857601,
          0.10376644556527001,
          0.10313313515507601,
          0.10258943753433401,
          0.10202356986701401,
          0.10148553717590401,
          0.10085593676194501,
          0.1003967802244,
          0.09978345282434001,
          0.09928131297056,
          0.09875093930168001,
          0.098158992856042,
          0.097745123013737,
          0.097167230138438,
          0.09669184559606901,
          0.09620794466172801,
          0.09569162641128001,
          0.09512720597558601,
          0.094713789629167,
          0.094187326423707,
          0.093719863216392,
          0.09322899029939401,
          0.09280856896657401,
          0.092289176100166,
          0.09186667513858901,
          0.09136088356899501,
          0.09093026779009901,
          0.09048950194846801,
          0.090079021829296,
          0.08957547301542901,
          0.089078053395496,
          0.08866041678993401,
          0.08822468304424501,
          0.087855932841193,
          0.087350242945831,
          0.08697612152900501,
          0.086506803403608,
          0.086107894167071
         ]
        },
        {
         "mode": "lines+markers",
         "name": "Fold 5",
         "type": "scatter",
         "x": [
          0,
          1,
          2,
          3,
          4,
          5,
          6,
          7,
          8,
          9,
          10,
          11,
          12,
          13,
          14,
          15,
          16,
          17,
          18,
          19,
          20,
          21,
          22,
          23,
          24,
          25,
          26,
          27,
          28,
          29,
          30,
          31,
          32,
          33,
          34,
          35,
          36,
          37,
          38,
          39,
          40,
          41,
          42,
          43,
          44,
          45,
          46,
          47,
          48,
          49,
          50,
          51,
          52,
          53,
          54,
          55,
          56,
          57,
          58,
          59,
          60,
          61,
          62,
          63,
          64,
          65,
          66,
          67,
          68,
          69,
          70,
          71,
          72,
          73,
          74,
          75,
          76,
          77,
          78,
          79,
          80,
          81,
          82,
          83,
          84,
          85,
          86,
          87,
          88,
          89,
          90,
          91,
          92,
          93,
          94,
          95,
          96,
          97,
          98,
          99,
          100,
          101,
          102,
          103,
          104,
          105,
          106,
          107,
          108,
          109,
          110,
          111,
          112,
          113,
          114,
          115,
          116,
          117,
          118,
          119,
          120,
          121,
          122,
          123,
          124,
          125,
          126,
          127,
          128,
          129,
          130,
          131,
          132,
          133,
          134,
          135,
          136,
          137,
          138,
          139,
          140,
          141,
          142,
          143,
          144,
          145,
          146,
          147,
          148,
          149,
          150,
          151,
          152,
          153,
          154,
          155,
          156,
          157,
          158,
          159,
          160,
          161,
          162,
          163,
          164,
          165,
          166,
          167,
          168,
          169,
          170,
          171,
          172,
          173,
          174,
          175,
          176,
          177,
          178,
          179,
          180,
          181,
          182,
          183,
          184,
          185,
          186,
          187,
          188,
          189,
          190,
          191,
          192,
          193,
          194,
          195,
          196,
          197,
          198,
          199,
          200,
          201,
          202,
          203,
          204,
          205,
          206,
          207,
          208,
          209,
          210,
          211,
          212,
          213,
          214,
          215,
          216,
          217,
          218,
          219,
          220,
          221,
          222,
          223,
          224,
          225,
          226,
          227,
          228,
          229,
          230,
          231,
          232,
          233,
          234,
          235,
          236,
          237,
          238,
          239,
          240,
          241,
          242,
          243,
          244,
          245,
          246,
          247,
          248,
          249,
          250,
          251,
          252,
          253,
          254,
          255,
          256,
          257,
          258,
          259,
          260,
          261,
          262,
          263,
          264,
          265,
          266,
          267,
          268,
          269,
          270,
          271,
          272,
          273,
          274,
          275,
          276,
          277,
          278,
          279,
          280,
          281,
          282,
          283,
          284,
          285,
          286,
          287,
          288,
          289,
          290,
          291,
          292,
          293,
          294,
          295,
          296,
          297,
          298,
          299,
          300,
          301,
          302,
          303,
          304,
          305,
          306,
          307,
          308,
          309,
          310,
          311,
          312,
          313,
          314,
          315,
          316,
          317,
          318,
          319,
          320,
          321,
          322,
          323,
          324,
          325,
          326,
          327,
          328,
          329,
          330,
          331,
          332,
          333,
          334,
          335,
          336,
          337,
          338,
          339,
          340,
          341,
          342,
          343,
          344,
          345,
          346,
          347,
          348,
          349,
          350,
          351,
          352,
          353,
          354,
          355,
          356,
          357,
          358,
          359,
          360,
          361,
          362,
          363,
          364,
          365,
          366,
          367,
          368,
          369,
          370,
          371,
          372,
          373,
          374,
          375,
          376,
          377,
          378,
          379,
          380,
          381,
          382,
          383,
          384,
          385,
          386,
          387,
          388,
          389,
          390,
          391,
          392,
          393,
          394,
          395,
          396,
          397,
          398,
          399,
          400,
          401,
          402,
          403,
          404,
          405,
          406,
          407,
          408,
          409,
          410,
          411,
          412,
          413,
          414,
          415,
          416,
          417,
          418,
          419,
          420,
          421,
          422,
          423,
          424,
          425,
          426,
          427,
          428,
          429,
          430,
          431,
          432,
          433,
          434,
          435,
          436,
          437,
          438,
          439,
          440,
          441,
          442,
          443,
          444,
          445,
          446,
          447,
          448,
          449,
          450,
          451,
          452,
          453,
          454,
          455,
          456,
          457,
          458,
          459,
          460,
          461,
          462,
          463,
          464,
          465,
          466,
          467,
          468,
          469,
          470,
          471,
          472,
          473,
          474,
          475,
          476,
          477,
          478,
          479,
          480,
          481,
          482,
          483,
          484,
          485,
          486,
          487,
          488,
          489,
          490,
          491,
          492,
          493,
          494,
          495,
          496,
          497,
          498,
          499
         ],
         "y": [
          239.3790991306305,
          239.27792298793793,
          239.1990189552307,
          239.12261068820953,
          239.0384168624878,
          238.94078946113586,
          238.82054042816162,
          238.66644537448883,
          238.46519076824188,
          238.19181752204895,
          237.79943597316742,
          237.20701622962952,
          236.28340220451355,
          234.74547827243805,
          232.1623191833496,
          228.50661945343018,
          224.7770231962204,
          221.26436293125153,
          217.91762018203735,
          214.9650934934616,
          212.44838953018188,
          210.28086507320404,
          208.2311292886734,
          206.2611881494522,
          204.25676250457764,
          202.10551929473877,
          199.81441950798035,
          197.32657516002655,
          194.60181331634521,
          191.7059986591339,
          188.7534840106964,
          185.8454074859619,
          183.0894536972046,
          180.4686838388443,
          177.86204063892365,
          175.2502739429474,
          172.62995314598083,
          169.9833595752716,
          167.41645693778992,
          164.86593008041382,
          162.42344611883163,
          160.08772265911102,
          157.85788023471832,
          155.80856388807297,
          153.81801134347916,
          151.91806077957153,
          150.10818403959274,
          148.4308590888977,
          146.85695576667786,
          145.37101674079895,
          144.00139963626862,
          142.66245430707932,
          141.41656130552292,
          140.22606420516968,
          139.06977152824402,
          137.951056599617,
          136.87582421302795,
          135.82303655147552,
          134.75794833898544,
          133.7160427570343,
          132.67765974998474,
          131.64844876527786,
          130.67694318294525,
          129.66547340154648,
          128.6610011458397,
          127.67141151428223,
          126.6348791718483,
          125.63402789831161,
          124.61532771587372,
          123.61105632781982,
          122.6502377986908,
          121.6638879776001,
          120.6111478805542,
          119.54366445541382,
          118.53743469715118,
          117.48280721902847,
          116.44863575696945,
          115.42741096019745,
          114.39119929075241,
          113.32403445243835,
          112.2072321176529,
          111.20458513498306,
          110.07762205600739,
          108.98336789011955,
          107.91964635252953,
          106.9179779291153,
          105.72539001703262,
          104.79263347387314,
          103.63968402147293,
          102.51914116740227,
          101.51993137598038,
          100.4501858651638,
          99.40456596016884,
          98.3383777141571,
          97.28741407394409,
          96.08101996779442,
          95.05445104837418,
          93.98209455609322,
          92.89354538917542,
          91.9756740629673,
          90.75581756234169,
          89.73697784543037,
          88.48956778645515,
          87.1659996509552,
          86.0938113629818,
          85.00553587079048,
          83.8774973154068,
          82.68764704465866,
          81.82137283682823,
          80.50925081968307,
          79.26942729949951,
          78.19610404968262,
          77.32122147083282,
          75.64462321996689,
          74.6574983894825,
          73.37073683738708,
          72.11337406933308,
          71.3509691953659,
          69.34015475213528,
          68.22178049385548,
          67.14068329334259,
          66.17414118349552,
          64.72705130279064,
          63.406616762280464,
          62.53173020482063,
          60.75582979619503,
          59.087125569581985,
          58.860010266304016,
          57.25520370900631,
          56.31384766101837,
          54.228141129016876,
          53.289433509111404,
          51.230025708675385,
          52.7022498100996,
          51.33024446666241,
          47.75896441936493,
          47.25378014147282,
          48.80600342154503,
          44.928986705839634,
          43.87787964195013,
          45.71175491064787,
          41.420381896197796,
          40.41711684316397,
          40.21316269785166,
          59.56087338924408,
          38.499624103307724,
          35.665274031460285,
          38.99948079884052,
          34.87760377675295,
          34.11233629286289,
          32.33519711345434,
          32.161407835781574,
          32.282286003232,
          29.473595947027206,
          30.56549570709467,
          30.58451410382986,
          25.42281636968255,
          26.82217076420784,
          35.55296974629164,
          24.489686392247677,
          23.359334398061037,
          20.551008000969887,
          19.393308874219656,
          31.180747106671333,
          26.781202271580696,
          72.529651530087,
          21.10446073487401,
          17.39006181061268,
          15.615246962755919,
          15.252673201262951,
          15.514268722385168,
          16.124709527939558,
          32.43993648700416,
          14.83471867069602,
          13.374839082360268,
          12.54091621376574,
          17.305602949112654,
          112.26605876162648,
          23.949256345629692,
          13.322186451405287,
          10.731704352423549,
          9.31684490852058,
          8.375429855659604,
          7.69439716078341,
          7.099061153829098,
          6.537727493792772,
          6.104289240203798,
          5.7515840930864215,
          5.317441510036588,
          5.392413227818906,
          82.14206328894943,
          43.62226998806,
          14.8438570946455,
          8.883704073727131,
          6.755756829865277,
          5.707859289832413,
          4.9193339655175805,
          4.364931263029575,
          4.025930490344763,
          3.732191441580653,
          3.437157021835446,
          3.215025219134986,
          3.001586121506989,
          2.847519595175981,
          2.685629375278949,
          2.539699101820588,
          2.39442198164761,
          2.283600126393139,
          2.174815252423286,
          2.061405568383634,
          1.9689693544059992,
          1.872077623847872,
          1.801924361847341,
          1.7293691141530871,
          1.649692424107343,
          1.587492912542075,
          1.524554408155381,
          1.4710021768696602,
          1.401313881389796,
          1.344756090547889,
          1.296421826817095,
          1.251617713831365,
          1.198933786945417,
          1.148880926892161,
          1.109777499688789,
          1.069547938648611,
          1.033653210615739,
          0.998035492375493,
          0.963772349525243,
          0.9317916505970061,
          0.902060619788244,
          0.8751177333761001,
          0.847005872521549,
          0.8234387920238071,
          0.798073609592393,
          0.7743565451819451,
          0.750730251776985,
          0.7323048289399591,
          0.7126079450827091,
          0.6936382390558721,
          0.6761041273130101,
          0.658140460611321,
          0.642858011531643,
          0.6253399058477951,
          0.6100831009680401,
          0.594984544906765,
          0.581580100581049,
          0.5690634112106631,
          0.554685294278897,
          0.543084434582851,
          0.530673243571072,
          0.517056861775927,
          0.506644779699854,
          0.49505448178388106,
          0.486392547027207,
          0.47418711730279006,
          0.46543181163724506,
          0.457009116187691,
          0.44715214800089603,
          0.43846290785586406,
          0.42919761093799,
          0.421592468046583,
          0.41294173809001206,
          0.406097566592507,
          0.39833618281409106,
          0.39105514914263,
          0.38466586882714104,
          0.377329024253413,
          0.37090332462685105,
          0.36405090475454904,
          0.358472564432304,
          0.352301579609047,
          0.345973133109509,
          0.340905164601281,
          0.335302266059443,
          0.330213211709633,
          0.32460888085188305,
          0.31949557911138904,
          0.315377144550438,
          0.30995253997389205,
          0.30540746182668904,
          0.30094931222265503,
          0.29625159315764904,
          0.292086756788194,
          0.28818993200547904,
          0.283602216222789,
          0.279824148106854,
          0.27606184937758305,
          0.27208432479528705,
          0.268099927518051,
          0.26441750599769803,
          0.26133293547900305,
          0.25759538885904404,
          0.254122579412069,
          0.25103804521495404,
          0.24757937696995203,
          0.24455330258933802,
          0.241706817469093,
          0.23853046679869203,
          0.235466816404368,
          0.23255800304468702,
          0.229704238648992,
          0.227193298516795,
          0.22429986140923502,
          0.22175535821588702,
          0.21907385753002,
          0.21635066662565802,
          0.21415813351632002,
          0.21177391146193203,
          0.209373069606954,
          0.20695749972946903,
          0.20476464543025902,
          0.20215478003956303,
          0.20048993240925403,
          0.198173221055185,
          0.19588932770420703,
          0.19405800671665902,
          0.19193248834926602,
          0.19000059083919002,
          0.18784162399242602,
          0.18590543331811202,
          0.18411932929302502,
          0.18229249323485403,
          0.180381562880938,
          0.17867939730058402,
          0.17681961014750402,
          0.175187322398414,
          0.17365866460022503,
          0.171791061642579,
          0.17020231398055302,
          0.16853205865481802,
          0.167081622465047,
          0.165492882515536,
          0.16393005353165702,
          0.16240521814324801,
          0.16098555037751702,
          0.15953793245716902,
          0.158060936024412,
          0.156806444108951,
          0.15527362760622002,
          0.15398160074255401,
          0.152575363783398,
          0.15130095125641602,
          0.150085023662541,
          0.148713608825346,
          0.14738736834260602,
          0.146244137693429,
          0.144973498216131,
          0.14378513948759,
          0.142671743349637,
          0.14141159332939401,
          0.14029513270361302,
          0.13923549358150902,
          0.13811113242991202,
          0.13679382464033502,
          0.135867879231227,
          0.13472535432083502,
          0.133647221780847,
          0.132634814886841,
          0.131631004915107,
          0.13058645100682,
          0.129547704244032,
          0.12859372905222702,
          0.127409172651823,
          0.12661582647706301,
          0.125582434469833,
          0.12466842614230701,
          0.12377524757175701,
          0.122788364766165,
          0.12180817540502101,
          0.12104765404365,
          0.12001130540738801,
          0.11926762678194701,
          0.11834564930177201,
          0.11749671254074201,
          0.11661972029833101,
          0.115843322855653,
          0.11501919518923301,
          0.11424171383259801,
          0.11350351475994101,
          0.11255257186712601,
          0.11185804416891101,
          0.111034743313211,
          0.11034048802684901,
          0.109533987153554,
          0.10879892887896801,
          0.10812431178055701,
          0.107341725728474,
          0.10662173049058701,
          0.105972826626384,
          0.105187240958912,
          0.104547092138091,
          0.103772634436609,
          0.10321010048210101,
          0.102464114388567,
          0.10176532073819501,
          0.101202712598023,
          0.10049440055445301,
          0.09977345803054001,
          0.099256111818249,
          0.098604120226809,
          0.09792523189389601,
          0.09733778910594901,
          0.09671048239397301,
          0.09613422177790101,
          0.095548724770196,
          0.094879613214288,
          0.09437327850901,
          0.09382914827438,
          0.093198844595463,
          0.092643490293994,
          0.092077581313787,
          0.09150023208349001,
          0.09098884946433801,
          0.09043902026314701,
          0.089949816465377,
          0.089408995059784,
          0.08880715332634201,
          0.088308287478866,
          0.087843206187244,
          0.08727817339240501,
          0.08682083208987,
          0.08630601972981801,
          0.08577548355970001,
          0.08527672846685101,
          0.08483212269493301,
          0.08433521867846101,
          0.08384335543087201,
          0.08332839929789701,
          0.08290778574883001,
          0.08239769467036201,
          0.081935592359513,
          0.08159384365717401,
          0.081061660472187,
          0.080635980237275,
          0.080200097931083,
          0.07972878636792301,
          0.07931515721429601,
          0.07884598370583201,
          0.07846601238998101,
          0.078009382617892,
          0.07763812919438301,
          0.07717990697710701,
          0.07672601382364501,
          0.076340001542121,
          0.07594882369448801,
          0.075591989661916,
          0.07521135894057801,
          0.074793886902625,
          0.074373511830344,
          0.074010514290421,
          0.073605542595032,
          0.073258857519249,
          0.072848374504246,
          0.072444182631443,
          0.07216833814163601,
          0.071776124605094,
          0.071403715279302,
          0.07099871289392401,
          0.07070824492257001,
          0.070307995047187,
          0.07002158451359701,
          0.06963510926289,
          0.06929399492219,
          0.068940377255785,
          0.068662827965454,
          0.068292245341581,
          0.067966178670758,
          0.067642896829056,
          0.067288427831954,
          0.066980053510633,
          0.066689963743556,
          0.066328302506008,
          0.06600682581483801,
          0.06573077265056701,
          0.065411380841396,
          0.06509953319618901,
          0.06482533717644401,
          0.064522298649535,
          0.064249781935359,
          0.06389835028676301,
          0.06361884366197,
          0.063360180021845,
          0.063065643698791,
          0.06277285158284901,
          0.06248559872619801,
          0.062171062760171,
          0.061939381936099006,
          0.061654932113015,
          0.061394930846290004,
          0.061109161804779,
          0.060863065125886004,
          0.060586712672375004,
          0.060355419234838004,
          0.060045235644793006,
          0.05979143980948701,
          0.059531247912673,
          0.059270303579978006,
          0.058999489250709004,
          0.058755856909556
         ]
        }
       ],
       "layout": {
        "legend": {
         "title": {
          "text": "Folds"
         }
        },
        "template": {
         "data": {
          "bar": [
           {
            "error_x": {
             "color": "#2a3f5f"
            },
            "error_y": {
             "color": "#2a3f5f"
            },
            "marker": {
             "line": {
              "color": "#E5ECF6",
              "width": 0.5
             },
             "pattern": {
              "fillmode": "overlay",
              "size": 10,
              "solidity": 0.2
             }
            },
            "type": "bar"
           }
          ],
          "barpolar": [
           {
            "marker": {
             "line": {
              "color": "#E5ECF6",
              "width": 0.5
             },
             "pattern": {
              "fillmode": "overlay",
              "size": 10,
              "solidity": 0.2
             }
            },
            "type": "barpolar"
           }
          ],
          "carpet": [
           {
            "aaxis": {
             "endlinecolor": "#2a3f5f",
             "gridcolor": "white",
             "linecolor": "white",
             "minorgridcolor": "white",
             "startlinecolor": "#2a3f5f"
            },
            "baxis": {
             "endlinecolor": "#2a3f5f",
             "gridcolor": "white",
             "linecolor": "white",
             "minorgridcolor": "white",
             "startlinecolor": "#2a3f5f"
            },
            "type": "carpet"
           }
          ],
          "choropleth": [
           {
            "colorbar": {
             "outlinewidth": 0,
             "ticks": ""
            },
            "type": "choropleth"
           }
          ],
          "contour": [
           {
            "colorbar": {
             "outlinewidth": 0,
             "ticks": ""
            },
            "colorscale": [
             [
              0,
              "#0d0887"
             ],
             [
              0.1111111111111111,
              "#46039f"
             ],
             [
              0.2222222222222222,
              "#7201a8"
             ],
             [
              0.3333333333333333,
              "#9c179e"
             ],
             [
              0.4444444444444444,
              "#bd3786"
             ],
             [
              0.5555555555555556,
              "#d8576b"
             ],
             [
              0.6666666666666666,
              "#ed7953"
             ],
             [
              0.7777777777777778,
              "#fb9f3a"
             ],
             [
              0.8888888888888888,
              "#fdca26"
             ],
             [
              1,
              "#f0f921"
             ]
            ],
            "type": "contour"
           }
          ],
          "contourcarpet": [
           {
            "colorbar": {
             "outlinewidth": 0,
             "ticks": ""
            },
            "type": "contourcarpet"
           }
          ],
          "heatmap": [
           {
            "colorbar": {
             "outlinewidth": 0,
             "ticks": ""
            },
            "colorscale": [
             [
              0,
              "#0d0887"
             ],
             [
              0.1111111111111111,
              "#46039f"
             ],
             [
              0.2222222222222222,
              "#7201a8"
             ],
             [
              0.3333333333333333,
              "#9c179e"
             ],
             [
              0.4444444444444444,
              "#bd3786"
             ],
             [
              0.5555555555555556,
              "#d8576b"
             ],
             [
              0.6666666666666666,
              "#ed7953"
             ],
             [
              0.7777777777777778,
              "#fb9f3a"
             ],
             [
              0.8888888888888888,
              "#fdca26"
             ],
             [
              1,
              "#f0f921"
             ]
            ],
            "type": "heatmap"
           }
          ],
          "histogram": [
           {
            "marker": {
             "pattern": {
              "fillmode": "overlay",
              "size": 10,
              "solidity": 0.2
             }
            },
            "type": "histogram"
           }
          ],
          "histogram2d": [
           {
            "colorbar": {
             "outlinewidth": 0,
             "ticks": ""
            },
            "colorscale": [
             [
              0,
              "#0d0887"
             ],
             [
              0.1111111111111111,
              "#46039f"
             ],
             [
              0.2222222222222222,
              "#7201a8"
             ],
             [
              0.3333333333333333,
              "#9c179e"
             ],
             [
              0.4444444444444444,
              "#bd3786"
             ],
             [
              0.5555555555555556,
              "#d8576b"
             ],
             [
              0.6666666666666666,
              "#ed7953"
             ],
             [
              0.7777777777777778,
              "#fb9f3a"
             ],
             [
              0.8888888888888888,
              "#fdca26"
             ],
             [
              1,
              "#f0f921"
             ]
            ],
            "type": "histogram2d"
           }
          ],
          "histogram2dcontour": [
           {
            "colorbar": {
             "outlinewidth": 0,
             "ticks": ""
            },
            "colorscale": [
             [
              0,
              "#0d0887"
             ],
             [
              0.1111111111111111,
              "#46039f"
             ],
             [
              0.2222222222222222,
              "#7201a8"
             ],
             [
              0.3333333333333333,
              "#9c179e"
             ],
             [
              0.4444444444444444,
              "#bd3786"
             ],
             [
              0.5555555555555556,
              "#d8576b"
             ],
             [
              0.6666666666666666,
              "#ed7953"
             ],
             [
              0.7777777777777778,
              "#fb9f3a"
             ],
             [
              0.8888888888888888,
              "#fdca26"
             ],
             [
              1,
              "#f0f921"
             ]
            ],
            "type": "histogram2dcontour"
           }
          ],
          "mesh3d": [
           {
            "colorbar": {
             "outlinewidth": 0,
             "ticks": ""
            },
            "type": "mesh3d"
           }
          ],
          "parcoords": [
           {
            "line": {
             "colorbar": {
              "outlinewidth": 0,
              "ticks": ""
             }
            },
            "type": "parcoords"
           }
          ],
          "pie": [
           {
            "automargin": true,
            "type": "pie"
           }
          ],
          "scatter": [
           {
            "fillpattern": {
             "fillmode": "overlay",
             "size": 10,
             "solidity": 0.2
            },
            "type": "scatter"
           }
          ],
          "scatter3d": [
           {
            "line": {
             "colorbar": {
              "outlinewidth": 0,
              "ticks": ""
             }
            },
            "marker": {
             "colorbar": {
              "outlinewidth": 0,
              "ticks": ""
             }
            },
            "type": "scatter3d"
           }
          ],
          "scattercarpet": [
           {
            "marker": {
             "colorbar": {
              "outlinewidth": 0,
              "ticks": ""
             }
            },
            "type": "scattercarpet"
           }
          ],
          "scattergeo": [
           {
            "marker": {
             "colorbar": {
              "outlinewidth": 0,
              "ticks": ""
             }
            },
            "type": "scattergeo"
           }
          ],
          "scattergl": [
           {
            "marker": {
             "colorbar": {
              "outlinewidth": 0,
              "ticks": ""
             }
            },
            "type": "scattergl"
           }
          ],
          "scattermap": [
           {
            "marker": {
             "colorbar": {
              "outlinewidth": 0,
              "ticks": ""
             }
            },
            "type": "scattermap"
           }
          ],
          "scattermapbox": [
           {
            "marker": {
             "colorbar": {
              "outlinewidth": 0,
              "ticks": ""
             }
            },
            "type": "scattermapbox"
           }
          ],
          "scatterpolar": [
           {
            "marker": {
             "colorbar": {
              "outlinewidth": 0,
              "ticks": ""
             }
            },
            "type": "scatterpolar"
           }
          ],
          "scatterpolargl": [
           {
            "marker": {
             "colorbar": {
              "outlinewidth": 0,
              "ticks": ""
             }
            },
            "type": "scatterpolargl"
           }
          ],
          "scatterternary": [
           {
            "marker": {
             "colorbar": {
              "outlinewidth": 0,
              "ticks": ""
             }
            },
            "type": "scatterternary"
           }
          ],
          "surface": [
           {
            "colorbar": {
             "outlinewidth": 0,
             "ticks": ""
            },
            "colorscale": [
             [
              0,
              "#0d0887"
             ],
             [
              0.1111111111111111,
              "#46039f"
             ],
             [
              0.2222222222222222,
              "#7201a8"
             ],
             [
              0.3333333333333333,
              "#9c179e"
             ],
             [
              0.4444444444444444,
              "#bd3786"
             ],
             [
              0.5555555555555556,
              "#d8576b"
             ],
             [
              0.6666666666666666,
              "#ed7953"
             ],
             [
              0.7777777777777778,
              "#fb9f3a"
             ],
             [
              0.8888888888888888,
              "#fdca26"
             ],
             [
              1,
              "#f0f921"
             ]
            ],
            "type": "surface"
           }
          ],
          "table": [
           {
            "cells": {
             "fill": {
              "color": "#EBF0F8"
             },
             "line": {
              "color": "white"
             }
            },
            "header": {
             "fill": {
              "color": "#C8D4E3"
             },
             "line": {
              "color": "white"
             }
            },
            "type": "table"
           }
          ]
         },
         "layout": {
          "annotationdefaults": {
           "arrowcolor": "#2a3f5f",
           "arrowhead": 0,
           "arrowwidth": 1
          },
          "autotypenumbers": "strict",
          "coloraxis": {
           "colorbar": {
            "outlinewidth": 0,
            "ticks": ""
           }
          },
          "colorscale": {
           "diverging": [
            [
             0,
             "#8e0152"
            ],
            [
             0.1,
             "#c51b7d"
            ],
            [
             0.2,
             "#de77ae"
            ],
            [
             0.3,
             "#f1b6da"
            ],
            [
             0.4,
             "#fde0ef"
            ],
            [
             0.5,
             "#f7f7f7"
            ],
            [
             0.6,
             "#e6f5d0"
            ],
            [
             0.7,
             "#b8e186"
            ],
            [
             0.8,
             "#7fbc41"
            ],
            [
             0.9,
             "#4d9221"
            ],
            [
             1,
             "#276419"
            ]
           ],
           "sequential": [
            [
             0,
             "#0d0887"
            ],
            [
             0.1111111111111111,
             "#46039f"
            ],
            [
             0.2222222222222222,
             "#7201a8"
            ],
            [
             0.3333333333333333,
             "#9c179e"
            ],
            [
             0.4444444444444444,
             "#bd3786"
            ],
            [
             0.5555555555555556,
             "#d8576b"
            ],
            [
             0.6666666666666666,
             "#ed7953"
            ],
            [
             0.7777777777777778,
             "#fb9f3a"
            ],
            [
             0.8888888888888888,
             "#fdca26"
            ],
            [
             1,
             "#f0f921"
            ]
           ],
           "sequentialminus": [
            [
             0,
             "#0d0887"
            ],
            [
             0.1111111111111111,
             "#46039f"
            ],
            [
             0.2222222222222222,
             "#7201a8"
            ],
            [
             0.3333333333333333,
             "#9c179e"
            ],
            [
             0.4444444444444444,
             "#bd3786"
            ],
            [
             0.5555555555555556,
             "#d8576b"
            ],
            [
             0.6666666666666666,
             "#ed7953"
            ],
            [
             0.7777777777777778,
             "#fb9f3a"
            ],
            [
             0.8888888888888888,
             "#fdca26"
            ],
            [
             1,
             "#f0f921"
            ]
           ]
          },
          "colorway": [
           "#636efa",
           "#EF553B",
           "#00cc96",
           "#ab63fa",
           "#FFA15A",
           "#19d3f3",
           "#FF6692",
           "#B6E880",
           "#FF97FF",
           "#FECB52"
          ],
          "font": {
           "color": "#2a3f5f"
          },
          "geo": {
           "bgcolor": "white",
           "lakecolor": "white",
           "landcolor": "#E5ECF6",
           "showlakes": true,
           "showland": true,
           "subunitcolor": "white"
          },
          "hoverlabel": {
           "align": "left"
          },
          "hovermode": "closest",
          "mapbox": {
           "style": "light"
          },
          "paper_bgcolor": "white",
          "plot_bgcolor": "#E5ECF6",
          "polar": {
           "angularaxis": {
            "gridcolor": "white",
            "linecolor": "white",
            "ticks": ""
           },
           "bgcolor": "#E5ECF6",
           "radialaxis": {
            "gridcolor": "white",
            "linecolor": "white",
            "ticks": ""
           }
          },
          "scene": {
           "xaxis": {
            "backgroundcolor": "#E5ECF6",
            "gridcolor": "white",
            "gridwidth": 2,
            "linecolor": "white",
            "showbackground": true,
            "ticks": "",
            "zerolinecolor": "white"
           },
           "yaxis": {
            "backgroundcolor": "#E5ECF6",
            "gridcolor": "white",
            "gridwidth": 2,
            "linecolor": "white",
            "showbackground": true,
            "ticks": "",
            "zerolinecolor": "white"
           },
           "zaxis": {
            "backgroundcolor": "#E5ECF6",
            "gridcolor": "white",
            "gridwidth": 2,
            "linecolor": "white",
            "showbackground": true,
            "ticks": "",
            "zerolinecolor": "white"
           }
          },
          "shapedefaults": {
           "line": {
            "color": "#2a3f5f"
           }
          },
          "ternary": {
           "aaxis": {
            "gridcolor": "white",
            "linecolor": "white",
            "ticks": ""
           },
           "baxis": {
            "gridcolor": "white",
            "linecolor": "white",
            "ticks": ""
           },
           "bgcolor": "#E5ECF6",
           "caxis": {
            "gridcolor": "white",
            "linecolor": "white",
            "ticks": ""
           }
          },
          "title": {
           "x": 0.05
          },
          "xaxis": {
           "automargin": true,
           "gridcolor": "white",
           "linecolor": "white",
           "ticks": "",
           "title": {
            "standoff": 15
           },
           "zerolinecolor": "white",
           "zerolinewidth": 2
          },
          "yaxis": {
           "automargin": true,
           "gridcolor": "white",
           "linecolor": "white",
           "ticks": "",
           "title": {
            "standoff": 15
           },
           "zerolinecolor": "white",
           "zerolinewidth": 2
          }
         }
        },
        "title": {
         "text": "Losses for Each Fold"
        },
        "xaxis": {
         "title": {
          "text": "Epochs"
         }
        },
        "yaxis": {
         "title": {
          "text": "Loss"
         }
        }
       }
      }
     },
     "metadata": {},
     "output_type": "display_data"
    }
   ],
   "source": [
    "# do a line plot with all the losses - different color for each fold\n",
    "\n",
    "all_losses = best_f1_test_row[\"loss\"]\n",
    "all_losses_val = best_f1_test_row[\"loss_val\"]\n",
    "\n",
    "fig = go.Figure()\n",
    "\n",
    "for i, loss in enumerate(all_losses):\n",
    "    fig.add_trace(go.Scatter(\n",
    "        x=list(range(len(loss))),\n",
    "        y=loss,\n",
    "        mode='lines+markers',\n",
    "        name=f'Fold {i+1}'\n",
    "    ))\n",
    "\n",
    "for i, loss in enumerate(all_losses_val):\n",
    "    fig.add_trace(go.Scatter(\n",
    "        x=list(range(len(loss))),\n",
    "        y=loss,\n",
    "        mode='lines+markers',\n",
    "        name=f'Fold {i+1} - Validation',\n",
    "        line=dict(dash='dash')\n",
    "    ))\n",
    "\n",
    "\n",
    "fig.update_layout(\n",
    "    title='Losses for Each Fold',\n",
    "    xaxis_title='Epochs',\n",
    "    yaxis_title='Loss',\n",
    "    legend_title='Folds'\n",
    ")\n",
    "\n",
    "fig.show()"
   ]
  },
  {
   "cell_type": "code",
   "execution_count": null,
   "metadata": {},
   "outputs": [],
   "source": []
  }
 ],
 "metadata": {
  "kernelspec": {
   "display_name": "aca",
   "language": "python",
   "name": "python3"
  },
  "language_info": {
   "codemirror_mode": {
    "name": "ipython",
    "version": 3
   },
   "file_extension": ".py",
   "mimetype": "text/x-python",
   "name": "python",
   "nbconvert_exporter": "python",
   "pygments_lexer": "ipython3",
   "version": "3.12.3"
  }
 },
 "nbformat": 4,
 "nbformat_minor": 2
}
