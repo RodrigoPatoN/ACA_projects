{
 "cells": [
  {
   "cell_type": "code",
   "execution_count": 42,
   "metadata": {},
   "outputs": [],
   "source": [
    "import pandas as pd\n",
    "import numpy as np\n",
    "import plotly.express as px\n",
    "import plotly.graph_objects as go"
   ]
  },
  {
   "cell_type": "markdown",
   "metadata": {},
   "source": [
    "## DNN"
   ]
  },
  {
   "cell_type": "code",
   "execution_count": 32,
   "metadata": {},
   "outputs": [],
   "source": [
    "data_dnn = pd.read_json('results_dnn.json').T\n",
    "\n",
    "#data_dnn"
   ]
  },
  {
   "cell_type": "code",
   "execution_count": 36,
   "metadata": {},
   "outputs": [],
   "source": [
    "metrics_dnn = []\n",
    "\n",
    "for i, row in data_dnn.iterrows():\n",
    "\n",
    "    accuracy_fold_train = []\n",
    "    accuracy_fold_test = []\n",
    "\n",
    "    recall_fold_train = []\n",
    "    recall_fold_test = []\n",
    "\n",
    "    precision_fold_train = []\n",
    "    precision_fold_test = []\n",
    "\n",
    "    for iteration in row[\"results\"]:\n",
    "        \n",
    "        loss = iteration[\"loss_values\"]\n",
    "        conf_mat_train = np.array(iteration[\"confusion_matrix_train\"])\n",
    "        conf_mat_test = np.array(iteration[\"confusion_matrix_val\"])\n",
    "        \n",
    "        # Compute accuracy (7 classes)\n",
    "        total_train = conf_mat_train.sum()\n",
    "        total_test = conf_mat_test.sum()\n",
    "\n",
    "        accuracy_train = conf_mat_train.diagonal().sum() / total_train if total_train > 0 else 0\n",
    "        accuracy_test = conf_mat_test.diagonal().sum() / total_test if total_test > 0 else 0\n",
    "\n",
    "        # Compute recall and precision (per class)\n",
    "        recall_train = np.array([\n",
    "            conf_mat_train[i, i] / conf_mat_train[i, :].sum() if conf_mat_train[i, :].sum() > 0 else 0\n",
    "            for i in range(7)\n",
    "        ])\n",
    "        recall_test = np.array([\n",
    "            conf_mat_test[i, i] / conf_mat_test[i, :].sum() if conf_mat_test[i, :].sum() > 0 else 0\n",
    "            for i in range(7)\n",
    "        ])\n",
    "\n",
    "        precision_train = np.array([\n",
    "            conf_mat_train[i, i] / conf_mat_train[:, i].sum() if conf_mat_train[:, i].sum() > 0 else 0\n",
    "            for i in range(7)\n",
    "        ])\n",
    "        precision_test = np.array([\n",
    "            conf_mat_test[i, i] / conf_mat_test[:, i].sum() if conf_mat_test[:, i].sum() > 0 else 0\n",
    "            for i in range(7)\n",
    "        ])\n",
    "\n",
    "        accuracy_fold_train.append(accuracy_train)\n",
    "        accuracy_fold_test.append(accuracy_test)\n",
    "\n",
    "        recall_fold_train.append(recall_train)\n",
    "        recall_fold_test.append(recall_test)\n",
    "\n",
    "        precision_fold_train.append(precision_train)\n",
    "        precision_fold_test.append(precision_test)\n",
    "\n",
    "    # Compute mean across folds\n",
    "    accuracy_train = np.mean(accuracy_fold_train)\n",
    "    accuracy_test = np.mean(accuracy_fold_test)\n",
    "\n",
    "    recall_train = np.mean(recall_fold_train, axis=0)\n",
    "    recall_test = np.mean(recall_fold_test, axis=0)\n",
    "\n",
    "    precision_train = np.mean(precision_fold_train, axis=0)\n",
    "    precision_test = np.mean(precision_fold_test, axis=0)\n",
    "\n",
    "    average_recall_train = np.mean(recall_train)\n",
    "    average_recall_test = np.mean(recall_test)\n",
    "\n",
    "    average_precision_train = np.mean(precision_train)\n",
    "    average_precision_test = np.mean(precision_test)\n",
    "\n",
    "    f1_train_average = 2 * (average_precision_train * average_recall_train) / (average_precision_train + average_recall_train)\n",
    "    f1_test_average = 2 * (average_precision_test * average_recall_test) / (average_precision_test + average_recall_test) \n",
    "\n",
    "    row = row.drop(\"results\")\n",
    "    row_dict = row.to_dict()\n",
    "\n",
    "    metrics_dnn.append({\n",
    "        **row_dict,\n",
    "        \"iteration\": i,\n",
    "        \"accuracy_train\": accuracy_train,\n",
    "        \"accuracy_test\": accuracy_test,\n",
    "        \"recall_train\": recall_train.tolist(),  # Convert to list for DataFrame compatibility\n",
    "        \"recall_test\": recall_test.tolist(),\n",
    "        \"averaged_recall_train\": average_recall_train,\n",
    "        \"averaged_recall_test\": average_recall_test,\n",
    "        \"precision_train\": precision_train.tolist(),\n",
    "        \"precision_test\": precision_test.tolist(),\n",
    "        \"averaged_precision_train\": average_precision_train,\n",
    "        \"averaged_precision_test\": average_precision_test,\n",
    "        \"f1_train_average\": f1_train_average,\n",
    "        \"f1_test_average\": f1_test_average\n",
    "    })\n",
    "\n",
    "metrics_dnn = pd.DataFrame(metrics_dnn)\n",
    "#metrics_dnn\n"
   ]
  },
  {
   "cell_type": "markdown",
   "metadata": {},
   "source": [
    "## CNN"
   ]
  },
  {
   "cell_type": "code",
   "execution_count": 27,
   "metadata": {},
   "outputs": [],
   "source": [
    "def get_metrics(data : pd.DataFrame):\n",
    "\n",
    "    metrics_cnn = []\n",
    "\n",
    "    for i, row in data.iterrows():\n",
    "\n",
    "        accuracy_fold_train = []\n",
    "        accuracy_fold_test = []\n",
    "\n",
    "        recall_fold_train = []\n",
    "        recall_fold_test = []\n",
    "\n",
    "        precision_fold_train = []\n",
    "        precision_fold_test = []\n",
    "\n",
    "        for iteration in row[\"results\"]:\n",
    "            \n",
    "            loss = iteration[\"loss_values\"]\n",
    "            conf_mat_train = np.array(iteration[\"confusion_matrix_train\"])\n",
    "            conf_mat_test = np.array(iteration[\"confusion_matrix_val\"])\n",
    "            \n",
    "            # Compute accuracy (7 classes)\n",
    "            total_train = conf_mat_train.sum()\n",
    "            total_test = conf_mat_test.sum()\n",
    "\n",
    "            accuracy_train = conf_mat_train.diagonal().sum() / total_train if total_train > 0 else 0\n",
    "            accuracy_test = conf_mat_test.diagonal().sum() / total_test if total_test > 0 else 0\n",
    "\n",
    "            # Compute recall and precision (per class)\n",
    "            recall_train = np.array([\n",
    "                conf_mat_train[i, i] / conf_mat_train[i, :].sum() if conf_mat_train[i, :].sum() > 0 else 0\n",
    "                for i in range(7)\n",
    "            ])\n",
    "            recall_test = np.array([\n",
    "                conf_mat_test[i, i] / conf_mat_test[i, :].sum() if conf_mat_test[i, :].sum() > 0 else 0\n",
    "                for i in range(7)\n",
    "            ])\n",
    "\n",
    "            precision_train = np.array([\n",
    "                conf_mat_train[i, i] / conf_mat_train[:, i].sum() if conf_mat_train[:, i].sum() > 0 else 0\n",
    "                for i in range(7)\n",
    "            ])\n",
    "            precision_test = np.array([\n",
    "                conf_mat_test[i, i] / conf_mat_test[:, i].sum() if conf_mat_test[:, i].sum() > 0 else 0\n",
    "                for i in range(7)\n",
    "            ])\n",
    "\n",
    "            accuracy_fold_train.append(accuracy_train)\n",
    "            accuracy_fold_test.append(accuracy_test)\n",
    "\n",
    "            recall_fold_train.append(recall_train)\n",
    "            recall_fold_test.append(recall_test)\n",
    "\n",
    "            precision_fold_train.append(precision_train)\n",
    "            precision_fold_test.append(precision_test)\n",
    "\n",
    "        # Compute mean across folds\n",
    "        accuracy_train = np.mean(accuracy_fold_train)\n",
    "        accuracy_test = np.mean(accuracy_fold_test)\n",
    "\n",
    "        recall_train = np.mean(recall_fold_train, axis=0)\n",
    "        recall_test = np.mean(recall_fold_test, axis=0)\n",
    "\n",
    "        precision_train = np.mean(precision_fold_train, axis=0)\n",
    "        precision_test = np.mean(precision_fold_test, axis=0)\n",
    "\n",
    "        average_recall_train = np.mean(recall_train)\n",
    "        average_recall_test = np.mean(recall_test)\n",
    "\n",
    "        average_precision_train = np.mean(precision_train)\n",
    "        average_precision_test = np.mean(precision_test)\n",
    "\n",
    "        f1_train_average = 2 * (average_precision_train * average_recall_train) / (average_precision_train + average_recall_train)\n",
    "        f1_test_average = 2 * (average_precision_test * average_recall_test) / (average_precision_test + average_recall_test) \n",
    "\n",
    "        row = row.drop(\"results\")\n",
    "        row_dict = row.to_dict()\n",
    "\n",
    "        metrics_cnn.append({\n",
    "            **row_dict,\n",
    "            \"iteration\": i,\n",
    "            \"accuracy_train\": accuracy_train,\n",
    "            \"accuracy_test\": accuracy_test,\n",
    "            \"recall_train\": recall_train.tolist(),  # Convert to list for DataFrame compatibility\n",
    "            \"recall_test\": recall_test.tolist(),\n",
    "            \"averaged_recall_train\": average_recall_train,\n",
    "            \"averaged_recall_test\": average_recall_test,\n",
    "            \"precision_train\": precision_train.tolist(),\n",
    "            \"precision_test\": precision_test.tolist(),\n",
    "            \"averaged_precision_train\": average_precision_train,\n",
    "            \"averaged_precision_test\": average_precision_test,\n",
    "            \"f1_train_average\": f1_train_average,\n",
    "            \"f1_test_average\": f1_test_average\n",
    "        })\n",
    "\n",
    "    metrics_cnn = pd.DataFrame(metrics_cnn)\n",
    "    return metrics_cnn\n"
   ]
  },
  {
   "cell_type": "code",
   "execution_count": 28,
   "metadata": {},
   "outputs": [],
   "source": [
    "data_cnn = pd.read_json('results_cnn_1.json').T"
   ]
  },
  {
   "cell_type": "code",
   "execution_count": 29,
   "metadata": {},
   "outputs": [],
   "source": [
    "metrics_cnn = get_metrics(data_cnn)"
   ]
  },
  {
   "cell_type": "code",
   "execution_count": 23,
   "metadata": {},
   "outputs": [],
   "source": [
    "# get 50 best performances in terms of test accuracy\n",
    "best_cnn = metrics_cnn.sort_values(by=\"accuracy_test\", ascending=False).head(50)\n",
    "data_cnn_50_best = data_cnn.loc[best_cnn.index]\n",
    "data_cnn_50_best.to_csv(\"data_cnn_50_best.csv\")"
   ]
  },
  {
   "cell_type": "markdown",
   "metadata": {},
   "source": [
    "## Impact of the different Hyper-parameters"
   ]
  },
  {
   "cell_type": "code",
   "execution_count": 48,
   "metadata": {},
   "outputs": [],
   "source": [
    "metrics_dnn[\"model\"] = \"DNN\"\n",
    "metrics_cnn[\"model\"] = \"CNN\"\n",
    "\n",
    "metrics_all = pd.concat([metrics_cnn, metrics_dnn], ignore_index=True)\n",
    "metrics_all[\"learning_rate\"] = metrics_all[\"learning_rate\"].astype(str)\n",
    "metrics_all[\"batch_size\"] = metrics_all[\"batch_size\"].astype(str)"
   ]
  },
  {
   "cell_type": "code",
   "execution_count": null,
   "metadata": {},
   "outputs": [],
   "source": [
    "import pandas as pd\n",
    "import plotly.graph_objects as go\n",
    "from plotly.subplots import make_subplots\n",
    "\n",
    "# Define hyperparameters and metrics\n",
    "hyperparameters = ['activation_function', 'n_layers', 'batch_size', \n",
    "                'learning_rate', 'loss_function', 'optimizer',\n",
    "                'pooling', 'n_conv_layers']\n",
    "\n",
    "metrics = ['accuracy_train', 'accuracy_test']\n",
    "\n",
    "metrics_to_str = {\n",
    "    'accuracy_train': 'Accuracy (Train)',\n",
    "    'accuracy_test': 'Accuracy (Validation)'\n",
    "}\n",
    "\n",
    "# Grid layout settings\n",
    "params_per_row = 2  # Two parameters per row\n",
    "n_rows = -(-len(hyperparameters) // params_per_row)  # Ceiling division for rows\n",
    "\n",
    "# Create subplots\n",
    "fig = make_subplots(\n",
    "    rows=n_rows, cols=params_per_row * 2,  # Each parameter has 2 charts (train & test)\n",
    "    subplot_titles=[f\"{param} - {metrics_to_str[metric]}\" for param in hyperparameters for metric in metrics],\n",
    "    shared_yaxes=False,\n",
    "    horizontal_spacing=0.05, vertical_spacing=0.05\n",
    ")\n",
    "\n",
    "# Loop through each hyperparameter\n",
    "for i, param in enumerate(hyperparameters):\n",
    "    row = i // params_per_row + 1  # Compute row index\n",
    "\n",
    "    df_grouped = metrics_all.groupby([param, \"model\"])[metrics].mean().reset_index()\n",
    "\n",
    "    # Add plots for accuracy_train and accuracy_test\n",
    "    for j, metric in enumerate(metrics):\n",
    "\n",
    "        col = i % params_per_row * 2 + j + 1  # Compute column index\n",
    "\n",
    "        for model, color in zip([\"DNN\", \"CNN\"], [\"#636EFA\", \"#EF553B\"]):\n",
    "\n",
    "            df_subset = df_grouped[df_grouped[\"model\"] == model]\n",
    "            \n",
    "            fig.add_trace(\n",
    "                go.Bar(\n",
    "                    x=df_subset[param], \n",
    "                    y=df_subset[metric], \n",
    "                    name=f\"{model}\",\n",
    "                    marker_color=color,\n",
    "                    legendgroup=model,\n",
    "                    showlegend=(i == 0 and j == 0)  # Show legend only once\n",
    "                ),\n",
    "                row=row, col=col\n",
    "            )\n",
    "\n",
    "# Update layout\n",
    "fig.update_layout(\n",
    "    title_text=\"Impact of Hyperparameters on Accuracy (CNN vs. DNN)\",\n",
    "    height=300 * n_rows, width=1400,\n",
    "    showlegend=True\n",
    ")\n",
    "\n",
    "# Show figure\n",
    "#fig.show()\n",
    "\n",
    "a = 1\n"
   ]
  },
  {
   "cell_type": "markdown",
   "metadata": {},
   "source": [
    "## Overall Performance"
   ]
  },
  {
   "cell_type": "code",
   "execution_count": 82,
   "metadata": {},
   "outputs": [],
   "source": [
    "# get the configuration with the best test accuracy\n",
    "\n",
    "best_cnn = metrics_cnn.sort_values(by=\"accuracy_test\", ascending=False).head(1)\n",
    "best_dnn = metrics_dnn.sort_values(by=\"accuracy_test\", ascending=False).head(1)"
   ]
  },
  {
   "cell_type": "code",
   "execution_count": 77,
   "metadata": {},
   "outputs": [
    {
     "data": {
      "application/vnd.plotly.v1+json": {
       "config": {
        "plotlyServerURL": "https://plot.ly"
       },
       "data": [
        {
         "marker": {
          "color": "#636EFA"
         },
         "name": "Train",
         "type": "bar",
         "x": [
          "CNN",
          "DNN"
         ],
         "y": [
          0.9732142857142858,
          0.5335204081632653
         ]
        },
        {
         "marker": {
          "color": "#EF553B"
         },
         "name": "Validation",
         "type": "bar",
         "x": [
          "CNN",
          "DNN"
         ],
         "y": [
          0.6538775510204081,
          0.4832653061224489
         ]
        }
       ],
       "layout": {
        "barmode": "group",
        "showlegend": true,
        "template": {
         "data": {
          "bar": [
           {
            "error_x": {
             "color": "#2a3f5f"
            },
            "error_y": {
             "color": "#2a3f5f"
            },
            "marker": {
             "line": {
              "color": "#E5ECF6",
              "width": 0.5
             },
             "pattern": {
              "fillmode": "overlay",
              "size": 10,
              "solidity": 0.2
             }
            },
            "type": "bar"
           }
          ],
          "barpolar": [
           {
            "marker": {
             "line": {
              "color": "#E5ECF6",
              "width": 0.5
             },
             "pattern": {
              "fillmode": "overlay",
              "size": 10,
              "solidity": 0.2
             }
            },
            "type": "barpolar"
           }
          ],
          "carpet": [
           {
            "aaxis": {
             "endlinecolor": "#2a3f5f",
             "gridcolor": "white",
             "linecolor": "white",
             "minorgridcolor": "white",
             "startlinecolor": "#2a3f5f"
            },
            "baxis": {
             "endlinecolor": "#2a3f5f",
             "gridcolor": "white",
             "linecolor": "white",
             "minorgridcolor": "white",
             "startlinecolor": "#2a3f5f"
            },
            "type": "carpet"
           }
          ],
          "choropleth": [
           {
            "colorbar": {
             "outlinewidth": 0,
             "ticks": ""
            },
            "type": "choropleth"
           }
          ],
          "contour": [
           {
            "colorbar": {
             "outlinewidth": 0,
             "ticks": ""
            },
            "colorscale": [
             [
              0,
              "#0d0887"
             ],
             [
              0.1111111111111111,
              "#46039f"
             ],
             [
              0.2222222222222222,
              "#7201a8"
             ],
             [
              0.3333333333333333,
              "#9c179e"
             ],
             [
              0.4444444444444444,
              "#bd3786"
             ],
             [
              0.5555555555555556,
              "#d8576b"
             ],
             [
              0.6666666666666666,
              "#ed7953"
             ],
             [
              0.7777777777777778,
              "#fb9f3a"
             ],
             [
              0.8888888888888888,
              "#fdca26"
             ],
             [
              1,
              "#f0f921"
             ]
            ],
            "type": "contour"
           }
          ],
          "contourcarpet": [
           {
            "colorbar": {
             "outlinewidth": 0,
             "ticks": ""
            },
            "type": "contourcarpet"
           }
          ],
          "heatmap": [
           {
            "colorbar": {
             "outlinewidth": 0,
             "ticks": ""
            },
            "colorscale": [
             [
              0,
              "#0d0887"
             ],
             [
              0.1111111111111111,
              "#46039f"
             ],
             [
              0.2222222222222222,
              "#7201a8"
             ],
             [
              0.3333333333333333,
              "#9c179e"
             ],
             [
              0.4444444444444444,
              "#bd3786"
             ],
             [
              0.5555555555555556,
              "#d8576b"
             ],
             [
              0.6666666666666666,
              "#ed7953"
             ],
             [
              0.7777777777777778,
              "#fb9f3a"
             ],
             [
              0.8888888888888888,
              "#fdca26"
             ],
             [
              1,
              "#f0f921"
             ]
            ],
            "type": "heatmap"
           }
          ],
          "histogram": [
           {
            "marker": {
             "pattern": {
              "fillmode": "overlay",
              "size": 10,
              "solidity": 0.2
             }
            },
            "type": "histogram"
           }
          ],
          "histogram2d": [
           {
            "colorbar": {
             "outlinewidth": 0,
             "ticks": ""
            },
            "colorscale": [
             [
              0,
              "#0d0887"
             ],
             [
              0.1111111111111111,
              "#46039f"
             ],
             [
              0.2222222222222222,
              "#7201a8"
             ],
             [
              0.3333333333333333,
              "#9c179e"
             ],
             [
              0.4444444444444444,
              "#bd3786"
             ],
             [
              0.5555555555555556,
              "#d8576b"
             ],
             [
              0.6666666666666666,
              "#ed7953"
             ],
             [
              0.7777777777777778,
              "#fb9f3a"
             ],
             [
              0.8888888888888888,
              "#fdca26"
             ],
             [
              1,
              "#f0f921"
             ]
            ],
            "type": "histogram2d"
           }
          ],
          "histogram2dcontour": [
           {
            "colorbar": {
             "outlinewidth": 0,
             "ticks": ""
            },
            "colorscale": [
             [
              0,
              "#0d0887"
             ],
             [
              0.1111111111111111,
              "#46039f"
             ],
             [
              0.2222222222222222,
              "#7201a8"
             ],
             [
              0.3333333333333333,
              "#9c179e"
             ],
             [
              0.4444444444444444,
              "#bd3786"
             ],
             [
              0.5555555555555556,
              "#d8576b"
             ],
             [
              0.6666666666666666,
              "#ed7953"
             ],
             [
              0.7777777777777778,
              "#fb9f3a"
             ],
             [
              0.8888888888888888,
              "#fdca26"
             ],
             [
              1,
              "#f0f921"
             ]
            ],
            "type": "histogram2dcontour"
           }
          ],
          "mesh3d": [
           {
            "colorbar": {
             "outlinewidth": 0,
             "ticks": ""
            },
            "type": "mesh3d"
           }
          ],
          "parcoords": [
           {
            "line": {
             "colorbar": {
              "outlinewidth": 0,
              "ticks": ""
             }
            },
            "type": "parcoords"
           }
          ],
          "pie": [
           {
            "automargin": true,
            "type": "pie"
           }
          ],
          "scatter": [
           {
            "fillpattern": {
             "fillmode": "overlay",
             "size": 10,
             "solidity": 0.2
            },
            "type": "scatter"
           }
          ],
          "scatter3d": [
           {
            "line": {
             "colorbar": {
              "outlinewidth": 0,
              "ticks": ""
             }
            },
            "marker": {
             "colorbar": {
              "outlinewidth": 0,
              "ticks": ""
             }
            },
            "type": "scatter3d"
           }
          ],
          "scattercarpet": [
           {
            "marker": {
             "colorbar": {
              "outlinewidth": 0,
              "ticks": ""
             }
            },
            "type": "scattercarpet"
           }
          ],
          "scattergeo": [
           {
            "marker": {
             "colorbar": {
              "outlinewidth": 0,
              "ticks": ""
             }
            },
            "type": "scattergeo"
           }
          ],
          "scattergl": [
           {
            "marker": {
             "colorbar": {
              "outlinewidth": 0,
              "ticks": ""
             }
            },
            "type": "scattergl"
           }
          ],
          "scattermap": [
           {
            "marker": {
             "colorbar": {
              "outlinewidth": 0,
              "ticks": ""
             }
            },
            "type": "scattermap"
           }
          ],
          "scattermapbox": [
           {
            "marker": {
             "colorbar": {
              "outlinewidth": 0,
              "ticks": ""
             }
            },
            "type": "scattermapbox"
           }
          ],
          "scatterpolar": [
           {
            "marker": {
             "colorbar": {
              "outlinewidth": 0,
              "ticks": ""
             }
            },
            "type": "scatterpolar"
           }
          ],
          "scatterpolargl": [
           {
            "marker": {
             "colorbar": {
              "outlinewidth": 0,
              "ticks": ""
             }
            },
            "type": "scatterpolargl"
           }
          ],
          "scatterternary": [
           {
            "marker": {
             "colorbar": {
              "outlinewidth": 0,
              "ticks": ""
             }
            },
            "type": "scatterternary"
           }
          ],
          "surface": [
           {
            "colorbar": {
             "outlinewidth": 0,
             "ticks": ""
            },
            "colorscale": [
             [
              0,
              "#0d0887"
             ],
             [
              0.1111111111111111,
              "#46039f"
             ],
             [
              0.2222222222222222,
              "#7201a8"
             ],
             [
              0.3333333333333333,
              "#9c179e"
             ],
             [
              0.4444444444444444,
              "#bd3786"
             ],
             [
              0.5555555555555556,
              "#d8576b"
             ],
             [
              0.6666666666666666,
              "#ed7953"
             ],
             [
              0.7777777777777778,
              "#fb9f3a"
             ],
             [
              0.8888888888888888,
              "#fdca26"
             ],
             [
              1,
              "#f0f921"
             ]
            ],
            "type": "surface"
           }
          ],
          "table": [
           {
            "cells": {
             "fill": {
              "color": "#EBF0F8"
             },
             "line": {
              "color": "white"
             }
            },
            "header": {
             "fill": {
              "color": "#C8D4E3"
             },
             "line": {
              "color": "white"
             }
            },
            "type": "table"
           }
          ]
         },
         "layout": {
          "annotationdefaults": {
           "arrowcolor": "#2a3f5f",
           "arrowhead": 0,
           "arrowwidth": 1
          },
          "autotypenumbers": "strict",
          "coloraxis": {
           "colorbar": {
            "outlinewidth": 0,
            "ticks": ""
           }
          },
          "colorscale": {
           "diverging": [
            [
             0,
             "#8e0152"
            ],
            [
             0.1,
             "#c51b7d"
            ],
            [
             0.2,
             "#de77ae"
            ],
            [
             0.3,
             "#f1b6da"
            ],
            [
             0.4,
             "#fde0ef"
            ],
            [
             0.5,
             "#f7f7f7"
            ],
            [
             0.6,
             "#e6f5d0"
            ],
            [
             0.7,
             "#b8e186"
            ],
            [
             0.8,
             "#7fbc41"
            ],
            [
             0.9,
             "#4d9221"
            ],
            [
             1,
             "#276419"
            ]
           ],
           "sequential": [
            [
             0,
             "#0d0887"
            ],
            [
             0.1111111111111111,
             "#46039f"
            ],
            [
             0.2222222222222222,
             "#7201a8"
            ],
            [
             0.3333333333333333,
             "#9c179e"
            ],
            [
             0.4444444444444444,
             "#bd3786"
            ],
            [
             0.5555555555555556,
             "#d8576b"
            ],
            [
             0.6666666666666666,
             "#ed7953"
            ],
            [
             0.7777777777777778,
             "#fb9f3a"
            ],
            [
             0.8888888888888888,
             "#fdca26"
            ],
            [
             1,
             "#f0f921"
            ]
           ],
           "sequentialminus": [
            [
             0,
             "#0d0887"
            ],
            [
             0.1111111111111111,
             "#46039f"
            ],
            [
             0.2222222222222222,
             "#7201a8"
            ],
            [
             0.3333333333333333,
             "#9c179e"
            ],
            [
             0.4444444444444444,
             "#bd3786"
            ],
            [
             0.5555555555555556,
             "#d8576b"
            ],
            [
             0.6666666666666666,
             "#ed7953"
            ],
            [
             0.7777777777777778,
             "#fb9f3a"
            ],
            [
             0.8888888888888888,
             "#fdca26"
            ],
            [
             1,
             "#f0f921"
            ]
           ]
          },
          "colorway": [
           "#636efa",
           "#EF553B",
           "#00cc96",
           "#ab63fa",
           "#FFA15A",
           "#19d3f3",
           "#FF6692",
           "#B6E880",
           "#FF97FF",
           "#FECB52"
          ],
          "font": {
           "color": "#2a3f5f"
          },
          "geo": {
           "bgcolor": "white",
           "lakecolor": "white",
           "landcolor": "#E5ECF6",
           "showlakes": true,
           "showland": true,
           "subunitcolor": "white"
          },
          "hoverlabel": {
           "align": "left"
          },
          "hovermode": "closest",
          "mapbox": {
           "style": "light"
          },
          "paper_bgcolor": "white",
          "plot_bgcolor": "#E5ECF6",
          "polar": {
           "angularaxis": {
            "gridcolor": "white",
            "linecolor": "white",
            "ticks": ""
           },
           "bgcolor": "#E5ECF6",
           "radialaxis": {
            "gridcolor": "white",
            "linecolor": "white",
            "ticks": ""
           }
          },
          "scene": {
           "xaxis": {
            "backgroundcolor": "#E5ECF6",
            "gridcolor": "white",
            "gridwidth": 2,
            "linecolor": "white",
            "showbackground": true,
            "ticks": "",
            "zerolinecolor": "white"
           },
           "yaxis": {
            "backgroundcolor": "#E5ECF6",
            "gridcolor": "white",
            "gridwidth": 2,
            "linecolor": "white",
            "showbackground": true,
            "ticks": "",
            "zerolinecolor": "white"
           },
           "zaxis": {
            "backgroundcolor": "#E5ECF6",
            "gridcolor": "white",
            "gridwidth": 2,
            "linecolor": "white",
            "showbackground": true,
            "ticks": "",
            "zerolinecolor": "white"
           }
          },
          "shapedefaults": {
           "line": {
            "color": "#2a3f5f"
           }
          },
          "ternary": {
           "aaxis": {
            "gridcolor": "white",
            "linecolor": "white",
            "ticks": ""
           },
           "baxis": {
            "gridcolor": "white",
            "linecolor": "white",
            "ticks": ""
           },
           "bgcolor": "#E5ECF6",
           "caxis": {
            "gridcolor": "white",
            "linecolor": "white",
            "ticks": ""
           }
          },
          "title": {
           "x": 0.05
          },
          "xaxis": {
           "automargin": true,
           "gridcolor": "white",
           "linecolor": "white",
           "ticks": "",
           "title": {
            "standoff": 15
           },
           "zerolinecolor": "white",
           "zerolinewidth": 2
          },
          "yaxis": {
           "automargin": true,
           "gridcolor": "white",
           "linecolor": "white",
           "ticks": "",
           "title": {
            "standoff": 15
           },
           "zerolinecolor": "white",
           "zerolinewidth": 2
          }
         }
        },
        "title": {
         "text": "Train and Test Accuracy for the Best CNN and DNN Models"
        },
        "xaxis": {
         "title": {
          "text": "Model"
         }
        },
        "yaxis": {
         "title": {
          "text": "Accuracy"
         }
        }
       }
      }
     },
     "metadata": {},
     "output_type": "display_data"
    }
   ],
   "source": [
    "# bar plot with train and test accuracy\n",
    "\n",
    "fig = go.Figure()\n",
    "\n",
    "fig.add_trace(go.Bar(\n",
    "    x=[\"CNN\", \"DNN\"],\n",
    "    y=[best_cnn[\"accuracy_train\"].values[0], best_dnn[\"accuracy_train\"].values[0]],\n",
    "    name='Train',\n",
    "    marker_color='#636EFA'\n",
    "))\n",
    "\n",
    "fig.add_trace(go.Bar(\n",
    "    x=[\"CNN\", \"DNN\"],\n",
    "    y=[best_cnn[\"accuracy_test\"].values[0], best_dnn[\"accuracy_test\"].values[0]],\n",
    "    name='Validation',\n",
    "    marker_color='#EF553B'\n",
    "))\n",
    "\n",
    "fig.update_layout(\n",
    "    title='Train and Test Accuracy for the Best CNN and DNN Models',\n",
    "    barmode='group',\n",
    "    xaxis_title='Model',\n",
    "    yaxis_title='Accuracy',\n",
    "    showlegend=True\n",
    ")\n",
    "\n",
    "fig.show()"
   ]
  },
  {
   "cell_type": "code",
   "execution_count": 83,
   "metadata": {},
   "outputs": [
    {
     "data": {
      "application/vnd.plotly.v1+json": {
       "config": {
        "plotlyServerURL": "https://plot.ly"
       },
       "data": [
        {
         "marker": {
          "color": "#636EFA"
         },
         "name": "Train",
         "type": "bar",
         "x": [
          "CNN",
          "DNN"
         ],
         "y": [
          0.973445018550672,
          0.5411958702807196
         ]
        },
        {
         "marker": {
          "color": "#EF553B"
         },
         "name": "Validation",
         "type": "bar",
         "x": [
          "CNN",
          "DNN"
         ],
         "y": [
          0.6540554126168762,
          0.49206776874351155
         ]
        }
       ],
       "layout": {
        "barmode": "group",
        "showlegend": true,
        "template": {
         "data": {
          "bar": [
           {
            "error_x": {
             "color": "#2a3f5f"
            },
            "error_y": {
             "color": "#2a3f5f"
            },
            "marker": {
             "line": {
              "color": "#E5ECF6",
              "width": 0.5
             },
             "pattern": {
              "fillmode": "overlay",
              "size": 10,
              "solidity": 0.2
             }
            },
            "type": "bar"
           }
          ],
          "barpolar": [
           {
            "marker": {
             "line": {
              "color": "#E5ECF6",
              "width": 0.5
             },
             "pattern": {
              "fillmode": "overlay",
              "size": 10,
              "solidity": 0.2
             }
            },
            "type": "barpolar"
           }
          ],
          "carpet": [
           {
            "aaxis": {
             "endlinecolor": "#2a3f5f",
             "gridcolor": "white",
             "linecolor": "white",
             "minorgridcolor": "white",
             "startlinecolor": "#2a3f5f"
            },
            "baxis": {
             "endlinecolor": "#2a3f5f",
             "gridcolor": "white",
             "linecolor": "white",
             "minorgridcolor": "white",
             "startlinecolor": "#2a3f5f"
            },
            "type": "carpet"
           }
          ],
          "choropleth": [
           {
            "colorbar": {
             "outlinewidth": 0,
             "ticks": ""
            },
            "type": "choropleth"
           }
          ],
          "contour": [
           {
            "colorbar": {
             "outlinewidth": 0,
             "ticks": ""
            },
            "colorscale": [
             [
              0,
              "#0d0887"
             ],
             [
              0.1111111111111111,
              "#46039f"
             ],
             [
              0.2222222222222222,
              "#7201a8"
             ],
             [
              0.3333333333333333,
              "#9c179e"
             ],
             [
              0.4444444444444444,
              "#bd3786"
             ],
             [
              0.5555555555555556,
              "#d8576b"
             ],
             [
              0.6666666666666666,
              "#ed7953"
             ],
             [
              0.7777777777777778,
              "#fb9f3a"
             ],
             [
              0.8888888888888888,
              "#fdca26"
             ],
             [
              1,
              "#f0f921"
             ]
            ],
            "type": "contour"
           }
          ],
          "contourcarpet": [
           {
            "colorbar": {
             "outlinewidth": 0,
             "ticks": ""
            },
            "type": "contourcarpet"
           }
          ],
          "heatmap": [
           {
            "colorbar": {
             "outlinewidth": 0,
             "ticks": ""
            },
            "colorscale": [
             [
              0,
              "#0d0887"
             ],
             [
              0.1111111111111111,
              "#46039f"
             ],
             [
              0.2222222222222222,
              "#7201a8"
             ],
             [
              0.3333333333333333,
              "#9c179e"
             ],
             [
              0.4444444444444444,
              "#bd3786"
             ],
             [
              0.5555555555555556,
              "#d8576b"
             ],
             [
              0.6666666666666666,
              "#ed7953"
             ],
             [
              0.7777777777777778,
              "#fb9f3a"
             ],
             [
              0.8888888888888888,
              "#fdca26"
             ],
             [
              1,
              "#f0f921"
             ]
            ],
            "type": "heatmap"
           }
          ],
          "histogram": [
           {
            "marker": {
             "pattern": {
              "fillmode": "overlay",
              "size": 10,
              "solidity": 0.2
             }
            },
            "type": "histogram"
           }
          ],
          "histogram2d": [
           {
            "colorbar": {
             "outlinewidth": 0,
             "ticks": ""
            },
            "colorscale": [
             [
              0,
              "#0d0887"
             ],
             [
              0.1111111111111111,
              "#46039f"
             ],
             [
              0.2222222222222222,
              "#7201a8"
             ],
             [
              0.3333333333333333,
              "#9c179e"
             ],
             [
              0.4444444444444444,
              "#bd3786"
             ],
             [
              0.5555555555555556,
              "#d8576b"
             ],
             [
              0.6666666666666666,
              "#ed7953"
             ],
             [
              0.7777777777777778,
              "#fb9f3a"
             ],
             [
              0.8888888888888888,
              "#fdca26"
             ],
             [
              1,
              "#f0f921"
             ]
            ],
            "type": "histogram2d"
           }
          ],
          "histogram2dcontour": [
           {
            "colorbar": {
             "outlinewidth": 0,
             "ticks": ""
            },
            "colorscale": [
             [
              0,
              "#0d0887"
             ],
             [
              0.1111111111111111,
              "#46039f"
             ],
             [
              0.2222222222222222,
              "#7201a8"
             ],
             [
              0.3333333333333333,
              "#9c179e"
             ],
             [
              0.4444444444444444,
              "#bd3786"
             ],
             [
              0.5555555555555556,
              "#d8576b"
             ],
             [
              0.6666666666666666,
              "#ed7953"
             ],
             [
              0.7777777777777778,
              "#fb9f3a"
             ],
             [
              0.8888888888888888,
              "#fdca26"
             ],
             [
              1,
              "#f0f921"
             ]
            ],
            "type": "histogram2dcontour"
           }
          ],
          "mesh3d": [
           {
            "colorbar": {
             "outlinewidth": 0,
             "ticks": ""
            },
            "type": "mesh3d"
           }
          ],
          "parcoords": [
           {
            "line": {
             "colorbar": {
              "outlinewidth": 0,
              "ticks": ""
             }
            },
            "type": "parcoords"
           }
          ],
          "pie": [
           {
            "automargin": true,
            "type": "pie"
           }
          ],
          "scatter": [
           {
            "fillpattern": {
             "fillmode": "overlay",
             "size": 10,
             "solidity": 0.2
            },
            "type": "scatter"
           }
          ],
          "scatter3d": [
           {
            "line": {
             "colorbar": {
              "outlinewidth": 0,
              "ticks": ""
             }
            },
            "marker": {
             "colorbar": {
              "outlinewidth": 0,
              "ticks": ""
             }
            },
            "type": "scatter3d"
           }
          ],
          "scattercarpet": [
           {
            "marker": {
             "colorbar": {
              "outlinewidth": 0,
              "ticks": ""
             }
            },
            "type": "scattercarpet"
           }
          ],
          "scattergeo": [
           {
            "marker": {
             "colorbar": {
              "outlinewidth": 0,
              "ticks": ""
             }
            },
            "type": "scattergeo"
           }
          ],
          "scattergl": [
           {
            "marker": {
             "colorbar": {
              "outlinewidth": 0,
              "ticks": ""
             }
            },
            "type": "scattergl"
           }
          ],
          "scattermap": [
           {
            "marker": {
             "colorbar": {
              "outlinewidth": 0,
              "ticks": ""
             }
            },
            "type": "scattermap"
           }
          ],
          "scattermapbox": [
           {
            "marker": {
             "colorbar": {
              "outlinewidth": 0,
              "ticks": ""
             }
            },
            "type": "scattermapbox"
           }
          ],
          "scatterpolar": [
           {
            "marker": {
             "colorbar": {
              "outlinewidth": 0,
              "ticks": ""
             }
            },
            "type": "scatterpolar"
           }
          ],
          "scatterpolargl": [
           {
            "marker": {
             "colorbar": {
              "outlinewidth": 0,
              "ticks": ""
             }
            },
            "type": "scatterpolargl"
           }
          ],
          "scatterternary": [
           {
            "marker": {
             "colorbar": {
              "outlinewidth": 0,
              "ticks": ""
             }
            },
            "type": "scatterternary"
           }
          ],
          "surface": [
           {
            "colorbar": {
             "outlinewidth": 0,
             "ticks": ""
            },
            "colorscale": [
             [
              0,
              "#0d0887"
             ],
             [
              0.1111111111111111,
              "#46039f"
             ],
             [
              0.2222222222222222,
              "#7201a8"
             ],
             [
              0.3333333333333333,
              "#9c179e"
             ],
             [
              0.4444444444444444,
              "#bd3786"
             ],
             [
              0.5555555555555556,
              "#d8576b"
             ],
             [
              0.6666666666666666,
              "#ed7953"
             ],
             [
              0.7777777777777778,
              "#fb9f3a"
             ],
             [
              0.8888888888888888,
              "#fdca26"
             ],
             [
              1,
              "#f0f921"
             ]
            ],
            "type": "surface"
           }
          ],
          "table": [
           {
            "cells": {
             "fill": {
              "color": "#EBF0F8"
             },
             "line": {
              "color": "white"
             }
            },
            "header": {
             "fill": {
              "color": "#C8D4E3"
             },
             "line": {
              "color": "white"
             }
            },
            "type": "table"
           }
          ]
         },
         "layout": {
          "annotationdefaults": {
           "arrowcolor": "#2a3f5f",
           "arrowhead": 0,
           "arrowwidth": 1
          },
          "autotypenumbers": "strict",
          "coloraxis": {
           "colorbar": {
            "outlinewidth": 0,
            "ticks": ""
           }
          },
          "colorscale": {
           "diverging": [
            [
             0,
             "#8e0152"
            ],
            [
             0.1,
             "#c51b7d"
            ],
            [
             0.2,
             "#de77ae"
            ],
            [
             0.3,
             "#f1b6da"
            ],
            [
             0.4,
             "#fde0ef"
            ],
            [
             0.5,
             "#f7f7f7"
            ],
            [
             0.6,
             "#e6f5d0"
            ],
            [
             0.7,
             "#b8e186"
            ],
            [
             0.8,
             "#7fbc41"
            ],
            [
             0.9,
             "#4d9221"
            ],
            [
             1,
             "#276419"
            ]
           ],
           "sequential": [
            [
             0,
             "#0d0887"
            ],
            [
             0.1111111111111111,
             "#46039f"
            ],
            [
             0.2222222222222222,
             "#7201a8"
            ],
            [
             0.3333333333333333,
             "#9c179e"
            ],
            [
             0.4444444444444444,
             "#bd3786"
            ],
            [
             0.5555555555555556,
             "#d8576b"
            ],
            [
             0.6666666666666666,
             "#ed7953"
            ],
            [
             0.7777777777777778,
             "#fb9f3a"
            ],
            [
             0.8888888888888888,
             "#fdca26"
            ],
            [
             1,
             "#f0f921"
            ]
           ],
           "sequentialminus": [
            [
             0,
             "#0d0887"
            ],
            [
             0.1111111111111111,
             "#46039f"
            ],
            [
             0.2222222222222222,
             "#7201a8"
            ],
            [
             0.3333333333333333,
             "#9c179e"
            ],
            [
             0.4444444444444444,
             "#bd3786"
            ],
            [
             0.5555555555555556,
             "#d8576b"
            ],
            [
             0.6666666666666666,
             "#ed7953"
            ],
            [
             0.7777777777777778,
             "#fb9f3a"
            ],
            [
             0.8888888888888888,
             "#fdca26"
            ],
            [
             1,
             "#f0f921"
            ]
           ]
          },
          "colorway": [
           "#636efa",
           "#EF553B",
           "#00cc96",
           "#ab63fa",
           "#FFA15A",
           "#19d3f3",
           "#FF6692",
           "#B6E880",
           "#FF97FF",
           "#FECB52"
          ],
          "font": {
           "color": "#2a3f5f"
          },
          "geo": {
           "bgcolor": "white",
           "lakecolor": "white",
           "landcolor": "#E5ECF6",
           "showlakes": true,
           "showland": true,
           "subunitcolor": "white"
          },
          "hoverlabel": {
           "align": "left"
          },
          "hovermode": "closest",
          "mapbox": {
           "style": "light"
          },
          "paper_bgcolor": "white",
          "plot_bgcolor": "#E5ECF6",
          "polar": {
           "angularaxis": {
            "gridcolor": "white",
            "linecolor": "white",
            "ticks": ""
           },
           "bgcolor": "#E5ECF6",
           "radialaxis": {
            "gridcolor": "white",
            "linecolor": "white",
            "ticks": ""
           }
          },
          "scene": {
           "xaxis": {
            "backgroundcolor": "#E5ECF6",
            "gridcolor": "white",
            "gridwidth": 2,
            "linecolor": "white",
            "showbackground": true,
            "ticks": "",
            "zerolinecolor": "white"
           },
           "yaxis": {
            "backgroundcolor": "#E5ECF6",
            "gridcolor": "white",
            "gridwidth": 2,
            "linecolor": "white",
            "showbackground": true,
            "ticks": "",
            "zerolinecolor": "white"
           },
           "zaxis": {
            "backgroundcolor": "#E5ECF6",
            "gridcolor": "white",
            "gridwidth": 2,
            "linecolor": "white",
            "showbackground": true,
            "ticks": "",
            "zerolinecolor": "white"
           }
          },
          "shapedefaults": {
           "line": {
            "color": "#2a3f5f"
           }
          },
          "ternary": {
           "aaxis": {
            "gridcolor": "white",
            "linecolor": "white",
            "ticks": ""
           },
           "baxis": {
            "gridcolor": "white",
            "linecolor": "white",
            "ticks": ""
           },
           "bgcolor": "#E5ECF6",
           "caxis": {
            "gridcolor": "white",
            "linecolor": "white",
            "ticks": ""
           }
          },
          "title": {
           "x": 0.05
          },
          "xaxis": {
           "automargin": true,
           "gridcolor": "white",
           "linecolor": "white",
           "ticks": "",
           "title": {
            "standoff": 15
           },
           "zerolinecolor": "white",
           "zerolinewidth": 2
          },
          "yaxis": {
           "automargin": true,
           "gridcolor": "white",
           "linecolor": "white",
           "ticks": "",
           "title": {
            "standoff": 15
           },
           "zerolinecolor": "white",
           "zerolinewidth": 2
          }
         }
        },
        "title": {
         "text": "Train and Test Accuracy for the Best CNN and DNN Models"
        },
        "xaxis": {
         "title": {
          "text": "Model"
         }
        },
        "yaxis": {
         "title": {
          "text": "Accuracy"
         }
        }
       }
      }
     },
     "metadata": {},
     "output_type": "display_data"
    }
   ],
   "source": [
    "# bar plot with train and test accuracy\n",
    "\n",
    "fig = go.Figure()\n",
    "\n",
    "fig.add_trace(go.Bar(\n",
    "    x=[\"CNN\", \"DNN\"],\n",
    "    y=[best_cnn[\"f1_train_average\"].values[0], best_dnn[\"f1_train_average\"].values[0]],\n",
    "    name='Train',\n",
    "    marker_color='#636EFA'\n",
    "))\n",
    "\n",
    "fig.add_trace(go.Bar(\n",
    "    x=[\"CNN\", \"DNN\"],\n",
    "    y=[best_cnn[\"f1_test_average\"].values[0], best_dnn[\"f1_test_average\"].values[0]],\n",
    "    name='Validation',\n",
    "    marker_color='#EF553B'\n",
    "))\n",
    "\n",
    "fig.update_layout(\n",
    "    title='Train and Test Accuracy for the Best CNN and DNN Models',\n",
    "    barmode='group',\n",
    "    xaxis_title='Model',\n",
    "    yaxis_title='Accuracy',\n",
    "    showlegend=True\n",
    ")\n",
    "\n",
    "fig.show()"
   ]
  },
  {
   "cell_type": "markdown",
   "metadata": {},
   "source": [
    "# FIXING ATTEMPTS"
   ]
  },
  {
   "cell_type": "markdown",
   "metadata": {},
   "source": [
    "## Early Stopping"
   ]
  },
  {
   "cell_type": "code",
   "execution_count": 16,
   "metadata": {},
   "outputs": [],
   "source": [
    "data_cnn_early_stopping = pd.read_json('results_cnn_early.json').T\n",
    "#data_cnn_early_stopping"
   ]
  },
  {
   "cell_type": "code",
   "execution_count": 26,
   "metadata": {},
   "outputs": [],
   "source": [
    "metrics_early = get_metrics(data_cnn_early_stopping)"
   ]
  },
  {
   "cell_type": "code",
   "execution_count": 28,
   "metadata": {},
   "outputs": [
    {
     "data": {
      "text/plain": [
       "(np.float64(0.6309427591407378), np.float64(0.8425808460199662))"
      ]
     },
     "execution_count": 28,
     "metadata": {},
     "output_type": "execute_result"
    }
   ],
   "source": [
    "max_f1_train = metrics_early[\"f1_train_average\"].max()\n",
    "max_f1_test = metrics_early[\"f1_test_average\"].max()\n",
    "\n",
    "max_f1_test, max_f1_train"
   ]
  },
  {
   "cell_type": "markdown",
   "metadata": {},
   "source": [
    "## No Data Augmentation"
   ]
  },
  {
   "cell_type": "code",
   "execution_count": 17,
   "metadata": {},
   "outputs": [],
   "source": [
    "data_no_aug_cnn = pd.read_json('../results_original/results_cnn.json').T\n",
    "\n",
    "#data_no_aug_cnn"
   ]
  },
  {
   "cell_type": "code",
   "execution_count": 22,
   "metadata": {},
   "outputs": [],
   "source": [
    "import ast\n",
    "\n",
    "results_all = []\n",
    "j = 0\n",
    "\n",
    "for i, row in data_no_aug_cnn.iterrows():\n",
    "\n",
    "    conf_mat_train = np.array(row[\"confusion_matrix_train\"])\n",
    "    conf_mat_test = np.array(row[\"confusion_matrix_val\"])\n",
    "\n",
    "    total_train = conf_mat_train.sum()\n",
    "    total_test = conf_mat_test.sum()\n",
    "\n",
    "    accuracy_train = conf_mat_train.diagonal().sum() / total_train if total_train > 0 else 0\n",
    "    accuracy_test = conf_mat_test.diagonal().sum() / total_test if total_test > 0 else 0\n",
    "\n",
    "    # Compute recall and precision (per class)\n",
    "    recall_train = np.array([\n",
    "        conf_mat_train[i, i] / conf_mat_train[i, :].sum() if conf_mat_train[i, :].sum() > 0 else 0\n",
    "        for i in range(7)\n",
    "    ])\n",
    "    recall_test = np.array([\n",
    "        conf_mat_test[i, i] / conf_mat_test[i, :].sum() if conf_mat_test[i, :].sum() > 0 else 0\n",
    "        for i in range(7)\n",
    "    ])\n",
    "\n",
    "    precision_train = np.array([\n",
    "        conf_mat_train[i, i] / conf_mat_train[:, i].sum() if conf_mat_train[:, i].sum() > 0 else 0\n",
    "        for i in range(7)\n",
    "    ])\n",
    "    precision_test = np.array([\n",
    "        conf_mat_test[i, i] / conf_mat_test[:, i].sum() if conf_mat_test[:, i].sum() > 0 else 0\n",
    "        for i in range(7)\n",
    "    ])\n",
    "\n",
    "    average_recall_train = np.mean(recall_train)\n",
    "    average_precision_train = np.mean(precision_train)\n",
    "\n",
    "    average_recall_test = np.mean(recall_test)\n",
    "    average_precision_test = np.mean(precision_test)\n",
    "\n",
    "    f1_score_train = 2 * (average_precision_train * average_recall_train) / (average_precision_train + average_recall_train)\n",
    "    f1_score_test  = 2 * (average_precision_test  * average_recall_test)  / (average_precision_test  + average_recall_test)\n",
    "\n",
    "    results_all.append({\n",
    "        \"iteration\": j,\n",
    "        \"accuracy_train\": accuracy_train,\n",
    "        \"accuracy_test\": accuracy_test,\n",
    "        \"recall_train\": recall_train.tolist(),\n",
    "        \"recall_test\": recall_test.tolist(),\n",
    "        \"averaged_recall_train\": average_precision_train,\n",
    "        \"averaged_recall_test\": average_recall_test,\n",
    "        \"precision_train\": precision_train,\n",
    "        \"precision_test\": precision_test,\n",
    "        \"averaged_precision_train\": average_precision_train,\n",
    "        \"averaged_precision_test\": average_precision_test,\n",
    "        \"f1_score_train\": f1_score_train,\n",
    "        \"f1_score_test\": f1_score_test\n",
    "    })\n",
    "    \n",
    "    j += 1\n",
    "\n",
    "metrics_cnn_no_aug = pd.DataFrame(results_all)\n",
    "#metrics_cnn_no_aug"
   ]
  },
  {
   "cell_type": "markdown",
   "metadata": {},
   "source": [
    "## Only undersampling"
   ]
  },
  {
   "cell_type": "code",
   "execution_count": 7,
   "metadata": {},
   "outputs": [],
   "source": [
    "data_under_cnn = pd.read_json('./results_cnn_under.json').T"
   ]
  },
  {
   "cell_type": "code",
   "execution_count": 21,
   "metadata": {},
   "outputs": [],
   "source": [
    "metrics_under_cnn = get_metrics(data_under_cnn)"
   ]
  },
  {
   "cell_type": "code",
   "execution_count": 24,
   "metadata": {},
   "outputs": [
    {
     "data": {
      "text/plain": [
       "(np.float64(0.4991124052880161), np.float64(0.8951487107489473))"
      ]
     },
     "execution_count": 24,
     "metadata": {},
     "output_type": "execute_result"
    }
   ],
   "source": [
    "max_f1_train = metrics_under_cnn[\"f1_train_average\"].max()\n",
    "max_f1_test = metrics_under_cnn[\"f1_test_average\"].max()\n",
    "\n",
    "max_f1_test, max_f1_train"
   ]
  },
  {
   "cell_type": "code",
   "execution_count": 25,
   "metadata": {},
   "outputs": [
    {
     "data": {
      "text/html": [
       "<div>\n",
       "<style scoped>\n",
       "    .dataframe tbody tr th:only-of-type {\n",
       "        vertical-align: middle;\n",
       "    }\n",
       "\n",
       "    .dataframe tbody tr th {\n",
       "        vertical-align: top;\n",
       "    }\n",
       "\n",
       "    .dataframe thead th {\n",
       "        text-align: right;\n",
       "    }\n",
       "</style>\n",
       "<table border=\"1\" class=\"dataframe\">\n",
       "  <thead>\n",
       "    <tr style=\"text-align: right;\">\n",
       "      <th></th>\n",
       "      <th>n_epochs</th>\n",
       "      <th>activation_function</th>\n",
       "      <th>pooling</th>\n",
       "      <th>n_conv_layers</th>\n",
       "      <th>conv_out_channels</th>\n",
       "      <th>conv_kernel_size</th>\n",
       "      <th>conv_padding</th>\n",
       "      <th>n_layers</th>\n",
       "      <th>batch_size</th>\n",
       "      <th>learning_rate</th>\n",
       "      <th>...</th>\n",
       "      <th>recall_train</th>\n",
       "      <th>recall_test</th>\n",
       "      <th>averaged_recall_train</th>\n",
       "      <th>averaged_recall_test</th>\n",
       "      <th>precision_train</th>\n",
       "      <th>precision_test</th>\n",
       "      <th>averaged_precision_train</th>\n",
       "      <th>averaged_precision_test</th>\n",
       "      <th>f1_train_average</th>\n",
       "      <th>f1_test_average</th>\n",
       "    </tr>\n",
       "  </thead>\n",
       "  <tbody>\n",
       "    <tr>\n",
       "      <th>0</th>\n",
       "      <td>50</td>\n",
       "      <td>relu</td>\n",
       "      <td>MaxPool</td>\n",
       "      <td>2</td>\n",
       "      <td>16</td>\n",
       "      <td>3</td>\n",
       "      <td>1</td>\n",
       "      <td>3</td>\n",
       "      <td>64</td>\n",
       "      <td>0.100</td>\n",
       "      <td>...</td>\n",
       "      <td>[0.5708145074362493, 0.6722284477331033, 0.700...</td>\n",
       "      <td>[0.2570538163807547, 0.4941118667917449, 0.519...</td>\n",
       "      <td>0.640481</td>\n",
       "      <td>0.423470</td>\n",
       "      <td>[0.6487496570260732, 0.6525686713144413, 0.728...</td>\n",
       "      <td>[0.338262599469496, 0.4652747643504854, 0.5134...</td>\n",
       "      <td>0.664621</td>\n",
       "      <td>0.411867</td>\n",
       "      <td>0.652327</td>\n",
       "      <td>0.417588</td>\n",
       "    </tr>\n",
       "    <tr>\n",
       "      <th>1</th>\n",
       "      <td>50</td>\n",
       "      <td>relu</td>\n",
       "      <td>MaxPool</td>\n",
       "      <td>2</td>\n",
       "      <td>16</td>\n",
       "      <td>3</td>\n",
       "      <td>1</td>\n",
       "      <td>3</td>\n",
       "      <td>32</td>\n",
       "      <td>0.100</td>\n",
       "      <td>...</td>\n",
       "      <td>[0.2667036979668537, 0.59770781696479, 0.61002...</td>\n",
       "      <td>[0.16741115828835823, 0.516666353971232, 0.509...</td>\n",
       "      <td>0.510565</td>\n",
       "      <td>0.424740</td>\n",
       "      <td>[0.60316803048649, 0.5788547136527008, 0.62885...</td>\n",
       "      <td>[0.3967332358044433, 0.5077873906562503, 0.535...</td>\n",
       "      <td>0.537513</td>\n",
       "      <td>0.441306</td>\n",
       "      <td>0.523693</td>\n",
       "      <td>0.432865</td>\n",
       "    </tr>\n",
       "    <tr>\n",
       "      <th>2</th>\n",
       "      <td>50</td>\n",
       "      <td>relu</td>\n",
       "      <td>AvgPool</td>\n",
       "      <td>2</td>\n",
       "      <td>16</td>\n",
       "      <td>3</td>\n",
       "      <td>1</td>\n",
       "      <td>3</td>\n",
       "      <td>32</td>\n",
       "      <td>0.001</td>\n",
       "      <td>...</td>\n",
       "      <td>[0.8840297892359498, 0.7912828970081431, 0.791...</td>\n",
       "      <td>[0.3645774175879614, 0.4733657754846779, 0.443...</td>\n",
       "      <td>0.817665</td>\n",
       "      <td>0.445522</td>\n",
       "      <td>[0.6794599904920154, 0.8371888719636378, 0.900...</td>\n",
       "      <td>[0.2723646723646723, 0.4965478846139105, 0.519...</td>\n",
       "      <td>0.835924</td>\n",
       "      <td>0.460676</td>\n",
       "      <td>0.826694</td>\n",
       "      <td>0.452972</td>\n",
       "    </tr>\n",
       "    <tr>\n",
       "      <th>3</th>\n",
       "      <td>50</td>\n",
       "      <td>relu</td>\n",
       "      <td>AvgPool</td>\n",
       "      <td>2</td>\n",
       "      <td>16</td>\n",
       "      <td>3</td>\n",
       "      <td>1</td>\n",
       "      <td>3</td>\n",
       "      <td>64</td>\n",
       "      <td>0.001</td>\n",
       "      <td>...</td>\n",
       "      <td>[0.7489530581259094, 0.7549545852269095, 0.779...</td>\n",
       "      <td>[0.2713002439397715, 0.47063899312070046, 0.46...</td>\n",
       "      <td>0.779778</td>\n",
       "      <td>0.433170</td>\n",
       "      <td>[0.756708221527661, 0.8043124359356113, 0.8207...</td>\n",
       "      <td>[0.3081515151515152, 0.5157683723917332, 0.489...</td>\n",
       "      <td>0.815004</td>\n",
       "      <td>0.455181</td>\n",
       "      <td>0.797002</td>\n",
       "      <td>0.443903</td>\n",
       "    </tr>\n",
       "    <tr>\n",
       "      <th>4</th>\n",
       "      <td>50</td>\n",
       "      <td>relu</td>\n",
       "      <td>AvgPool</td>\n",
       "      <td>2</td>\n",
       "      <td>16</td>\n",
       "      <td>3</td>\n",
       "      <td>1</td>\n",
       "      <td>3</td>\n",
       "      <td>32</td>\n",
       "      <td>0.001</td>\n",
       "      <td>...</td>\n",
       "      <td>[0.8778583378575616, 0.7748224073363719, 0.839...</td>\n",
       "      <td>[0.2920378099781937, 0.39994895247029394, 0.53...</td>\n",
       "      <td>0.839087</td>\n",
       "      <td>0.425725</td>\n",
       "      <td>[0.7973990326914575, 0.8742517190506254, 0.852...</td>\n",
       "      <td>[0.3013717239596182, 0.471537895989515, 0.5000...</td>\n",
       "      <td>0.858667</td>\n",
       "      <td>0.459272</td>\n",
       "      <td>0.848764</td>\n",
       "      <td>0.441863</td>\n",
       "    </tr>\n",
       "    <tr>\n",
       "      <th>5</th>\n",
       "      <td>50</td>\n",
       "      <td>relu</td>\n",
       "      <td>MaxPool</td>\n",
       "      <td>2</td>\n",
       "      <td>16</td>\n",
       "      <td>3</td>\n",
       "      <td>1</td>\n",
       "      <td>3</td>\n",
       "      <td>32</td>\n",
       "      <td>0.100</td>\n",
       "      <td>...</td>\n",
       "      <td>[0.5055435972441975, 0.5797845819667875, 0.703...</td>\n",
       "      <td>[0.19968375000085797, 0.4459131488430269, 0.50...</td>\n",
       "      <td>0.624848</td>\n",
       "      <td>0.434031</td>\n",
       "      <td>[0.6271560281992667, 0.675939064366698, 0.7406...</td>\n",
       "      <td>[0.2538946475116688, 0.5780809766450913, 0.523...</td>\n",
       "      <td>0.672696</td>\n",
       "      <td>0.427897</td>\n",
       "      <td>0.647889</td>\n",
       "      <td>0.430942</td>\n",
       "    </tr>\n",
       "    <tr>\n",
       "      <th>6</th>\n",
       "      <td>50</td>\n",
       "      <td>relu</td>\n",
       "      <td>MaxPool</td>\n",
       "      <td>2</td>\n",
       "      <td>16</td>\n",
       "      <td>3</td>\n",
       "      <td>1</td>\n",
       "      <td>3</td>\n",
       "      <td>32</td>\n",
       "      <td>0.001</td>\n",
       "      <td>...</td>\n",
       "      <td>[0.7885345843216978, 0.8369334825376417, 0.753...</td>\n",
       "      <td>[0.3446818092588665, 0.46774734208880553, 0.42...</td>\n",
       "      <td>0.783463</td>\n",
       "      <td>0.424350</td>\n",
       "      <td>[0.7543510713765418, 0.8210543603984559, 0.853...</td>\n",
       "      <td>[0.3132411750868308, 0.470925249865342, 0.4953...</td>\n",
       "      <td>0.855350</td>\n",
       "      <td>0.489643</td>\n",
       "      <td>0.817830</td>\n",
       "      <td>0.454664</td>\n",
       "    </tr>\n",
       "    <tr>\n",
       "      <th>7</th>\n",
       "      <td>50</td>\n",
       "      <td>relu</td>\n",
       "      <td>AvgPool</td>\n",
       "      <td>2</td>\n",
       "      <td>16</td>\n",
       "      <td>3</td>\n",
       "      <td>1</td>\n",
       "      <td>3</td>\n",
       "      <td>64</td>\n",
       "      <td>0.001</td>\n",
       "      <td>...</td>\n",
       "      <td>[0.7258968340815948, 0.8091551131172967, 0.830...</td>\n",
       "      <td>[0.20313271964017168, 0.5238135553470918, 0.46...</td>\n",
       "      <td>0.792901</td>\n",
       "      <td>0.415738</td>\n",
       "      <td>[0.8701022720398868, 0.8101061081094187, 0.847...</td>\n",
       "      <td>[0.3399095408772828, 0.4867223780191221, 0.499...</td>\n",
       "      <td>0.843545</td>\n",
       "      <td>0.456906</td>\n",
       "      <td>0.817439</td>\n",
       "      <td>0.435351</td>\n",
       "    </tr>\n",
       "    <tr>\n",
       "      <th>8</th>\n",
       "      <td>50</td>\n",
       "      <td>relu</td>\n",
       "      <td>AvgPool</td>\n",
       "      <td>1</td>\n",
       "      <td>16</td>\n",
       "      <td>3</td>\n",
       "      <td>1</td>\n",
       "      <td>3</td>\n",
       "      <td>32</td>\n",
       "      <td>0.001</td>\n",
       "      <td>...</td>\n",
       "      <td>[0.7886452278464151, 0.7705187068251009, 0.832...</td>\n",
       "      <td>[0.2931055097853893, 0.4918040963101939, 0.530...</td>\n",
       "      <td>0.810321</td>\n",
       "      <td>0.429834</td>\n",
       "      <td>[0.7561053945384242, 0.8428485490648185, 0.825...</td>\n",
       "      <td>[0.30391348186697026, 0.5459832234228942, 0.50...</td>\n",
       "      <td>0.834669</td>\n",
       "      <td>0.438648</td>\n",
       "      <td>0.822315</td>\n",
       "      <td>0.434196</td>\n",
       "    </tr>\n",
       "    <tr>\n",
       "      <th>9</th>\n",
       "      <td>50</td>\n",
       "      <td>relu</td>\n",
       "      <td>AvgPool</td>\n",
       "      <td>2</td>\n",
       "      <td>16</td>\n",
       "      <td>3</td>\n",
       "      <td>1</td>\n",
       "      <td>3</td>\n",
       "      <td>64</td>\n",
       "      <td>0.001</td>\n",
       "      <td>...</td>\n",
       "      <td>[0.8948298741121811, 0.886841257128512, 0.8806...</td>\n",
       "      <td>[0.30792815410898494, 0.46256793308317706, 0.5...</td>\n",
       "      <td>0.893197</td>\n",
       "      <td>0.439225</td>\n",
       "      <td>[0.882400318643571, 0.8789470808017198, 0.9161...</td>\n",
       "      <td>[0.3432608695652174, 0.49983327884929707, 0.51...</td>\n",
       "      <td>0.897109</td>\n",
       "      <td>0.437982</td>\n",
       "      <td>0.895149</td>\n",
       "      <td>0.438603</td>\n",
       "    </tr>\n",
       "    <tr>\n",
       "      <th>10</th>\n",
       "      <td>50</td>\n",
       "      <td>relu</td>\n",
       "      <td>AvgPool</td>\n",
       "      <td>1</td>\n",
       "      <td>16</td>\n",
       "      <td>3</td>\n",
       "      <td>1</td>\n",
       "      <td>3</td>\n",
       "      <td>32</td>\n",
       "      <td>0.001</td>\n",
       "      <td>...</td>\n",
       "      <td>[0.782122138462888, 0.701191695912584, 0.74998...</td>\n",
       "      <td>[0.4206450847920643, 0.4589517667292057, 0.474...</td>\n",
       "      <td>0.761010</td>\n",
       "      <td>0.461946</td>\n",
       "      <td>[0.6607651693007192, 0.7930878113792693, 0.839...</td>\n",
       "      <td>[0.35401684532119315, 0.5016881861390186, 0.54...</td>\n",
       "      <td>0.796442</td>\n",
       "      <td>0.462468</td>\n",
       "      <td>0.778323</td>\n",
       "      <td>0.462207</td>\n",
       "    </tr>\n",
       "    <tr>\n",
       "      <th>11</th>\n",
       "      <td>50</td>\n",
       "      <td>relu</td>\n",
       "      <td>AvgPool</td>\n",
       "      <td>2</td>\n",
       "      <td>16</td>\n",
       "      <td>3</td>\n",
       "      <td>1</td>\n",
       "      <td>3</td>\n",
       "      <td>32</td>\n",
       "      <td>0.001</td>\n",
       "      <td>...</td>\n",
       "      <td>[0.7920226024203598, 0.7393825934200726, 0.824...</td>\n",
       "      <td>[0.3011599150809552, 0.40940501876172614, 0.50...</td>\n",
       "      <td>0.773545</td>\n",
       "      <td>0.427185</td>\n",
       "      <td>[0.7458929528454601, 0.8062123901056703, 0.809...</td>\n",
       "      <td>[0.30021723690234675, 0.5205471555471555, 0.48...</td>\n",
       "      <td>0.824308</td>\n",
       "      <td>0.456265</td>\n",
       "      <td>0.798120</td>\n",
       "      <td>0.441246</td>\n",
       "    </tr>\n",
       "    <tr>\n",
       "      <th>12</th>\n",
       "      <td>50</td>\n",
       "      <td>relu</td>\n",
       "      <td>AvgPool</td>\n",
       "      <td>2</td>\n",
       "      <td>16</td>\n",
       "      <td>3</td>\n",
       "      <td>1</td>\n",
       "      <td>3</td>\n",
       "      <td>32</td>\n",
       "      <td>0.001</td>\n",
       "      <td>...</td>\n",
       "      <td>[0.6878070723992187, 0.7884461229433976, 0.835...</td>\n",
       "      <td>[0.2461826668917996, 0.5392266260162601, 0.523...</td>\n",
       "      <td>0.773144</td>\n",
       "      <td>0.438805</td>\n",
       "      <td>[0.8131170167179211, 0.7527571738567499, 0.817...</td>\n",
       "      <td>[0.31360757522047844, 0.49041392428539765, 0.5...</td>\n",
       "      <td>0.823993</td>\n",
       "      <td>0.457020</td>\n",
       "      <td>0.797759</td>\n",
       "      <td>0.447727</td>\n",
       "    </tr>\n",
       "    <tr>\n",
       "      <th>13</th>\n",
       "      <td>50</td>\n",
       "      <td>relu</td>\n",
       "      <td>MaxPool</td>\n",
       "      <td>2</td>\n",
       "      <td>16</td>\n",
       "      <td>3</td>\n",
       "      <td>1</td>\n",
       "      <td>3</td>\n",
       "      <td>64</td>\n",
       "      <td>0.001</td>\n",
       "      <td>...</td>\n",
       "      <td>[0.8591883104037535, 0.8222403856236667, 0.791...</td>\n",
       "      <td>[0.34799889080846746, 0.48527141963727327, 0.4...</td>\n",
       "      <td>0.817794</td>\n",
       "      <td>0.450723</td>\n",
       "      <td>[0.7276041608675737, 0.811038285629774, 0.8938...</td>\n",
       "      <td>[0.31874535905861207, 0.4607170148346619, 0.55...</td>\n",
       "      <td>0.848216</td>\n",
       "      <td>0.468537</td>\n",
       "      <td>0.832727</td>\n",
       "      <td>0.459457</td>\n",
       "    </tr>\n",
       "    <tr>\n",
       "      <th>14</th>\n",
       "      <td>50</td>\n",
       "      <td>relu</td>\n",
       "      <td>MaxPool</td>\n",
       "      <td>2</td>\n",
       "      <td>16</td>\n",
       "      <td>3</td>\n",
       "      <td>1</td>\n",
       "      <td>3</td>\n",
       "      <td>64</td>\n",
       "      <td>0.001</td>\n",
       "      <td>...</td>\n",
       "      <td>[0.7925431563679411, 0.786757867672201, 0.8733...</td>\n",
       "      <td>[0.22733058060273853, 0.3897349124452783, 0.53...</td>\n",
       "      <td>0.814990</td>\n",
       "      <td>0.416185</td>\n",
       "      <td>[0.7880509491366918, 0.8585448068346118, 0.814...</td>\n",
       "      <td>[0.23434456547558452, 0.4797105750724012, 0.47...</td>\n",
       "      <td>0.849023</td>\n",
       "      <td>0.434434</td>\n",
       "      <td>0.831659</td>\n",
       "      <td>0.425114</td>\n",
       "    </tr>\n",
       "    <tr>\n",
       "      <th>15</th>\n",
       "      <td>50</td>\n",
       "      <td>relu</td>\n",
       "      <td>MaxPool</td>\n",
       "      <td>2</td>\n",
       "      <td>16</td>\n",
       "      <td>3</td>\n",
       "      <td>1</td>\n",
       "      <td>3</td>\n",
       "      <td>64</td>\n",
       "      <td>0.100</td>\n",
       "      <td>...</td>\n",
       "      <td>[0.32259465577846996, 0.5626738188730656, 0.54...</td>\n",
       "      <td>[0.22721936973760343, 0.49315009380863034, 0.4...</td>\n",
       "      <td>0.517251</td>\n",
       "      <td>0.430521</td>\n",
       "      <td>[0.5715326916171073, 0.6131839454263575, 0.644...</td>\n",
       "      <td>[0.4247979797979798, 0.5491411688946508, 0.551...</td>\n",
       "      <td>0.553678</td>\n",
       "      <td>0.438613</td>\n",
       "      <td>0.534845</td>\n",
       "      <td>0.434529</td>\n",
       "    </tr>\n",
       "    <tr>\n",
       "      <th>16</th>\n",
       "      <td>50</td>\n",
       "      <td>relu</td>\n",
       "      <td>MaxPool</td>\n",
       "      <td>1</td>\n",
       "      <td>16</td>\n",
       "      <td>3</td>\n",
       "      <td>1</td>\n",
       "      <td>3</td>\n",
       "      <td>64</td>\n",
       "      <td>0.100</td>\n",
       "      <td>...</td>\n",
       "      <td>[0.6467843809450675, 0.6500912738627802, 0.547...</td>\n",
       "      <td>[0.4034789473250706, 0.4946339118198875, 0.416...</td>\n",
       "      <td>0.619961</td>\n",
       "      <td>0.469402</td>\n",
       "      <td>[0.5550319515841667, 0.6853694507056117, 0.774...</td>\n",
       "      <td>[0.34538173547319884, 0.5133246222529673, 0.62...</td>\n",
       "      <td>0.717104</td>\n",
       "      <td>0.461219</td>\n",
       "      <td>0.665004</td>\n",
       "      <td>0.465274</td>\n",
       "    </tr>\n",
       "    <tr>\n",
       "      <th>17</th>\n",
       "      <td>50</td>\n",
       "      <td>relu</td>\n",
       "      <td>AvgPool</td>\n",
       "      <td>1</td>\n",
       "      <td>16</td>\n",
       "      <td>3</td>\n",
       "      <td>1</td>\n",
       "      <td>3</td>\n",
       "      <td>32</td>\n",
       "      <td>0.100</td>\n",
       "      <td>...</td>\n",
       "      <td>[0.5242414867100968, 0.6113590179264204, 0.611...</td>\n",
       "      <td>[0.3100518337695284, 0.46829471544715445, 0.49...</td>\n",
       "      <td>0.583723</td>\n",
       "      <td>0.451651</td>\n",
       "      <td>[0.5440120114154693, 0.6260908160068455, 0.695...</td>\n",
       "      <td>[0.3102790146158798, 0.4876136569696454, 0.585...</td>\n",
       "      <td>0.668345</td>\n",
       "      <td>0.429494</td>\n",
       "      <td>0.623174</td>\n",
       "      <td>0.440294</td>\n",
       "    </tr>\n",
       "    <tr>\n",
       "      <th>18</th>\n",
       "      <td>50</td>\n",
       "      <td>relu</td>\n",
       "      <td>AvgPool</td>\n",
       "      <td>1</td>\n",
       "      <td>16</td>\n",
       "      <td>3</td>\n",
       "      <td>1</td>\n",
       "      <td>3</td>\n",
       "      <td>64</td>\n",
       "      <td>0.100</td>\n",
       "      <td>...</td>\n",
       "      <td>[0.49963424218948094, 0.6949946529884912, 0.52...</td>\n",
       "      <td>[0.3056785235535037, 0.5434576297686053, 0.426...</td>\n",
       "      <td>0.591339</td>\n",
       "      <td>0.446360</td>\n",
       "      <td>[0.5813907104561119, 0.6292483928861685, 0.747...</td>\n",
       "      <td>[0.3309883299533231, 0.4979103390888288, 0.608...</td>\n",
       "      <td>0.699971</td>\n",
       "      <td>0.439720</td>\n",
       "      <td>0.641085</td>\n",
       "      <td>0.443015</td>\n",
       "    </tr>\n",
       "    <tr>\n",
       "      <th>19</th>\n",
       "      <td>50</td>\n",
       "      <td>relu</td>\n",
       "      <td>MaxPool</td>\n",
       "      <td>2</td>\n",
       "      <td>16</td>\n",
       "      <td>3</td>\n",
       "      <td>1</td>\n",
       "      <td>3</td>\n",
       "      <td>32</td>\n",
       "      <td>0.001</td>\n",
       "      <td>...</td>\n",
       "      <td>[0.7754019969881936, 0.8823829946980226, 0.867...</td>\n",
       "      <td>[0.25678449767557104, 0.5354512976860537, 0.51...</td>\n",
       "      <td>0.824042</td>\n",
       "      <td>0.423949</td>\n",
       "      <td>[0.8546599672350201, 0.7788627680328855, 0.861...</td>\n",
       "      <td>[0.3074650967199327, 0.4676494217798323, 0.503...</td>\n",
       "      <td>0.879544</td>\n",
       "      <td>0.435297</td>\n",
       "      <td>0.850889</td>\n",
       "      <td>0.429548</td>\n",
       "    </tr>\n",
       "    <tr>\n",
       "      <th>20</th>\n",
       "      <td>50</td>\n",
       "      <td>relu</td>\n",
       "      <td>MaxPool</td>\n",
       "      <td>1</td>\n",
       "      <td>16</td>\n",
       "      <td>3</td>\n",
       "      <td>1</td>\n",
       "      <td>3</td>\n",
       "      <td>64</td>\n",
       "      <td>0.001</td>\n",
       "      <td>...</td>\n",
       "      <td>[0.8385465347233575, 0.7173559755456237, 0.797...</td>\n",
       "      <td>[0.37717651383023193, 0.41681183552220136, 0.5...</td>\n",
       "      <td>0.805399</td>\n",
       "      <td>0.452895</td>\n",
       "      <td>[0.7220854733642023, 0.8785861014872024, 0.853...</td>\n",
       "      <td>[0.3196249736453721, 0.5452955236853542, 0.523...</td>\n",
       "      <td>0.852059</td>\n",
       "      <td>0.489536</td>\n",
       "      <td>0.828072</td>\n",
       "      <td>0.470503</td>\n",
       "    </tr>\n",
       "    <tr>\n",
       "      <th>21</th>\n",
       "      <td>50</td>\n",
       "      <td>relu</td>\n",
       "      <td>AvgPool</td>\n",
       "      <td>1</td>\n",
       "      <td>16</td>\n",
       "      <td>3</td>\n",
       "      <td>1</td>\n",
       "      <td>3</td>\n",
       "      <td>64</td>\n",
       "      <td>0.001</td>\n",
       "      <td>...</td>\n",
       "      <td>[0.755374030679375, 0.7784305784795088, 0.8179...</td>\n",
       "      <td>[0.23395607814309258, 0.48019871794871793, 0.4...</td>\n",
       "      <td>0.796000</td>\n",
       "      <td>0.441617</td>\n",
       "      <td>[0.7495646455000039, 0.8164969131970988, 0.856...</td>\n",
       "      <td>[0.24751264350133645, 0.48136544630910355, 0.5...</td>\n",
       "      <td>0.853554</td>\n",
       "      <td>0.464958</td>\n",
       "      <td>0.823773</td>\n",
       "      <td>0.452987</td>\n",
       "    </tr>\n",
       "    <tr>\n",
       "      <th>22</th>\n",
       "      <td>50</td>\n",
       "      <td>relu</td>\n",
       "      <td>AvgPool</td>\n",
       "      <td>1</td>\n",
       "      <td>16</td>\n",
       "      <td>3</td>\n",
       "      <td>1</td>\n",
       "      <td>3</td>\n",
       "      <td>64</td>\n",
       "      <td>0.001</td>\n",
       "      <td>...</td>\n",
       "      <td>[0.7767365238115509, 0.7973110758994173, 0.777...</td>\n",
       "      <td>[0.3511575899656604, 0.4867244371482176, 0.488...</td>\n",
       "      <td>0.808712</td>\n",
       "      <td>0.446636</td>\n",
       "      <td>[0.7769343974798002, 0.7922501133083963, 0.890...</td>\n",
       "      <td>[0.32732593665455145, 0.4303357562522098, 0.57...</td>\n",
       "      <td>0.838120</td>\n",
       "      <td>0.438174</td>\n",
       "      <td>0.823154</td>\n",
       "      <td>0.442364</td>\n",
       "    </tr>\n",
       "    <tr>\n",
       "      <th>23</th>\n",
       "      <td>50</td>\n",
       "      <td>relu</td>\n",
       "      <td>MaxPool</td>\n",
       "      <td>2</td>\n",
       "      <td>16</td>\n",
       "      <td>3</td>\n",
       "      <td>1</td>\n",
       "      <td>3</td>\n",
       "      <td>32</td>\n",
       "      <td>0.001</td>\n",
       "      <td>...</td>\n",
       "      <td>[0.8196677140458796, 0.8250105922623024, 0.879...</td>\n",
       "      <td>[0.24225115432107663, 0.4418696841776111, 0.53...</td>\n",
       "      <td>0.857684</td>\n",
       "      <td>0.433512</td>\n",
       "      <td>[0.8851237330513735, 0.8876165258396551, 0.880...</td>\n",
       "      <td>[0.36373347373347376, 0.48895000056630195, 0.5...</td>\n",
       "      <td>0.873127</td>\n",
       "      <td>0.451633</td>\n",
       "      <td>0.865337</td>\n",
       "      <td>0.442387</td>\n",
       "    </tr>\n",
       "    <tr>\n",
       "      <th>24</th>\n",
       "      <td>50</td>\n",
       "      <td>relu</td>\n",
       "      <td>AvgPool</td>\n",
       "      <td>2</td>\n",
       "      <td>16</td>\n",
       "      <td>3</td>\n",
       "      <td>1</td>\n",
       "      <td>3</td>\n",
       "      <td>64</td>\n",
       "      <td>0.100</td>\n",
       "      <td>...</td>\n",
       "      <td>[0.21385171720149146, 0.6065873491563634, 0.50...</td>\n",
       "      <td>[0.1331750109992539, 0.5435408849280801, 0.440...</td>\n",
       "      <td>0.433617</td>\n",
       "      <td>0.366417</td>\n",
       "      <td>[0.4975850296514344, 0.49018677388496795, 0.60...</td>\n",
       "      <td>[0.3378246753246753, 0.4262289609362028, 0.537...</td>\n",
       "      <td>0.460353</td>\n",
       "      <td>0.384063</td>\n",
       "      <td>0.446585</td>\n",
       "      <td>0.375033</td>\n",
       "    </tr>\n",
       "    <tr>\n",
       "      <th>25</th>\n",
       "      <td>50</td>\n",
       "      <td>relu</td>\n",
       "      <td>AvgPool</td>\n",
       "      <td>2</td>\n",
       "      <td>16</td>\n",
       "      <td>3</td>\n",
       "      <td>1</td>\n",
       "      <td>3</td>\n",
       "      <td>32</td>\n",
       "      <td>0.100</td>\n",
       "      <td>...</td>\n",
       "      <td>[0.3690779385513415, 0.5658610927544436, 0.628...</td>\n",
       "      <td>[0.16418362370677259, 0.43546779237023137, 0.5...</td>\n",
       "      <td>0.541127</td>\n",
       "      <td>0.388797</td>\n",
       "      <td>[0.6493343952885534, 0.5945571399321399, 0.637...</td>\n",
       "      <td>[0.2932430340557276, 0.44890147549528014, 0.50...</td>\n",
       "      <td>0.631594</td>\n",
       "      <td>0.407648</td>\n",
       "      <td>0.582871</td>\n",
       "      <td>0.397999</td>\n",
       "    </tr>\n",
       "    <tr>\n",
       "      <th>26</th>\n",
       "      <td>50</td>\n",
       "      <td>relu</td>\n",
       "      <td>MaxPool</td>\n",
       "      <td>1</td>\n",
       "      <td>16</td>\n",
       "      <td>3</td>\n",
       "      <td>1</td>\n",
       "      <td>3</td>\n",
       "      <td>64</td>\n",
       "      <td>0.001</td>\n",
       "      <td>...</td>\n",
       "      <td>[0.83033449752965, 0.7659100207891714, 0.73110...</td>\n",
       "      <td>[0.4068733496829264, 0.47268363039399625, 0.46...</td>\n",
       "      <td>0.780486</td>\n",
       "      <td>0.474320</td>\n",
       "      <td>[0.6533699683806196, 0.7871430417122033, 0.883...</td>\n",
       "      <td>[0.3049855444894748, 0.4817669669893057, 0.606...</td>\n",
       "      <td>0.810079</td>\n",
       "      <td>0.472884</td>\n",
       "      <td>0.795007</td>\n",
       "      <td>0.473601</td>\n",
       "    </tr>\n",
       "    <tr>\n",
       "      <th>27</th>\n",
       "      <td>50</td>\n",
       "      <td>relu</td>\n",
       "      <td>AvgPool</td>\n",
       "      <td>1</td>\n",
       "      <td>16</td>\n",
       "      <td>3</td>\n",
       "      <td>1</td>\n",
       "      <td>3</td>\n",
       "      <td>32</td>\n",
       "      <td>0.001</td>\n",
       "      <td>...</td>\n",
       "      <td>[0.5339610524461895, 0.8477958506123089, 0.681...</td>\n",
       "      <td>[0.1761724672716428, 0.5577627423389618, 0.399...</td>\n",
       "      <td>0.703162</td>\n",
       "      <td>0.418907</td>\n",
       "      <td>[0.8154528059336471, 0.6796261630817227, 0.838...</td>\n",
       "      <td>[0.39650869058477756, 0.4205146497193157, 0.54...</td>\n",
       "      <td>0.785045</td>\n",
       "      <td>0.463269</td>\n",
       "      <td>0.741851</td>\n",
       "      <td>0.439973</td>\n",
       "    </tr>\n",
       "    <tr>\n",
       "      <th>28</th>\n",
       "      <td>50</td>\n",
       "      <td>relu</td>\n",
       "      <td>MaxPool</td>\n",
       "      <td>2</td>\n",
       "      <td>16</td>\n",
       "      <td>3</td>\n",
       "      <td>1</td>\n",
       "      <td>3</td>\n",
       "      <td>32</td>\n",
       "      <td>0.001</td>\n",
       "      <td>...</td>\n",
       "      <td>[0.9028954688835444, 0.8608926382094495, 0.882...</td>\n",
       "      <td>[0.3246034262761709, 0.46091674484052536, 0.47...</td>\n",
       "      <td>0.876082</td>\n",
       "      <td>0.439315</td>\n",
       "      <td>[0.7973730202223402, 0.8462408249066756, 0.926...</td>\n",
       "      <td>[0.283964861863167, 0.44094332855093255, 0.532...</td>\n",
       "      <td>0.887819</td>\n",
       "      <td>0.421210</td>\n",
       "      <td>0.881911</td>\n",
       "      <td>0.430072</td>\n",
       "    </tr>\n",
       "    <tr>\n",
       "      <th>29</th>\n",
       "      <td>50</td>\n",
       "      <td>relu</td>\n",
       "      <td>AvgPool</td>\n",
       "      <td>1</td>\n",
       "      <td>16</td>\n",
       "      <td>3</td>\n",
       "      <td>1</td>\n",
       "      <td>3</td>\n",
       "      <td>32</td>\n",
       "      <td>0.001</td>\n",
       "      <td>...</td>\n",
       "      <td>[0.7878611411500789, 0.7747357366790538, 0.801...</td>\n",
       "      <td>[0.33983153295623564, 0.49312625078173855, 0.4...</td>\n",
       "      <td>0.766773</td>\n",
       "      <td>0.432935</td>\n",
       "      <td>[0.7032418622527151, 0.7894642034324313, 0.812...</td>\n",
       "      <td>[0.2919510035769244, 0.4711219504982398, 0.492...</td>\n",
       "      <td>0.821039</td>\n",
       "      <td>0.439846</td>\n",
       "      <td>0.792979</td>\n",
       "      <td>0.436363</td>\n",
       "    </tr>\n",
       "    <tr>\n",
       "      <th>30</th>\n",
       "      <td>50</td>\n",
       "      <td>relu</td>\n",
       "      <td>AvgPool</td>\n",
       "      <td>1</td>\n",
       "      <td>16</td>\n",
       "      <td>3</td>\n",
       "      <td>1</td>\n",
       "      <td>3</td>\n",
       "      <td>64</td>\n",
       "      <td>0.100</td>\n",
       "      <td>...</td>\n",
       "      <td>[0.3566951157055728, 0.6775084137884392, 0.749...</td>\n",
       "      <td>[0.10931345093783654, 0.5262324890556598, 0.57...</td>\n",
       "      <td>0.581834</td>\n",
       "      <td>0.411634</td>\n",
       "      <td>[0.7433924954654205, 0.603842043930952, 0.6493...</td>\n",
       "      <td>[0.34095238095238095, 0.47682825831514775, 0.4...</td>\n",
       "      <td>0.692254</td>\n",
       "      <td>0.421626</td>\n",
       "      <td>0.632259</td>\n",
       "      <td>0.416570</td>\n",
       "    </tr>\n",
       "    <tr>\n",
       "      <th>31</th>\n",
       "      <td>50</td>\n",
       "      <td>relu</td>\n",
       "      <td>MaxPool</td>\n",
       "      <td>2</td>\n",
       "      <td>16</td>\n",
       "      <td>3</td>\n",
       "      <td>1</td>\n",
       "      <td>3</td>\n",
       "      <td>64</td>\n",
       "      <td>0.001</td>\n",
       "      <td>...</td>\n",
       "      <td>[0.898276444079406, 0.9196289583118382, 0.8170...</td>\n",
       "      <td>[0.3173037053586443, 0.5447016885553471, 0.422...</td>\n",
       "      <td>0.867969</td>\n",
       "      <td>0.444465</td>\n",
       "      <td>[0.7648424778783015, 0.8156206407537349, 0.934...</td>\n",
       "      <td>[0.25656829620244254, 0.4636793697920303, 0.51...</td>\n",
       "      <td>0.861922</td>\n",
       "      <td>0.457997</td>\n",
       "      <td>0.864935</td>\n",
       "      <td>0.451129</td>\n",
       "    </tr>\n",
       "    <tr>\n",
       "      <th>32</th>\n",
       "      <td>50</td>\n",
       "      <td>relu</td>\n",
       "      <td>MaxPool</td>\n",
       "      <td>1</td>\n",
       "      <td>16</td>\n",
       "      <td>3</td>\n",
       "      <td>1</td>\n",
       "      <td>3</td>\n",
       "      <td>32</td>\n",
       "      <td>0.001</td>\n",
       "      <td>...</td>\n",
       "      <td>[0.8384932813471385, 0.7790956873917546, 0.783...</td>\n",
       "      <td>[0.4248087828613435, 0.5239967948717948, 0.497...</td>\n",
       "      <td>0.796489</td>\n",
       "      <td>0.487198</td>\n",
       "      <td>[0.7168794963274476, 0.8148330555891239, 0.864...</td>\n",
       "      <td>[0.3914300308674453, 0.5269409092245845, 0.551...</td>\n",
       "      <td>0.841873</td>\n",
       "      <td>0.511624</td>\n",
       "      <td>0.818553</td>\n",
       "      <td>0.499112</td>\n",
       "    </tr>\n",
       "    <tr>\n",
       "      <th>33</th>\n",
       "      <td>50</td>\n",
       "      <td>relu</td>\n",
       "      <td>MaxPool</td>\n",
       "      <td>1</td>\n",
       "      <td>16</td>\n",
       "      <td>3</td>\n",
       "      <td>1</td>\n",
       "      <td>3</td>\n",
       "      <td>32</td>\n",
       "      <td>0.001</td>\n",
       "      <td>...</td>\n",
       "      <td>[0.8300044274835072, 0.7831826310589018, 0.814...</td>\n",
       "      <td>[0.29489395243517647, 0.45364407442151344, 0.5...</td>\n",
       "      <td>0.817544</td>\n",
       "      <td>0.464980</td>\n",
       "      <td>[0.7981125035535677, 0.8195303061587248, 0.868...</td>\n",
       "      <td>[0.3129010137149672, 0.4966269513414793, 0.544...</td>\n",
       "      <td>0.844113</td>\n",
       "      <td>0.486241</td>\n",
       "      <td>0.830616</td>\n",
       "      <td>0.475373</td>\n",
       "    </tr>\n",
       "    <tr>\n",
       "      <th>34</th>\n",
       "      <td>50</td>\n",
       "      <td>relu</td>\n",
       "      <td>AvgPool</td>\n",
       "      <td>2</td>\n",
       "      <td>16</td>\n",
       "      <td>3</td>\n",
       "      <td>1</td>\n",
       "      <td>3</td>\n",
       "      <td>64</td>\n",
       "      <td>0.100</td>\n",
       "      <td>...</td>\n",
       "      <td>[0.27572064002417906, 0.5579709636273288, 0.68...</td>\n",
       "      <td>[0.1384189868057, 0.4420479205753596, 0.537456...</td>\n",
       "      <td>0.544633</td>\n",
       "      <td>0.399640</td>\n",
       "      <td>[0.6532431077694236, 0.6027465440751183, 0.628...</td>\n",
       "      <td>[0.33285714285714285, 0.5064771277565153, 0.48...</td>\n",
       "      <td>0.614685</td>\n",
       "      <td>0.398514</td>\n",
       "      <td>0.577542</td>\n",
       "      <td>0.399076</td>\n",
       "    </tr>\n",
       "    <tr>\n",
       "      <th>35</th>\n",
       "      <td>50</td>\n",
       "      <td>relu</td>\n",
       "      <td>MaxPool</td>\n",
       "      <td>1</td>\n",
       "      <td>16</td>\n",
       "      <td>3</td>\n",
       "      <td>1</td>\n",
       "      <td>3</td>\n",
       "      <td>64</td>\n",
       "      <td>0.001</td>\n",
       "      <td>...</td>\n",
       "      <td>[0.7008430119225388, 0.7681989583149258, 0.681...</td>\n",
       "      <td>[0.3144624144683602, 0.5224642745465916, 0.425...</td>\n",
       "      <td>0.723080</td>\n",
       "      <td>0.446547</td>\n",
       "      <td>[0.6837916396558746, 0.7382407907168409, 0.831...</td>\n",
       "      <td>[0.3297819356575582, 0.4802581228753593, 0.544...</td>\n",
       "      <td>0.772537</td>\n",
       "      <td>0.468911</td>\n",
       "      <td>0.746991</td>\n",
       "      <td>0.457456</td>\n",
       "    </tr>\n",
       "    <tr>\n",
       "      <th>36</th>\n",
       "      <td>50</td>\n",
       "      <td>relu</td>\n",
       "      <td>AvgPool</td>\n",
       "      <td>1</td>\n",
       "      <td>16</td>\n",
       "      <td>3</td>\n",
       "      <td>1</td>\n",
       "      <td>3</td>\n",
       "      <td>64</td>\n",
       "      <td>0.001</td>\n",
       "      <td>...</td>\n",
       "      <td>[0.6633220147138674, 0.7029432060320577, 0.790...</td>\n",
       "      <td>[0.2629207257517072, 0.4430067229518449, 0.499...</td>\n",
       "      <td>0.735845</td>\n",
       "      <td>0.414678</td>\n",
       "      <td>[0.7477401939951006, 0.7875064765231082, 0.807...</td>\n",
       "      <td>[0.3447019211725094, 0.5012976106610135, 0.521...</td>\n",
       "      <td>0.801933</td>\n",
       "      <td>0.464120</td>\n",
       "      <td>0.767469</td>\n",
       "      <td>0.438008</td>\n",
       "    </tr>\n",
       "    <tr>\n",
       "      <th>37</th>\n",
       "      <td>50</td>\n",
       "      <td>relu</td>\n",
       "      <td>MaxPool</td>\n",
       "      <td>1</td>\n",
       "      <td>16</td>\n",
       "      <td>3</td>\n",
       "      <td>1</td>\n",
       "      <td>3</td>\n",
       "      <td>32</td>\n",
       "      <td>0.100</td>\n",
       "      <td>...</td>\n",
       "      <td>[0.5431783841296949, 0.6666694153103655, 0.644...</td>\n",
       "      <td>[0.3017974256598008, 0.47922420262664167, 0.49...</td>\n",
       "      <td>0.622297</td>\n",
       "      <td>0.461248</td>\n",
       "      <td>[0.634980910028389, 0.6921385661542285, 0.7296...</td>\n",
       "      <td>[0.34794258373205744, 0.5263795682335008, 0.57...</td>\n",
       "      <td>0.720517</td>\n",
       "      <td>0.486562</td>\n",
       "      <td>0.667815</td>\n",
       "      <td>0.473567</td>\n",
       "    </tr>\n",
       "    <tr>\n",
       "      <th>38</th>\n",
       "      <td>50</td>\n",
       "      <td>relu</td>\n",
       "      <td>AvgPool</td>\n",
       "      <td>2</td>\n",
       "      <td>16</td>\n",
       "      <td>3</td>\n",
       "      <td>1</td>\n",
       "      <td>3</td>\n",
       "      <td>32</td>\n",
       "      <td>0.100</td>\n",
       "      <td>...</td>\n",
       "      <td>[0.22433815316173106, 0.5280571924174873, 0.56...</td>\n",
       "      <td>[0.1781071347921673, 0.4580382270168856, 0.494...</td>\n",
       "      <td>0.421304</td>\n",
       "      <td>0.355149</td>\n",
       "      <td>[0.5005248873690495, 0.5417985665629157, 0.553...</td>\n",
       "      <td>[0.41375390736004547, 0.4827499798040057, 0.49...</td>\n",
       "      <td>0.484626</td>\n",
       "      <td>0.397823</td>\n",
       "      <td>0.450752</td>\n",
       "      <td>0.375277</td>\n",
       "    </tr>\n",
       "    <tr>\n",
       "      <th>39</th>\n",
       "      <td>50</td>\n",
       "      <td>relu</td>\n",
       "      <td>MaxPool</td>\n",
       "      <td>2</td>\n",
       "      <td>16</td>\n",
       "      <td>3</td>\n",
       "      <td>1</td>\n",
       "      <td>3</td>\n",
       "      <td>64</td>\n",
       "      <td>0.001</td>\n",
       "      <td>...</td>\n",
       "      <td>[0.9155415694598515, 0.8561215311098807, 0.859...</td>\n",
       "      <td>[0.3239494082367081, 0.47182160725453404, 0.44...</td>\n",
       "      <td>0.873626</td>\n",
       "      <td>0.438859</td>\n",
       "      <td>[0.8061643045814693, 0.8685759674316376, 0.926...</td>\n",
       "      <td>[0.29544505494505496, 0.4883921395770942, 0.52...</td>\n",
       "      <td>0.901294</td>\n",
       "      <td>0.478735</td>\n",
       "      <td>0.887244</td>\n",
       "      <td>0.457930</td>\n",
       "    </tr>\n",
       "    <tr>\n",
       "      <th>40</th>\n",
       "      <td>50</td>\n",
       "      <td>relu</td>\n",
       "      <td>AvgPool</td>\n",
       "      <td>1</td>\n",
       "      <td>16</td>\n",
       "      <td>3</td>\n",
       "      <td>1</td>\n",
       "      <td>3</td>\n",
       "      <td>64</td>\n",
       "      <td>0.001</td>\n",
       "      <td>...</td>\n",
       "      <td>[0.7415081672008496, 0.837564163157176, 0.7593...</td>\n",
       "      <td>[0.223810476163021, 0.4980186835522201, 0.4742...</td>\n",
       "      <td>0.780259</td>\n",
       "      <td>0.431093</td>\n",
       "      <td>[0.7924687231110374, 0.7697798107795115, 0.869...</td>\n",
       "      <td>[0.2668469889122861, 0.46304202814702167, 0.55...</td>\n",
       "      <td>0.817990</td>\n",
       "      <td>0.464507</td>\n",
       "      <td>0.798680</td>\n",
       "      <td>0.447177</td>\n",
       "    </tr>\n",
       "    <tr>\n",
       "      <th>41</th>\n",
       "      <td>50</td>\n",
       "      <td>relu</td>\n",
       "      <td>AvgPool</td>\n",
       "      <td>2</td>\n",
       "      <td>16</td>\n",
       "      <td>3</td>\n",
       "      <td>1</td>\n",
       "      <td>3</td>\n",
       "      <td>64</td>\n",
       "      <td>0.001</td>\n",
       "      <td>...</td>\n",
       "      <td>[0.8035808346337634, 0.8283643760174982, 0.834...</td>\n",
       "      <td>[0.3188431547576149, 0.5254118198874297, 0.456...</td>\n",
       "      <td>0.820777</td>\n",
       "      <td>0.441817</td>\n",
       "      <td>[0.7320135246425161, 0.7840053816393128, 0.894...</td>\n",
       "      <td>[0.2723933535575446, 0.4660750828858534, 0.520...</td>\n",
       "      <td>0.841815</td>\n",
       "      <td>0.450346</td>\n",
       "      <td>0.831163</td>\n",
       "      <td>0.446041</td>\n",
       "    </tr>\n",
       "    <tr>\n",
       "      <th>42</th>\n",
       "      <td>50</td>\n",
       "      <td>relu</td>\n",
       "      <td>MaxPool</td>\n",
       "      <td>1</td>\n",
       "      <td>16</td>\n",
       "      <td>3</td>\n",
       "      <td>1</td>\n",
       "      <td>3</td>\n",
       "      <td>32</td>\n",
       "      <td>0.001</td>\n",
       "      <td>...</td>\n",
       "      <td>[0.776556082126836, 0.7705097900314504, 0.8103...</td>\n",
       "      <td>[0.27519210085406376, 0.3847284240150094, 0.52...</td>\n",
       "      <td>0.797194</td>\n",
       "      <td>0.432165</td>\n",
       "      <td>[0.7328248226907839, 0.8454150501961353, 0.844...</td>\n",
       "      <td>[0.2613108424454281, 0.5126838166096477, 0.511...</td>\n",
       "      <td>0.846027</td>\n",
       "      <td>0.452175</td>\n",
       "      <td>0.820885</td>\n",
       "      <td>0.441944</td>\n",
       "    </tr>\n",
       "    <tr>\n",
       "      <th>43</th>\n",
       "      <td>50</td>\n",
       "      <td>relu</td>\n",
       "      <td>MaxPool</td>\n",
       "      <td>1</td>\n",
       "      <td>16</td>\n",
       "      <td>3</td>\n",
       "      <td>1</td>\n",
       "      <td>3</td>\n",
       "      <td>32</td>\n",
       "      <td>0.001</td>\n",
       "      <td>...</td>\n",
       "      <td>[0.713244493309687, 0.8008984891762246, 0.8286...</td>\n",
       "      <td>[0.24344000893667928, 0.477775406504065, 0.491...</td>\n",
       "      <td>0.783223</td>\n",
       "      <td>0.431160</td>\n",
       "      <td>[0.8218026334576788, 0.8080594634595863, 0.859...</td>\n",
       "      <td>[0.3615063680281071, 0.49615216400759643, 0.53...</td>\n",
       "      <td>0.847007</td>\n",
       "      <td>0.459847</td>\n",
       "      <td>0.813867</td>\n",
       "      <td>0.445042</td>\n",
       "    </tr>\n",
       "    <tr>\n",
       "      <th>44</th>\n",
       "      <td>50</td>\n",
       "      <td>relu</td>\n",
       "      <td>MaxPool</td>\n",
       "      <td>1</td>\n",
       "      <td>16</td>\n",
       "      <td>3</td>\n",
       "      <td>1</td>\n",
       "      <td>3</td>\n",
       "      <td>32</td>\n",
       "      <td>0.100</td>\n",
       "      <td>...</td>\n",
       "      <td>[0.6760339231861761, 0.7010564800775454, 0.742...</td>\n",
       "      <td>[0.3062509223243328, 0.4717248280175109, 0.511...</td>\n",
       "      <td>0.686020</td>\n",
       "      <td>0.443595</td>\n",
       "      <td>[0.6455795107569335, 0.7265133187497105, 0.798...</td>\n",
       "      <td>[0.3112486772486773, 0.5239598740850305, 0.537...</td>\n",
       "      <td>0.750503</td>\n",
       "      <td>0.434253</td>\n",
       "      <td>0.716814</td>\n",
       "      <td>0.438874</td>\n",
       "    </tr>\n",
       "    <tr>\n",
       "      <th>45</th>\n",
       "      <td>50</td>\n",
       "      <td>relu</td>\n",
       "      <td>MaxPool</td>\n",
       "      <td>1</td>\n",
       "      <td>16</td>\n",
       "      <td>3</td>\n",
       "      <td>1</td>\n",
       "      <td>3</td>\n",
       "      <td>64</td>\n",
       "      <td>0.001</td>\n",
       "      <td>...</td>\n",
       "      <td>[0.7581930423112823, 0.886171552087099, 0.8560...</td>\n",
       "      <td>[0.2682303967899339, 0.5515762976860538, 0.507...</td>\n",
       "      <td>0.827417</td>\n",
       "      <td>0.441740</td>\n",
       "      <td>[0.8584402399176208, 0.7808746080077051, 0.887...</td>\n",
       "      <td>[0.361092132328355, 0.476271498139056, 0.51060...</td>\n",
       "      <td>0.864359</td>\n",
       "      <td>0.450607</td>\n",
       "      <td>0.845484</td>\n",
       "      <td>0.446129</td>\n",
       "    </tr>\n",
       "    <tr>\n",
       "      <th>46</th>\n",
       "      <td>50</td>\n",
       "      <td>relu</td>\n",
       "      <td>MaxPool</td>\n",
       "      <td>1</td>\n",
       "      <td>16</td>\n",
       "      <td>3</td>\n",
       "      <td>1</td>\n",
       "      <td>3</td>\n",
       "      <td>64</td>\n",
       "      <td>0.100</td>\n",
       "      <td>...</td>\n",
       "      <td>[0.7412336361555415, 0.6405198049014645, 0.790...</td>\n",
       "      <td>[0.35792910646248205, 0.3933642901813633, 0.50...</td>\n",
       "      <td>0.684282</td>\n",
       "      <td>0.428275</td>\n",
       "      <td>[0.5950310736753218, 0.7389491560317094, 0.770...</td>\n",
       "      <td>[0.2977614299726691, 0.4699443527350504, 0.506...</td>\n",
       "      <td>0.749535</td>\n",
       "      <td>0.454729</td>\n",
       "      <td>0.715424</td>\n",
       "      <td>0.441106</td>\n",
       "    </tr>\n",
       "    <tr>\n",
       "      <th>47</th>\n",
       "      <td>50</td>\n",
       "      <td>relu</td>\n",
       "      <td>AvgPool</td>\n",
       "      <td>1</td>\n",
       "      <td>16</td>\n",
       "      <td>3</td>\n",
       "      <td>1</td>\n",
       "      <td>3</td>\n",
       "      <td>32</td>\n",
       "      <td>0.100</td>\n",
       "      <td>...</td>\n",
       "      <td>[0.5433512931184391, 0.6972197492829146, 0.742...</td>\n",
       "      <td>[0.24483938515371842, 0.48926633833646027, 0.5...</td>\n",
       "      <td>0.655351</td>\n",
       "      <td>0.442064</td>\n",
       "      <td>[0.7015823392293979, 0.6924544966356843, 0.735...</td>\n",
       "      <td>[0.3146480812580641, 0.5137507559104473, 0.508...</td>\n",
       "      <td>0.728639</td>\n",
       "      <td>0.452192</td>\n",
       "      <td>0.690054</td>\n",
       "      <td>0.447071</td>\n",
       "    </tr>\n",
       "    <tr>\n",
       "      <th>48</th>\n",
       "      <td>50</td>\n",
       "      <td>relu</td>\n",
       "      <td>MaxPool</td>\n",
       "      <td>1</td>\n",
       "      <td>16</td>\n",
       "      <td>3</td>\n",
       "      <td>1</td>\n",
       "      <td>3</td>\n",
       "      <td>64</td>\n",
       "      <td>0.010</td>\n",
       "      <td>...</td>\n",
       "      <td>[0.01596817570596145, 0.4287552482545748, 0.53...</td>\n",
       "      <td>[0.029946524064171122, 0.41183075359599747, 0....</td>\n",
       "      <td>0.308294</td>\n",
       "      <td>0.304243</td>\n",
       "      <td>[0.08288854003139719, 0.4147094079663335, 0.38...</td>\n",
       "      <td>[0.12380952380952381, 0.41425740121392296, 0.3...</td>\n",
       "      <td>0.290033</td>\n",
       "      <td>0.291720</td>\n",
       "      <td>0.298885</td>\n",
       "      <td>0.297850</td>\n",
       "    </tr>\n",
       "    <tr>\n",
       "      <th>49</th>\n",
       "      <td>50</td>\n",
       "      <td>relu</td>\n",
       "      <td>MaxPool</td>\n",
       "      <td>1</td>\n",
       "      <td>16</td>\n",
       "      <td>3</td>\n",
       "      <td>1</td>\n",
       "      <td>3</td>\n",
       "      <td>32</td>\n",
       "      <td>0.010</td>\n",
       "      <td>...</td>\n",
       "      <td>[0.014204569325466085, 0.49575586115897385, 0....</td>\n",
       "      <td>[0.004545454545454545, 0.46715353345841154, 0....</td>\n",
       "      <td>0.319154</td>\n",
       "      <td>0.308183</td>\n",
       "      <td>[0.1371794871794872, 0.4228206576658812, 0.412...</td>\n",
       "      <td>[0.2, 0.40652221019434515, 0.3951561602328041,...</td>\n",
       "      <td>0.304286</td>\n",
       "      <td>0.305190</td>\n",
       "      <td>0.311542</td>\n",
       "      <td>0.306680</td>\n",
       "    </tr>\n",
       "  </tbody>\n",
       "</table>\n",
       "<p>50 rows × 25 columns</p>\n",
       "</div>"
      ],
      "text/plain": [
       "    n_epochs activation_function  pooling  n_conv_layers  conv_out_channels  \\\n",
       "0         50                relu  MaxPool              2                 16   \n",
       "1         50                relu  MaxPool              2                 16   \n",
       "2         50                relu  AvgPool              2                 16   \n",
       "3         50                relu  AvgPool              2                 16   \n",
       "4         50                relu  AvgPool              2                 16   \n",
       "5         50                relu  MaxPool              2                 16   \n",
       "6         50                relu  MaxPool              2                 16   \n",
       "7         50                relu  AvgPool              2                 16   \n",
       "8         50                relu  AvgPool              1                 16   \n",
       "9         50                relu  AvgPool              2                 16   \n",
       "10        50                relu  AvgPool              1                 16   \n",
       "11        50                relu  AvgPool              2                 16   \n",
       "12        50                relu  AvgPool              2                 16   \n",
       "13        50                relu  MaxPool              2                 16   \n",
       "14        50                relu  MaxPool              2                 16   \n",
       "15        50                relu  MaxPool              2                 16   \n",
       "16        50                relu  MaxPool              1                 16   \n",
       "17        50                relu  AvgPool              1                 16   \n",
       "18        50                relu  AvgPool              1                 16   \n",
       "19        50                relu  MaxPool              2                 16   \n",
       "20        50                relu  MaxPool              1                 16   \n",
       "21        50                relu  AvgPool              1                 16   \n",
       "22        50                relu  AvgPool              1                 16   \n",
       "23        50                relu  MaxPool              2                 16   \n",
       "24        50                relu  AvgPool              2                 16   \n",
       "25        50                relu  AvgPool              2                 16   \n",
       "26        50                relu  MaxPool              1                 16   \n",
       "27        50                relu  AvgPool              1                 16   \n",
       "28        50                relu  MaxPool              2                 16   \n",
       "29        50                relu  AvgPool              1                 16   \n",
       "30        50                relu  AvgPool              1                 16   \n",
       "31        50                relu  MaxPool              2                 16   \n",
       "32        50                relu  MaxPool              1                 16   \n",
       "33        50                relu  MaxPool              1                 16   \n",
       "34        50                relu  AvgPool              2                 16   \n",
       "35        50                relu  MaxPool              1                 16   \n",
       "36        50                relu  AvgPool              1                 16   \n",
       "37        50                relu  MaxPool              1                 16   \n",
       "38        50                relu  AvgPool              2                 16   \n",
       "39        50                relu  MaxPool              2                 16   \n",
       "40        50                relu  AvgPool              1                 16   \n",
       "41        50                relu  AvgPool              2                 16   \n",
       "42        50                relu  MaxPool              1                 16   \n",
       "43        50                relu  MaxPool              1                 16   \n",
       "44        50                relu  MaxPool              1                 16   \n",
       "45        50                relu  MaxPool              1                 16   \n",
       "46        50                relu  MaxPool              1                 16   \n",
       "47        50                relu  AvgPool              1                 16   \n",
       "48        50                relu  MaxPool              1                 16   \n",
       "49        50                relu  MaxPool              1                 16   \n",
       "\n",
       "    conv_kernel_size  conv_padding  n_layers  batch_size  learning_rate  ...  \\\n",
       "0                  3             1         3          64          0.100  ...   \n",
       "1                  3             1         3          32          0.100  ...   \n",
       "2                  3             1         3          32          0.001  ...   \n",
       "3                  3             1         3          64          0.001  ...   \n",
       "4                  3             1         3          32          0.001  ...   \n",
       "5                  3             1         3          32          0.100  ...   \n",
       "6                  3             1         3          32          0.001  ...   \n",
       "7                  3             1         3          64          0.001  ...   \n",
       "8                  3             1         3          32          0.001  ...   \n",
       "9                  3             1         3          64          0.001  ...   \n",
       "10                 3             1         3          32          0.001  ...   \n",
       "11                 3             1         3          32          0.001  ...   \n",
       "12                 3             1         3          32          0.001  ...   \n",
       "13                 3             1         3          64          0.001  ...   \n",
       "14                 3             1         3          64          0.001  ...   \n",
       "15                 3             1         3          64          0.100  ...   \n",
       "16                 3             1         3          64          0.100  ...   \n",
       "17                 3             1         3          32          0.100  ...   \n",
       "18                 3             1         3          64          0.100  ...   \n",
       "19                 3             1         3          32          0.001  ...   \n",
       "20                 3             1         3          64          0.001  ...   \n",
       "21                 3             1         3          64          0.001  ...   \n",
       "22                 3             1         3          64          0.001  ...   \n",
       "23                 3             1         3          32          0.001  ...   \n",
       "24                 3             1         3          64          0.100  ...   \n",
       "25                 3             1         3          32          0.100  ...   \n",
       "26                 3             1         3          64          0.001  ...   \n",
       "27                 3             1         3          32          0.001  ...   \n",
       "28                 3             1         3          32          0.001  ...   \n",
       "29                 3             1         3          32          0.001  ...   \n",
       "30                 3             1         3          64          0.100  ...   \n",
       "31                 3             1         3          64          0.001  ...   \n",
       "32                 3             1         3          32          0.001  ...   \n",
       "33                 3             1         3          32          0.001  ...   \n",
       "34                 3             1         3          64          0.100  ...   \n",
       "35                 3             1         3          64          0.001  ...   \n",
       "36                 3             1         3          64          0.001  ...   \n",
       "37                 3             1         3          32          0.100  ...   \n",
       "38                 3             1         3          32          0.100  ...   \n",
       "39                 3             1         3          64          0.001  ...   \n",
       "40                 3             1         3          64          0.001  ...   \n",
       "41                 3             1         3          64          0.001  ...   \n",
       "42                 3             1         3          32          0.001  ...   \n",
       "43                 3             1         3          32          0.001  ...   \n",
       "44                 3             1         3          32          0.100  ...   \n",
       "45                 3             1         3          64          0.001  ...   \n",
       "46                 3             1         3          64          0.100  ...   \n",
       "47                 3             1         3          32          0.100  ...   \n",
       "48                 3             1         3          64          0.010  ...   \n",
       "49                 3             1         3          32          0.010  ...   \n",
       "\n",
       "                                         recall_train  \\\n",
       "0   [0.5708145074362493, 0.6722284477331033, 0.700...   \n",
       "1   [0.2667036979668537, 0.59770781696479, 0.61002...   \n",
       "2   [0.8840297892359498, 0.7912828970081431, 0.791...   \n",
       "3   [0.7489530581259094, 0.7549545852269095, 0.779...   \n",
       "4   [0.8778583378575616, 0.7748224073363719, 0.839...   \n",
       "5   [0.5055435972441975, 0.5797845819667875, 0.703...   \n",
       "6   [0.7885345843216978, 0.8369334825376417, 0.753...   \n",
       "7   [0.7258968340815948, 0.8091551131172967, 0.830...   \n",
       "8   [0.7886452278464151, 0.7705187068251009, 0.832...   \n",
       "9   [0.8948298741121811, 0.886841257128512, 0.8806...   \n",
       "10  [0.782122138462888, 0.701191695912584, 0.74998...   \n",
       "11  [0.7920226024203598, 0.7393825934200726, 0.824...   \n",
       "12  [0.6878070723992187, 0.7884461229433976, 0.835...   \n",
       "13  [0.8591883104037535, 0.8222403856236667, 0.791...   \n",
       "14  [0.7925431563679411, 0.786757867672201, 0.8733...   \n",
       "15  [0.32259465577846996, 0.5626738188730656, 0.54...   \n",
       "16  [0.6467843809450675, 0.6500912738627802, 0.547...   \n",
       "17  [0.5242414867100968, 0.6113590179264204, 0.611...   \n",
       "18  [0.49963424218948094, 0.6949946529884912, 0.52...   \n",
       "19  [0.7754019969881936, 0.8823829946980226, 0.867...   \n",
       "20  [0.8385465347233575, 0.7173559755456237, 0.797...   \n",
       "21  [0.755374030679375, 0.7784305784795088, 0.8179...   \n",
       "22  [0.7767365238115509, 0.7973110758994173, 0.777...   \n",
       "23  [0.8196677140458796, 0.8250105922623024, 0.879...   \n",
       "24  [0.21385171720149146, 0.6065873491563634, 0.50...   \n",
       "25  [0.3690779385513415, 0.5658610927544436, 0.628...   \n",
       "26  [0.83033449752965, 0.7659100207891714, 0.73110...   \n",
       "27  [0.5339610524461895, 0.8477958506123089, 0.681...   \n",
       "28  [0.9028954688835444, 0.8608926382094495, 0.882...   \n",
       "29  [0.7878611411500789, 0.7747357366790538, 0.801...   \n",
       "30  [0.3566951157055728, 0.6775084137884392, 0.749...   \n",
       "31  [0.898276444079406, 0.9196289583118382, 0.8170...   \n",
       "32  [0.8384932813471385, 0.7790956873917546, 0.783...   \n",
       "33  [0.8300044274835072, 0.7831826310589018, 0.814...   \n",
       "34  [0.27572064002417906, 0.5579709636273288, 0.68...   \n",
       "35  [0.7008430119225388, 0.7681989583149258, 0.681...   \n",
       "36  [0.6633220147138674, 0.7029432060320577, 0.790...   \n",
       "37  [0.5431783841296949, 0.6666694153103655, 0.644...   \n",
       "38  [0.22433815316173106, 0.5280571924174873, 0.56...   \n",
       "39  [0.9155415694598515, 0.8561215311098807, 0.859...   \n",
       "40  [0.7415081672008496, 0.837564163157176, 0.7593...   \n",
       "41  [0.8035808346337634, 0.8283643760174982, 0.834...   \n",
       "42  [0.776556082126836, 0.7705097900314504, 0.8103...   \n",
       "43  [0.713244493309687, 0.8008984891762246, 0.8286...   \n",
       "44  [0.6760339231861761, 0.7010564800775454, 0.742...   \n",
       "45  [0.7581930423112823, 0.886171552087099, 0.8560...   \n",
       "46  [0.7412336361555415, 0.6405198049014645, 0.790...   \n",
       "47  [0.5433512931184391, 0.6972197492829146, 0.742...   \n",
       "48  [0.01596817570596145, 0.4287552482545748, 0.53...   \n",
       "49  [0.014204569325466085, 0.49575586115897385, 0....   \n",
       "\n",
       "                                          recall_test  averaged_recall_train  \\\n",
       "0   [0.2570538163807547, 0.4941118667917449, 0.519...               0.640481   \n",
       "1   [0.16741115828835823, 0.516666353971232, 0.509...               0.510565   \n",
       "2   [0.3645774175879614, 0.4733657754846779, 0.443...               0.817665   \n",
       "3   [0.2713002439397715, 0.47063899312070046, 0.46...               0.779778   \n",
       "4   [0.2920378099781937, 0.39994895247029394, 0.53...               0.839087   \n",
       "5   [0.19968375000085797, 0.4459131488430269, 0.50...               0.624848   \n",
       "6   [0.3446818092588665, 0.46774734208880553, 0.42...               0.783463   \n",
       "7   [0.20313271964017168, 0.5238135553470918, 0.46...               0.792901   \n",
       "8   [0.2931055097853893, 0.4918040963101939, 0.530...               0.810321   \n",
       "9   [0.30792815410898494, 0.46256793308317706, 0.5...               0.893197   \n",
       "10  [0.4206450847920643, 0.4589517667292057, 0.474...               0.761010   \n",
       "11  [0.3011599150809552, 0.40940501876172614, 0.50...               0.773545   \n",
       "12  [0.2461826668917996, 0.5392266260162601, 0.523...               0.773144   \n",
       "13  [0.34799889080846746, 0.48527141963727327, 0.4...               0.817794   \n",
       "14  [0.22733058060273853, 0.3897349124452783, 0.53...               0.814990   \n",
       "15  [0.22721936973760343, 0.49315009380863034, 0.4...               0.517251   \n",
       "16  [0.4034789473250706, 0.4946339118198875, 0.416...               0.619961   \n",
       "17  [0.3100518337695284, 0.46829471544715445, 0.49...               0.583723   \n",
       "18  [0.3056785235535037, 0.5434576297686053, 0.426...               0.591339   \n",
       "19  [0.25678449767557104, 0.5354512976860537, 0.51...               0.824042   \n",
       "20  [0.37717651383023193, 0.41681183552220136, 0.5...               0.805399   \n",
       "21  [0.23395607814309258, 0.48019871794871793, 0.4...               0.796000   \n",
       "22  [0.3511575899656604, 0.4867244371482176, 0.488...               0.808712   \n",
       "23  [0.24225115432107663, 0.4418696841776111, 0.53...               0.857684   \n",
       "24  [0.1331750109992539, 0.5435408849280801, 0.440...               0.433617   \n",
       "25  [0.16418362370677259, 0.43546779237023137, 0.5...               0.541127   \n",
       "26  [0.4068733496829264, 0.47268363039399625, 0.46...               0.780486   \n",
       "27  [0.1761724672716428, 0.5577627423389618, 0.399...               0.703162   \n",
       "28  [0.3246034262761709, 0.46091674484052536, 0.47...               0.876082   \n",
       "29  [0.33983153295623564, 0.49312625078173855, 0.4...               0.766773   \n",
       "30  [0.10931345093783654, 0.5262324890556598, 0.57...               0.581834   \n",
       "31  [0.3173037053586443, 0.5447016885553471, 0.422...               0.867969   \n",
       "32  [0.4248087828613435, 0.5239967948717948, 0.497...               0.796489   \n",
       "33  [0.29489395243517647, 0.45364407442151344, 0.5...               0.817544   \n",
       "34  [0.1384189868057, 0.4420479205753596, 0.537456...               0.544633   \n",
       "35  [0.3144624144683602, 0.5224642745465916, 0.425...               0.723080   \n",
       "36  [0.2629207257517072, 0.4430067229518449, 0.499...               0.735845   \n",
       "37  [0.3017974256598008, 0.47922420262664167, 0.49...               0.622297   \n",
       "38  [0.1781071347921673, 0.4580382270168856, 0.494...               0.421304   \n",
       "39  [0.3239494082367081, 0.47182160725453404, 0.44...               0.873626   \n",
       "40  [0.223810476163021, 0.4980186835522201, 0.4742...               0.780259   \n",
       "41  [0.3188431547576149, 0.5254118198874297, 0.456...               0.820777   \n",
       "42  [0.27519210085406376, 0.3847284240150094, 0.52...               0.797194   \n",
       "43  [0.24344000893667928, 0.477775406504065, 0.491...               0.783223   \n",
       "44  [0.3062509223243328, 0.4717248280175109, 0.511...               0.686020   \n",
       "45  [0.2682303967899339, 0.5515762976860538, 0.507...               0.827417   \n",
       "46  [0.35792910646248205, 0.3933642901813633, 0.50...               0.684282   \n",
       "47  [0.24483938515371842, 0.48926633833646027, 0.5...               0.655351   \n",
       "48  [0.029946524064171122, 0.41183075359599747, 0....               0.308294   \n",
       "49  [0.004545454545454545, 0.46715353345841154, 0....               0.319154   \n",
       "\n",
       "    averaged_recall_test                                    precision_train  \\\n",
       "0               0.423470  [0.6487496570260732, 0.6525686713144413, 0.728...   \n",
       "1               0.424740  [0.60316803048649, 0.5788547136527008, 0.62885...   \n",
       "2               0.445522  [0.6794599904920154, 0.8371888719636378, 0.900...   \n",
       "3               0.433170  [0.756708221527661, 0.8043124359356113, 0.8207...   \n",
       "4               0.425725  [0.7973990326914575, 0.8742517190506254, 0.852...   \n",
       "5               0.434031  [0.6271560281992667, 0.675939064366698, 0.7406...   \n",
       "6               0.424350  [0.7543510713765418, 0.8210543603984559, 0.853...   \n",
       "7               0.415738  [0.8701022720398868, 0.8101061081094187, 0.847...   \n",
       "8               0.429834  [0.7561053945384242, 0.8428485490648185, 0.825...   \n",
       "9               0.439225  [0.882400318643571, 0.8789470808017198, 0.9161...   \n",
       "10              0.461946  [0.6607651693007192, 0.7930878113792693, 0.839...   \n",
       "11              0.427185  [0.7458929528454601, 0.8062123901056703, 0.809...   \n",
       "12              0.438805  [0.8131170167179211, 0.7527571738567499, 0.817...   \n",
       "13              0.450723  [0.7276041608675737, 0.811038285629774, 0.8938...   \n",
       "14              0.416185  [0.7880509491366918, 0.8585448068346118, 0.814...   \n",
       "15              0.430521  [0.5715326916171073, 0.6131839454263575, 0.644...   \n",
       "16              0.469402  [0.5550319515841667, 0.6853694507056117, 0.774...   \n",
       "17              0.451651  [0.5440120114154693, 0.6260908160068455, 0.695...   \n",
       "18              0.446360  [0.5813907104561119, 0.6292483928861685, 0.747...   \n",
       "19              0.423949  [0.8546599672350201, 0.7788627680328855, 0.861...   \n",
       "20              0.452895  [0.7220854733642023, 0.8785861014872024, 0.853...   \n",
       "21              0.441617  [0.7495646455000039, 0.8164969131970988, 0.856...   \n",
       "22              0.446636  [0.7769343974798002, 0.7922501133083963, 0.890...   \n",
       "23              0.433512  [0.8851237330513735, 0.8876165258396551, 0.880...   \n",
       "24              0.366417  [0.4975850296514344, 0.49018677388496795, 0.60...   \n",
       "25              0.388797  [0.6493343952885534, 0.5945571399321399, 0.637...   \n",
       "26              0.474320  [0.6533699683806196, 0.7871430417122033, 0.883...   \n",
       "27              0.418907  [0.8154528059336471, 0.6796261630817227, 0.838...   \n",
       "28              0.439315  [0.7973730202223402, 0.8462408249066756, 0.926...   \n",
       "29              0.432935  [0.7032418622527151, 0.7894642034324313, 0.812...   \n",
       "30              0.411634  [0.7433924954654205, 0.603842043930952, 0.6493...   \n",
       "31              0.444465  [0.7648424778783015, 0.8156206407537349, 0.934...   \n",
       "32              0.487198  [0.7168794963274476, 0.8148330555891239, 0.864...   \n",
       "33              0.464980  [0.7981125035535677, 0.8195303061587248, 0.868...   \n",
       "34              0.399640  [0.6532431077694236, 0.6027465440751183, 0.628...   \n",
       "35              0.446547  [0.6837916396558746, 0.7382407907168409, 0.831...   \n",
       "36              0.414678  [0.7477401939951006, 0.7875064765231082, 0.807...   \n",
       "37              0.461248  [0.634980910028389, 0.6921385661542285, 0.7296...   \n",
       "38              0.355149  [0.5005248873690495, 0.5417985665629157, 0.553...   \n",
       "39              0.438859  [0.8061643045814693, 0.8685759674316376, 0.926...   \n",
       "40              0.431093  [0.7924687231110374, 0.7697798107795115, 0.869...   \n",
       "41              0.441817  [0.7320135246425161, 0.7840053816393128, 0.894...   \n",
       "42              0.432165  [0.7328248226907839, 0.8454150501961353, 0.844...   \n",
       "43              0.431160  [0.8218026334576788, 0.8080594634595863, 0.859...   \n",
       "44              0.443595  [0.6455795107569335, 0.7265133187497105, 0.798...   \n",
       "45              0.441740  [0.8584402399176208, 0.7808746080077051, 0.887...   \n",
       "46              0.428275  [0.5950310736753218, 0.7389491560317094, 0.770...   \n",
       "47              0.442064  [0.7015823392293979, 0.6924544966356843, 0.735...   \n",
       "48              0.304243  [0.08288854003139719, 0.4147094079663335, 0.38...   \n",
       "49              0.308183  [0.1371794871794872, 0.4228206576658812, 0.412...   \n",
       "\n",
       "                                       precision_test  \\\n",
       "0   [0.338262599469496, 0.4652747643504854, 0.5134...   \n",
       "1   [0.3967332358044433, 0.5077873906562503, 0.535...   \n",
       "2   [0.2723646723646723, 0.4965478846139105, 0.519...   \n",
       "3   [0.3081515151515152, 0.5157683723917332, 0.489...   \n",
       "4   [0.3013717239596182, 0.471537895989515, 0.5000...   \n",
       "5   [0.2538946475116688, 0.5780809766450913, 0.523...   \n",
       "6   [0.3132411750868308, 0.470925249865342, 0.4953...   \n",
       "7   [0.3399095408772828, 0.4867223780191221, 0.499...   \n",
       "8   [0.30391348186697026, 0.5459832234228942, 0.50...   \n",
       "9   [0.3432608695652174, 0.49983327884929707, 0.51...   \n",
       "10  [0.35401684532119315, 0.5016881861390186, 0.54...   \n",
       "11  [0.30021723690234675, 0.5205471555471555, 0.48...   \n",
       "12  [0.31360757522047844, 0.49041392428539765, 0.5...   \n",
       "13  [0.31874535905861207, 0.4607170148346619, 0.55...   \n",
       "14  [0.23434456547558452, 0.4797105750724012, 0.47...   \n",
       "15  [0.4247979797979798, 0.5491411688946508, 0.551...   \n",
       "16  [0.34538173547319884, 0.5133246222529673, 0.62...   \n",
       "17  [0.3102790146158798, 0.4876136569696454, 0.585...   \n",
       "18  [0.3309883299533231, 0.4979103390888288, 0.608...   \n",
       "19  [0.3074650967199327, 0.4676494217798323, 0.503...   \n",
       "20  [0.3196249736453721, 0.5452955236853542, 0.523...   \n",
       "21  [0.24751264350133645, 0.48136544630910355, 0.5...   \n",
       "22  [0.32732593665455145, 0.4303357562522098, 0.57...   \n",
       "23  [0.36373347373347376, 0.48895000056630195, 0.5...   \n",
       "24  [0.3378246753246753, 0.4262289609362028, 0.537...   \n",
       "25  [0.2932430340557276, 0.44890147549528014, 0.50...   \n",
       "26  [0.3049855444894748, 0.4817669669893057, 0.606...   \n",
       "27  [0.39650869058477756, 0.4205146497193157, 0.54...   \n",
       "28  [0.283964861863167, 0.44094332855093255, 0.532...   \n",
       "29  [0.2919510035769244, 0.4711219504982398, 0.492...   \n",
       "30  [0.34095238095238095, 0.47682825831514775, 0.4...   \n",
       "31  [0.25656829620244254, 0.4636793697920303, 0.51...   \n",
       "32  [0.3914300308674453, 0.5269409092245845, 0.551...   \n",
       "33  [0.3129010137149672, 0.4966269513414793, 0.544...   \n",
       "34  [0.33285714285714285, 0.5064771277565153, 0.48...   \n",
       "35  [0.3297819356575582, 0.4802581228753593, 0.544...   \n",
       "36  [0.3447019211725094, 0.5012976106610135, 0.521...   \n",
       "37  [0.34794258373205744, 0.5263795682335008, 0.57...   \n",
       "38  [0.41375390736004547, 0.4827499798040057, 0.49...   \n",
       "39  [0.29544505494505496, 0.4883921395770942, 0.52...   \n",
       "40  [0.2668469889122861, 0.46304202814702167, 0.55...   \n",
       "41  [0.2723933535575446, 0.4660750828858534, 0.520...   \n",
       "42  [0.2613108424454281, 0.5126838166096477, 0.511...   \n",
       "43  [0.3615063680281071, 0.49615216400759643, 0.53...   \n",
       "44  [0.3112486772486773, 0.5239598740850305, 0.537...   \n",
       "45  [0.361092132328355, 0.476271498139056, 0.51060...   \n",
       "46  [0.2977614299726691, 0.4699443527350504, 0.506...   \n",
       "47  [0.3146480812580641, 0.5137507559104473, 0.508...   \n",
       "48  [0.12380952380952381, 0.41425740121392296, 0.3...   \n",
       "49  [0.2, 0.40652221019434515, 0.3951561602328041,...   \n",
       "\n",
       "   averaged_precision_train  averaged_precision_test  f1_train_average  \\\n",
       "0                  0.664621                 0.411867          0.652327   \n",
       "1                  0.537513                 0.441306          0.523693   \n",
       "2                  0.835924                 0.460676          0.826694   \n",
       "3                  0.815004                 0.455181          0.797002   \n",
       "4                  0.858667                 0.459272          0.848764   \n",
       "5                  0.672696                 0.427897          0.647889   \n",
       "6                  0.855350                 0.489643          0.817830   \n",
       "7                  0.843545                 0.456906          0.817439   \n",
       "8                  0.834669                 0.438648          0.822315   \n",
       "9                  0.897109                 0.437982          0.895149   \n",
       "10                 0.796442                 0.462468          0.778323   \n",
       "11                 0.824308                 0.456265          0.798120   \n",
       "12                 0.823993                 0.457020          0.797759   \n",
       "13                 0.848216                 0.468537          0.832727   \n",
       "14                 0.849023                 0.434434          0.831659   \n",
       "15                 0.553678                 0.438613          0.534845   \n",
       "16                 0.717104                 0.461219          0.665004   \n",
       "17                 0.668345                 0.429494          0.623174   \n",
       "18                 0.699971                 0.439720          0.641085   \n",
       "19                 0.879544                 0.435297          0.850889   \n",
       "20                 0.852059                 0.489536          0.828072   \n",
       "21                 0.853554                 0.464958          0.823773   \n",
       "22                 0.838120                 0.438174          0.823154   \n",
       "23                 0.873127                 0.451633          0.865337   \n",
       "24                 0.460353                 0.384063          0.446585   \n",
       "25                 0.631594                 0.407648          0.582871   \n",
       "26                 0.810079                 0.472884          0.795007   \n",
       "27                 0.785045                 0.463269          0.741851   \n",
       "28                 0.887819                 0.421210          0.881911   \n",
       "29                 0.821039                 0.439846          0.792979   \n",
       "30                 0.692254                 0.421626          0.632259   \n",
       "31                 0.861922                 0.457997          0.864935   \n",
       "32                 0.841873                 0.511624          0.818553   \n",
       "33                 0.844113                 0.486241          0.830616   \n",
       "34                 0.614685                 0.398514          0.577542   \n",
       "35                 0.772537                 0.468911          0.746991   \n",
       "36                 0.801933                 0.464120          0.767469   \n",
       "37                 0.720517                 0.486562          0.667815   \n",
       "38                 0.484626                 0.397823          0.450752   \n",
       "39                 0.901294                 0.478735          0.887244   \n",
       "40                 0.817990                 0.464507          0.798680   \n",
       "41                 0.841815                 0.450346          0.831163   \n",
       "42                 0.846027                 0.452175          0.820885   \n",
       "43                 0.847007                 0.459847          0.813867   \n",
       "44                 0.750503                 0.434253          0.716814   \n",
       "45                 0.864359                 0.450607          0.845484   \n",
       "46                 0.749535                 0.454729          0.715424   \n",
       "47                 0.728639                 0.452192          0.690054   \n",
       "48                 0.290033                 0.291720          0.298885   \n",
       "49                 0.304286                 0.305190          0.311542   \n",
       "\n",
       "   f1_test_average  \n",
       "0         0.417588  \n",
       "1         0.432865  \n",
       "2         0.452972  \n",
       "3         0.443903  \n",
       "4         0.441863  \n",
       "5         0.430942  \n",
       "6         0.454664  \n",
       "7         0.435351  \n",
       "8         0.434196  \n",
       "9         0.438603  \n",
       "10        0.462207  \n",
       "11        0.441246  \n",
       "12        0.447727  \n",
       "13        0.459457  \n",
       "14        0.425114  \n",
       "15        0.434529  \n",
       "16        0.465274  \n",
       "17        0.440294  \n",
       "18        0.443015  \n",
       "19        0.429548  \n",
       "20        0.470503  \n",
       "21        0.452987  \n",
       "22        0.442364  \n",
       "23        0.442387  \n",
       "24        0.375033  \n",
       "25        0.397999  \n",
       "26        0.473601  \n",
       "27        0.439973  \n",
       "28        0.430072  \n",
       "29        0.436363  \n",
       "30        0.416570  \n",
       "31        0.451129  \n",
       "32        0.499112  \n",
       "33        0.475373  \n",
       "34        0.399076  \n",
       "35        0.457456  \n",
       "36        0.438008  \n",
       "37        0.473567  \n",
       "38        0.375277  \n",
       "39        0.457930  \n",
       "40        0.447177  \n",
       "41        0.446041  \n",
       "42        0.441944  \n",
       "43        0.445042  \n",
       "44        0.438874  \n",
       "45        0.446129  \n",
       "46        0.441106  \n",
       "47        0.447071  \n",
       "48        0.297850  \n",
       "49        0.306680  \n",
       "\n",
       "[50 rows x 25 columns]"
      ]
     },
     "execution_count": 25,
     "metadata": {},
     "output_type": "execute_result"
    }
   ],
   "source": [
    "metrics_under_cnn"
   ]
  },
  {
   "cell_type": "code",
   "execution_count": null,
   "metadata": {},
   "outputs": [],
   "source": []
  }
 ],
 "metadata": {
  "kernelspec": {
   "display_name": "aca",
   "language": "python",
   "name": "python3"
  },
  "language_info": {
   "codemirror_mode": {
    "name": "ipython",
    "version": 3
   },
   "file_extension": ".py",
   "mimetype": "text/x-python",
   "name": "python",
   "nbconvert_exporter": "python",
   "pygments_lexer": "ipython3",
   "version": "3.12.3"
  }
 },
 "nbformat": 4,
 "nbformat_minor": 2
}
