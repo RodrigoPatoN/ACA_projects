{
 "cells": [
  {
   "cell_type": "code",
   "execution_count": 32,
   "metadata": {},
   "outputs": [],
   "source": [
    "import pandas as pd\n",
    "import numpy as np\n",
    "import plotly.express as px\n",
    "import plotly.graph_objects as go"
   ]
  },
  {
   "cell_type": "markdown",
   "metadata": {},
   "source": [
    "## DNN"
   ]
  },
  {
   "cell_type": "code",
   "execution_count": 33,
   "metadata": {},
   "outputs": [],
   "source": [
    "data_dnn = pd.read_json('results_dnn.json').T"
   ]
  },
  {
   "cell_type": "code",
   "execution_count": 34,
   "metadata": {},
   "outputs": [],
   "source": [
    "metrics_dnn = []\n",
    "\n",
    "for i, row in data_dnn.iterrows():\n",
    "\n",
    "    accuracy_fold_train = []\n",
    "    accuracy_fold_test = []\n",
    "\n",
    "    recall_fold_train = []\n",
    "    recall_fold_test = []\n",
    "\n",
    "    precision_fold_train = []\n",
    "    precision_fold_test = []\n",
    "\n",
    "    for iteration in row[\"results\"]:\n",
    "        \n",
    "        loss = iteration[\"loss_values\"]\n",
    "        conf_mat_train = np.array(iteration[\"confusion_matrix_train\"])\n",
    "        conf_mat_test = np.array(iteration[\"confusion_matrix_val\"])\n",
    "        \n",
    "        # Compute accuracy (7 classes)\n",
    "        total_train = conf_mat_train.sum()\n",
    "        total_test = conf_mat_test.sum()\n",
    "\n",
    "        accuracy_train = conf_mat_train.diagonal().sum() / total_train if total_train > 0 else 0\n",
    "        accuracy_test = conf_mat_test.diagonal().sum() / total_test if total_test > 0 else 0\n",
    "\n",
    "        # Compute recall and precision (per class)\n",
    "        recall_train = np.array([\n",
    "            conf_mat_train[i, i] / conf_mat_train[i, :].sum() if conf_mat_train[i, :].sum() > 0 else 0\n",
    "            for i in range(7)\n",
    "        ])\n",
    "        recall_test = np.array([\n",
    "            conf_mat_test[i, i] / conf_mat_test[i, :].sum() if conf_mat_test[i, :].sum() > 0 else 0\n",
    "            for i in range(7)\n",
    "        ])\n",
    "\n",
    "        precision_train = np.array([\n",
    "            conf_mat_train[i, i] / conf_mat_train[:, i].sum() if conf_mat_train[:, i].sum() > 0 else 0\n",
    "            for i in range(7)\n",
    "        ])\n",
    "        precision_test = np.array([\n",
    "            conf_mat_test[i, i] / conf_mat_test[:, i].sum() if conf_mat_test[:, i].sum() > 0 else 0\n",
    "            for i in range(7)\n",
    "        ])\n",
    "\n",
    "        accuracy_fold_train.append(accuracy_train)\n",
    "        accuracy_fold_test.append(accuracy_test)\n",
    "\n",
    "        recall_fold_train.append(recall_train)\n",
    "        recall_fold_test.append(recall_test)\n",
    "\n",
    "        precision_fold_train.append(precision_train)\n",
    "        precision_fold_test.append(precision_test)\n",
    "\n",
    "    # Compute mean across folds\n",
    "    accuracy_train = np.mean(accuracy_fold_train)\n",
    "    accuracy_test = np.mean(accuracy_fold_test)\n",
    "\n",
    "    recall_train = np.mean(recall_fold_train, axis=0)\n",
    "    recall_test = np.mean(recall_fold_test, axis=0)\n",
    "\n",
    "    precision_train = np.mean(precision_fold_train, axis=0)\n",
    "    precision_test = np.mean(precision_fold_test, axis=0)\n",
    "\n",
    "    average_recall_train = np.mean(recall_train)\n",
    "    average_recall_test = np.mean(recall_test)\n",
    "\n",
    "    average_precision_train = np.mean(precision_train)\n",
    "    average_precision_test = np.mean(precision_test)\n",
    "\n",
    "    f1_train_average = 2 * (average_precision_train * average_recall_train) / (average_precision_train + average_recall_train)\n",
    "    f1_test_average = 2 * (average_precision_test * average_recall_test) / (average_precision_test + average_recall_test) \n",
    "\n",
    "    row = row.drop(\"results\")\n",
    "    row_dict = row.to_dict()\n",
    "\n",
    "    metrics_dnn.append({\n",
    "        **row_dict,\n",
    "        \"iteration\": i,\n",
    "        \"accuracy_train\": accuracy_train,\n",
    "        \"accuracy_test\": accuracy_test,\n",
    "        \"recall_train\": recall_train.tolist(),  # Convert to list for DataFrame compatibility\n",
    "        \"recall_test\": recall_test.tolist(),\n",
    "        \"averaged_recall_train\": average_recall_train,\n",
    "        \"averaged_recall_test\": average_recall_test,\n",
    "        \"precision_train\": precision_train.tolist(),\n",
    "        \"precision_test\": precision_test.tolist(),\n",
    "        \"averaged_precision_train\": average_precision_train,\n",
    "        \"averaged_precision_test\": average_precision_test,\n",
    "        \"f1_train_average\": f1_train_average,\n",
    "        \"f1_test_average\": f1_test_average\n",
    "    })\n",
    "\n",
    "metrics_dnn = pd.DataFrame(metrics_dnn)\n",
    "#metrics_dnn\n"
   ]
  },
  {
   "cell_type": "markdown",
   "metadata": {},
   "source": [
    "## CNN"
   ]
  },
  {
   "cell_type": "code",
   "execution_count": 35,
   "metadata": {},
   "outputs": [],
   "source": [
    "def get_metrics(data : pd.DataFrame):\n",
    "\n",
    "    metrics_cnn = []\n",
    "\n",
    "    for i, row in data.iterrows():\n",
    "\n",
    "        accuracy_fold_train = []\n",
    "        accuracy_fold_test = []\n",
    "\n",
    "        recall_fold_train = []\n",
    "        recall_fold_test = []\n",
    "\n",
    "        precision_fold_train = []\n",
    "        precision_fold_test = []\n",
    "\n",
    "        for iteration in row[\"results\"]:\n",
    "            \n",
    "            loss = iteration[\"loss_values\"]\n",
    "            conf_mat_train = np.array(iteration[\"confusion_matrix_train\"])\n",
    "            conf_mat_test = np.array(iteration[\"confusion_matrix_val\"])\n",
    "            \n",
    "            # Compute accuracy (7 classes)\n",
    "            total_train = conf_mat_train.sum()\n",
    "            total_test = conf_mat_test.sum()\n",
    "\n",
    "            accuracy_train = conf_mat_train.diagonal().sum() / total_train if total_train > 0 else 0\n",
    "            accuracy_test = conf_mat_test.diagonal().sum() / total_test if total_test > 0 else 0\n",
    "\n",
    "            # Compute recall and precision (per class)\n",
    "            recall_train = np.array([\n",
    "                conf_mat_train[i, i] / conf_mat_train[i, :].sum() if conf_mat_train[i, :].sum() > 0 else 0\n",
    "                for i in range(7)\n",
    "            ])\n",
    "            recall_test = np.array([\n",
    "                conf_mat_test[i, i] / conf_mat_test[i, :].sum() if conf_mat_test[i, :].sum() > 0 else 0\n",
    "                for i in range(7)\n",
    "            ])\n",
    "\n",
    "            precision_train = np.array([\n",
    "                conf_mat_train[i, i] / conf_mat_train[:, i].sum() if conf_mat_train[:, i].sum() > 0 else 0\n",
    "                for i in range(7)\n",
    "            ])\n",
    "            precision_test = np.array([\n",
    "                conf_mat_test[i, i] / conf_mat_test[:, i].sum() if conf_mat_test[:, i].sum() > 0 else 0\n",
    "                for i in range(7)\n",
    "            ])\n",
    "\n",
    "            accuracy_fold_train.append(accuracy_train)\n",
    "            accuracy_fold_test.append(accuracy_test)\n",
    "\n",
    "            recall_fold_train.append(recall_train)\n",
    "            recall_fold_test.append(recall_test)\n",
    "\n",
    "            precision_fold_train.append(precision_train)\n",
    "            precision_fold_test.append(precision_test)\n",
    "\n",
    "        # Compute mean across folds\n",
    "        accuracy_train = np.mean(accuracy_fold_train)\n",
    "        accuracy_test = np.mean(accuracy_fold_test)\n",
    "\n",
    "        recall_train = np.mean(recall_fold_train, axis=0)\n",
    "        recall_test = np.mean(recall_fold_test, axis=0)\n",
    "\n",
    "        precision_train = np.mean(precision_fold_train, axis=0)\n",
    "        precision_test = np.mean(precision_fold_test, axis=0)\n",
    "\n",
    "        average_recall_train = np.mean(recall_train)\n",
    "        average_recall_test = np.mean(recall_test)\n",
    "\n",
    "        average_precision_train = np.mean(precision_train)\n",
    "        average_precision_test = np.mean(precision_test)\n",
    "\n",
    "        f1_train_average = 2 * (average_precision_train * average_recall_train) / (average_precision_train + average_recall_train)\n",
    "        f1_test_average = 2 * (average_precision_test * average_recall_test) / (average_precision_test + average_recall_test) \n",
    "\n",
    "        row = row.drop(\"results\")\n",
    "        row_dict = row.to_dict()\n",
    "\n",
    "        metrics_cnn.append({\n",
    "            **row_dict,\n",
    "            \"iteration\": i,\n",
    "            \"accuracy_train\": accuracy_train,\n",
    "            \"accuracy_test\": accuracy_test,\n",
    "            \"recall_train\": recall_train.tolist(),  # Convert to list for DataFrame compatibility\n",
    "            \"recall_test\": recall_test.tolist(),\n",
    "            \"averaged_recall_train\": average_recall_train,\n",
    "            \"averaged_recall_test\": average_recall_test,\n",
    "            \"precision_train\": precision_train.tolist(),\n",
    "            \"precision_test\": precision_test.tolist(),\n",
    "            \"averaged_precision_train\": average_precision_train,\n",
    "            \"averaged_precision_test\": average_precision_test,\n",
    "            \"f1_train_average\": f1_train_average,\n",
    "            \"f1_test_average\": f1_test_average\n",
    "        })\n",
    "\n",
    "    metrics_cnn = pd.DataFrame(metrics_cnn)\n",
    "    return metrics_cnn\n"
   ]
  },
  {
   "cell_type": "code",
   "execution_count": 36,
   "metadata": {},
   "outputs": [],
   "source": [
    "data_cnn = pd.read_json('results_cnn_1.json').T"
   ]
  },
  {
   "cell_type": "code",
   "execution_count": 37,
   "metadata": {},
   "outputs": [],
   "source": [
    "metrics_cnn = get_metrics(data_cnn)"
   ]
  },
  {
   "cell_type": "code",
   "execution_count": 38,
   "metadata": {},
   "outputs": [],
   "source": [
    "# get 50 best performances in terms of test accuracy\n",
    "best_cnn = metrics_cnn.sort_values(by=\"accuracy_test\", ascending=False).head(50)\n",
    "data_cnn_50_best = data_cnn.loc[best_cnn.index]\n",
    "data_cnn_50_best.to_csv(\"data_cnn_50_best.csv\")"
   ]
  },
  {
   "cell_type": "markdown",
   "metadata": {},
   "source": [
    "## Impact of the different Hyper-parameters"
   ]
  },
  {
   "cell_type": "code",
   "execution_count": 39,
   "metadata": {},
   "outputs": [],
   "source": [
    "metrics_dnn[\"model\"] = \"DNN\"\n",
    "metrics_cnn[\"model\"] = \"CNN\"\n",
    "\n",
    "metrics_all = pd.concat([metrics_cnn, metrics_dnn], ignore_index=True)\n",
    "metrics_all[\"learning_rate\"] = metrics_all[\"learning_rate\"].astype(str)\n",
    "metrics_all[\"batch_size\"] = metrics_all[\"batch_size\"].astype(str)"
   ]
  },
  {
   "cell_type": "code",
   "execution_count": 40,
   "metadata": {},
   "outputs": [],
   "source": [
    "import pandas as pd\n",
    "import plotly.graph_objects as go\n",
    "from plotly.subplots import make_subplots\n",
    "\n",
    "# Define hyperparameters and metrics\n",
    "hyperparameters = ['activation_function', 'n_layers', 'batch_size', \n",
    "                'learning_rate', 'loss_function', 'optimizer',\n",
    "                'pooling', 'n_conv_layers']\n",
    "\n",
    "metrics = ['accuracy_train', 'accuracy_test']\n",
    "\n",
    "metrics_to_str = {\n",
    "    'accuracy_train': 'Accuracy (Train)',\n",
    "    'accuracy_test': 'Accuracy (Validation)'\n",
    "}\n",
    "\n",
    "# Grid layout settings\n",
    "params_per_row = 2  # Two parameters per row\n",
    "n_rows = -(-len(hyperparameters) // params_per_row)  # Ceiling division for rows\n",
    "\n",
    "# Create subplots\n",
    "fig = make_subplots(\n",
    "    rows=n_rows, cols=params_per_row * 2,  # Each parameter has 2 charts (train & test)\n",
    "    subplot_titles=[f\"{param} - {metrics_to_str[metric]}\" for param in hyperparameters for metric in metrics],\n",
    "    shared_yaxes=False,\n",
    "    horizontal_spacing=0.05, vertical_spacing=0.05\n",
    ")\n",
    "\n",
    "# Loop through each hyperparameter\n",
    "for i, param in enumerate(hyperparameters):\n",
    "    row = i // params_per_row + 1  # Compute row index\n",
    "\n",
    "    df_grouped = metrics_all.groupby([param, \"model\"])[metrics].mean().reset_index()\n",
    "\n",
    "    # Add plots for accuracy_train and accuracy_test\n",
    "    for j, metric in enumerate(metrics):\n",
    "\n",
    "        col = i % params_per_row * 2 + j + 1  # Compute column index\n",
    "\n",
    "        for model, color in zip([\"DNN\", \"CNN\"], [\"#636EFA\", \"#EF553B\"]):\n",
    "\n",
    "            df_subset = df_grouped[df_grouped[\"model\"] == model]\n",
    "            \n",
    "            fig.add_trace(\n",
    "                go.Bar(\n",
    "                    x=df_subset[param], \n",
    "                    y=df_subset[metric], \n",
    "                    name=f\"{model}\",\n",
    "                    marker_color=color,\n",
    "                    legendgroup=model,\n",
    "                    showlegend=(i == 0 and j == 0)  # Show legend only once\n",
    "                ),\n",
    "                row=row, col=col\n",
    "            )\n",
    "\n",
    "# Update layout\n",
    "fig.update_layout(\n",
    "    title_text=\"Impact of Hyperparameters on Accuracy (CNN vs. DNN)\",\n",
    "    height=300 * n_rows, width=1400,\n",
    "    showlegend=True\n",
    ")\n",
    "\n",
    "# Show figure\n",
    "#fig.show()\n",
    "\n",
    "a = 1\n"
   ]
  },
  {
   "cell_type": "markdown",
   "metadata": {},
   "source": [
    "## Overall Performance"
   ]
  },
  {
   "cell_type": "code",
   "execution_count": 41,
   "metadata": {},
   "outputs": [],
   "source": [
    "# get the configuration with the best test accuracy\n",
    "\n",
    "best_cnn = metrics_cnn.sort_values(by=\"accuracy_test\", ascending=False).head(1)\n",
    "best_dnn = metrics_dnn.sort_values(by=\"accuracy_test\", ascending=False).head(1)"
   ]
  },
  {
   "cell_type": "code",
   "execution_count": 50,
   "metadata": {},
   "outputs": [
    {
     "name": "stdout",
     "output_type": "stream",
     "text": [
      "Index(['n_epochs', 'activation_function', 'pooling', 'n_conv_layers',\n",
      "       'conv_out_channels', 'conv_kernel_size', 'conv_padding', 'n_layers',\n",
      "       'batch_size', 'learning_rate', 'loss_function', 'optimizer',\n",
      "       'iteration', 'accuracy_train', 'accuracy_test', 'recall_train',\n",
      "       'recall_test', 'averaged_recall_train', 'averaged_recall_test',\n",
      "       'precision_train', 'precision_test', 'averaged_precision_train',\n",
      "       'averaged_precision_test', 'f1_train_average', 'f1_test_average',\n",
      "       'model'],\n",
      "      dtype='object')\n"
     ]
    },
    {
     "data": {
      "text/html": [
       "<div>\n",
       "<style scoped>\n",
       "    .dataframe tbody tr th:only-of-type {\n",
       "        vertical-align: middle;\n",
       "    }\n",
       "\n",
       "    .dataframe tbody tr th {\n",
       "        vertical-align: top;\n",
       "    }\n",
       "\n",
       "    .dataframe thead th {\n",
       "        text-align: right;\n",
       "    }\n",
       "</style>\n",
       "<table border=\"1\" class=\"dataframe\">\n",
       "  <thead>\n",
       "    <tr style=\"text-align: right;\">\n",
       "      <th></th>\n",
       "      <th>n_epochs</th>\n",
       "      <th>activation_function</th>\n",
       "      <th>pooling</th>\n",
       "      <th>n_conv_layers</th>\n",
       "      <th>conv_out_channels</th>\n",
       "      <th>conv_kernel_size</th>\n",
       "      <th>conv_padding</th>\n",
       "      <th>n_layers</th>\n",
       "      <th>batch_size</th>\n",
       "      <th>learning_rate</th>\n",
       "      <th>loss_function</th>\n",
       "      <th>optimizer</th>\n",
       "    </tr>\n",
       "  </thead>\n",
       "  <tbody>\n",
       "    <tr>\n",
       "      <th>103</th>\n",
       "      <td>50</td>\n",
       "      <td>relu</td>\n",
       "      <td>MaxPool</td>\n",
       "      <td>2</td>\n",
       "      <td>16</td>\n",
       "      <td>3</td>\n",
       "      <td>1</td>\n",
       "      <td>3</td>\n",
       "      <td>64</td>\n",
       "      <td>0.1</td>\n",
       "      <td>Cross Entropy</td>\n",
       "      <td>SGD</td>\n",
       "    </tr>\n",
       "  </tbody>\n",
       "</table>\n",
       "</div>"
      ],
      "text/plain": [
       "     n_epochs activation_function  pooling  n_conv_layers  conv_out_channels  \\\n",
       "103        50                relu  MaxPool              2                 16   \n",
       "\n",
       "     conv_kernel_size  conv_padding  n_layers  batch_size  learning_rate  \\\n",
       "103                 3             1         3          64            0.1   \n",
       "\n",
       "     loss_function optimizer  \n",
       "103  Cross Entropy       SGD  "
      ]
     },
     "execution_count": 50,
     "metadata": {},
     "output_type": "execute_result"
    }
   ],
   "source": [
    "best_cnn_params = best_cnn.drop(columns=[\"iteration\", 'accuracy_train', 'accuracy_test', 'recall_train',\n",
    "       'recall_test', 'averaged_recall_train', 'averaged_recall_test',\n",
    "       'precision_train', 'precision_test', 'averaged_precision_train',\n",
    "       'averaged_precision_test', 'f1_train_average', 'f1_test_average',\n",
    "       \"model\"])\n",
    "\n",
    "print(best_cnn.columns)\n",
    "best_cnn_params"
   ]
  },
  {
   "cell_type": "code",
   "execution_count": 43,
   "metadata": {},
   "outputs": [
    {
     "data": {
      "application/vnd.plotly.v1+json": {
       "config": {
        "plotlyServerURL": "https://plot.ly"
       },
       "data": [
        {
         "marker": {
          "color": "#636EFA"
         },
         "name": "Train",
         "type": "bar",
         "x": [
          "CNN",
          "DNN"
         ],
         "y": [
          0.9732142857142858,
          0.5335204081632653
         ]
        },
        {
         "marker": {
          "color": "#EF553B"
         },
         "name": "Validation",
         "type": "bar",
         "x": [
          "CNN",
          "DNN"
         ],
         "y": [
          0.6538775510204081,
          0.4832653061224489
         ]
        }
       ],
       "layout": {
        "barmode": "group",
        "showlegend": true,
        "template": {
         "data": {
          "bar": [
           {
            "error_x": {
             "color": "#2a3f5f"
            },
            "error_y": {
             "color": "#2a3f5f"
            },
            "marker": {
             "line": {
              "color": "#E5ECF6",
              "width": 0.5
             },
             "pattern": {
              "fillmode": "overlay",
              "size": 10,
              "solidity": 0.2
             }
            },
            "type": "bar"
           }
          ],
          "barpolar": [
           {
            "marker": {
             "line": {
              "color": "#E5ECF6",
              "width": 0.5
             },
             "pattern": {
              "fillmode": "overlay",
              "size": 10,
              "solidity": 0.2
             }
            },
            "type": "barpolar"
           }
          ],
          "carpet": [
           {
            "aaxis": {
             "endlinecolor": "#2a3f5f",
             "gridcolor": "white",
             "linecolor": "white",
             "minorgridcolor": "white",
             "startlinecolor": "#2a3f5f"
            },
            "baxis": {
             "endlinecolor": "#2a3f5f",
             "gridcolor": "white",
             "linecolor": "white",
             "minorgridcolor": "white",
             "startlinecolor": "#2a3f5f"
            },
            "type": "carpet"
           }
          ],
          "choropleth": [
           {
            "colorbar": {
             "outlinewidth": 0,
             "ticks": ""
            },
            "type": "choropleth"
           }
          ],
          "contour": [
           {
            "colorbar": {
             "outlinewidth": 0,
             "ticks": ""
            },
            "colorscale": [
             [
              0,
              "#0d0887"
             ],
             [
              0.1111111111111111,
              "#46039f"
             ],
             [
              0.2222222222222222,
              "#7201a8"
             ],
             [
              0.3333333333333333,
              "#9c179e"
             ],
             [
              0.4444444444444444,
              "#bd3786"
             ],
             [
              0.5555555555555556,
              "#d8576b"
             ],
             [
              0.6666666666666666,
              "#ed7953"
             ],
             [
              0.7777777777777778,
              "#fb9f3a"
             ],
             [
              0.8888888888888888,
              "#fdca26"
             ],
             [
              1,
              "#f0f921"
             ]
            ],
            "type": "contour"
           }
          ],
          "contourcarpet": [
           {
            "colorbar": {
             "outlinewidth": 0,
             "ticks": ""
            },
            "type": "contourcarpet"
           }
          ],
          "heatmap": [
           {
            "colorbar": {
             "outlinewidth": 0,
             "ticks": ""
            },
            "colorscale": [
             [
              0,
              "#0d0887"
             ],
             [
              0.1111111111111111,
              "#46039f"
             ],
             [
              0.2222222222222222,
              "#7201a8"
             ],
             [
              0.3333333333333333,
              "#9c179e"
             ],
             [
              0.4444444444444444,
              "#bd3786"
             ],
             [
              0.5555555555555556,
              "#d8576b"
             ],
             [
              0.6666666666666666,
              "#ed7953"
             ],
             [
              0.7777777777777778,
              "#fb9f3a"
             ],
             [
              0.8888888888888888,
              "#fdca26"
             ],
             [
              1,
              "#f0f921"
             ]
            ],
            "type": "heatmap"
           }
          ],
          "histogram": [
           {
            "marker": {
             "pattern": {
              "fillmode": "overlay",
              "size": 10,
              "solidity": 0.2
             }
            },
            "type": "histogram"
           }
          ],
          "histogram2d": [
           {
            "colorbar": {
             "outlinewidth": 0,
             "ticks": ""
            },
            "colorscale": [
             [
              0,
              "#0d0887"
             ],
             [
              0.1111111111111111,
              "#46039f"
             ],
             [
              0.2222222222222222,
              "#7201a8"
             ],
             [
              0.3333333333333333,
              "#9c179e"
             ],
             [
              0.4444444444444444,
              "#bd3786"
             ],
             [
              0.5555555555555556,
              "#d8576b"
             ],
             [
              0.6666666666666666,
              "#ed7953"
             ],
             [
              0.7777777777777778,
              "#fb9f3a"
             ],
             [
              0.8888888888888888,
              "#fdca26"
             ],
             [
              1,
              "#f0f921"
             ]
            ],
            "type": "histogram2d"
           }
          ],
          "histogram2dcontour": [
           {
            "colorbar": {
             "outlinewidth": 0,
             "ticks": ""
            },
            "colorscale": [
             [
              0,
              "#0d0887"
             ],
             [
              0.1111111111111111,
              "#46039f"
             ],
             [
              0.2222222222222222,
              "#7201a8"
             ],
             [
              0.3333333333333333,
              "#9c179e"
             ],
             [
              0.4444444444444444,
              "#bd3786"
             ],
             [
              0.5555555555555556,
              "#d8576b"
             ],
             [
              0.6666666666666666,
              "#ed7953"
             ],
             [
              0.7777777777777778,
              "#fb9f3a"
             ],
             [
              0.8888888888888888,
              "#fdca26"
             ],
             [
              1,
              "#f0f921"
             ]
            ],
            "type": "histogram2dcontour"
           }
          ],
          "mesh3d": [
           {
            "colorbar": {
             "outlinewidth": 0,
             "ticks": ""
            },
            "type": "mesh3d"
           }
          ],
          "parcoords": [
           {
            "line": {
             "colorbar": {
              "outlinewidth": 0,
              "ticks": ""
             }
            },
            "type": "parcoords"
           }
          ],
          "pie": [
           {
            "automargin": true,
            "type": "pie"
           }
          ],
          "scatter": [
           {
            "fillpattern": {
             "fillmode": "overlay",
             "size": 10,
             "solidity": 0.2
            },
            "type": "scatter"
           }
          ],
          "scatter3d": [
           {
            "line": {
             "colorbar": {
              "outlinewidth": 0,
              "ticks": ""
             }
            },
            "marker": {
             "colorbar": {
              "outlinewidth": 0,
              "ticks": ""
             }
            },
            "type": "scatter3d"
           }
          ],
          "scattercarpet": [
           {
            "marker": {
             "colorbar": {
              "outlinewidth": 0,
              "ticks": ""
             }
            },
            "type": "scattercarpet"
           }
          ],
          "scattergeo": [
           {
            "marker": {
             "colorbar": {
              "outlinewidth": 0,
              "ticks": ""
             }
            },
            "type": "scattergeo"
           }
          ],
          "scattergl": [
           {
            "marker": {
             "colorbar": {
              "outlinewidth": 0,
              "ticks": ""
             }
            },
            "type": "scattergl"
           }
          ],
          "scattermap": [
           {
            "marker": {
             "colorbar": {
              "outlinewidth": 0,
              "ticks": ""
             }
            },
            "type": "scattermap"
           }
          ],
          "scattermapbox": [
           {
            "marker": {
             "colorbar": {
              "outlinewidth": 0,
              "ticks": ""
             }
            },
            "type": "scattermapbox"
           }
          ],
          "scatterpolar": [
           {
            "marker": {
             "colorbar": {
              "outlinewidth": 0,
              "ticks": ""
             }
            },
            "type": "scatterpolar"
           }
          ],
          "scatterpolargl": [
           {
            "marker": {
             "colorbar": {
              "outlinewidth": 0,
              "ticks": ""
             }
            },
            "type": "scatterpolargl"
           }
          ],
          "scatterternary": [
           {
            "marker": {
             "colorbar": {
              "outlinewidth": 0,
              "ticks": ""
             }
            },
            "type": "scatterternary"
           }
          ],
          "surface": [
           {
            "colorbar": {
             "outlinewidth": 0,
             "ticks": ""
            },
            "colorscale": [
             [
              0,
              "#0d0887"
             ],
             [
              0.1111111111111111,
              "#46039f"
             ],
             [
              0.2222222222222222,
              "#7201a8"
             ],
             [
              0.3333333333333333,
              "#9c179e"
             ],
             [
              0.4444444444444444,
              "#bd3786"
             ],
             [
              0.5555555555555556,
              "#d8576b"
             ],
             [
              0.6666666666666666,
              "#ed7953"
             ],
             [
              0.7777777777777778,
              "#fb9f3a"
             ],
             [
              0.8888888888888888,
              "#fdca26"
             ],
             [
              1,
              "#f0f921"
             ]
            ],
            "type": "surface"
           }
          ],
          "table": [
           {
            "cells": {
             "fill": {
              "color": "#EBF0F8"
             },
             "line": {
              "color": "white"
             }
            },
            "header": {
             "fill": {
              "color": "#C8D4E3"
             },
             "line": {
              "color": "white"
             }
            },
            "type": "table"
           }
          ]
         },
         "layout": {
          "annotationdefaults": {
           "arrowcolor": "#2a3f5f",
           "arrowhead": 0,
           "arrowwidth": 1
          },
          "autotypenumbers": "strict",
          "coloraxis": {
           "colorbar": {
            "outlinewidth": 0,
            "ticks": ""
           }
          },
          "colorscale": {
           "diverging": [
            [
             0,
             "#8e0152"
            ],
            [
             0.1,
             "#c51b7d"
            ],
            [
             0.2,
             "#de77ae"
            ],
            [
             0.3,
             "#f1b6da"
            ],
            [
             0.4,
             "#fde0ef"
            ],
            [
             0.5,
             "#f7f7f7"
            ],
            [
             0.6,
             "#e6f5d0"
            ],
            [
             0.7,
             "#b8e186"
            ],
            [
             0.8,
             "#7fbc41"
            ],
            [
             0.9,
             "#4d9221"
            ],
            [
             1,
             "#276419"
            ]
           ],
           "sequential": [
            [
             0,
             "#0d0887"
            ],
            [
             0.1111111111111111,
             "#46039f"
            ],
            [
             0.2222222222222222,
             "#7201a8"
            ],
            [
             0.3333333333333333,
             "#9c179e"
            ],
            [
             0.4444444444444444,
             "#bd3786"
            ],
            [
             0.5555555555555556,
             "#d8576b"
            ],
            [
             0.6666666666666666,
             "#ed7953"
            ],
            [
             0.7777777777777778,
             "#fb9f3a"
            ],
            [
             0.8888888888888888,
             "#fdca26"
            ],
            [
             1,
             "#f0f921"
            ]
           ],
           "sequentialminus": [
            [
             0,
             "#0d0887"
            ],
            [
             0.1111111111111111,
             "#46039f"
            ],
            [
             0.2222222222222222,
             "#7201a8"
            ],
            [
             0.3333333333333333,
             "#9c179e"
            ],
            [
             0.4444444444444444,
             "#bd3786"
            ],
            [
             0.5555555555555556,
             "#d8576b"
            ],
            [
             0.6666666666666666,
             "#ed7953"
            ],
            [
             0.7777777777777778,
             "#fb9f3a"
            ],
            [
             0.8888888888888888,
             "#fdca26"
            ],
            [
             1,
             "#f0f921"
            ]
           ]
          },
          "colorway": [
           "#636efa",
           "#EF553B",
           "#00cc96",
           "#ab63fa",
           "#FFA15A",
           "#19d3f3",
           "#FF6692",
           "#B6E880",
           "#FF97FF",
           "#FECB52"
          ],
          "font": {
           "color": "#2a3f5f"
          },
          "geo": {
           "bgcolor": "white",
           "lakecolor": "white",
           "landcolor": "#E5ECF6",
           "showlakes": true,
           "showland": true,
           "subunitcolor": "white"
          },
          "hoverlabel": {
           "align": "left"
          },
          "hovermode": "closest",
          "mapbox": {
           "style": "light"
          },
          "paper_bgcolor": "white",
          "plot_bgcolor": "#E5ECF6",
          "polar": {
           "angularaxis": {
            "gridcolor": "white",
            "linecolor": "white",
            "ticks": ""
           },
           "bgcolor": "#E5ECF6",
           "radialaxis": {
            "gridcolor": "white",
            "linecolor": "white",
            "ticks": ""
           }
          },
          "scene": {
           "xaxis": {
            "backgroundcolor": "#E5ECF6",
            "gridcolor": "white",
            "gridwidth": 2,
            "linecolor": "white",
            "showbackground": true,
            "ticks": "",
            "zerolinecolor": "white"
           },
           "yaxis": {
            "backgroundcolor": "#E5ECF6",
            "gridcolor": "white",
            "gridwidth": 2,
            "linecolor": "white",
            "showbackground": true,
            "ticks": "",
            "zerolinecolor": "white"
           },
           "zaxis": {
            "backgroundcolor": "#E5ECF6",
            "gridcolor": "white",
            "gridwidth": 2,
            "linecolor": "white",
            "showbackground": true,
            "ticks": "",
            "zerolinecolor": "white"
           }
          },
          "shapedefaults": {
           "line": {
            "color": "#2a3f5f"
           }
          },
          "ternary": {
           "aaxis": {
            "gridcolor": "white",
            "linecolor": "white",
            "ticks": ""
           },
           "baxis": {
            "gridcolor": "white",
            "linecolor": "white",
            "ticks": ""
           },
           "bgcolor": "#E5ECF6",
           "caxis": {
            "gridcolor": "white",
            "linecolor": "white",
            "ticks": ""
           }
          },
          "title": {
           "x": 0.05
          },
          "xaxis": {
           "automargin": true,
           "gridcolor": "white",
           "linecolor": "white",
           "ticks": "",
           "title": {
            "standoff": 15
           },
           "zerolinecolor": "white",
           "zerolinewidth": 2
          },
          "yaxis": {
           "automargin": true,
           "gridcolor": "white",
           "linecolor": "white",
           "ticks": "",
           "title": {
            "standoff": 15
           },
           "zerolinecolor": "white",
           "zerolinewidth": 2
          }
         }
        },
        "title": {
         "text": "Train and Test Accuracy for the Best CNN and DNN Models"
        },
        "xaxis": {
         "title": {
          "text": "Model"
         }
        },
        "yaxis": {
         "title": {
          "text": "Accuracy"
         }
        }
       }
      }
     },
     "metadata": {},
     "output_type": "display_data"
    }
   ],
   "source": [
    "# bar plot with train and test accuracy\n",
    "\n",
    "fig = go.Figure()\n",
    "\n",
    "fig.add_trace(go.Bar(\n",
    "    x=[\"CNN\", \"DNN\"],\n",
    "    y=[best_cnn[\"accuracy_train\"].values[0], best_dnn[\"accuracy_train\"].values[0]],\n",
    "    name='Train',\n",
    "    marker_color='#636EFA'\n",
    "))\n",
    "\n",
    "fig.add_trace(go.Bar(\n",
    "    x=[\"CNN\", \"DNN\"],\n",
    "    y=[best_cnn[\"accuracy_test\"].values[0], best_dnn[\"accuracy_test\"].values[0]],\n",
    "    name='Validation',\n",
    "    marker_color='#EF553B'\n",
    "))\n",
    "\n",
    "fig.update_layout(\n",
    "    title='Train and Test Accuracy for the Best CNN and DNN Models',\n",
    "    barmode='group',\n",
    "    xaxis_title='Model',\n",
    "    yaxis_title='Accuracy',\n",
    "    showlegend=True\n",
    ")\n",
    "\n",
    "fig.show()"
   ]
  },
  {
   "cell_type": "code",
   "execution_count": 83,
   "metadata": {},
   "outputs": [
    {
     "data": {
      "application/vnd.plotly.v1+json": {
       "config": {
        "plotlyServerURL": "https://plot.ly"
       },
       "data": [
        {
         "marker": {
          "color": "#636EFA"
         },
         "name": "Train",
         "type": "bar",
         "x": [
          "CNN",
          "DNN"
         ],
         "y": [
          0.973445018550672,
          0.5411958702807196
         ]
        },
        {
         "marker": {
          "color": "#EF553B"
         },
         "name": "Validation",
         "type": "bar",
         "x": [
          "CNN",
          "DNN"
         ],
         "y": [
          0.6540554126168762,
          0.49206776874351155
         ]
        }
       ],
       "layout": {
        "barmode": "group",
        "showlegend": true,
        "template": {
         "data": {
          "bar": [
           {
            "error_x": {
             "color": "#2a3f5f"
            },
            "error_y": {
             "color": "#2a3f5f"
            },
            "marker": {
             "line": {
              "color": "#E5ECF6",
              "width": 0.5
             },
             "pattern": {
              "fillmode": "overlay",
              "size": 10,
              "solidity": 0.2
             }
            },
            "type": "bar"
           }
          ],
          "barpolar": [
           {
            "marker": {
             "line": {
              "color": "#E5ECF6",
              "width": 0.5
             },
             "pattern": {
              "fillmode": "overlay",
              "size": 10,
              "solidity": 0.2
             }
            },
            "type": "barpolar"
           }
          ],
          "carpet": [
           {
            "aaxis": {
             "endlinecolor": "#2a3f5f",
             "gridcolor": "white",
             "linecolor": "white",
             "minorgridcolor": "white",
             "startlinecolor": "#2a3f5f"
            },
            "baxis": {
             "endlinecolor": "#2a3f5f",
             "gridcolor": "white",
             "linecolor": "white",
             "minorgridcolor": "white",
             "startlinecolor": "#2a3f5f"
            },
            "type": "carpet"
           }
          ],
          "choropleth": [
           {
            "colorbar": {
             "outlinewidth": 0,
             "ticks": ""
            },
            "type": "choropleth"
           }
          ],
          "contour": [
           {
            "colorbar": {
             "outlinewidth": 0,
             "ticks": ""
            },
            "colorscale": [
             [
              0,
              "#0d0887"
             ],
             [
              0.1111111111111111,
              "#46039f"
             ],
             [
              0.2222222222222222,
              "#7201a8"
             ],
             [
              0.3333333333333333,
              "#9c179e"
             ],
             [
              0.4444444444444444,
              "#bd3786"
             ],
             [
              0.5555555555555556,
              "#d8576b"
             ],
             [
              0.6666666666666666,
              "#ed7953"
             ],
             [
              0.7777777777777778,
              "#fb9f3a"
             ],
             [
              0.8888888888888888,
              "#fdca26"
             ],
             [
              1,
              "#f0f921"
             ]
            ],
            "type": "contour"
           }
          ],
          "contourcarpet": [
           {
            "colorbar": {
             "outlinewidth": 0,
             "ticks": ""
            },
            "type": "contourcarpet"
           }
          ],
          "heatmap": [
           {
            "colorbar": {
             "outlinewidth": 0,
             "ticks": ""
            },
            "colorscale": [
             [
              0,
              "#0d0887"
             ],
             [
              0.1111111111111111,
              "#46039f"
             ],
             [
              0.2222222222222222,
              "#7201a8"
             ],
             [
              0.3333333333333333,
              "#9c179e"
             ],
             [
              0.4444444444444444,
              "#bd3786"
             ],
             [
              0.5555555555555556,
              "#d8576b"
             ],
             [
              0.6666666666666666,
              "#ed7953"
             ],
             [
              0.7777777777777778,
              "#fb9f3a"
             ],
             [
              0.8888888888888888,
              "#fdca26"
             ],
             [
              1,
              "#f0f921"
             ]
            ],
            "type": "heatmap"
           }
          ],
          "histogram": [
           {
            "marker": {
             "pattern": {
              "fillmode": "overlay",
              "size": 10,
              "solidity": 0.2
             }
            },
            "type": "histogram"
           }
          ],
          "histogram2d": [
           {
            "colorbar": {
             "outlinewidth": 0,
             "ticks": ""
            },
            "colorscale": [
             [
              0,
              "#0d0887"
             ],
             [
              0.1111111111111111,
              "#46039f"
             ],
             [
              0.2222222222222222,
              "#7201a8"
             ],
             [
              0.3333333333333333,
              "#9c179e"
             ],
             [
              0.4444444444444444,
              "#bd3786"
             ],
             [
              0.5555555555555556,
              "#d8576b"
             ],
             [
              0.6666666666666666,
              "#ed7953"
             ],
             [
              0.7777777777777778,
              "#fb9f3a"
             ],
             [
              0.8888888888888888,
              "#fdca26"
             ],
             [
              1,
              "#f0f921"
             ]
            ],
            "type": "histogram2d"
           }
          ],
          "histogram2dcontour": [
           {
            "colorbar": {
             "outlinewidth": 0,
             "ticks": ""
            },
            "colorscale": [
             [
              0,
              "#0d0887"
             ],
             [
              0.1111111111111111,
              "#46039f"
             ],
             [
              0.2222222222222222,
              "#7201a8"
             ],
             [
              0.3333333333333333,
              "#9c179e"
             ],
             [
              0.4444444444444444,
              "#bd3786"
             ],
             [
              0.5555555555555556,
              "#d8576b"
             ],
             [
              0.6666666666666666,
              "#ed7953"
             ],
             [
              0.7777777777777778,
              "#fb9f3a"
             ],
             [
              0.8888888888888888,
              "#fdca26"
             ],
             [
              1,
              "#f0f921"
             ]
            ],
            "type": "histogram2dcontour"
           }
          ],
          "mesh3d": [
           {
            "colorbar": {
             "outlinewidth": 0,
             "ticks": ""
            },
            "type": "mesh3d"
           }
          ],
          "parcoords": [
           {
            "line": {
             "colorbar": {
              "outlinewidth": 0,
              "ticks": ""
             }
            },
            "type": "parcoords"
           }
          ],
          "pie": [
           {
            "automargin": true,
            "type": "pie"
           }
          ],
          "scatter": [
           {
            "fillpattern": {
             "fillmode": "overlay",
             "size": 10,
             "solidity": 0.2
            },
            "type": "scatter"
           }
          ],
          "scatter3d": [
           {
            "line": {
             "colorbar": {
              "outlinewidth": 0,
              "ticks": ""
             }
            },
            "marker": {
             "colorbar": {
              "outlinewidth": 0,
              "ticks": ""
             }
            },
            "type": "scatter3d"
           }
          ],
          "scattercarpet": [
           {
            "marker": {
             "colorbar": {
              "outlinewidth": 0,
              "ticks": ""
             }
            },
            "type": "scattercarpet"
           }
          ],
          "scattergeo": [
           {
            "marker": {
             "colorbar": {
              "outlinewidth": 0,
              "ticks": ""
             }
            },
            "type": "scattergeo"
           }
          ],
          "scattergl": [
           {
            "marker": {
             "colorbar": {
              "outlinewidth": 0,
              "ticks": ""
             }
            },
            "type": "scattergl"
           }
          ],
          "scattermap": [
           {
            "marker": {
             "colorbar": {
              "outlinewidth": 0,
              "ticks": ""
             }
            },
            "type": "scattermap"
           }
          ],
          "scattermapbox": [
           {
            "marker": {
             "colorbar": {
              "outlinewidth": 0,
              "ticks": ""
             }
            },
            "type": "scattermapbox"
           }
          ],
          "scatterpolar": [
           {
            "marker": {
             "colorbar": {
              "outlinewidth": 0,
              "ticks": ""
             }
            },
            "type": "scatterpolar"
           }
          ],
          "scatterpolargl": [
           {
            "marker": {
             "colorbar": {
              "outlinewidth": 0,
              "ticks": ""
             }
            },
            "type": "scatterpolargl"
           }
          ],
          "scatterternary": [
           {
            "marker": {
             "colorbar": {
              "outlinewidth": 0,
              "ticks": ""
             }
            },
            "type": "scatterternary"
           }
          ],
          "surface": [
           {
            "colorbar": {
             "outlinewidth": 0,
             "ticks": ""
            },
            "colorscale": [
             [
              0,
              "#0d0887"
             ],
             [
              0.1111111111111111,
              "#46039f"
             ],
             [
              0.2222222222222222,
              "#7201a8"
             ],
             [
              0.3333333333333333,
              "#9c179e"
             ],
             [
              0.4444444444444444,
              "#bd3786"
             ],
             [
              0.5555555555555556,
              "#d8576b"
             ],
             [
              0.6666666666666666,
              "#ed7953"
             ],
             [
              0.7777777777777778,
              "#fb9f3a"
             ],
             [
              0.8888888888888888,
              "#fdca26"
             ],
             [
              1,
              "#f0f921"
             ]
            ],
            "type": "surface"
           }
          ],
          "table": [
           {
            "cells": {
             "fill": {
              "color": "#EBF0F8"
             },
             "line": {
              "color": "white"
             }
            },
            "header": {
             "fill": {
              "color": "#C8D4E3"
             },
             "line": {
              "color": "white"
             }
            },
            "type": "table"
           }
          ]
         },
         "layout": {
          "annotationdefaults": {
           "arrowcolor": "#2a3f5f",
           "arrowhead": 0,
           "arrowwidth": 1
          },
          "autotypenumbers": "strict",
          "coloraxis": {
           "colorbar": {
            "outlinewidth": 0,
            "ticks": ""
           }
          },
          "colorscale": {
           "diverging": [
            [
             0,
             "#8e0152"
            ],
            [
             0.1,
             "#c51b7d"
            ],
            [
             0.2,
             "#de77ae"
            ],
            [
             0.3,
             "#f1b6da"
            ],
            [
             0.4,
             "#fde0ef"
            ],
            [
             0.5,
             "#f7f7f7"
            ],
            [
             0.6,
             "#e6f5d0"
            ],
            [
             0.7,
             "#b8e186"
            ],
            [
             0.8,
             "#7fbc41"
            ],
            [
             0.9,
             "#4d9221"
            ],
            [
             1,
             "#276419"
            ]
           ],
           "sequential": [
            [
             0,
             "#0d0887"
            ],
            [
             0.1111111111111111,
             "#46039f"
            ],
            [
             0.2222222222222222,
             "#7201a8"
            ],
            [
             0.3333333333333333,
             "#9c179e"
            ],
            [
             0.4444444444444444,
             "#bd3786"
            ],
            [
             0.5555555555555556,
             "#d8576b"
            ],
            [
             0.6666666666666666,
             "#ed7953"
            ],
            [
             0.7777777777777778,
             "#fb9f3a"
            ],
            [
             0.8888888888888888,
             "#fdca26"
            ],
            [
             1,
             "#f0f921"
            ]
           ],
           "sequentialminus": [
            [
             0,
             "#0d0887"
            ],
            [
             0.1111111111111111,
             "#46039f"
            ],
            [
             0.2222222222222222,
             "#7201a8"
            ],
            [
             0.3333333333333333,
             "#9c179e"
            ],
            [
             0.4444444444444444,
             "#bd3786"
            ],
            [
             0.5555555555555556,
             "#d8576b"
            ],
            [
             0.6666666666666666,
             "#ed7953"
            ],
            [
             0.7777777777777778,
             "#fb9f3a"
            ],
            [
             0.8888888888888888,
             "#fdca26"
            ],
            [
             1,
             "#f0f921"
            ]
           ]
          },
          "colorway": [
           "#636efa",
           "#EF553B",
           "#00cc96",
           "#ab63fa",
           "#FFA15A",
           "#19d3f3",
           "#FF6692",
           "#B6E880",
           "#FF97FF",
           "#FECB52"
          ],
          "font": {
           "color": "#2a3f5f"
          },
          "geo": {
           "bgcolor": "white",
           "lakecolor": "white",
           "landcolor": "#E5ECF6",
           "showlakes": true,
           "showland": true,
           "subunitcolor": "white"
          },
          "hoverlabel": {
           "align": "left"
          },
          "hovermode": "closest",
          "mapbox": {
           "style": "light"
          },
          "paper_bgcolor": "white",
          "plot_bgcolor": "#E5ECF6",
          "polar": {
           "angularaxis": {
            "gridcolor": "white",
            "linecolor": "white",
            "ticks": ""
           },
           "bgcolor": "#E5ECF6",
           "radialaxis": {
            "gridcolor": "white",
            "linecolor": "white",
            "ticks": ""
           }
          },
          "scene": {
           "xaxis": {
            "backgroundcolor": "#E5ECF6",
            "gridcolor": "white",
            "gridwidth": 2,
            "linecolor": "white",
            "showbackground": true,
            "ticks": "",
            "zerolinecolor": "white"
           },
           "yaxis": {
            "backgroundcolor": "#E5ECF6",
            "gridcolor": "white",
            "gridwidth": 2,
            "linecolor": "white",
            "showbackground": true,
            "ticks": "",
            "zerolinecolor": "white"
           },
           "zaxis": {
            "backgroundcolor": "#E5ECF6",
            "gridcolor": "white",
            "gridwidth": 2,
            "linecolor": "white",
            "showbackground": true,
            "ticks": "",
            "zerolinecolor": "white"
           }
          },
          "shapedefaults": {
           "line": {
            "color": "#2a3f5f"
           }
          },
          "ternary": {
           "aaxis": {
            "gridcolor": "white",
            "linecolor": "white",
            "ticks": ""
           },
           "baxis": {
            "gridcolor": "white",
            "linecolor": "white",
            "ticks": ""
           },
           "bgcolor": "#E5ECF6",
           "caxis": {
            "gridcolor": "white",
            "linecolor": "white",
            "ticks": ""
           }
          },
          "title": {
           "x": 0.05
          },
          "xaxis": {
           "automargin": true,
           "gridcolor": "white",
           "linecolor": "white",
           "ticks": "",
           "title": {
            "standoff": 15
           },
           "zerolinecolor": "white",
           "zerolinewidth": 2
          },
          "yaxis": {
           "automargin": true,
           "gridcolor": "white",
           "linecolor": "white",
           "ticks": "",
           "title": {
            "standoff": 15
           },
           "zerolinecolor": "white",
           "zerolinewidth": 2
          }
         }
        },
        "title": {
         "text": "Train and Test Accuracy for the Best CNN and DNN Models"
        },
        "xaxis": {
         "title": {
          "text": "Model"
         }
        },
        "yaxis": {
         "title": {
          "text": "Accuracy"
         }
        }
       }
      }
     },
     "metadata": {},
     "output_type": "display_data"
    }
   ],
   "source": [
    "# bar plot with train and test accuracy\n",
    "\n",
    "fig = go.Figure()\n",
    "\n",
    "fig.add_trace(go.Bar(\n",
    "    x=[\"CNN\", \"DNN\"],\n",
    "    y=[best_cnn[\"f1_train_average\"].values[0], best_dnn[\"f1_train_average\"].values[0]],\n",
    "    name='Train',\n",
    "    marker_color='#636EFA'\n",
    "))\n",
    "\n",
    "fig.add_trace(go.Bar(\n",
    "    x=[\"CNN\", \"DNN\"],\n",
    "    y=[best_cnn[\"f1_test_average\"].values[0], best_dnn[\"f1_test_average\"].values[0]],\n",
    "    name='Validation',\n",
    "    marker_color='#EF553B'\n",
    "))\n",
    "\n",
    "fig.update_layout(\n",
    "    title='Train and Test Accuracy for the Best CNN and DNN Models',\n",
    "    barmode='group',\n",
    "    xaxis_title='Model',\n",
    "    yaxis_title='Accuracy',\n",
    "    showlegend=True\n",
    ")\n",
    "\n",
    "fig.show()"
   ]
  },
  {
   "cell_type": "markdown",
   "metadata": {},
   "source": [
    "# FIXING ATTEMPTS"
   ]
  },
  {
   "cell_type": "markdown",
   "metadata": {},
   "source": [
    "## Early Stopping"
   ]
  },
  {
   "cell_type": "code",
   "execution_count": 16,
   "metadata": {},
   "outputs": [],
   "source": [
    "data_cnn_early_stopping = pd.read_json('results_cnn_early.json').T\n",
    "#data_cnn_early_stopping"
   ]
  },
  {
   "cell_type": "code",
   "execution_count": 26,
   "metadata": {},
   "outputs": [],
   "source": [
    "metrics_early = get_metrics(data_cnn_early_stopping)"
   ]
  },
  {
   "cell_type": "code",
   "execution_count": 28,
   "metadata": {},
   "outputs": [
    {
     "data": {
      "text/plain": [
       "(np.float64(0.6309427591407378), np.float64(0.8425808460199662))"
      ]
     },
     "execution_count": 28,
     "metadata": {},
     "output_type": "execute_result"
    }
   ],
   "source": [
    "max_f1_train = metrics_early[\"f1_train_average\"].max()\n",
    "max_f1_test = metrics_early[\"f1_test_average\"].max()\n",
    "\n",
    "max_f1_test, max_f1_train"
   ]
  },
  {
   "cell_type": "markdown",
   "metadata": {},
   "source": [
    "## No Data Augmentation"
   ]
  },
  {
   "cell_type": "code",
   "execution_count": 7,
   "metadata": {},
   "outputs": [],
   "source": [
    "data_no_aug_cnn = pd.read_json('../results_original/results_cnn.json').T\n",
    "\n",
    "#data_no_aug_cnn"
   ]
  },
  {
   "cell_type": "code",
   "execution_count": 8,
   "metadata": {},
   "outputs": [],
   "source": [
    "import ast\n",
    "\n",
    "results_all = []\n",
    "j = 0\n",
    "\n",
    "for i, row in data_no_aug_cnn.iterrows():\n",
    "\n",
    "    conf_mat_train = np.array(row[\"confusion_matrix_train\"])\n",
    "    conf_mat_test = np.array(row[\"confusion_matrix_val\"])\n",
    "\n",
    "    total_train = conf_mat_train.sum()\n",
    "    total_test = conf_mat_test.sum()\n",
    "\n",
    "    accuracy_train = conf_mat_train.diagonal().sum() / total_train if total_train > 0 else 0\n",
    "    accuracy_test = conf_mat_test.diagonal().sum() / total_test if total_test > 0 else 0\n",
    "\n",
    "    # Compute recall and precision (per class)\n",
    "    recall_train = np.array([\n",
    "        conf_mat_train[i, i] / conf_mat_train[i, :].sum() if conf_mat_train[i, :].sum() > 0 else 0\n",
    "        for i in range(7)\n",
    "    ])\n",
    "    recall_test = np.array([\n",
    "        conf_mat_test[i, i] / conf_mat_test[i, :].sum() if conf_mat_test[i, :].sum() > 0 else 0\n",
    "        for i in range(7)\n",
    "    ])\n",
    "\n",
    "    precision_train = np.array([\n",
    "        conf_mat_train[i, i] / conf_mat_train[:, i].sum() if conf_mat_train[:, i].sum() > 0 else 0\n",
    "        for i in range(7)\n",
    "    ])\n",
    "    precision_test = np.array([\n",
    "        conf_mat_test[i, i] / conf_mat_test[:, i].sum() if conf_mat_test[:, i].sum() > 0 else 0\n",
    "        for i in range(7)\n",
    "    ])\n",
    "\n",
    "    average_recall_train = np.mean(recall_train)\n",
    "    average_precision_train = np.mean(precision_train)\n",
    "\n",
    "    average_recall_test = np.mean(recall_test)\n",
    "    average_precision_test = np.mean(precision_test)\n",
    "\n",
    "    f1_score_train = 2 * (average_precision_train * average_recall_train) / (average_precision_train + average_recall_train)\n",
    "    f1_score_test  = 2 * (average_precision_test  * average_recall_test)  / (average_precision_test  + average_recall_test)\n",
    "\n",
    "    results_all.append({\n",
    "        \"iteration\": j,\n",
    "        \"accuracy_train\": accuracy_train,\n",
    "        \"accuracy_test\": accuracy_test,\n",
    "        \"recall_train\": recall_train.tolist(),\n",
    "        \"recall_test\": recall_test.tolist(),\n",
    "        \"averaged_recall_train\": average_precision_train,\n",
    "        \"averaged_recall_test\": average_recall_test,\n",
    "        \"precision_train\": precision_train,\n",
    "        \"precision_test\": precision_test,\n",
    "        \"averaged_precision_train\": average_precision_train,\n",
    "        \"averaged_precision_test\": average_precision_test,\n",
    "        \"f1_score_train\": f1_score_train,\n",
    "        \"f1_score_test\": f1_score_test\n",
    "    })\n",
    "    \n",
    "    j += 1\n",
    "\n",
    "metrics_cnn_no_aug = pd.DataFrame(results_all)\n",
    "#metrics_cnn_no_aug"
   ]
  },
  {
   "cell_type": "code",
   "execution_count": 12,
   "metadata": {},
   "outputs": [
    {
     "data": {
      "text/plain": [
       "(np.float64(0.5139272775997877), np.float64(0.9076493479959407))"
      ]
     },
     "execution_count": 12,
     "metadata": {},
     "output_type": "execute_result"
    }
   ],
   "source": [
    "max_f1_train = metrics_cnn_no_aug[\"f1_score_train\"].max()\n",
    "max_f1_test = metrics_cnn_no_aug[\"f1_score_test\"].max()\n",
    "\n",
    "max_f1_test, max_f1_train"
   ]
  },
  {
   "cell_type": "markdown",
   "metadata": {},
   "source": [
    "## Only undersampling"
   ]
  },
  {
   "cell_type": "code",
   "execution_count": 13,
   "metadata": {},
   "outputs": [],
   "source": [
    "data_under_cnn = pd.read_json('./results_cnn_under.json').T"
   ]
  },
  {
   "cell_type": "code",
   "execution_count": 16,
   "metadata": {},
   "outputs": [],
   "source": [
    "metrics_under_cnn = get_metrics(data_under_cnn)"
   ]
  },
  {
   "cell_type": "code",
   "execution_count": 17,
   "metadata": {},
   "outputs": [
    {
     "data": {
      "text/plain": [
       "(np.float64(0.4991124052880161), np.float64(0.8951487107489473))"
      ]
     },
     "execution_count": 17,
     "metadata": {},
     "output_type": "execute_result"
    }
   ],
   "source": [
    "max_f1_train = metrics_under_cnn[\"f1_train_average\"].max()\n",
    "max_f1_test = metrics_under_cnn[\"f1_test_average\"].max()\n",
    "\n",
    "max_f1_test, max_f1_train"
   ]
  },
  {
   "cell_type": "code",
   "execution_count": 24,
   "metadata": {},
   "outputs": [
    {
     "data": {
      "text/plain": [
       "n_epochs                                                                   50\n",
       "activation_function                                                      relu\n",
       "pooling                                                               MaxPool\n",
       "n_conv_layers                                                               1\n",
       "conv_out_channels                                                          16\n",
       "conv_kernel_size                                                            3\n",
       "conv_padding                                                                1\n",
       "n_layers                                                                    3\n",
       "batch_size                                                                 32\n",
       "learning_rate                                                           0.001\n",
       "loss_function                                                   Cross Entropy\n",
       "optimizer                                                             RMSprop\n",
       "iteration                                                                 608\n",
       "accuracy_train                                                       0.832534\n",
       "accuracy_test                                                        0.544154\n",
       "recall_train                [0.8384932813471385, 0.7790956873917546, 0.783...\n",
       "recall_test                 [0.4248087828613435, 0.5239967948717948, 0.497...\n",
       "averaged_recall_train                                                0.796489\n",
       "averaged_recall_test                                                 0.487198\n",
       "precision_train             [0.7168794963274476, 0.8148330555891239, 0.864...\n",
       "precision_test              [0.3914300308674453, 0.5269409092245845, 0.551...\n",
       "averaged_precision_train                                             0.841873\n",
       "averaged_precision_test                                              0.511624\n",
       "f1_train_average                                                     0.818553\n",
       "f1_test_average                                                      0.499112\n",
       "Name: 32, dtype: object"
      ]
     },
     "execution_count": 24,
     "metadata": {},
     "output_type": "execute_result"
    }
   ],
   "source": [
    "params_max_f1 = metrics_under_cnn.loc[metrics_under_cnn[\"f1_test_average\"].idxmax()]\n",
    "params_max_f1"
   ]
  },
  {
   "cell_type": "markdown",
   "metadata": {},
   "source": [
    "## Early Stopping"
   ]
  },
  {
   "cell_type": "code",
   "execution_count": 18,
   "metadata": {},
   "outputs": [],
   "source": [
    "data_early_cnn = pd.read_json('./results_cnn_early.json').T"
   ]
  },
  {
   "cell_type": "code",
   "execution_count": 19,
   "metadata": {},
   "outputs": [],
   "source": [
    "metrics_early_cnn = get_metrics(data_early_cnn)"
   ]
  },
  {
   "cell_type": "code",
   "execution_count": 20,
   "metadata": {},
   "outputs": [
    {
     "data": {
      "text/plain": [
       "(np.float64(0.6309427591407378), np.float64(0.8425808460199662))"
      ]
     },
     "execution_count": 20,
     "metadata": {},
     "output_type": "execute_result"
    }
   ],
   "source": [
    "max_f1_train = metrics_early_cnn[\"f1_train_average\"].max()\n",
    "max_f1_test = metrics_early_cnn[\"f1_test_average\"].max()\n",
    "\n",
    "max_f1_test, max_f1_train"
   ]
  },
  {
   "cell_type": "markdown",
   "metadata": {},
   "source": [
    "## Weight Decay"
   ]
  },
  {
   "cell_type": "code",
   "execution_count": 21,
   "metadata": {},
   "outputs": [],
   "source": [
    "data_decay_cnn = pd.read_json('./results_cnn_decay.json').T"
   ]
  },
  {
   "cell_type": "code",
   "execution_count": 22,
   "metadata": {},
   "outputs": [],
   "source": [
    "metrics_decay_cnn = get_metrics(data_decay_cnn)"
   ]
  },
  {
   "cell_type": "code",
   "execution_count": 23,
   "metadata": {},
   "outputs": [
    {
     "data": {
      "text/plain": [
       "(np.float64(0.6473054780411176), np.float64(0.9513362135318266))"
      ]
     },
     "execution_count": 23,
     "metadata": {},
     "output_type": "execute_result"
    }
   ],
   "source": [
    "max_f1_test = metrics_decay_cnn[\"f1_test_average\"].max()\n",
    "max_f1_train = metrics_decay_cnn[\"f1_train_average\"].max()\n",
    "\n",
    "max_f1_test, max_f1_train"
   ]
  },
  {
   "cell_type": "markdown",
   "metadata": {},
   "source": [
    "## Additional tests\n",
    "\n",
    "None of the previous solutions worked"
   ]
  },
  {
   "cell_type": "code",
   "execution_count": 51,
   "metadata": {},
   "outputs": [],
   "source": [
    "best_parameters_test_cnn = {\n",
    "    \"n_epochs\": [50],\n",
    "    \"activation_function\": ['relu'],\n",
    "    \"pooling\": [\"MaxPool\"], #[nn.MaxPool2d(2), nn.AvgPool2d(2)],\n",
    "    \"n_conv_layers\": [2],\n",
    "    \"conv_out_channels\": [16],\n",
    "    \"conv_kernel_size\": [3],\n",
    "    \"conv_padding\": [1],\n",
    "    \"n_layers\": [3],\n",
    "    \"batch_size\": [64],\n",
    "    \"learning_rate\": [0.1],\n",
    "    \"loss_function\": [\"Cross Entropy\"],\n",
    "    \"optimizer\": [\"SGD\"],\n",
    "}"
   ]
  },
  {
   "cell_type": "code",
   "execution_count": null,
   "metadata": {},
   "outputs": [],
   "source": [
    "best_parameters_test_cnn = {\n",
    "    \"n_epochs\": [50],\n",
    "    \"activation_function\": ['relu'],\n",
    "    \"pooling\": [\"MaxPool\"], #[nn.MaxPool2d(2), nn.AvgPool2d(2)],\n",
    "    \"n_conv_layers\": [2],\n",
    "    \"conv_out_channels\": [16],\n",
    "    \"conv_kernel_size\": [3],\n",
    "    \"conv_padding\": [1],\n",
    "    \"n_layers\": [3],\n",
    "    \"batch_size\": [64],\n",
    "    \"learning_rate\": [0.1],\n",
    "    \"loss_function\": [\"Cross Entropy\"],\n",
    "    \"optimizer\": [\"SGD\"],\n",
    "}\n",
    "\n",
    "\n",
    "best_parameters_test_cnn[\"n_layers\"] = [1,2,3]\n",
    "best_parameters_test_cnn[\"n_conv_layers\"] = [1,2,3]\n",
    "best_parameters_test_cnn[\"conv_out_channels\"] = [16,32,64]\n",
    "\n",
    "# Create a grid of hyperparameters\n",
    "param_values = [v for v in best_parameters_test_cnn.values()]\n",
    "param_names = [k for k in best_parameters_test_cnn.keys()]\n",
    "param_combinations = list(itertools.product(*param_values))\n",
    "\n",
    "total_combinations = len(param_combinations)\n",
    "\n",
    "for i, params in tqdm(enumerate(param_combinations), total=total_combinations, desc=\"Hyperparameter Search\"):\n",
    "\n",
    "    print(f\"\\nTesting combination {i+1}/{total_combinations}\")\n",
    "    param_dict = dict(zip(param_names, params))\n",
    "    print(param_dict)\n",
    "\n",
    "    results[i + len(already_tested_params_combinations)] = {**param_dict, \"results\": []}\n",
    "\n",
    "    if param_dict[\"activation_function\"] == \"relu\":\n",
    "        activation = nn.ReLU()\n",
    "    elif param_dict[\"activation_function\"] == \"sigmoid\":\n",
    "        activation = nn.Sigmoid()\n",
    "    else:\n",
    "        raise ValueError(f\"Unknown activation function: {param_dict['activation_function']}\")\n",
    "    \n",
    "    if param_dict[\"pooling\"] == \"MaxPool\":\n",
    "        pooling = nn.MaxPool2d(2)\n",
    "    elif param_dict[\"pooling\"] == \"AvgPool\":\n",
    "        pooling = nn.AvgPool2d(2)\n",
    "    else:\n",
    "        raise ValueError(f\"Unknown pooling layer: {param_dict['pooling']}\")\n",
    "    \n",
    "    total_data_train = X_train.shape[0]\n",
    "    total_data_fold = total_data_train // k\n",
    "\n",
    "    for fold in range(k):\n",
    "\n",
    "        idxs_val_fold = list(range(fold*total_data_fold, (fold+1)*total_data_fold))\n",
    "        idxs_train_fold = list(set(range(total_data_train)) - set(idxs_val_fold))\n",
    "\n",
    "        X_val_fold = X_train[idxs_val_fold]\n",
    "        y_val_fold = y_train[idxs_val_fold]\n",
    "\n",
    "        X_train_fold = X_train[idxs_train_fold]\n",
    "        y_train_fold = y_train[idxs_train_fold]\n",
    "\n",
    "        # Define the network\n",
    "        cnn = CNN(\n",
    "            input_channels = 3,\n",
    "            num_classes = n_classes,\n",
    "            num_conv_layers = param_dict[\"n_conv_layers\"],\n",
    "            conv_out_channels=param_dict[\"conv_out_channels\"],\n",
    "            conv_kernel_size=param_dict[\"conv_kernel_size\"],\n",
    "            conv_padding=param_dict[\"conv_padding\"],\n",
    "            activation_function=activation,\n",
    "            pooling=pooling,\n",
    "            num_hidden_layers=param_dict[\"n_layers\"],\n",
    "        )\n",
    "\n",
    "        # Define loss function and optimizer\n",
    "\n",
    "        if param_dict[\"loss_function\"] == \"Cross Entropy\":\n",
    "            criterion = nn.CrossEntropyLoss()\n",
    "        elif param_dict[\"loss_function\"] == \"Multi Margin\":\n",
    "            criterion = nn.MultiMarginLoss()\n",
    "        else:\n",
    "            raise ValueError(f\"Unknown loss function: {loss_function}\")\n",
    "                \n",
    "        optimizer = {\n",
    "            \"ADAM\": optim.Adam(cnn.parameters(), lr=param_dict[\"learning_rate\"], weight_decay=1e-4),\n",
    "            \"SGD\": optim.SGD(cnn.parameters(), lr=param_dict[\"learning_rate\"], weight_decay=1e-4),\n",
    "            \"RMSprop\": optim.RMSprop(cnn.parameters(), lr=param_dict[\"learning_rate\"], weight_decay=1e-4),\n",
    "        }[param_dict[\"optimizer\"]]\n",
    "\n",
    "        # Train the network\n",
    "        loss_values, trained_net = fit(X_train_fold,\n",
    "                                    y_train_fold.long(), \n",
    "                                    cnn, \n",
    "                                    criterion, \n",
    "                                    optimizer, \n",
    "                                    param_dict[\"n_epochs\"], \n",
    "                                    param_dict[\"batch_size\"])\n",
    "\n",
    "        # Evaluate the network\n",
    "        conf_mat_train = evaluate_network(trained_net, X_train_fold, y_train_fold)\n",
    "        conf_mat_val = evaluate_network(trained_net, X_val_fold, y_val_fold)\n",
    "\n",
    "        # Store results\n",
    "        results[i + len(already_tested_params_combinations)][\"results\"].append({\n",
    "            'loss_values': loss_values,\n",
    "            'confusion_matrix_train': conf_mat_train.tolist(),\n",
    "            'confusion_matrix_val': conf_mat_val.tolist(),\n",
    "        })\n",
    "\n",
    "    with open(\"results_cnn.json\", \"w\") as f:\n",
    "        json.dump(results, f, indent=4)"
   ]
  }
 ],
 "metadata": {
  "kernelspec": {
   "display_name": "aca",
   "language": "python",
   "name": "python3"
  },
  "language_info": {
   "codemirror_mode": {
    "name": "ipython",
    "version": 3
   },
   "file_extension": ".py",
   "mimetype": "text/x-python",
   "name": "python",
   "nbconvert_exporter": "python",
   "pygments_lexer": "ipython3",
   "version": "3.12.3"
  }
 },
 "nbformat": 4,
 "nbformat_minor": 2
}
